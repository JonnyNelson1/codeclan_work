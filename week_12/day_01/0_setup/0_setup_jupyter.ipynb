{
 "cells": [
  {
   "cell_type": "code",
   "execution_count": 1,
   "id": "7b0c24b7",
   "metadata": {},
   "outputs": [
    {
     "data": {
      "text/plain": [
       "6916"
      ]
     },
     "execution_count": 1,
     "metadata": {},
     "output_type": "execute_result"
    }
   ],
   "source": [
    "# This is a code\n",
    "91 * 76"
   ]
  },
  {
   "cell_type": "markdown",
   "id": "d31d7f88",
   "metadata": {},
   "source": [
    "# This is a markdown"
   ]
  },
  {
   "cell_type": "markdown",
   "id": "73494746",
   "metadata": {},
   "source": [
    "## Modes\n",
    "\n",
    "1. Command Mode [blue box]\n",
    "1. Edit Mode [green box]\n",
    "\n",
    "[CodeClan] (www.codeclan.com)\n",
    "\n",
    "### press <kbd>Esc</kbd>\n",
    "\n",
    "To switch from edit mode to command mode\n",
    "\n",
    "In command mode you can . . . \n",
    "\n",
    "- can delete cells with <kbd>dd</kbd>\n",
    "- add cells above: <kbd>a</kbd> \n",
    "- add cells below: <kbd>b</kbd>\n",
    "- copy cells: <kbd>c</kbd> \n",
    "- paste cells: <kbd>v</kbd> \n",
    "- toggle cells for markdown and code: <kbd>y</kbd> and <kbd>m</kbd>\n",
    "- into edit mode with <kbd>Enter</kbd>"
   ]
  },
  {
   "cell_type": "code",
   "execution_count": null,
   "id": "34c0209c",
   "metadata": {},
   "outputs": [],
   "source": []
  }
 ],
 "metadata": {
  "kernelspec": {
   "display_name": "Python 3",
   "language": "python",
   "name": "python3"
  },
  "language_info": {
   "codemirror_mode": {
    "name": "ipython",
    "version": 3
   },
   "file_extension": ".py",
   "mimetype": "text/x-python",
   "name": "python",
   "nbconvert_exporter": "python",
   "pygments_lexer": "ipython3",
   "version": "3.8.8"
  }
 },
 "nbformat": 4,
 "nbformat_minor": 5
}
