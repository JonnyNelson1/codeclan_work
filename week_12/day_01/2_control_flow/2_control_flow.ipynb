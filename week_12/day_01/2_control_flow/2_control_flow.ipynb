{
 "cells": [
  {
   "cell_type": "markdown",
   "id": "5c26de6d",
   "metadata": {},
   "source": [
    "# Control Flow\n",
    "\n",
    "## Learning Objectives\n",
    "\n",
    " - Understand if/else control flow in Python\n",
    " - understand For Loops\n",
    " - understand List/Dict comprehensions \n",
    " \n",
    " ## Control Flow\n",
    " \n",
    " <strong>Python is indentation sensitive"
   ]
  },
  {
   "cell_type": "code",
   "execution_count": null,
   "id": "5a565959",
   "metadata": {},
   "outputs": [],
   "source": [
    "# Not Run\n",
    "if (temperature > 20) {\n",
    "    print(\"Heatwave Warning\")\n",
    "}"
   ]
  },
  {
   "cell_type": "code",
   "execution_count": 1,
   "id": "5c45c555",
   "metadata": {},
   "outputs": [
    {
     "name": "stdout",
     "output_type": "stream",
     "text": [
      "Warning Heatwave\n"
     ]
    }
   ],
   "source": [
    "temperature = 21\n",
    "\n",
    "if temperature > 20:\n",
    "    print('Warning Heatwave')"
   ]
  },
  {
   "cell_type": "markdown",
   "id": "3703689e",
   "metadata": {},
   "source": [
    "if condition:\n",
    "    do"
   ]
  },
  {
   "cell_type": "code",
   "execution_count": 3,
   "id": "456a946a",
   "metadata": {},
   "outputs": [
    {
     "ename": "IndentationError",
     "evalue": "expected an indented block (<ipython-input-3-71720bfb40af>, line 2)",
     "output_type": "error",
     "traceback": [
      "\u001b[1;36m  File \u001b[1;32m\"<ipython-input-3-71720bfb40af>\"\u001b[1;36m, line \u001b[1;32m2\u001b[0m\n\u001b[1;33m    print('Warning Heatwave')\u001b[0m\n\u001b[1;37m    ^\u001b[0m\n\u001b[1;31mIndentationError\u001b[0m\u001b[1;31m:\u001b[0m expected an indented block\n"
     ]
    }
   ],
   "source": [
    "if temperature > 20:\n",
    "print('Warning Heatwave')\n",
    "\n",
    "# Computer says no if it is not indented"
   ]
  },
  {
   "cell_type": "markdown",
   "id": "b406794d",
   "metadata": {},
   "source": [
    "If elif else"
   ]
  },
  {
   "cell_type": "code",
   "execution_count": 5,
   "id": "eedff4c0",
   "metadata": {},
   "outputs": [
    {
     "name": "stdout",
     "output_type": "stream",
     "text": [
      "Moderate\n"
     ]
    }
   ],
   "source": [
    "temperature = 16\n",
    "\n",
    "if temperature > 20:\n",
    "    print('Heatwave')\n",
    "elif temperature < 10:\n",
    "    print('Cold')\n",
    "else:\n",
    "    print('Moderate')"
   ]
  },
  {
   "cell_type": "markdown",
   "id": "c5e2fd35",
   "metadata": {},
   "source": [
    "# Loops"
   ]
  },
  {
   "cell_type": "code",
   "execution_count": 22,
   "id": "4bf71166",
   "metadata": {},
   "outputs": [
    {
     "name": "stdout",
     "output_type": "stream",
     "text": [
      "3\n",
      "6\n",
      "9\n",
      "12\n",
      "15\n",
      "18\n"
     ]
    }
   ],
   "source": [
    "numbers = [1,2,3,4,5,6]\n",
    "\n",
    "# for loop\n",
    "for just_about_anything in numbers:\n",
    "    print(just_about_anything * 3)"
   ]
  },
  {
   "cell_type": "markdown",
   "id": "af273e93",
   "metadata": {},
   "source": [
    "One thing that can be useful - looping through a dictionary"
   ]
  },
  {
   "cell_type": "code",
   "execution_count": 16,
   "id": "0cad7c4f",
   "metadata": {},
   "outputs": [],
   "source": [
    "person = {\n",
    "    'name' : 'David',\n",
    "    'age' : 28,\n",
    "    'languages' : ['R', 'Python', 'SQL']\n",
    "}"
   ]
  },
  {
   "cell_type": "code",
   "execution_count": 17,
   "id": "9fc5b162",
   "metadata": {},
   "outputs": [
    {
     "data": {
      "text/plain": [
       "dict_keys(['name', 'age', 'languages'])"
      ]
     },
     "execution_count": 17,
     "metadata": {},
     "output_type": "execute_result"
    }
   ],
   "source": [
    "person.keys()"
   ]
  },
  {
   "cell_type": "code",
   "execution_count": 18,
   "id": "7cc0f860",
   "metadata": {},
   "outputs": [
    {
     "name": "stdout",
     "output_type": "stream",
     "text": [
      "name\n",
      "age\n",
      "languages\n"
     ]
    }
   ],
   "source": [
    "for key in person.keys():\n",
    "    print(key)"
   ]
  },
  {
   "cell_type": "code",
   "execution_count": 32,
   "id": "68895d37",
   "metadata": {},
   "outputs": [],
   "source": [
    "numbers = [13, 2, 0.5, 4, 5, 23, 12312, 23, 4, 3]"
   ]
  },
  {
   "cell_type": "markdown",
   "id": "021c56cd",
   "metadata": {},
   "source": [
    "### Goal: Create a list of the even integers in numbers"
   ]
  },
  {
   "cell_type": "code",
   "execution_count": 36,
   "id": "b74f5683",
   "metadata": {},
   "outputs": [
    {
     "data": {
      "text/plain": [
       "[2, 4, 12312, 4]"
      ]
     },
     "execution_count": 36,
     "metadata": {},
     "output_type": "execute_result"
    }
   ],
   "source": [
    "# Create an empty list of numbers\n",
    "\n",
    "even_numbers = []\n",
    "# 2. Iterate through list of numbers\n",
    "for num in numbers:\n",
    "    # 3. Check if number is even\n",
    "    if num % 2 == 0:\n",
    "        # 4. Add num to list of even numbers\n",
    "        even_numbers.append(num)\n",
    "    \n",
    "even_numbers"
   ]
  },
  {
   "cell_type": "code",
   "execution_count": 51,
   "id": "99071602",
   "metadata": {},
   "outputs": [
    {
     "name": "stdout",
     "output_type": "stream",
     "text": [
      "1\n",
      "2\n",
      "fizz\n",
      "4\n",
      "buzz\n",
      "fizz\n",
      "7\n",
      "8\n",
      "fizz\n",
      "buzz\n",
      "11\n",
      "fizz\n",
      "13\n",
      "14\n",
      "fizzbuzz\n",
      "16\n",
      "17\n",
      "fizz\n",
      "19\n",
      "buzz\n",
      "fizz\n",
      "22\n",
      "23\n",
      "fizz\n",
      "buzz\n",
      "26\n",
      "fizz\n",
      "28\n",
      "29\n",
      "fizzbuzz\n",
      "31\n",
      "32\n",
      "fizz\n",
      "34\n",
      "buzz\n",
      "fizz\n",
      "37\n",
      "38\n",
      "fizz\n",
      "buzz\n",
      "41\n",
      "fizz\n",
      "43\n",
      "44\n",
      "fizzbuzz\n",
      "46\n",
      "47\n",
      "fizz\n",
      "49\n",
      "buzz\n",
      "fizz\n",
      "52\n",
      "53\n",
      "fizz\n",
      "buzz\n",
      "56\n",
      "fizz\n",
      "58\n",
      "59\n",
      "fizzbuzz\n",
      "61\n",
      "62\n",
      "fizz\n",
      "64\n",
      "buzz\n",
      "fizz\n",
      "67\n",
      "68\n",
      "fizz\n",
      "buzz\n",
      "71\n",
      "fizz\n",
      "73\n",
      "74\n",
      "fizzbuzz\n",
      "76\n",
      "77\n",
      "fizz\n",
      "79\n",
      "buzz\n",
      "fizz\n",
      "82\n",
      "83\n",
      "fizz\n",
      "buzz\n",
      "86\n",
      "fizz\n",
      "88\n",
      "89\n",
      "fizzbuzz\n",
      "91\n",
      "92\n",
      "fizz\n",
      "94\n",
      "buzz\n",
      "fizz\n",
      "97\n",
      "98\n",
      "fizz\n",
      "buzz\n"
     ]
    }
   ],
   "source": [
    "numbers_01 = range(1, 101)\n",
    "\n",
    "divisible_by_3 = []\n",
    "for numbers in numbers_01:\n",
    "    if numbers % 15 == 0:\n",
    "        print('fizzbuzz')\n",
    "    elif numbers % 5 == 0:\n",
    "        print('buzz')\n",
    "    elif numbers % 3 == 0:\n",
    "        print('fizz')\n",
    "    else:\n",
    "        print(numbers)"
   ]
  },
  {
   "cell_type": "markdown",
   "id": "c148473a",
   "metadata": {},
   "source": [
    "# List Comprehensions\n",
    "\n",
    "speedy loops"
   ]
  },
  {
   "cell_type": "code",
   "execution_count": 52,
   "id": "0016103a",
   "metadata": {},
   "outputs": [
    {
     "data": {
      "text/plain": [
       "[1, 4, 9, 16]"
      ]
     },
     "execution_count": 52,
     "metadata": {},
     "output_type": "execute_result"
    }
   ],
   "source": [
    "numbers_squared = []\n",
    "\n",
    "numbers = [1,2,3,4]\n",
    "\n",
    "for number in numbers:\n",
    "    numbers_squared.append(number ** 2)\n",
    "    \n",
    "numbers_squared\n"
   ]
  },
  {
   "cell_type": "markdown",
   "id": "40b5db2d",
   "metadata": {},
   "source": [
    "`**` ~ `~`"
   ]
  },
  {
   "cell_type": "code",
   "execution_count": 56,
   "id": "b70f3ab3",
   "metadata": {},
   "outputs": [],
   "source": [
    "numbers_squared = []"
   ]
  },
  {
   "cell_type": "code",
   "execution_count": 57,
   "id": "4814bab7",
   "metadata": {},
   "outputs": [],
   "source": [
    "numbers_squared = [number ** 2 for number in numbers]"
   ]
  },
  {
   "cell_type": "code",
   "execution_count": 58,
   "id": "91351929",
   "metadata": {},
   "outputs": [
    {
     "data": {
      "text/plain": [
       "[1, 4, 9, 16]"
      ]
     },
     "execution_count": 58,
     "metadata": {},
     "output_type": "execute_result"
    }
   ],
   "source": [
    "numbers_squared"
   ]
  },
  {
   "cell_type": "markdown",
   "id": "3f7a6634",
   "metadata": {},
   "source": [
    "new list = [operated on item for item in old list]"
   ]
  },
  {
   "cell_type": "code",
   "execution_count": 59,
   "id": "57661a97",
   "metadata": {},
   "outputs": [
    {
     "data": {
      "text/plain": [
       "[0, 12, 24, 36, 48, 60, 72, 84, 96]"
      ]
     },
     "execution_count": 59,
     "metadata": {},
     "output_type": "execute_result"
    }
   ],
   "source": [
    "multiples_of_12 = []\n",
    "\n",
    "for number in range(101):\n",
    "    \n",
    "    if number % 12 == 0:\n",
    "        multiples_of_12.append(number)\n",
    "        \n",
    "multiples_of_12"
   ]
  },
  {
   "cell_type": "code",
   "execution_count": 60,
   "id": "6bcc9308",
   "metadata": {},
   "outputs": [],
   "source": [
    "multiples_of_12 = [number for number in range(101) if number % 12 == 0]"
   ]
  },
  {
   "cell_type": "code",
   "execution_count": 61,
   "id": "cb84f48e",
   "metadata": {},
   "outputs": [
    {
     "data": {
      "text/plain": [
       "[0, 12, 24, 36, 48, 60, 72, 84, 96]"
      ]
     },
     "execution_count": 61,
     "metadata": {},
     "output_type": "execute_result"
    }
   ],
   "source": [
    "multiples_of_12"
   ]
  },
  {
   "cell_type": "markdown",
   "id": "91a78f33",
   "metadata": {},
   "source": [
    "## Dictionary Comprehensions\n",
    "\n",
    "are a thing too"
   ]
  },
  {
   "cell_type": "code",
   "execution_count": 66,
   "id": "922d437a",
   "metadata": {},
   "outputs": [
    {
     "data": {
      "text/plain": [
       "{'apple': 3, 'orange': 3, 'pineapple': 3}"
      ]
     },
     "execution_count": 66,
     "metadata": {},
     "output_type": "execute_result"
    }
   ],
   "source": [
    "fruits = ['apple', 'orange', 'pineapple']\n",
    "\n",
    "length_of_fruits = {fruit:len(fruits) for fruit in fruits}\n",
    "\n",
    "length_of_fruits"
   ]
  },
  {
   "cell_type": "markdown",
   "id": "890cebbc",
   "metadata": {},
   "source": [
    "**Taskle**"
   ]
  },
  {
   "cell_type": "code",
   "execution_count": 68,
   "id": "83a339ae",
   "metadata": {},
   "outputs": [
    {
     "ename": "SyntaxError",
     "evalue": "invalid syntax (<ipython-input-68-9840b0a840b3>, line 5)",
     "output_type": "error",
     "traceback": [
      "\u001b[1;36m  File \u001b[1;32m\"<ipython-input-68-9840b0a840b3>\"\u001b[1;36m, line \u001b[1;32m5\u001b[0m\n\u001b[1;33m    and primes % 3 != 0:\u001b[0m\n\u001b[1;37m    ^\u001b[0m\n\u001b[1;31mSyntaxError\u001b[0m\u001b[1;31m:\u001b[0m invalid syntax\n"
     ]
    }
   ],
   "source": [
    "# first loop\n",
    "primes = []\n",
    "for primes in range(2, 100):\n",
    "    if primes % 2 != 0:\n",
    "        and primes % 3 != 0:\n",
    "            and primes % 5 != 0:\n",
    "                and primes % 7 !=0:\n",
    "                    and primes % 11 != 0:\n",
    "                        primes.append(primes)\n",
    "                        \n",
    "# second loop\n",
    "ordinal_dict = {}\n",
    "\n",
    "for number in range(4, 11):\n",
    "    ordinal_dict[primes] = str(number) + 'th'"
   ]
  }
 ],
 "metadata": {
  "kernelspec": {
   "display_name": "Python 3",
   "language": "python",
   "name": "python3"
  },
  "language_info": {
   "codemirror_mode": {
    "name": "ipython",
    "version": 3
   },
   "file_extension": ".py",
   "mimetype": "text/x-python",
   "name": "python",
   "nbconvert_exporter": "python",
   "pygments_lexer": "ipython3",
   "version": "3.8.8"
  },
  "varInspector": {
   "cols": {
    "lenName": 16,
    "lenType": 16,
    "lenVar": 40
   },
   "kernels_config": {
    "python": {
     "delete_cmd_postfix": "",
     "delete_cmd_prefix": "del ",
     "library": "var_list.py",
     "varRefreshCmd": "print(var_dic_list())"
    },
    "r": {
     "delete_cmd_postfix": ") ",
     "delete_cmd_prefix": "rm(",
     "library": "var_list.r",
     "varRefreshCmd": "cat(var_dic_list()) "
    }
   },
   "types_to_exclude": [
    "module",
    "function",
    "builtin_function_or_method",
    "instance",
    "_Feature"
   ],
   "window_display": false
  }
 },
 "nbformat": 4,
 "nbformat_minor": 5
}
