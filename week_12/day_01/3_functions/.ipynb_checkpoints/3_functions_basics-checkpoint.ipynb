{
 "cells": [
  {
   "cell_type": "markdown",
   "id": "d5c45a41",
   "metadata": {},
   "source": [
    "# Function Basics"
   ]
  },
  {
   "cell_type": "code",
   "execution_count": 4,
   "id": "afbe1f37",
   "metadata": {},
   "outputs": [],
   "source": [
    "def greet():\n",
    "    print('Hey There, Mr Man')\n",
    "    \n",
    "# def - define function"
   ]
  },
  {
   "cell_type": "code",
   "execution_count": 5,
   "id": "21e7d9f7",
   "metadata": {},
   "outputs": [
    {
     "name": "stdout",
     "output_type": "stream",
     "text": [
      "Hey There, Mr Man\n"
     ]
    }
   ],
   "source": [
    "greet()"
   ]
  },
  {
   "cell_type": "code",
   "execution_count": 6,
   "id": "17e1dccd",
   "metadata": {},
   "outputs": [],
   "source": [
    "def greet():\n",
    "    return 'Hey'\n",
    "\n",
    "# Will write over the previous function"
   ]
  },
  {
   "cell_type": "code",
   "execution_count": 8,
   "id": "9a860b3f",
   "metadata": {},
   "outputs": [
    {
     "data": {
      "text/plain": [
       "'Hey'"
      ]
     },
     "execution_count": 8,
     "metadata": {},
     "output_type": "execute_result"
    }
   ],
   "source": [
    "greet()"
   ]
  },
  {
   "cell_type": "code",
   "execution_count": 9,
   "id": "cbfde66d",
   "metadata": {},
   "outputs": [
    {
     "name": "stdout",
     "output_type": "stream",
     "text": [
      "Hey\n"
     ]
    }
   ],
   "source": [
    "greeting = greet()\n",
    "print(greeting)"
   ]
  },
  {
   "cell_type": "code",
   "execution_count": 15,
   "id": "cee44d60",
   "metadata": {},
   "outputs": [],
   "source": [
    "def greet(name_of_arg):\n",
    "    return 'Hey There Now ' + name_of_arg"
   ]
  },
  {
   "cell_type": "code",
   "execution_count": 16,
   "id": "9c00ff02",
   "metadata": {},
   "outputs": [
    {
     "name": "stdout",
     "output_type": "stream",
     "text": [
      "Hey There Now David\n"
     ]
    }
   ],
   "source": [
    "greeting = greet(\"David\")\n",
    "print(greeting)"
   ]
  },
  {
   "cell_type": "code",
   "execution_count": 19,
   "id": "5992530e",
   "metadata": {},
   "outputs": [],
   "source": [
    "def greet(name, time_of_day):\n",
    "    return \"Good \" + time_of_day + \", \" + name"
   ]
  },
  {
   "cell_type": "code",
   "execution_count": 20,
   "id": "403fbd60",
   "metadata": {},
   "outputs": [
    {
     "name": "stdout",
     "output_type": "stream",
     "text": [
      "Good Afternoon, David\n"
     ]
    }
   ],
   "source": [
    "greeting = greet('David', 'Afternoon') \n",
    "print(greeting)"
   ]
  },
  {
   "cell_type": "code",
   "execution_count": 23,
   "id": "7baf513c",
   "metadata": {},
   "outputs": [],
   "source": [
    "def calculate_mean(x, y):\n",
    "    return ((x + y) / 2)"
   ]
  },
  {
   "cell_type": "code",
   "execution_count": 25,
   "id": "639ff1ad",
   "metadata": {},
   "outputs": [
    {
     "name": "stdout",
     "output_type": "stream",
     "text": [
      "12.5\n"
     ]
    }
   ],
   "source": [
    "mean = calculate_mean(10, 15) \n",
    "print(mean)"
   ]
  },
  {
   "cell_type": "code",
   "execution_count": 29,
   "id": "ca1ca349",
   "metadata": {},
   "outputs": [],
   "source": [
    "def is_even(number):\n",
    "    if(number % 2 == 0):\n",
    "        return True\n",
    "    else:\n",
    "        return False\n",
    "    \n",
    "def sum_of_even_numbers(numbers):\n",
    "    running_total = 0\n",
    "    for number in numbers :\n",
    "        if (is_even(number)):\n",
    "            running_total += number\n",
    "    return running_total"
   ]
  },
  {
   "cell_type": "code",
   "execution_count": 30,
   "id": "df6b6a09",
   "metadata": {},
   "outputs": [
    {
     "name": "stdout",
     "output_type": "stream",
     "text": [
      "2450\n"
     ]
    }
   ],
   "source": [
    "print(sum_of_even_numbers(range(1,100)))"
   ]
  },
  {
   "cell_type": "code",
   "execution_count": 32,
   "id": "13dc56eb",
   "metadata": {},
   "outputs": [],
   "source": [
    "def square(number):\n",
    "    return number * number\n",
    "\n",
    "def modify_number(number, modifier_function):\n",
    "    return modifier_function(number)"
   ]
  },
  {
   "cell_type": "code",
   "execution_count": 33,
   "id": "b66e6446",
   "metadata": {},
   "outputs": [
    {
     "name": "stdout",
     "output_type": "stream",
     "text": [
      "9\n"
     ]
    }
   ],
   "source": [
    "print(modify_number(3, square))"
   ]
  },
  {
   "cell_type": "markdown",
   "id": "6ec028ad",
   "metadata": {},
   "source": [
    "### Make_Price - takes in any number and and puts a £ sign in front"
   ]
  },
  {
   "cell_type": "code",
   "execution_count": 55,
   "id": "e7eca872",
   "metadata": {},
   "outputs": [],
   "source": [
    "def make_price(integer):\n",
    "    print(\"£\" + str(integer))"
   ]
  },
  {
   "cell_type": "code",
   "execution_count": 56,
   "id": "0f06bc7a",
   "metadata": {},
   "outputs": [
    {
     "name": "stdout",
     "output_type": "stream",
     "text": [
      "£100\n"
     ]
    }
   ],
   "source": [
    "make_price(100)"
   ]
  }
 ],
 "metadata": {
  "kernelspec": {
   "display_name": "Python 3",
   "language": "python",
   "name": "python3"
  },
  "language_info": {
   "codemirror_mode": {
    "name": "ipython",
    "version": 3
   },
   "file_extension": ".py",
   "mimetype": "text/x-python",
   "name": "python",
   "nbconvert_exporter": "python",
   "pygments_lexer": "ipython3",
   "version": "3.8.8"
  },
  "varInspector": {
   "cols": {
    "lenName": 16,
    "lenType": 16,
    "lenVar": 40
   },
   "kernels_config": {
    "python": {
     "delete_cmd_postfix": "",
     "delete_cmd_prefix": "del ",
     "library": "var_list.py",
     "varRefreshCmd": "print(var_dic_list())"
    },
    "r": {
     "delete_cmd_postfix": ") ",
     "delete_cmd_prefix": "rm(",
     "library": "var_list.r",
     "varRefreshCmd": "cat(var_dic_list()) "
    }
   },
   "types_to_exclude": [
    "module",
    "function",
    "builtin_function_or_method",
    "instance",
    "_Feature"
   ],
   "window_display": false
  }
 },
 "nbformat": 4,
 "nbformat_minor": 5
}
