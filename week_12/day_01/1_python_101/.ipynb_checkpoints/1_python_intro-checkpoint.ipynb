{
 "cells": [
  {
   "cell_type": "markdown",
   "id": "ec8fa860",
   "metadata": {},
   "source": [
    "# Intro to Python\n",
    "\n",
    "## Learning Objectives\n",
    "\n",
    "- Be able to use Jupyter Notebooks\n",
    "- Understand the basics of Python\n",
    "- Recognise the differences between Python and R\n"
   ]
  },
  {
   "cell_type": "markdown",
   "id": "0b3a316b",
   "metadata": {},
   "source": [
    "Python is a general purpose language\n",
    "\n",
    "R is a statistical computing language \n",
    "\n",
    "- Both are open source\n",
    "\n",
    "Python has a lot of Data Science/Analysis packages\n",
    "\n",
    "R has some general programming tools as well"
   ]
  },
  {
   "cell_type": "code",
   "execution_count": 6,
   "id": "238d8ce5",
   "metadata": {},
   "outputs": [],
   "source": [
    "# 1. Variable Assignment\n",
    "\n",
    "my_fav_colour = \"purple\""
   ]
  },
  {
   "cell_type": "code",
   "execution_count": 8,
   "id": "947e53ab",
   "metadata": {},
   "outputs": [
    {
     "data": {
      "text/plain": [
       "'purple'"
      ]
     },
     "execution_count": 8,
     "metadata": {},
     "output_type": "execute_result"
    }
   ],
   "source": [
    "my_fav_colour"
   ]
  },
  {
   "cell_type": "code",
   "execution_count": 11,
   "id": "4e483478",
   "metadata": {},
   "outputs": [
    {
     "name": "stdout",
     "output_type": "stream",
     "text": [
      "purple\n"
     ]
    }
   ],
   "source": [
    "# Variable Output\n",
    "\n",
    "print(my_fav_colour)"
   ]
  },
  {
   "cell_type": "code",
   "execution_count": null,
   "id": "521e4df0",
   "metadata": {},
   "outputs": [],
   "source": [
    "# 2. Data Types"
   ]
  },
  {
   "cell_type": "markdown",
   "id": "e79db802",
   "metadata": {},
   "source": [
    "- character\n",
    "- numeric\n",
    "- logical\n",
    "- datetime"
   ]
  },
  {
   "cell_type": "code",
   "execution_count": 14,
   "id": "ab07c42f",
   "metadata": {},
   "outputs": [
    {
     "data": {
      "text/plain": [
       "str"
      ]
     },
     "execution_count": 14,
     "metadata": {},
     "output_type": "execute_result"
    }
   ],
   "source": [
    "# strings\n",
    "type(my_fav_colour)"
   ]
  },
  {
   "cell_type": "code",
   "execution_count": 15,
   "id": "14f31622",
   "metadata": {},
   "outputs": [],
   "source": [
    "x = 2\n",
    "y = -83.7\n",
    "david_needs_tea = True\n",
    "davids_favourites = [\"purple\", 27, \"R\", False]"
   ]
  },
  {
   "cell_type": "code",
   "execution_count": 16,
   "id": "e4d9cb10",
   "metadata": {},
   "outputs": [
    {
     "data": {
      "text/plain": [
       "int"
      ]
     },
     "execution_count": 16,
     "metadata": {},
     "output_type": "execute_result"
    }
   ],
   "source": [
    "# int = integer\n",
    "type(x)"
   ]
  },
  {
   "cell_type": "code",
   "execution_count": 18,
   "id": "42fc673e",
   "metadata": {},
   "outputs": [
    {
     "data": {
      "text/plain": [
       "float"
      ]
     },
     "execution_count": 18,
     "metadata": {},
     "output_type": "execute_result"
    }
   ],
   "source": [
    "# float = floating point\n",
    "type(y)"
   ]
  },
  {
   "cell_type": "code",
   "execution_count": 20,
   "id": "071191d6",
   "metadata": {},
   "outputs": [
    {
     "data": {
      "text/plain": [
       "bool"
      ]
     },
     "execution_count": 20,
     "metadata": {},
     "output_type": "execute_result"
    }
   ],
   "source": [
    "# bool = boolean\n",
    "type(david_needs_tea)"
   ]
  },
  {
   "cell_type": "code",
   "execution_count": 21,
   "id": "93378a98",
   "metadata": {},
   "outputs": [
    {
     "data": {
      "text/plain": [
       "list"
      ]
     },
     "execution_count": 21,
     "metadata": {},
     "output_type": "execute_result"
    }
   ],
   "source": [
    "# list\n",
    "type(davids_favourites)"
   ]
  },
  {
   "cell_type": "code",
   "execution_count": 22,
   "id": "ed61aa70",
   "metadata": {},
   "outputs": [
    {
     "data": {
      "text/plain": [
       "int"
      ]
     },
     "execution_count": 22,
     "metadata": {},
     "output_type": "execute_result"
    }
   ],
   "source": [
    "# Python starts counting at 0 !!!\n",
    "type(davids_favourites[1])"
   ]
  },
  {
   "cell_type": "markdown",
   "id": "77e641b5",
   "metadata": {},
   "source": [
    "## A key distinction"
   ]
  },
  {
   "cell_type": "code",
   "execution_count": null,
   "id": "4b82f1c1",
   "metadata": {},
   "outputs": [],
   "source": [
    "# not run\n",
    "my_fav_number = 27\n",
    "\n",
    "my_fav_number == c(27)\n",
    "# output TRUE"
   ]
  },
  {
   "cell_type": "code",
   "execution_count": 25,
   "id": "543684ca",
   "metadata": {},
   "outputs": [],
   "source": [
    "single_item_list = [5]"
   ]
  },
  {
   "cell_type": "code",
   "execution_count": 26,
   "id": "8ea9cd5b",
   "metadata": {},
   "outputs": [
    {
     "ename": "SyntaxError",
     "evalue": "cannot assign to literal (<ipython-input-26-5242c24792cd>, line 1)",
     "output_type": "error",
     "traceback": [
      "\u001b[1;36m  File \u001b[1;32m\"<ipython-input-26-5242c24792cd>\"\u001b[1;36m, line \u001b[1;32m1\u001b[0m\n\u001b[1;33m    5 = single_item_list\u001b[0m\n\u001b[1;37m    ^\u001b[0m\n\u001b[1;31mSyntaxError\u001b[0m\u001b[1;31m:\u001b[0m cannot assign to literal\n"
     ]
    }
   ],
   "source": [
    " 5 = single_item_list"
   ]
  },
  {
   "cell_type": "code",
   "execution_count": 28,
   "id": "84fe73dc",
   "metadata": {},
   "outputs": [
    {
     "data": {
      "text/plain": [
       "[2, 3, 4, 5]"
      ]
     },
     "execution_count": 28,
     "metadata": {},
     "output_type": "execute_result"
    }
   ],
   "source": [
    "my_list = list((2,3,4,5))\n",
    "\n",
    "my_list"
   ]
  },
  {
   "cell_type": "markdown",
   "id": "c867e955",
   "metadata": {},
   "source": [
    "Python starts indicies at 0 !!!"
   ]
  },
  {
   "cell_type": "code",
   "execution_count": 29,
   "id": "89497dd1",
   "metadata": {},
   "outputs": [
    {
     "data": {
      "text/plain": [
       "3"
      ]
     },
     "execution_count": 29,
     "metadata": {},
     "output_type": "execute_result"
    }
   ],
   "source": [
    "my_list[1]"
   ]
  },
  {
   "cell_type": "markdown",
   "id": "b61d668c",
   "metadata": {},
   "source": [
    "### Python bool values are Title Case not Upper Case"
   ]
  },
  {
   "cell_type": "markdown",
   "id": "87a46479",
   "metadata": {},
   "source": [
    "# Lists\n",
    "\n",
    "## 1. Creating with range()\n",
    "## 2. List Indexing\n",
    "\n"
   ]
  },
  {
   "cell_type": "code",
   "execution_count": 30,
   "id": "0f9cef46",
   "metadata": {},
   "outputs": [
    {
     "data": {
      "text/plain": [
       "range(5, 10)"
      ]
     },
     "execution_count": 30,
     "metadata": {},
     "output_type": "execute_result"
    }
   ],
   "source": [
    "range(5, 10)"
   ]
  },
  {
   "cell_type": "code",
   "execution_count": 32,
   "id": "b182beff",
   "metadata": {},
   "outputs": [
    {
     "data": {
      "text/plain": [
       "range"
      ]
     },
     "execution_count": 32,
     "metadata": {},
     "output_type": "execute_result"
    }
   ],
   "source": [
    "type(range(5, 10))"
   ]
  },
  {
   "cell_type": "code",
   "execution_count": 33,
   "id": "44f24a53",
   "metadata": {},
   "outputs": [
    {
     "data": {
      "text/plain": [
       "[5, 6, 7, 8, 9]"
      ]
     },
     "execution_count": 33,
     "metadata": {},
     "output_type": "execute_result"
    }
   ],
   "source": [
    "list(range(5, 10))"
   ]
  },
  {
   "cell_type": "markdown",
   "id": "f27200da",
   "metadata": {},
   "source": [
    "### Range is not inclusive of the final number"
   ]
  },
  {
   "cell_type": "code",
   "execution_count": 36,
   "id": "fc26b9fe",
   "metadata": {},
   "outputs": [
    {
     "data": {
      "text/plain": [
       "[0, 2, 4, 6, 8, 10, 12, 14, 16, 18, 20]"
      ]
     },
     "execution_count": 36,
     "metadata": {},
     "output_type": "execute_result"
    }
   ],
   "source": [
    "two_times_tible = list(range(0, 22, 2))\n",
    "\n",
    "# Last no. in list is the increments\n",
    "\n",
    "two_times_tible"
   ]
  },
  {
   "cell_type": "code",
   "execution_count": 39,
   "id": "7b3080fa",
   "metadata": {},
   "outputs": [],
   "source": [
    "# help(range) to get help!!!`"
   ]
  },
  {
   "cell_type": "code",
   "execution_count": 41,
   "id": "58592303",
   "metadata": {},
   "outputs": [
    {
     "data": {
      "text/plain": [
       "0"
      ]
     },
     "execution_count": 41,
     "metadata": {},
     "output_type": "execute_result"
    }
   ],
   "source": [
    "two_times_tible[0]\n",
    "\n",
    "# First item is the 0 position"
   ]
  },
  {
   "cell_type": "code",
   "execution_count": 46,
   "id": "d808ecde",
   "metadata": {},
   "outputs": [
    {
     "data": {
      "text/plain": [
       "20"
      ]
     },
     "execution_count": 46,
     "metadata": {},
     "output_type": "execute_result"
    }
   ],
   "source": [
    "two_times_tible[-1]\n",
    "\n",
    "# Last item in the list"
   ]
  },
  {
   "cell_type": "markdown",
   "id": "146b9676",
   "metadata": {},
   "source": [
    "## 2.1 List Slicing"
   ]
  },
  {
   "cell_type": "code",
   "execution_count": 49,
   "id": "bc1eb0b0",
   "metadata": {},
   "outputs": [
    {
     "data": {
      "text/plain": [
       "[0, 2]"
      ]
     },
     "execution_count": 49,
     "metadata": {},
     "output_type": "execute_result"
    }
   ],
   "source": [
    "# Doesn't include the top of slice\n",
    "\n",
    "two_times_tible[0:2]"
   ]
  },
  {
   "cell_type": "code",
   "execution_count": 50,
   "id": "21ee5f0b",
   "metadata": {},
   "outputs": [
    {
     "data": {
      "text/plain": [
       "[0, 2, 4]"
      ]
     },
     "execution_count": 50,
     "metadata": {},
     "output_type": "execute_result"
    }
   ],
   "source": [
    "# Implicit slicing - final 3\n",
    "two_times_tible[:3]"
   ]
  },
  {
   "cell_type": "code",
   "execution_count": 51,
   "id": "9cd9705d",
   "metadata": {},
   "outputs": [
    {
     "data": {
      "text/plain": [
       "[16, 18, 20]"
      ]
     },
     "execution_count": 51,
     "metadata": {},
     "output_type": "execute_result"
    }
   ],
   "source": [
    "# Implicit slicing - final 3\n",
    "two_times_tible[-3:]"
   ]
  },
  {
   "cell_type": "markdown",
   "id": "642782fa",
   "metadata": {},
   "source": [
    "Task - 5 minutes\n",
    "\n",
    "Create a list with the following data, and assign it to a variable named things:\n",
    "'Apple' 'Grape' 101 'Onion' False\n",
    "\n",
    "Make sure that you don't use quotes around 101 and False.\n",
    "\n",
    "Extract the first element of the list.\n",
    "\n",
    "Extract the last element of the list.\n",
    "\n",
    "Extract everything except the last element of the list.\n",
    "\n",
    "What is the type of:\n",
    "\n",
    "the 3rd element?\n",
    "the 4th element?\n",
    "the 5th element?\n",
    "Create a list with the following data, using the range() function.\n",
    "11, 12, 13, 14, 15"
   ]
  },
  {
   "cell_type": "code",
   "execution_count": 53,
   "id": "522ee539",
   "metadata": {},
   "outputs": [
    {
     "data": {
      "text/plain": [
       "'Apple'"
      ]
     },
     "execution_count": 53,
     "metadata": {},
     "output_type": "execute_result"
    }
   ],
   "source": [
    "things = [\"Apple\", \"Grape\", 101, \"Onion\", False]\n",
    "\n",
    "# Extract the first element\n",
    "\n",
    "things[0]"
   ]
  },
  {
   "cell_type": "code",
   "execution_count": 54,
   "id": "16e5d409",
   "metadata": {},
   "outputs": [
    {
     "data": {
      "text/plain": [
       "False"
      ]
     },
     "execution_count": 54,
     "metadata": {},
     "output_type": "execute_result"
    }
   ],
   "source": [
    "# Extract the last element\n",
    "\n",
    "things[-1]"
   ]
  },
  {
   "cell_type": "code",
   "execution_count": 62,
   "id": "fa99359d",
   "metadata": {},
   "outputs": [
    {
     "data": {
      "text/plain": [
       "['Apple', 'Grape', 101, 'Onion']"
      ]
     },
     "execution_count": 62,
     "metadata": {},
     "output_type": "execute_result"
    }
   ],
   "source": [
    "# Extract everything except the last element\n",
    "\n",
    "things[0:-1]"
   ]
  },
  {
   "cell_type": "code",
   "execution_count": 63,
   "id": "6a84b236",
   "metadata": {},
   "outputs": [
    {
     "data": {
      "text/plain": [
       "bool"
      ]
     },
     "execution_count": 63,
     "metadata": {},
     "output_type": "execute_result"
    }
   ],
   "source": [
    "# Type\n",
    "\n",
    "type(things[4])"
   ]
  },
  {
   "cell_type": "code",
   "execution_count": 66,
   "id": "0b0eece5",
   "metadata": {},
   "outputs": [
    {
     "ename": "TypeError",
     "evalue": "'float' object cannot be interpreted as an integer",
     "output_type": "error",
     "traceback": [
      "\u001b[1;31m---------------------------------------------------------------------------\u001b[0m",
      "\u001b[1;31mTypeError\u001b[0m                                 Traceback (most recent call last)",
      "\u001b[1;32m<ipython-input-66-8cc526d7b064>\u001b[0m in \u001b[0;36m<module>\u001b[1;34m\u001b[0m\n\u001b[0;32m      1\u001b[0m \u001b[1;31m# Create a list with the function range of 11,12,13,14,15\u001b[0m\u001b[1;33m\u001b[0m\u001b[1;33m\u001b[0m\u001b[1;33m\u001b[0m\u001b[0m\n\u001b[0;32m      2\u001b[0m \u001b[1;33m\u001b[0m\u001b[0m\n\u001b[1;32m----> 3\u001b[1;33m \u001b[0mnew_list\u001b[0m \u001b[1;33m=\u001b[0m \u001b[0mlist\u001b[0m\u001b[1;33m(\u001b[0m\u001b[0mrange\u001b[0m\u001b[1;33m(\u001b[0m\u001b[1;36m11.0\u001b[0m\u001b[1;33m,\u001b[0m\u001b[1;36m16.0\u001b[0m\u001b[1;33m,\u001b[0m \u001b[1;36m0.5\u001b[0m\u001b[1;33m)\u001b[0m\u001b[1;33m)\u001b[0m\u001b[1;33m\u001b[0m\u001b[1;33m\u001b[0m\u001b[0m\n\u001b[0m\u001b[0;32m      4\u001b[0m \u001b[1;33m\u001b[0m\u001b[0m\n\u001b[0;32m      5\u001b[0m \u001b[0mnew_list\u001b[0m\u001b[1;33m\u001b[0m\u001b[1;33m\u001b[0m\u001b[0m\n",
      "\u001b[1;31mTypeError\u001b[0m: 'float' object cannot be interpreted as an integer"
     ]
    }
   ],
   "source": [
    "# Create a list with the function range of 11,12,13,14,15\n",
    "\n",
    "new_list = list(range(11,16, 0.5))\n",
    "\n",
    "new_list\n",
    "\n",
    "# No likey"
   ]
  },
  {
   "cell_type": "markdown",
   "id": "1ce6ec0b",
   "metadata": {},
   "source": [
    "# Methods - List Methods"
   ]
  },
  {
   "cell_type": "code",
   "execution_count": 71,
   "id": "722e9bef",
   "metadata": {},
   "outputs": [
    {
     "ename": "NameError",
     "evalue": "name 'some_functions' is not defined",
     "output_type": "error",
     "traceback": [
      "\u001b[1;31m---------------------------------------------------------------------------\u001b[0m",
      "\u001b[1;31mNameError\u001b[0m                                 Traceback (most recent call last)",
      "\u001b[1;32m<ipython-input-71-8cfe11623a89>\u001b[0m in \u001b[0;36m<module>\u001b[1;34m\u001b[0m\n\u001b[0;32m      1\u001b[0m \u001b[1;31m# not run\u001b[0m\u001b[1;33m\u001b[0m\u001b[1;33m\u001b[0m\u001b[1;33m\u001b[0m\u001b[0m\n\u001b[1;32m----> 2\u001b[1;33m \u001b[0msome_functions\u001b[0m\u001b[1;33m(\u001b[0m\u001b[0marg1\u001b[0m\u001b[1;33m=\u001b[0m\u001b[1;33m...\u001b[0m\u001b[1;33m,\u001b[0m \u001b[0marg2\u001b[0m\u001b[1;33m=\u001b[0m\u001b[1;33m...\u001b[0m\u001b[1;33m)\u001b[0m\u001b[1;33m\u001b[0m\u001b[1;33m\u001b[0m\u001b[0m\n\u001b[0m",
      "\u001b[1;31mNameError\u001b[0m: name 'some_functions' is not defined"
     ]
    }
   ],
   "source": [
    "# not run\n",
    "some_functions(arg1=..., arg2=...)"
   ]
  },
  {
   "cell_type": "code",
   "execution_count": 72,
   "id": "c537f285",
   "metadata": {},
   "outputs": [
    {
     "data": {
      "text/plain": [
       "6"
      ]
     },
     "execution_count": 72,
     "metadata": {},
     "output_type": "execute_result"
    }
   ],
   "source": [
    "sum([1,2,3])"
   ]
  },
  {
   "cell_type": "markdown",
   "id": "611fc745",
   "metadata": {},
   "source": [
    "## Almost everything in Python is an object\n",
    "\n",
    "\n",
    "(python is an object-oriented programming language) (OOP)\n",
    "\n",
    "- functions are often used in a way we are less used to in R\n",
    "- methods are functions that \"live\" on classes/object"
   ]
  },
  {
   "cell_type": "code",
   "execution_count": 83,
   "id": "88943950",
   "metadata": {},
   "outputs": [],
   "source": [
    "numbers = [19, 67, 12, 9]"
   ]
  },
  {
   "cell_type": "code",
   "execution_count": 79,
   "id": "874f3ee0",
   "metadata": {},
   "outputs": [
    {
     "data": {
      "text/plain": [
       "[9, 12, 19, 67]"
      ]
     },
     "execution_count": 79,
     "metadata": {},
     "output_type": "execute_result"
    }
   ],
   "source": [
    "numbers.sort()\n",
    "\n",
    "# Function that is attached to this method\n",
    "\n",
    "numbers"
   ]
  },
  {
   "cell_type": "code",
   "execution_count": 77,
   "id": "4e5823de",
   "metadata": {},
   "outputs": [
    {
     "ename": "SyntaxError",
     "evalue": "invalid syntax (<ipython-input-77-640b25778509>, line 1)",
     "output_type": "error",
     "traceback": [
      "\u001b[1;36m  File \u001b[1;32m\"<ipython-input-77-640b25778509>\"\u001b[1;36m, line \u001b[1;32m1\u001b[0m\n\u001b[1;33m    my_list[-1].sort[]\u001b[0m\n\u001b[1;37m                     ^\u001b[0m\n\u001b[1;31mSyntaxError\u001b[0m\u001b[1;31m:\u001b[0m invalid syntax\n"
     ]
    }
   ],
   "source": [
    "my_list[-1].sort[]"
   ]
  },
  {
   "cell_type": "code",
   "execution_count": 78,
   "id": "c007734a",
   "metadata": {},
   "outputs": [
    {
     "data": {
      "text/plain": [
       "[9, 12, 19, 67]"
      ]
     },
     "execution_count": 78,
     "metadata": {},
     "output_type": "execute_result"
    }
   ],
   "source": [
    "numbers"
   ]
  },
  {
   "cell_type": "markdown",
   "id": "4cf1f204",
   "metadata": {},
   "source": [
    "In python objects have \n",
    "\n",
    "- attributes (values associated with object class)\n",
    "- methods (functions that can be applied to object/associated with object class)\n",
    "\n"
   ]
  },
  {
   "cell_type": "code",
   "execution_count": 84,
   "id": "0edef8a3",
   "metadata": {},
   "outputs": [
    {
     "ename": "SyntaxError",
     "evalue": "invalid syntax (<ipython-input-84-8e378a2dbf5e>, line 1)",
     "output_type": "error",
     "traceback": [
      "\u001b[1;36m  File \u001b[1;32m\"<ipython-input-84-8e378a2dbf5e>\"\u001b[1;36m, line \u001b[1;32m1\u001b[0m\n\u001b[1;33m    numbers.\u001b[0m\n\u001b[1;37m            ^\u001b[0m\n\u001b[1;31mSyntaxError\u001b[0m\u001b[1;31m:\u001b[0m invalid syntax\n"
     ]
    }
   ],
   "source": [
    "numbers."
   ]
  },
  {
   "cell_type": "markdown",
   "id": "25469d7c",
   "metadata": {},
   "source": [
    "More list methods\n",
    "\n",
    "- '.pop()'\n",
    "- '.remove()'\n",
    "- '.append()'\n",
    "- '.extend()'\n",
    "\n",
    "All these operate **in-place**"
   ]
  },
  {
   "cell_type": "code",
   "execution_count": 85,
   "id": "b6e0e21e",
   "metadata": {},
   "outputs": [
    {
     "data": {
      "text/plain": [
       "9"
      ]
     },
     "execution_count": 85,
     "metadata": {},
     "output_type": "execute_result"
    }
   ],
   "source": [
    "numbers.pop()"
   ]
  },
  {
   "cell_type": "code",
   "execution_count": 105,
   "id": "f2f943bd",
   "metadata": {},
   "outputs": [],
   "source": [
    "numbers.append(68)"
   ]
  },
  {
   "cell_type": "code",
   "execution_count": 106,
   "id": "ec19ebf8",
   "metadata": {},
   "outputs": [
    {
     "data": {
      "text/plain": [
       "[19,\n",
       " 67,\n",
       " 12,\n",
       " 68,\n",
       " 68,\n",
       " 68,\n",
       " 68,\n",
       " 68,\n",
       " 68,\n",
       " 68,\n",
       " 68,\n",
       " 68,\n",
       " 68,\n",
       " 68,\n",
       " 68,\n",
       " 68,\n",
       " 68,\n",
       " 68,\n",
       " 68,\n",
       " 68,\n",
       " 68]"
      ]
     },
     "execution_count": 106,
     "metadata": {},
     "output_type": "execute_result"
    }
   ],
   "source": [
    "numbers"
   ]
  },
  {
   "cell_type": "code",
   "execution_count": 107,
   "id": "b34463b6",
   "metadata": {},
   "outputs": [],
   "source": [
    "numbers.remove(12)"
   ]
  },
  {
   "cell_type": "code",
   "execution_count": 108,
   "id": "661e4541",
   "metadata": {
    "scrolled": true
   },
   "outputs": [
    {
     "data": {
      "text/plain": [
       "[19,\n",
       " 67,\n",
       " 68,\n",
       " 68,\n",
       " 68,\n",
       " 68,\n",
       " 68,\n",
       " 68,\n",
       " 68,\n",
       " 68,\n",
       " 68,\n",
       " 68,\n",
       " 68,\n",
       " 68,\n",
       " 68,\n",
       " 68,\n",
       " 68,\n",
       " 68,\n",
       " 68,\n",
       " 68]"
      ]
     },
     "execution_count": 108,
     "metadata": {},
     "output_type": "execute_result"
    }
   ],
   "source": [
    "numbers"
   ]
  },
  {
   "cell_type": "code",
   "execution_count": 127,
   "id": "04ee3143",
   "metadata": {},
   "outputs": [],
   "source": [
    "numbers.remove(68)"
   ]
  },
  {
   "cell_type": "code",
   "execution_count": 128,
   "id": "f45f8f7f",
   "metadata": {},
   "outputs": [
    {
     "data": {
      "text/plain": [
       "[19, 67, 68]"
      ]
     },
     "execution_count": 128,
     "metadata": {},
     "output_type": "execute_result"
    }
   ],
   "source": [
    "numbers"
   ]
  },
  {
   "cell_type": "markdown",
   "id": "12124056",
   "metadata": {},
   "source": [
    "Append and Extend behave differently when given a list"
   ]
  },
  {
   "cell_type": "code",
   "execution_count": 129,
   "id": "61978e2d",
   "metadata": {},
   "outputs": [],
   "source": [
    "numbers.append([72, 14, -9])"
   ]
  },
  {
   "cell_type": "code",
   "execution_count": 130,
   "id": "5f633e56",
   "metadata": {},
   "outputs": [
    {
     "data": {
      "text/plain": [
       "[19, 67, 68, [72, 14, -9]]"
      ]
     },
     "execution_count": 130,
     "metadata": {},
     "output_type": "execute_result"
    }
   ],
   "source": [
    "numbers"
   ]
  },
  {
   "cell_type": "code",
   "execution_count": 131,
   "id": "8cf69a6d",
   "metadata": {},
   "outputs": [
    {
     "data": {
      "text/plain": [
       "[72, 14, -9]"
      ]
     },
     "execution_count": 131,
     "metadata": {},
     "output_type": "execute_result"
    }
   ],
   "source": [
    "numbers.pop(-1)"
   ]
  },
  {
   "cell_type": "code",
   "execution_count": 132,
   "id": "1b133a76",
   "metadata": {},
   "outputs": [
    {
     "data": {
      "text/plain": [
       "[19, 67, 68]"
      ]
     },
     "execution_count": 132,
     "metadata": {},
     "output_type": "execute_result"
    }
   ],
   "source": [
    "numbers"
   ]
  },
  {
   "cell_type": "code",
   "execution_count": 133,
   "id": "8c59853a",
   "metadata": {},
   "outputs": [],
   "source": [
    "numbers.extend([34, 333, -10])"
   ]
  },
  {
   "cell_type": "code",
   "execution_count": 134,
   "id": "b9cfd558",
   "metadata": {
    "scrolled": true
   },
   "outputs": [
    {
     "data": {
      "text/plain": [
       "[19, 67, 68, 34, 333, -10]"
      ]
     },
     "execution_count": 134,
     "metadata": {},
     "output_type": "execute_result"
    }
   ],
   "source": [
    "numbers"
   ]
  },
  {
   "cell_type": "code",
   "execution_count": 2,
   "id": "7ee9c321",
   "metadata": {},
   "outputs": [
    {
     "data": {
      "text/plain": [
       "[1, 2, 3, 5, 7]"
      ]
     },
     "execution_count": 2,
     "metadata": {},
     "output_type": "execute_result"
    }
   ],
   "source": [
    "primes = [1,2,3,5,7]\n",
    "primes"
   ]
  },
  {
   "cell_type": "code",
   "execution_count": 6,
   "id": "2c5c87a2",
   "metadata": {},
   "outputs": [
    {
     "name": "stdout",
     "output_type": "stream",
     "text": [
      "[2, 3, 5, 7]\n"
     ]
    }
   ],
   "source": [
    "print(primes)"
   ]
  },
  {
   "cell_type": "code",
   "execution_count": 7,
   "id": "0796c50e",
   "metadata": {},
   "outputs": [],
   "source": [
    "primes.extend([11,13,17])"
   ]
  },
  {
   "cell_type": "code",
   "execution_count": 8,
   "id": "8483a4b4",
   "metadata": {},
   "outputs": [
    {
     "data": {
      "text/plain": [
       "[2, 3, 5, 7, 11, 13, 17]"
      ]
     },
     "execution_count": 8,
     "metadata": {},
     "output_type": "execute_result"
    }
   ],
   "source": [
    "primes"
   ]
  },
  {
   "cell_type": "code",
   "execution_count": 15,
   "id": "f48d6770",
   "metadata": {},
   "outputs": [
    {
     "data": {
      "text/plain": [
       "[17, 13, 11, 7, 5, 3, 2]"
      ]
     },
     "execution_count": 15,
     "metadata": {},
     "output_type": "execute_result"
    }
   ],
   "source": [
    "primes.reverse()"
   ]
  },
  {
   "cell_type": "code",
   "execution_count": 16,
   "id": "9e855967",
   "metadata": {},
   "outputs": [
    {
     "data": {
      "text/plain": [
       "[17, 13, 11, 7, 5, 3, 2]"
      ]
     },
     "execution_count": 16,
     "metadata": {},
     "output_type": "execute_result"
    }
   ],
   "source": [
    "primes"
   ]
  },
  {
   "cell_type": "markdown",
   "id": "3d8a086f",
   "metadata": {},
   "source": [
    "# Markdown Text\n",
    "\n",
    "## Dictionaires - A lot like lists in R"
   ]
  },
  {
   "cell_type": "code",
   "execution_count": 18,
   "id": "6a161686",
   "metadata": {},
   "outputs": [
    {
     "data": {
      "text/plain": [
       "{'name': 'David', 'age': 17}"
      ]
     },
     "execution_count": 18,
     "metadata": {},
     "output_type": "execute_result"
    }
   ],
   "source": [
    "person_info = {\n",
    "    'name' : 'David',\n",
    "    'age' : 17\n",
    "}\n",
    "\n",
    "person_info\n",
    "\n",
    "# key values pairs"
   ]
  },
  {
   "cell_type": "code",
   "execution_count": 19,
   "id": "e6bdecc9",
   "metadata": {},
   "outputs": [],
   "source": [
    "person_info2 = {\n",
    "    'name' : 'James',\n",
    "    'name' : 'Jamie',\n",
    "    'age' : 21\n",
    "}"
   ]
  },
  {
   "cell_type": "code",
   "execution_count": 22,
   "id": "4d202dd4",
   "metadata": {},
   "outputs": [
    {
     "data": {
      "text/plain": [
       "str"
      ]
     },
     "execution_count": 22,
     "metadata": {},
     "output_type": "execute_result"
    }
   ],
   "source": [
    "type(person_info2['name'])"
   ]
  },
  {
   "cell_type": "code",
   "execution_count": 23,
   "id": "199e29d2",
   "metadata": {},
   "outputs": [
    {
     "data": {
      "text/plain": [
       "{'name': 'Jamie', 'age': 21}"
      ]
     },
     "execution_count": 23,
     "metadata": {},
     "output_type": "execute_result"
    }
   ],
   "source": [
    "person_info2"
   ]
  },
  {
   "cell_type": "markdown",
   "id": "5d06bad2",
   "metadata": {},
   "source": [
    "Dictonairy Facts:\n",
    "\n",
    "key names must be unique\n",
    "\n",
    "any after usage of the key name will overwrite the previous <kbd>k:v</kbd> pair\n",
    "\n",
    "key names should be strings"
   ]
  },
  {
   "cell_type": "code",
   "execution_count": 24,
   "id": "ed53ff8f",
   "metadata": {},
   "outputs": [
    {
     "data": {
      "text/plain": [
       "'Jamie'"
      ]
     },
     "execution_count": 24,
     "metadata": {},
     "output_type": "execute_result"
    }
   ],
   "source": [
    "person_info2['name']"
   ]
  },
  {
   "cell_type": "markdown",
   "id": "e1de9ebe",
   "metadata": {},
   "source": [
    "squiggly brackets for defining your dictionary\n",
    "\n",
    "square brackets for indexing your dictionary"
   ]
  },
  {
   "cell_type": "code",
   "execution_count": 26,
   "id": "ee4bc76d",
   "metadata": {},
   "outputs": [
    {
     "data": {
      "text/plain": [
       "dict_keys(['name', 'age'])"
      ]
     },
     "execution_count": 26,
     "metadata": {},
     "output_type": "execute_result"
    }
   ],
   "source": [
    "person_info.keys()"
   ]
  },
  {
   "cell_type": "code",
   "execution_count": 27,
   "id": "fadd14dd",
   "metadata": {},
   "outputs": [
    {
     "data": {
      "text/plain": [
       "dict_items([('name', 'David'), ('age', 17)])"
      ]
     },
     "execution_count": 27,
     "metadata": {},
     "output_type": "execute_result"
    }
   ],
   "source": [
    "person_info.items()"
   ]
  },
  {
   "cell_type": "markdown",
   "id": "22e54169",
   "metadata": {},
   "source": [
    "Last useful bit\n",
    "\n",
    "The equivalent of 'Rs' 'length()', is 'len()'"
   ]
  },
  {
   "cell_type": "code",
   "execution_count": 28,
   "id": "b90cc5bb",
   "metadata": {},
   "outputs": [
    {
     "data": {
      "text/plain": [
       "2"
      ]
     },
     "execution_count": 28,
     "metadata": {},
     "output_type": "execute_result"
    }
   ],
   "source": [
    "len(person_info)"
   ]
  },
  {
   "cell_type": "code",
   "execution_count": 30,
   "id": "9b17e33a",
   "metadata": {},
   "outputs": [],
   "source": [
    "person_info['favourite_nums'] = [3,4,5,6]"
   ]
  },
  {
   "cell_type": "code",
   "execution_count": 31,
   "id": "d5e14be0",
   "metadata": {},
   "outputs": [
    {
     "data": {
      "text/plain": [
       "3"
      ]
     },
     "execution_count": 31,
     "metadata": {},
     "output_type": "execute_result"
    }
   ],
   "source": [
    "len(person_info)\n",
    "\n",
    "# We added one list in, but only one new item in the dictionary"
   ]
  },
  {
   "cell_type": "markdown",
   "id": "233f438c",
   "metadata": {},
   "source": [
    "Updating a dictionary \n",
    "\n",
    "First way "
   ]
  },
  {
   "cell_type": "code",
   "execution_count": 41,
   "id": "e0d07f48",
   "metadata": {},
   "outputs": [],
   "source": [
    "student_info = {\n",
    "    'Agnes' : 68,\n",
    "    'Bobby' : 45,\n",
    "    'Charlie' : {\n",
    "        'age' :33,\n",
    "        'gender' : 'Female'\n",
    "    }\n",
    "}"
   ]
  },
  {
   "cell_type": "code",
   "execution_count": 46,
   "id": "cdf9878b",
   "metadata": {},
   "outputs": [],
   "source": [
    "student_info['David'] = {\n",
    "    'age' : 28,\n",
    "    'gender' : 'Male'\n",
    "}"
   ]
  },
  {
   "cell_type": "code",
   "execution_count": 47,
   "id": "e68aace4",
   "metadata": {},
   "outputs": [
    {
     "data": {
      "text/plain": [
       "{'Agnes': 68,\n",
       " 'Bobby': 45,\n",
       " 'Charlie': {'age': 33, 'gender': 'Female'},\n",
       " 'David': {'age': 28, 'gender': 'Male'}}"
      ]
     },
     "execution_count": 47,
     "metadata": {},
     "output_type": "execute_result"
    }
   ],
   "source": [
    "student_info"
   ]
  },
  {
   "cell_type": "code",
   "execution_count": 49,
   "id": "748bc85b",
   "metadata": {},
   "outputs": [],
   "source": [
    "student_info.update({'Elaine' : {'age' : '26', 'gender' : 'Bie'}})"
   ]
  },
  {
   "cell_type": "code",
   "execution_count": 50,
   "id": "2b037c61",
   "metadata": {},
   "outputs": [
    {
     "data": {
      "text/plain": [
       "{'Agnes': 68,\n",
       " 'Bobby': 45,\n",
       " 'Charlie': {'age': 33, 'gender': 'Female'},\n",
       " 'David': {'age': 28, 'gender': 'Male'},\n",
       " 'Elaine': {'age': '26', 'gender': 'Bie'}}"
      ]
     },
     "execution_count": 50,
     "metadata": {},
     "output_type": "execute_result"
    }
   ],
   "source": [
    "student_info"
   ]
  },
  {
   "cell_type": "code",
   "execution_count": 51,
   "id": "81ea05c5",
   "metadata": {},
   "outputs": [
    {
     "data": {
      "text/plain": [
       "{'age': 28, 'gender': 'Male'}"
      ]
     },
     "execution_count": 51,
     "metadata": {},
     "output_type": "execute_result"
    }
   ],
   "source": [
    "student_info.pop('David')"
   ]
  },
  {
   "cell_type": "code",
   "execution_count": 52,
   "id": "9916dc3b",
   "metadata": {},
   "outputs": [
    {
     "data": {
      "text/plain": [
       "{'Agnes': 68,\n",
       " 'Bobby': 45,\n",
       " 'Charlie': {'age': 33, 'gender': 'Female'},\n",
       " 'Elaine': {'age': '26', 'gender': 'Bie'}}"
      ]
     },
     "execution_count": 52,
     "metadata": {},
     "output_type": "execute_result"
    }
   ],
   "source": [
    "student_info"
   ]
  },
  {
   "cell_type": "markdown",
   "id": "d1a25211",
   "metadata": {},
   "source": [
    "While the '.pop()' method exists for both 'dict()' and list() types. It behaves differently in each case. "
   ]
  }
 ],
 "metadata": {
  "kernelspec": {
   "display_name": "Python 3",
   "language": "python",
   "name": "python3"
  },
  "language_info": {
   "codemirror_mode": {
    "name": "ipython",
    "version": 3
   },
   "file_extension": ".py",
   "mimetype": "text/x-python",
   "name": "python",
   "nbconvert_exporter": "python",
   "pygments_lexer": "ipython3",
   "version": "3.8.8"
  },
  "varInspector": {
   "cols": {
    "lenName": 16,
    "lenType": 16,
    "lenVar": 40
   },
   "kernels_config": {
    "python": {
     "delete_cmd_postfix": "",
     "delete_cmd_prefix": "del ",
     "library": "var_list.py",
     "varRefreshCmd": "print(var_dic_list())"
    },
    "r": {
     "delete_cmd_postfix": ") ",
     "delete_cmd_prefix": "rm(",
     "library": "var_list.r",
     "varRefreshCmd": "cat(var_dic_list()) "
    }
   },
   "types_to_exclude": [
    "module",
    "function",
    "builtin_function_or_method",
    "instance",
    "_Feature"
   ],
   "window_display": false
  }
 },
 "nbformat": 4,
 "nbformat_minor": 5
}
