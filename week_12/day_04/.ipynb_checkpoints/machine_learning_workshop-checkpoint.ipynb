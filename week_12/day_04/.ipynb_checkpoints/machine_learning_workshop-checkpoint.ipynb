{
 "cells": [
  {
   "cell_type": "markdown",
   "id": "7a7cff6c",
   "metadata": {},
   "source": [
    "# Machine Learning\n",
    "\n",
    "## 1. Exploratory Data Analysis\n",
    "\n",
    "## 2. Feature Engineering and Selection\n",
    "* Variable Reduction\n",
    "* Variable Binning\n",
    "* Variable Type Mutation\n",
    "* Dummy Variables\n",
    "* Scaling \n",
    "\n",
    "## 3. Model Building\n",
    "\n",
    "## 4. Model Deployment "
   ]
  },
  {
   "cell_type": "code",
   "execution_count": 1,
   "id": "b289895f",
   "metadata": {},
   "outputs": [],
   "source": [
    "import pandas as pd\n",
    "\n",
    "cons = pd.read_csv(\"machine_learning_in_python/data/\")"
   ]
  }
 ],
 "metadata": {
  "kernelspec": {
   "display_name": "Python 3",
   "language": "python",
   "name": "python3"
  },
  "language_info": {
   "codemirror_mode": {
    "name": "ipython",
    "version": 3
   },
   "file_extension": ".py",
   "mimetype": "text/x-python",
   "name": "python",
   "nbconvert_exporter": "python",
   "pygments_lexer": "ipython3",
   "version": "3.8.8"
  },
  "varInspector": {
   "cols": {
    "lenName": 16,
    "lenType": 16,
    "lenVar": 40
   },
   "kernels_config": {
    "python": {
     "delete_cmd_postfix": "",
     "delete_cmd_prefix": "del ",
     "library": "var_list.py",
     "varRefreshCmd": "print(var_dic_list())"
    },
    "r": {
     "delete_cmd_postfix": ") ",
     "delete_cmd_prefix": "rm(",
     "library": "var_list.r",
     "varRefreshCmd": "cat(var_dic_list()) "
    }
   },
   "types_to_exclude": [
    "module",
    "function",
    "builtin_function_or_method",
    "instance",
    "_Feature"
   ],
   "window_display": false
  }
 },
 "nbformat": 4,
 "nbformat_minor": 5
}
