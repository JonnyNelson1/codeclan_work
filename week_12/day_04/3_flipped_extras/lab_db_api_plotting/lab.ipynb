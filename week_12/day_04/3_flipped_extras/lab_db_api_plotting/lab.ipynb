{
 "cells": [
  {
   "cell_type": "markdown",
   "metadata": {
    "toc": true
   },
   "source": [
    "<h1>Table of Contents<span class=\"tocSkip\"></span></h1>\n",
    "<div class=\"toc\"><ul class=\"toc-item\"><li><span><a href=\"#Introduction\" data-toc-modified-id=\"Introduction-1\"><span class=\"toc-item-num\">1&nbsp;&nbsp;</span>Introduction</a></span><ul class=\"toc-item\"><li><span><a href=\"#Core-Questions\" data-toc-modified-id=\"Core-Questions-1.1\"><span class=\"toc-item-num\">1.1&nbsp;&nbsp;</span>Core Questions</a></span></li><li><span><a href=\"#Extension-Question\" data-toc-modified-id=\"Extension-Question-1.2\"><span class=\"toc-item-num\">1.2&nbsp;&nbsp;</span>Extension Question</a></span></li><li><span><a href=\"#How-to-proceed\" data-toc-modified-id=\"How-to-proceed-1.3\"><span class=\"toc-item-num\">1.3&nbsp;&nbsp;</span>How to proceed</a></span></li></ul></li><li><span><a href=\"#Database-connection-details\" data-toc-modified-id=\"Database-connection-details-2\"><span class=\"toc-item-num\">2&nbsp;&nbsp;</span>Database connection details</a></span></li><li><span><a href=\"#Core-Questions-Workthrough\" data-toc-modified-id=\"Core-Questions-Workthrough-3\"><span class=\"toc-item-num\">3&nbsp;&nbsp;</span>Core Questions Workthrough</a></span><ul class=\"toc-item\"><li><span><a href=\"#Fetch-relevant-tables-from-acme_pool\" data-toc-modified-id=\"Fetch-relevant-tables-from-acme_pool-3.1\"><span class=\"toc-item-num\">3.1&nbsp;&nbsp;</span>Fetch relevant tables from <code>acme_pool</code></a></span></li><li><span><a href=\"#Question-1-(basic):-'How-many-employees-work-in-each-country?'\" data-toc-modified-id=\"Question-1-(basic):-'How-many-employees-work-in-each-country?'-3.2\"><span class=\"toc-item-num\">3.2&nbsp;&nbsp;</span>Question 1 (basic): 'How many <code>employees</code> work in each country?'</a></span></li><li><span><a href=\"#Joining-employees-to-pay_details\" data-toc-modified-id=\"Joining-employees-to-pay_details-3.3\"><span class=\"toc-item-num\">3.3&nbsp;&nbsp;</span>Joining <code>employees</code> to <code>pay_details</code></a></span></li><li><span><a href=\"#Request-data-for-specific-countries-from-the-restcountries-API\" data-toc-modified-id=\"Request-data-for-specific-countries-from-the-restcountries-API-3.4\"><span class=\"toc-item-num\">3.4&nbsp;&nbsp;</span>Request data for specific countries from the <code>restcountries</code> API</a></span></li><li><span><a href=\"#Convert-the-countries-data-from-the-API-to-a-pandas-DataFrame\" data-toc-modified-id=\"Convert-the-countries-data-from-the-API-to-a-pandas-DataFrame-3.5\"><span class=\"toc-item-num\">3.5&nbsp;&nbsp;</span>Convert the countries data from the API to a <code>pandas</code> <code>DataFrame</code></a></span></li><li><span><a href=\"#Join-the-countries-DataFrame-to-the-existing-data\" data-toc-modified-id=\"Join-the-countries-DataFrame-to-the-existing-data-3.6\"><span class=\"toc-item-num\">3.6&nbsp;&nbsp;</span>Join the countries <code>DataFrame</code> to the existing data</a></span></li><li><span><a href=\"#Question-1-(improved):-'How-many-employees-work-in-each-country?'\" data-toc-modified-id=\"Question-1-(improved):-'How-many-employees-work-in-each-country?'-3.7\"><span class=\"toc-item-num\">3.7&nbsp;&nbsp;</span>Question 1 (improved): 'How many <code>employees</code> work in each country?'</a></span></li><li><span><a href=\"#Question-2:-'What-is-the-distribution-of-salary-by-region?'\" data-toc-modified-id=\"Question-2:-'What-is-the-distribution-of-salary-by-region?'-3.8\"><span class=\"toc-item-num\">3.8&nbsp;&nbsp;</span>Question 2: 'What is the distribution of salary by region?'</a></span></li></ul></li><li><span><a href=\"#Extension-Question-Workthrough\" data-toc-modified-id=\"Extension-Question-Workthrough-4\"><span class=\"toc-item-num\">4&nbsp;&nbsp;</span>Extension Question Workthrough</a></span><ul class=\"toc-item\"><li><span><a href=\"#Question-3:-'Does-salary-distribution-show-any-dependence-on-the-Gini-coefficient-of-a-country?'\" data-toc-modified-id=\"Question-3:-'Does-salary-distribution-show-any-dependence-on-the-Gini-coefficient-of-a-country?'-4.1\"><span class=\"toc-item-num\">4.1&nbsp;&nbsp;</span>Question 3: 'Does salary distribution show any dependence on the Gini coefficient of a country?'</a></span></li></ul></li></ul></div>"
   ]
  },
  {
   "cell_type": "markdown",
   "metadata": {},
   "source": [
    "# Introduction\n",
    "\n",
    "## Core Questions\n",
    "\n",
    "***Important note: The data in this lab has been synthesised to provide a reasonable challenge. Do not take it as representative of the socioeconomic conditions of the countries and regions involved!***\n",
    "\n",
    "You have been contracted by the Acme Corporation to perform analysis of their employee numbers and salaries. They have made their `acme_pool` database available to you in **read-only mode** (see the connection details below), and suggest that you will need the `employees` and `pay_details` tables in that database.\n",
    "\n",
    "Working in `Python`, `SQL` and `pandas`, they want you to try to answer the following questions below. Ideally, for each question, they would like to see: **an appropriate table and a useful visualisation**.\n",
    "\n",
    "***Question 1. How many employees work in each country?*** \n",
    "\n",
    "* A basic answer to this requires just the `employees` table, but to get proper country names, you'll need to make request(s) to the API mentioned in Question 2 below.\n",
    "\n",
    "***Question 2. What is the distribution of salary by region?*** \n",
    "\n",
    "* Each employees' salary is held in the `pay_details` table.\n",
    "* Each employees' country is held as a standard three-letter code in the `employees` table.\n",
    "* AcmeCorp suggest using the `restcountries.eu` API to gather additional details of countries beyond just the country codes held in `acme_pool`. \n",
    "* A responsible use of this API would be to fetch details **only for those countries in which AcmeCorp employees actually work** (rather than all countries in the world). To do this, have a look at either the `Code` or `List of codes` API endpoints (see the API documentation for more details).\n",
    "* The API response for each country will include the **country name**, **code** and **region** (the value of interest for this Question), as well as the **Gini coefficient** (see Question 3).\n",
    "\n",
    "## Extension Question\n",
    "\n",
    "If you have time, AcmeCorp would also like you to answer the following Question, again with **an appropriate table and visualisation**.\n",
    "\n",
    "***Question 3. Does salary distribution show any dependence on the Gini coefficient of a country?***\n",
    "\n",
    "* The Gini coefficient is a measure of **income inequality**. A value of 1 or 100% corresponds to maximal inequality (e.g. one person in a country has all the income or wealth, everyone else has nothing), while a value of zero corresponds to perfect equality.\n",
    "* The Gini coefficient is among the values returned for each country by the `restcountries.eu` API\n",
    "* [**Hint**] would a **statistical measure of spread** in salary (e.g. standard deviation, variance, interquartile range) be useful here?  \n",
    "\n",
    "## How to proceed\n",
    "\n",
    "* If this gives you enough information and you are ready to go, then good luck! The connection parameters for the `acme_pool` database are below! You can dip into the workthrough below if you get stuck.\n",
    "* If you would prefer more guidance as you work, we have provided a workthrough in which to code your steps of the analysis.\n",
    "* You may wish to use `DBeaver` to do some initial exploration of the `acme_pool` database. Remember, you can see the relationships between all tables by double clicking on the `public` schema and selecting the `ER Diagram` tab.\n",
    "\n",
    "# Database connection details\n",
    "\n",
    "Here are the connection details for the `acme_pool` database\n",
    "\n",
    "| Parameter | Value |\n",
    "|---|---|\n",
    "| database | acme_pool |\n",
    "| user | acme_user |\n",
    "| password | m12lwo1n6yjgbx4o |\n",
    "| host | db-postgresql-lon1-20135-do-user-7581050-0.b.db.ondigitalocean.com |\n",
    "| port | 25061 |"
   ]
  },
  {
   "cell_type": "markdown",
   "metadata": {},
   "source": [
    "# Core Questions Workthrough\n",
    "\n",
    "## Fetch relevant tables from `acme_pool`\n",
    "\n",
    "You will need the `employees` and `pay_details` tables from the `acme_pool` database for this lab. \n",
    "\n",
    "Create a `sqlalchemy` engine and then use it to fetch all the contents of the tables mentioned above into `pandas` `DataFrame`s. Remember, you will need to write an appropriate `SQL` query to do this\n",
    "\n",
    "Alternatively, you may wish to `join` the two tables in the `acme_pool` database, and then fetch the single joined table. Note, however, that this is not a **data reducing** operation, so it wouldn't actually help much if you were dealing with big data."
   ]
  },
  {
   "cell_type": "code",
   "execution_count": null,
   "metadata": {},
   "outputs": [],
   "source": []
  },
  {
   "cell_type": "markdown",
   "metadata": {},
   "source": [
    "## Question 1 (basic): 'How many `employees` work in each country?'\n",
    "\n",
    "At this point we have enough data to answer this question. However, countries will be represented by their `country_code`: a better solution will have to wait until we get data from the `restcountries` API. \n",
    "\n",
    "Create a table to answer this Question"
   ]
  },
  {
   "cell_type": "code",
   "execution_count": null,
   "metadata": {},
   "outputs": [],
   "source": []
  },
  {
   "cell_type": "markdown",
   "metadata": {},
   "source": [
    "Try also creating an appropriate `seaborn` visualisation to answer the Question\n",
    "\n",
    "**Hint** - you want to count the levels of a categorical variable, try a bit of web searching if you're stuck"
   ]
  },
  {
   "cell_type": "code",
   "execution_count": null,
   "metadata": {},
   "outputs": [],
   "source": []
  },
  {
   "cell_type": "markdown",
   "metadata": {},
   "source": [
    "## Joining `employees` to `pay_details`\n",
    "\n",
    "The `salary` is held in the `pay_details` `DataFrame`, and the employee details in `employees`, so you will need to join the two `DataFrame`s (or you may have already done this step in the `acme_pool` database). \n",
    "\n",
    "Tidy up remaining columns too at this point: dropping those that are unnecessary, and renaming for clarity. \n",
    "\n",
    "**Hint** - `.merge()`"
   ]
  },
  {
   "cell_type": "code",
   "execution_count": null,
   "metadata": {},
   "outputs": [],
   "source": []
  },
  {
   "cell_type": "markdown",
   "metadata": {},
   "source": [
    "## Request data for specific countries from the `restcountries` API\n",
    "\n",
    "Now you have enough data to work out which countries' data you need to request from the `restcountries` API. \n",
    "\n",
    "Working in this way we will make you a responsible user of the API: requesting only the data you need, rather than trying to get all the data the API has to give. \n",
    "\n",
    "Get the `list` of `country_code`s you will need to request [**Hint** - `country_code`s will be repeated]. "
   ]
  },
  {
   "cell_type": "code",
   "execution_count": null,
   "metadata": {},
   "outputs": [],
   "source": []
  },
  {
   "cell_type": "markdown",
   "metadata": {},
   "source": [
    "Using the `https://restcountries.eu/rest/v2/alpha/{code}` endpoint you will need to make requests **one-by-one** and build the results.\n",
    "\n",
    "**Hints:**\n",
    "* ```\n",
    "for code in country_codes:\n",
    "    ...do something with \"https://restcountries.eu/rest/v2/alpha/\" + code...\n",
    "```\n",
    "* ```\n",
    ".append()\n",
    "```"
   ]
  },
  {
   "cell_type": "code",
   "execution_count": null,
   "metadata": {},
   "outputs": [],
   "source": []
  },
  {
   "cell_type": "markdown",
   "metadata": {},
   "source": [
    "Alternatively, using the `https://restcountries.eu/rest/v2/alpha?codes={code};{code};{code}` endpoint you can pass a series of codes as part of a **query string**\n",
    "\n",
    "**Hints**\n",
    "\n",
    "* The format accepted is quite specific\n",
    "* ```\n",
    "';'.join()\n",
    "```"
   ]
  },
  {
   "cell_type": "code",
   "execution_count": null,
   "metadata": {},
   "outputs": [],
   "source": []
  },
  {
   "cell_type": "markdown",
   "metadata": {},
   "source": [
    "Now check that you received the correct number of objects from the API"
   ]
  },
  {
   "cell_type": "code",
   "execution_count": null,
   "metadata": {},
   "outputs": [],
   "source": []
  },
  {
   "cell_type": "markdown",
   "metadata": {},
   "source": [
    "## Convert the countries data from the API to a `pandas` `DataFrame`\n",
    "\n",
    "Remember that `pandas` can create a `DataFrame` from a `list` of `dictionaries`. \n",
    "\n",
    "However, you likely don't want to keep all the `key:value` pairs provided for each country by the API. Think about the data you will need for the later analysis (and don't worry, you can always come back and change the columns you persist to this `DataFrame` later on). \n",
    "\n",
    "See the lesson earlier today on 'Requests and APIs' for a way to 'trim down' the `key:value` pairs stored in a `list` of `dictionaries`."
   ]
  },
  {
   "cell_type": "code",
   "execution_count": 12,
   "metadata": {},
   "outputs": [],
   "source": []
  },
  {
   "cell_type": "markdown",
   "metadata": {},
   "source": [
    "## Join the countries `DataFrame` to the existing data\n",
    "\n",
    "So far so good! Now you will need to join the countries `DataFrame` you created in the last step to your existing `DataFrame` containing the join of `employees` to `pay_details`. Which columns are you going to join on?\n",
    "\n",
    "Afterwards, take the time to clean up the final `DataFrame`: drop any unneeded columns, clarify names where necessary."
   ]
  },
  {
   "cell_type": "code",
   "execution_count": null,
   "metadata": {},
   "outputs": [],
   "source": []
  },
  {
   "cell_type": "markdown",
   "metadata": {},
   "source": [
    "## Question 1 (improved): 'How many `employees` work in each country?'\n",
    "\n",
    "Create an improved table and plot answering Question 1 using the **country names** you should now have in your data (rather than the **country codes** used earlier) "
   ]
  },
  {
   "cell_type": "code",
   "execution_count": null,
   "metadata": {},
   "outputs": [],
   "source": []
  },
  {
   "cell_type": "code",
   "execution_count": null,
   "metadata": {},
   "outputs": [],
   "source": []
  },
  {
   "cell_type": "markdown",
   "metadata": {},
   "source": [
    "## Question 2: 'What is the distribution of salary by region?'\n",
    "\n",
    "Create an appropriate table to answer this Question"
   ]
  },
  {
   "cell_type": "code",
   "execution_count": null,
   "metadata": {},
   "outputs": [],
   "source": []
  },
  {
   "cell_type": "markdown",
   "metadata": {},
   "source": [
    "Now create an appropriate `seaborn` visualisation to answer this Question\n",
    "\n",
    "**Hints**\n",
    "\n",
    "* Which type of plot might you choose to show the distribution in `salary` over AcmeCorp as a whole?\n",
    "* How might you break this plot down into contributions from each `region`? (See the Optional section on `faceting` in the `seaborn` lesson for an automated way to do this)"
   ]
  },
  {
   "cell_type": "code",
   "execution_count": null,
   "metadata": {
    "scrolled": false
   },
   "outputs": [],
   "source": []
  },
  {
   "cell_type": "markdown",
   "metadata": {},
   "source": [
    "# Extension Question Workthrough\n",
    "\n",
    "## Question 3: 'Does salary distribution show any dependence on the Gini coefficient of a country?'\n",
    "\n",
    "As mentioned above, the Gini coefficient is a measure of the income inequality in a country. A value of 1 or 100% is 'maximal inequality', while a value of 0 indicates perfect equality. \n",
    "\n",
    "Create a `seaborn` visualisation to show the variation in `salary` with Gini coefficient."
   ]
  },
  {
   "cell_type": "code",
   "execution_count": null,
   "metadata": {},
   "outputs": [],
   "source": []
  },
  {
   "cell_type": "markdown",
   "metadata": {},
   "source": [
    "Thinking more about it, however, given that the Gini coefficient relates to **inequality**, let's see if countries with a higher Gini coefficient have a higher **spread** of `salary`, and vice-versa.\n",
    "\n",
    "Create a table to see whether increase in Gini coefficient leads to increase in spread of `salary`\n",
    "\n",
    "**Hints**\n",
    "\n",
    "* Do a bit of research to choose a measure of spread.\n",
    "* How might you get the spread for all `salary` values at each distinct `Gini` coefficient?"
   ]
  },
  {
   "cell_type": "code",
   "execution_count": null,
   "metadata": {},
   "outputs": [],
   "source": []
  },
  {
   "cell_type": "markdown",
   "metadata": {},
   "source": [
    "Can you create appropriate `seaborn` visualisation(s) to plot the data in the table above?"
   ]
  },
  {
   "cell_type": "code",
   "execution_count": null,
   "metadata": {},
   "outputs": [],
   "source": []
  }
 ],
 "metadata": {
  "kernelspec": {
   "display_name": "Python 3",
   "language": "python",
   "name": "python3"
  },
  "language_info": {
   "codemirror_mode": {
    "name": "ipython",
    "version": 3
   },
   "file_extension": ".py",
   "mimetype": "text/x-python",
   "name": "python",
   "nbconvert_exporter": "python",
   "pygments_lexer": "ipython3",
   "version": "3.8.5"
  },
  "toc": {
   "base_numbering": 1,
   "nav_menu": {},
   "number_sections": true,
   "sideBar": true,
   "skip_h1_title": false,
   "title_cell": "Table of Contents",
   "title_sidebar": "Contents",
   "toc_cell": true,
   "toc_position": {},
   "toc_section_display": true,
   "toc_window_display": false
  }
 },
 "nbformat": 4,
 "nbformat_minor": 4
}
