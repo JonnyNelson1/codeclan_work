{
 "cells": [
  {
   "cell_type": "markdown",
   "metadata": {
    "toc": true
   },
   "source": [
    "<h1>Table of Contents<span class=\"tocSkip\"></span></h1>\n",
    "<div class=\"toc\"><ul class=\"toc-item\"><li><span><a href=\"#Web-scraping-with-requests-and-BeautifulSoup\" data-toc-modified-id=\"Web-scraping-with-requests-and-BeautifulSoup-1\"><span class=\"toc-item-num\">1&nbsp;&nbsp;</span>Web scraping with <code>requests</code> and <code>BeautifulSoup</code></a></span></li><li><span><a href=\"#Scraping-best-practices\" data-toc-modified-id=\"Scraping-best-practices-2\"><span class=\"toc-item-num\">2&nbsp;&nbsp;</span>Scraping best practices</a></span></li><li><span><a href=\"#Walkthrough-of-the-scraping-process\" data-toc-modified-id=\"Walkthrough-of-the-scraping-process-3\"><span class=\"toc-item-num\">3&nbsp;&nbsp;</span>Walkthrough of the scraping process</a></span><ul class=\"toc-item\"><li><span><a href=\"#The-document-object-model-(DOM)\" data-toc-modified-id=\"The-document-object-model-(DOM)-3.1\"><span class=\"toc-item-num\">3.1&nbsp;&nbsp;</span>The document object model (DOM)</a></span></li><li><span><a href=\"#Accessing-the-DOM-in-Python:-the-bs4-package-and-BeautifulSoup\" data-toc-modified-id=\"Accessing-the-DOM-in-Python:-the-bs4-package-and-BeautifulSoup-3.2\"><span class=\"toc-item-num\">3.2&nbsp;&nbsp;</span>Accessing the DOM in <code>Python</code>: the <code>bs4</code> package and <code>BeautifulSoup</code></a></span></li><li><span><a href=\"#Finding-the-<table>\" data-toc-modified-id=\"Finding-the-<table>-3.3\"><span class=\"toc-item-num\">3.3&nbsp;&nbsp;</span>Finding the <code>&lt;table&gt;</code></a></span></li><li><span><a href=\"#Extracting-data-from-the-<table>-rows\" data-toc-modified-id=\"Extracting-data-from-the-<table>-rows-3.4\"><span class=\"toc-item-num\">3.4&nbsp;&nbsp;</span>Extracting data from the <code>&lt;table&gt;</code> rows</a></span></li></ul></li><li><span><a href=\"#Putting-it-all-together...\" data-toc-modified-id=\"Putting-it-all-together...-4\"><span class=\"toc-item-num\">4&nbsp;&nbsp;</span>Putting it all together...</a></span><ul class=\"toc-item\"><li><span><a href=\"#Complete-code-for-script-file\" data-toc-modified-id=\"Complete-code-for-script-file-4.1\"><span class=\"toc-item-num\">4.1&nbsp;&nbsp;</span>Complete code for script file</a></span></li></ul></li></ul></div>"
   ]
  },
  {
   "cell_type": "markdown",
   "metadata": {},
   "source": [
    "# Web scraping with `requests` and `BeautifulSoup`\n",
    "\n",
    "Sometimes the data you want or need exists in structured form on the web, but can't be accessed via an API or a database connection. A good example of this would be a table on a website. Can we obtain this data efficiently and automatically by code, rather than a laborious manual process? Yes, via a technique known as **web scraping**. We will examine an example using the `requests` and `BeautifulSoup` packages. \n",
    "\n",
    "We are going to look at an example in which we scrape data relating to avalanche fatalities in Utah. Let's have a look at the website in question. For reasons that will become clear later, we are going to split the URL of the site up into `base` and `route` parts. The whole we obtain just by adding the strings together"
   ]
  },
  {
   "cell_type": "code",
   "execution_count": 1,
   "metadata": {
    "scrolled": false
   },
   "outputs": [
    {
     "data": {
      "text/plain": [
       "'https://utahavalanchecenter.org/avalanches/fatalities'"
      ]
     },
     "execution_count": 1,
     "metadata": {},
     "output_type": "execute_result"
    }
   ],
   "source": [
    "base = 'https://utahavalanchecenter.org/'\n",
    "route = 'avalanches/fatalities'\n",
    "url =  base + route\n",
    "url"
   ]
  },
  {
   "cell_type": "markdown",
   "metadata": {},
   "source": [
    "<hr style=\"border:8px solid black\"> </hr>\n",
    "\n",
    "***\n",
    "\n",
    "**<u>Task - 5 mins</u>**\n",
    "\n",
    "Explore this website. In particular, answer the following:\n",
    "\n",
    "* What variables does the table contain? (Assume we don't wish to scrape the links to each event)\n",
    "* Is all the data presented on one page, or split over multiple pages?\n",
    "\n",
    "**Solution**"
   ]
  },
  {
   "cell_type": "markdown",
   "metadata": {},
   "source": [
    "![Utah avalanche site first page](images/avalanches_site.png)\n",
    "\n",
    "* Leaving aside the links, we have `Date`, `Region`, `Trigger` and `# Killed`\n",
    "* The complete data is spread over multiple pages. We navigate through pages using the `< Previous` and `Next >` links near the bottom of the page\n",
    "\n",
    "***\n",
    "\n",
    "<hr style=\"border:8px solid black\"> </hr>\n",
    "\n",
    "# Scraping best practices\n",
    "\n",
    "The robots exclusion protocol (REP) was developed in 1994 to govern the scraping and crawling behaviour of **robots** deployed by organisations that adhere to the protocol. In this context, a robot is an instance of automated software that attempts to map a website and/or obtain data from it. The REP suggests that a special file `robots.txt` be placed at the root (or base) of a site hierarchy. The file indicates which user agents are permitted (`user-agent`), areas of the site to be avoided (paths, directories and files) using the `Disallow` keyword, and often specifies a `Crawl-delay`: definitions of this vary as it is non-standard, but a reasonable interpretation is the amount of time in seconds that should elapse between requests.\n",
    "\n",
    "Best practices include:\n",
    "\n",
    "* Obey the REP as far as possible: read the `robots.txt` for the site you are going to scrape (if it exists) and avoid disallowed areas of the site.\n",
    "* Scraping can be rough on web servers, so try to scrape at off-peak hours and implement any `Crawl-delay` specified in `robots.txt`\n",
    "* Above all, consider the data you are scraping. Is it ethical to scrape it? Once scraped, will it then be used for ethical purposes of which the originating organisation would approve?\n",
    "* Obey any terms and conditions to which you agree in order to use a site. See **[this article](https://www.aima.org/journal/aima-journal---q3-2015-edition/article/data-scraping---everybody-else-was-doing-it--so-i-thought-it-was-ok-.html)** on the legal implications of web scraping\n",
    "\n",
    "Here is the `robots.txt` file from the Utah Avalanches site. You can see it at https://utahavalanchecenter.org/robots.txt\n",
    "\n",
    "![Robots.txt file](images/robots_txt.png)"
   ]
  },
  {
   "cell_type": "markdown",
   "metadata": {},
   "source": [
    "# Walkthrough of the scraping process\n",
    "\n",
    "To start with we will walk through the scraping process. Later we will see how to assemble the code we write into a form that could be placed in a `Python` script to be run from the command line. \n",
    "\n",
    "First we need to create a `header` to be sent with our request. Typically, we set the `User-Agent` value in the header to mimic a web browser on a particular operating system. You can see the user agent for your browser by going to **httpbin.org/user-agent**\n",
    "\n",
    "You can either copy the `User-Agent` for your browser, or just use the one below"
   ]
  },
  {
   "cell_type": "code",
   "execution_count": 2,
   "metadata": {
    "scrolled": false
   },
   "outputs": [
    {
     "data": {
      "text/plain": [
       "{'User-Agent': 'Mozilla/5.0 (X11; Linux x86_64) AppleWebKit/537.36 (KHTML, like Gecko) Chrome/88.0.4324.96'}"
      ]
     },
     "execution_count": 2,
     "metadata": {},
     "output_type": "execute_result"
    }
   ],
   "source": [
    "user_agent_desktop = 'Mozilla/5.0 (X11; Linux x86_64) '\\\n",
    "    'AppleWebKit/537.36 (KHTML, like Gecko) '\\\n",
    "    'Chrome/88.0.4324.96'\n",
    "\n",
    "headers = {\"User-Agent\": user_agent_desktop}\n",
    "headers"
   ]
  },
  {
   "cell_type": "markdown",
   "metadata": {},
   "source": [
    "Let's send a request to the site, passing the headers we created above"
   ]
  },
  {
   "cell_type": "code",
   "execution_count": 3,
   "metadata": {
    "scrolled": false
   },
   "outputs": [],
   "source": [
    "import requests\n",
    "response = requests.get(url, headers=headers)"
   ]
  },
  {
   "cell_type": "markdown",
   "metadata": {},
   "source": [
    "If we look at the response text, we will see that the server has sent `HTML` back to us. What do we do with this `HTML`?!"
   ]
  },
  {
   "cell_type": "code",
   "execution_count": 4,
   "metadata": {
    "scrolled": false
   },
   "outputs": [
    {
     "data": {
      "text/plain": [
       "'<!DOCTYPE html>\\n<html lang=\"en\">\\n<head>\\n<title>Avalanche Fatalities - Utah Avalanche Center</title>\\n<meta name=\"viewport\" content=\"width=device-width, initial-scale=1.0\">             \\n<meta http-equiv=\"Content-Type\" content=\"text/html; charset=utf-8\" />\\n<link rel=\"shortcut icon\" href=\"https://utahavalanchecenter.org/sites/default/files/images/uac-site/uac-favicon.png\" type=\"image/png\" />\\n<link type=\"text/css\" rel=\"stylesheet\" href=\"https://utahavalanchecenter.org/sites/default/files/css/css_xE-rWrJf-fncB6ztZfd2huxqgxu4WO-qwma6Xer30m4.css\" media=\"all\" />\\n<link type=\"text/css\" rel=\"stylesheet\" href=\"https://utahavalanchecenter.org/sites/default/files/css/css_tcqXHDMHRqtAPwNCTJBf-bQZ7knqzs48NDfFsr31Pkg.css\" media=\"all\" />\\n<link type=\"text/css\" rel=\"stylesheet\" href=\"https://utahavalanchecenter.org/sites/default/files/css/css_j_ng14rDsucP7t_nwmN6YQxzyuuXDjxPRwFsC1vg8q0.css\" media=\"all\" />\\n<link type=\"text/css\" rel=\"stylesheet\" href=\"https://utahavalanchecenter.org/sites/default/files/css/css_kkbUDYNW1y5GNXAF9-P7R8g2-uaWYuMMAE-amvBaiU4.css\" media=\"all\" />\\n<script type=\"text/javascript\" src=\"https://utahavalanchecenter.org/sites/all/modules/jquery_update/replace/jquery/1.8/jquery.min.js?v=1.8.3\"></script>\\n<script type=\"text/javascript\" src=\"https://utahavalanchecenter.org/misc/jquery-extend-3.4.0.js?v=1.8.3\"></script>\\n<script type=\"text/javascript\" src=\"https://utahavalanchecenter.org/misc/jquery-html-prefilter-3.5.0-backport.js?v=1.8.3\"></script>\\n<script type=\"text/javascript\" src=\"https://utahavalanchecenter.org/misc/jquery.once.js?v=1.2\"></script>\\n<script type=\"text/javascript\" src=\"https://utahavalanchecenter.org/misc/drupal.js?qo28db\"></script>\\n<script type=\"text/javascript\" src=\"https://utahavalanchecenter.org/sites/all/modules/shopify/shopify.js?qo28db\"></script>\\n<script type=\"text/javascript\" src=\"https://utahavalanchecenter.org/sites/all/modules/behavior_weights/behavior_weights.js?qo28db\"></script>\\n<script type=\"text/javascript\" src=\"https://utahavalanchecenter.org/sites/all/modules/google_analytics/googleanalytics.js?qo28db\"></script>\\n<script type=\"text/javascript\">\\n<!--//--><![CDATA[//><!--\\n(function(i,s,o,g,r,a,m){i[\"GoogleAnalyticsObject\"]=r;i[r]=i[r]||function(){(i[r].q=i[r].q||[]).push(arguments)},i[r].l=1*new Date();a=s.createElement(o),m=s.getElementsByTagName(o)[0];a.async=1;a.src=g;m.parentNode.insertBefore(a,m)})(window,document,\"script\",\"//www.google-analytics.com/analytics.js\",\"ga\");ga(\"create\", \"UA-6029833-3\", {\"cook"
      ]
     },
     "execution_count": 4,
     "metadata": {},
     "output_type": "execute_result"
    },
    {
     "data": {
      "text/html": [
       "<b>limit_output extension: Maximum message size of 2500 exceeded with 38330 characters</b>"
      ]
     },
     "metadata": {},
     "output_type": "display_data"
    }
   ],
   "source": [
    "response.text"
   ]
  },
  {
   "cell_type": "markdown",
   "metadata": {},
   "source": [
    "## The document object model (DOM)\n",
    "\n",
    "When a browser receivers an HTML document like the one above, it creates from it a hierarchical structure (a ‘tree-like’ structure) known as the document object model (DOM).\n",
    "\n",
    "* Each item in the tree is an **element**\n",
    "* Elements have **attributes** (data) and **methods** (functions or behaviour), corresponding to objects in object-oriented programming languages (the ‘O’ in DOM)\n",
    "* The tree represents a hierarchy, within which elements can have:\n",
    "    - **parents** (elements above them in the tree)\n",
    "    - **siblings** (elements at the same level as themselves in the tree)\n",
    "    - **children** (elements below them in the tree)\n",
    "\n",
    "\n",
    "![The document object model](images/DOM.png)\n",
    "*The DOM model by Birger Eriksson, distributed under [CC Attribution-Share Alike 3.0 Unported](https://creativecommons.org/licenses/by-sa/3.0/deed.en) licence*\n",
    "\n",
    "\n",
    "You can see the DOM for a page in most browsers by activating the `DOM Inspector`. In `Chrome` you can either right-click on a page and choose `Inspect` or press `Ctrl+Shift+i` or `Cmd+Shift+i` depending on operating system.\n",
    "\n",
    "<hr style=\"border:8px solid black\"> </hr>\n",
    "\n",
    "***\n",
    "\n",
    "**<u>Task - 5 mins</u>**\n",
    "\n",
    "Give this a try yourself on the Utah Avalanche Fatalities page.\n",
    "\n",
    "* Open the `DOM Inspector`\n",
    "* Move the pointer around over the `Elements` tab of the `DOM Inspector` and see which parts of the page are highlighted.\n",
    "* Can you find your way down through `<div>` elements to find the `<table>` containing the data?\n",
    "\n",
    "**Solution**\n",
    "\n",
    "![The DOM inspector](images/DOM_inspector.png)\n",
    "\n",
    "***\n",
    "\n",
    "<hr style=\"border:8px solid black\"> </hr>\n",
    "\n",
    "## Accessing the DOM in `Python`: the `bs4` package and `BeautifulSoup`\n",
    "\n",
    "The data we need is held in the `<table>` element of the DOM. So now we need a way to let `Python` access the DOM: this is where the `BeautifulSoup` class of the `bs4` package comes in.\n",
    "\n",
    "We pass in the response text, and tell `BeautifulSoup()` to parse the text as `HTML`"
   ]
  },
  {
   "cell_type": "code",
   "execution_count": 5,
   "metadata": {
    "scrolled": false
   },
   "outputs": [],
   "source": [
    "from bs4 import BeautifulSoup\n",
    "soup = BeautifulSoup(response.text, features='html.parser')"
   ]
  },
  {
   "cell_type": "markdown",
   "metadata": {},
   "source": [
    "Let's have a look at what is generated"
   ]
  },
  {
   "cell_type": "code",
   "execution_count": 6,
   "metadata": {
    "scrolled": false
   },
   "outputs": [
    {
     "data": {
      "text/plain": [
       "<!DOCTYPE html>\n",
       "\n",
       "<html lang=\"en\">\n",
       "<head>\n",
       "<title>Avalanche Fatalities - Utah Avalanche Center</title>\n",
       "<meta content=\"width=device-width, initial-scale=1.0\" name=\"viewport\"/>\n",
       "<meta content=\"text/html; charset=utf-8\" http-equiv=\"Content-Type\">\n",
       "<link href=\"https://utahavalanchecenter.org/sites/default/files/images/uac-site/uac-favicon.png\" rel=\"shortcut icon\" type=\"image/png\"/>\n",
       "<link href=\"https://utahavalanchecenter.org/sites/default/files/css/css_xE-rWrJf-fncB6ztZfd2huxqgxu4WO-qwma6Xer30m4.css\" media=\"all\" rel=\"stylesheet\" type=\"text/css\"/>\n",
       "<link href=\"https://utahavalanchecenter.org/sites/default/files/css/css_tcqXHDMHRqtAPwNCTJBf-bQZ7knqzs48NDfFsr31Pkg.css\" media=\"all\" rel=\"stylesheet\" type=\"text/css\"/>\n",
       "<link href=\"https://utahavalanchecenter.org/sites/default/files/css/css_j_ng14rDsucP7t_nwmN6YQxzyuuXDjxPRwFsC1vg8q0.css\" media=\"all\" rel=\"stylesheet\" type=\"text/css\"/>\n",
       "<link href=\"https://utahavalanchecenter.org/sites/default/files/css/css_kkbUDYNW1y5GNXAF9-P7R8g2-uaWYuMMAE-amvBaiU4.css\" media=\"all\" rel=\"stylesheet\" type=\"text/css\"/>\n",
       "<script src=\"https://utahavalanchecenter.org/sites/all/modules/jquery_update/replace/jquery/1.8/jquery.min.js?v=1.8.3\" type=\"text/javascript\"></script>\n",
       "<script src=\"https://utahavalanchecenter.org/misc/jquery-extend-3.4.0.js?v=1.8.3\" type=\"text/javascript\"></script>\n",
       "<script src=\"https://utahavalanchecenter.org/misc/jquery-html-prefilter-3.5.0-backport.js?v=1.8.3\" type=\"text/javascript\"></script>\n",
       "<script src=\"https://utahavalanchecenter.org/misc/jquery.once.js?v=1.2\" type=\"text/javascript\"></script>\n",
       "<script src=\"https://utahavalanchecenter.org/misc/drupal.js?qo28db\" type=\"text/javascript\"></script>\n",
       "<script src=\"https://utahavalanchecenter.org/sites/all/modules/shopify/shopify.js?qo28db\" type=\"text/javascript\"></script>\n",
       "<script src=\"https://utahavalanchecenter.org/sites/all/modules/behavior_weights/behavior_weights.js?qo28db\" type=\"text/javascript\"></script>\n",
       "<script src=\"https://utahavalanchecenter.org/sites/all/modules/google_analytics/googleanalytics.js?qo28db\" type=\"text/javascript\"></script>\n",
       "<script type=\"text/javascript\">\n",
       "<!--//--><![CDATA[//><!--\n",
       "(function(i,s,o,g,r,a,m){i[\"GoogleAnalyticsObject\"]=r;i[r]=i[r]||function(){(i[r].q=i[r].q||[]).push(arguments)},i[r].l=1*new Date();a=s.createElement(o),m=s.getElementsByTagName(o)[0];a.async=1;a.src=g;m.parentNode.insertBefore(a,m)})(window,document,\"script\",\"//www.google-analytics.com/analytics.js\",\"ga\");ga(\"create\", \"UA-6029833-3\", {\"cookieDomain\":\"auto\"});ga(\"send\", \"pageview\""
      ]
     },
     "execution_count": 6,
     "metadata": {},
     "output_type": "execute_result"
    },
    {
     "data": {
      "text/html": [
       "<b>limit_output extension: Maximum message size of 2500 exceeded with 33503 characters</b>"
      ]
     },
     "metadata": {},
     "output_type": "display_data"
    }
   ],
   "source": [
    "soup"
   ]
  },
  {
   "cell_type": "markdown",
   "metadata": {},
   "source": [
    "This doesn't look much better than the plain text to be honest. But the difference now is that `BeautifulSoup` equips all the elements in `soup` with the **attributes** and **methods** we discussed above. Let's see an example: we'll find all the `<div>` elements in `soup` using the `.find_all()` method"
   ]
  },
  {
   "cell_type": "code",
   "execution_count": 7,
   "metadata": {
    "scrolled": false
   },
   "outputs": [
    {
     "data": {
      "text/plain": [
       "114"
      ]
     },
     "execution_count": 7,
     "metadata": {},
     "output_type": "execute_result"
    }
   ],
   "source": [
    "divs = soup.find_all(name='div')\n",
    "len(divs)"
   ]
  },
  {
   "cell_type": "markdown",
   "metadata": {},
   "source": [
    "We get back a `list()` of `<div>` elements. Let's have a look at the attributes of the first `<div>` in the list"
   ]
  },
  {
   "cell_type": "code",
   "execution_count": 8,
   "metadata": {
    "scrolled": false
   },
   "outputs": [
    {
     "data": {
      "text/plain": [
       "{'class': ['sm-max-width-4',\n",
       "  'md-max-width-4',\n",
       "  'lg-max-width-4',\n",
       "  'x-lg-max-width-4',\n",
       "  'mx-auto']}"
      ]
     },
     "execution_count": 8,
     "metadata": {},
     "output_type": "execute_result"
    }
   ],
   "source": [
    "first_div = divs[0]\n",
    "first_div.attrs"
   ]
  },
  {
   "cell_type": "markdown",
   "metadata": {},
   "source": [
    "and at the text it contains"
   ]
  },
  {
   "cell_type": "code",
   "execution_count": 9,
   "metadata": {
    "scrolled": false
   },
   "outputs": [
    {
     "data": {
      "text/plain": [
       "'\\n\\n\\n\\n\\n\\n\\n\\n\\n\\n\\n\\n\\n\\nicon-add\\n          Observation\\n        \\n\\nMenu\\n\\n\\n\\n×\\n\\nMenu\\n\\nForecasts        \\n\\nLogan\\nOgden\\nSalt Lake\\nProvo\\nUintas\\nSkyline\\nMoab\\nAbajos\\nWeather\\nArchives\\nHow to read the forecast\\n\\n\\n\\n\\nObservations & Avalanches        \\n\\nSubmit Observation\\nAll Observations\\nAvalanches\\nFatalities\\nPlace Names Map\\nArchives\\n\\n\\n\\n\\nEducation        \\n\\nUAC & KBYG Classes\\nOther Classes\\nOnline Avalanche Courses\\nKnow Before You Go\\nResources & Tutorials\\nBackcountry Emergencies\\nBeacon Practice\\nFAQ\\nEncyclopedia\\nClass Cancellation Policy\\n\\n\\n\\n\\nEvents\\n\\n\\nStore\\n\\n\\nAbout        \\n\\nContact\\nWho we are\\nStaff\\nBoard of Directors\\nPast Forecasters\\nSponsors\\nAnnual Reports\\nSign In\\n\\n\\n\\n\\nBlog\\n\\nMake a Donation\\n\\n\\n\\n\\nSearch \\n\\n\\n\\n\\n\\n\\n\\n\\n\\n\\nForecasts\\n\\nLogan\\nOgden\\nSalt Lake\\nProvo\\nUintas\\nSkyline\\nMoab\\nAbajos\\nWeather\\nArchives\\nHow to read the forecast\\n\\n\\n\\nObservations & Avalanches\\n\\nSubmit Observation\\nAll Observations\\nAvalanches\\nFatalities\\nPlace Names Map\\nArchives\\n\\n\\n\\nEducation\\n\\nUAC & KBYG Classes\\nOther Classes\\nOnline Avalanche Courses\\nKnow Before You Go\\nResources & Tutorials\\nBackcountry Emergencies\\nBeacon Practice\\nFAQ\\nEncyclopedia\\nClass Cancellation Policy\\n\\n\\n\\nEvents\\n\\n\\nStore\\n\\n\\nAbout\\n\\nContact\\nWho we are\\nStaff\\nBoard of Directors\\nPast Forecasters\\nSponsors\\nAnnual Reports\\nSign In\\n\\n\\n\\nBlog\\n\\n\\n\\n\\nMenu\\n\\n\\n\\n\\n\\nSearch \\n\\n\\n\\n\\n\\n \\n\\n\\nicon-add\\n          Observation\\n        \\n\\nDonate\\n\\n\\n\\n'"
      ]
     },
     "execution_count": 9,
     "metadata": {},
     "output_type": "execute_result"
    }
   ],
   "source": [
    "first_div.text"
   ]
  },
  {
   "cell_type": "markdown",
   "metadata": {},
   "source": [
    "## Finding the `<table>`\n",
    "\n",
    "Now, how do we find our way through the DOM to the `<table>` containing the data we want to scrape? The easiest way, if possible, is to search for some text that the table contains that occurs nowhere else on the page. Let's look for the text `Region`: "
   ]
  },
  {
   "cell_type": "code",
   "execution_count": 10,
   "metadata": {
    "scrolled": false
   },
   "outputs": [
    {
     "data": {
      "text/plain": [
       "'Region'"
      ]
     },
     "execution_count": 10,
     "metadata": {},
     "output_type": "execute_result"
    }
   ],
   "source": [
    "header_text = soup.find(text='Region')\n",
    "header_text"
   ]
  },
  {
   "cell_type": "markdown",
   "metadata": {},
   "source": [
    "What is the `.parent` of `header_text`?"
   ]
  },
  {
   "cell_type": "code",
   "execution_count": 11,
   "metadata": {
    "scrolled": false
   },
   "outputs": [
    {
     "data": {
      "text/plain": [
       "<th>Region</th>"
      ]
     },
     "execution_count": 11,
     "metadata": {},
     "output_type": "execute_result"
    }
   ],
   "source": [
    "header_th = header_text.parent\n",
    "header_th"
   ]
  },
  {
   "cell_type": "markdown",
   "metadata": {},
   "source": [
    "It's a **table header** element `<th>`. Next, the parent of the table header is a **table row** `<tr>`"
   ]
  },
  {
   "cell_type": "code",
   "execution_count": 12,
   "metadata": {
    "scrolled": false
   },
   "outputs": [
    {
     "data": {
      "text/plain": [
       "<tr>\n",
       "<th>Date</th>\n",
       "<th>Region</th>\n",
       "<th></th>\n",
       "<th>Trigger</th>\n",
       "<th># Killed</th>\n",
       "</tr>"
      ]
     },
     "execution_count": 12,
     "metadata": {},
     "output_type": "execute_result"
    }
   ],
   "source": [
    "header_row = header_th.parent\n",
    "header_row"
   ]
  },
  {
   "cell_type": "markdown",
   "metadata": {},
   "source": [
    "The parent of the header row is a `<thead>` element"
   ]
  },
  {
   "cell_type": "code",
   "execution_count": 13,
   "metadata": {
    "scrolled": false
   },
   "outputs": [
    {
     "data": {
      "text/plain": [
       "<thead>\n",
       "<tr>\n",
       "<th>Date</th>\n",
       "<th>Region</th>\n",
       "<th></th>\n",
       "<th>Trigger</th>\n",
       "<th># Killed</th>\n",
       "</tr>\n",
       "</thead>"
      ]
     },
     "execution_count": 13,
     "metadata": {},
     "output_type": "execute_result"
    }
   ],
   "source": [
    "head = header_row.parent\n",
    "head"
   ]
  },
  {
   "cell_type": "markdown",
   "metadata": {},
   "source": [
    "Finally, the parent of the head is the whole `<table>` element"
   ]
  },
  {
   "cell_type": "code",
   "execution_count": 14,
   "metadata": {
    "scrolled": false
   },
   "outputs": [
    {
     "data": {
      "text/plain": [
       "<table>\n",
       "<thead>\n",
       "<tr>\n",
       "<th>Date</th>\n",
       "<th>Region</th>\n",
       "<th></th>\n",
       "<th>Trigger</th>\n",
       "<th># Killed</th>\n",
       "</tr>\n",
       "</thead>\n",
       "<tbody>\n",
       "<tr>\n",
       "<td class=\"views-field views-field-field-occurrence-date\">\n",
       "<span class=\"date-display-single\">2/6/2021</span> </td>\n",
       "<td class=\"views-field views-field-field-region-forecaster nowrap\">\n",
       "      Salt Lake    </td>\n",
       "<td class=\"views-field views-field-title\">\n",
       "<a href=\"/avalanche/58959\">Accident: Wilson Glade</a> </td>\n",
       "<td class=\"views-field views-field-field-trigger\">\n",
       "      Skier    </td>\n",
       "<td class=\"views-field views-field-field-killed views-align-right\">\n",
       "      4    </td>\n",
       "</tr>\n",
       "<tr>\n",
       "<td class=\"views-field views-field-field-occurrence-date\">\n",
       "<span class=\"date-display-single\">1/30/2021</span> </td>\n",
       "<td class=\"views-field views-field-field-region-forecaster nowrap\">\n",
       "      Salt Lake    </td>\n",
       "<td class=\"views-field views-field-title\">\n",
       "<a href=\"/avalanche/58594\">Accident: Squaretop</a> </td>\n",
       "<td class=\"views-field views-field-field-trigger\">\n",
       "      Skier    </td>\n",
       "<td class=\"views-field views-field-field-killed views-align-right\">\n",
       "      1    </td>\n",
       "</tr>\n",
       "<tr>\n",
       "<td class=\"views-field views-field-field-occurrence-date\">\n",
       "<span class=\"date-display-single\">1/8/2021</span> </td>\n",
       "<td class=\"views-field views-field-field-region-forecaster nowrap\">\n",
       "      Salt Lake    </td>\n",
       "<td class=\"views-field views-field-title\">\n",
       "<a href=\"/avalanche/57388\">Accident: Dutch Draw</a> </td>\n",
       "<td class=\"views-field views-field-field-trigger\">\n",
       "      Skier    </td>\n",
       "<td class=\"views-field views-field-field-killed views-align-right\">\n",
       "      1    </td>\n",
       "</tr>\n",
       "<tr>\n",
       "<td class=\"views-field views-field-field-occurrence-date\">\n",
       "<span class=\"date-display-single\">1/18/2020</span> </td>\n",
       "<td class=\"views-field views-field-field-region-forecaster nowrap\">\n",
       "      Ogden    </td>\n",
       "<td class=\"views-field views-field-title\">\n",
       "<a href=\"/avalanche/50645\">Accident: Farmington Lakes</a> </td>\n",
       "<td class=\"views-field views-field-field-trigger\">\n",
       "      Snowmobiler    </td>\n",
       "<td class=\"views-field views-field-field-killed views-align-right\">\n",
       "      1    </td>\n",
       "</tr>\n",
       "<tr>\n",
       "<td class=\"views-field views-field-field-occurrence-date\">\n",
       "<span class=\"date-display-single\">12/15/2019</span> </td>\n",
       "<td class=\"views-field views-field-field-region-forecaster nowrap\">\n",
       "      Salt Lake    </td>\n",
       "<td class=\"views-field views-field-title\">\n",
       "<a href=\"/avalanche/48937\">Accident: Dutch Draw</a> </td>\n",
       "<td class=\"views-field views-field-field-trigger\">\n",
       "      Snowboarder    </td>\n",
       "<td class=\"views-field views-field-field-killed views-align-right\">\n"
      ]
     },
     "execution_count": 14,
     "metadata": {},
     "output_type": "execute_result"
    },
    {
     "data": {
      "text/html": [
       "<b>limit_output extension: Maximum message size of 2500 exceeded with 12228 characters</b>"
      ]
     },
     "metadata": {},
     "output_type": "display_data"
    }
   ],
   "source": [
    "table = head.parent\n",
    "table"
   ]
  },
  {
   "cell_type": "markdown",
   "metadata": {},
   "source": [
    "Hopefully this makes it clear how the DOM hierarchy works, but I think we can agree that it's a cumbersome way to work. Instead, let's use the `.find_parent()` method to look for the **first occurring** parent element of the 'Region' text that has the name 'table'"
   ]
  },
  {
   "cell_type": "code",
   "execution_count": 15,
   "metadata": {
    "scrolled": false
   },
   "outputs": [
    {
     "data": {
      "text/plain": [
       "<table>\n",
       "<thead>\n",
       "<tr>\n",
       "<th>Date</th>\n",
       "<th>Region</th>\n",
       "<th></th>\n",
       "<th>Trigger</th>\n",
       "<th># Killed</th>\n",
       "</tr>\n",
       "</thead>\n",
       "<tbody>\n",
       "<tr>\n",
       "<td class=\"views-field views-field-field-occurrence-date\">\n",
       "<span class=\"date-display-single\">2/6/2021</span> </td>\n",
       "<td class=\"views-field views-field-field-region-forecaster nowrap\">\n",
       "      Salt Lake    </td>\n",
       "<td class=\"views-field views-field-title\">\n",
       "<a href=\"/avalanche/58959\">Accident: Wilson Glade</a> </td>\n",
       "<td class=\"views-field views-field-field-trigger\">\n",
       "      Skier    </td>\n",
       "<td class=\"views-field views-field-field-killed views-align-right\">\n",
       "      4    </td>\n",
       "</tr>\n",
       "<tr>\n",
       "<td class=\"views-field views-field-field-occurrence-date\">\n",
       "<span class=\"date-display-single\">1/30/2021</span> </td>\n",
       "<td class=\"views-field views-field-field-region-forecaster nowrap\">\n",
       "      Salt Lake    </td>\n",
       "<td class=\"views-field views-field-title\">\n",
       "<a href=\"/avalanche/58594\">Accident: Squaretop</a> </td>\n",
       "<td class=\"views-field views-field-field-trigger\">\n",
       "      Skier    </td>\n",
       "<td class=\"views-field views-field-field-killed views-align-right\">\n",
       "      1    </td>\n",
       "</tr>\n",
       "<tr>\n",
       "<td class=\"views-field views-field-field-occurrence-date\">\n",
       "<span class=\"date-display-single\">1/8/2021</span> </td>\n",
       "<td class=\"views-field views-field-field-region-forecaster nowrap\">\n",
       "      Salt Lake    </td>\n",
       "<td class=\"views-field views-field-title\">\n",
       "<a href=\"/avalanche/57388\">Accident: Dutch Draw</a> </td>\n",
       "<td class=\"views-field views-field-field-trigger\">\n",
       "      Skier    </td>\n",
       "<td class=\"views-field views-field-field-killed views-align-right\">\n",
       "      1    </td>\n",
       "</tr>\n",
       "<tr>\n",
       "<td class=\"views-field views-field-field-occurrence-date\">\n",
       "<span class=\"date-display-single\">1/18/2020</span> </td>\n",
       "<td class=\"views-field views-field-field-region-forecaster nowrap\">\n",
       "      Ogden    </td>\n",
       "<td class=\"views-field views-field-title\">\n",
       "<a href=\"/avalanche/50645\">Accident: Farmington Lakes</a> </td>\n",
       "<td class=\"views-field views-field-field-trigger\">\n",
       "      Snowmobiler    </td>\n",
       "<td class=\"views-field views-field-field-killed views-align-right\">\n",
       "      1    </td>\n",
       "</tr>\n",
       "<tr>\n",
       "<td class=\"views-field views-field-field-occurrence-date\">\n",
       "<span class=\"date-display-single\">12/15/2019</span> </td>\n",
       "<td class=\"views-field views-field-field-region-forecaster nowrap\">\n",
       "      Salt Lake    </td>\n",
       "<td class=\"views-field views-field-title\">\n",
       "<a href=\"/avalanche/48937\">Accident: Dutch Draw</a> </td>\n",
       "<td class=\"views-field views-field-field-trigger\">\n",
       "      Snowboarder    </td>\n",
       "<td class=\"views-field views-field-field-killed views-align-right\">\n"
      ]
     },
     "execution_count": 15,
     "metadata": {},
     "output_type": "execute_result"
    },
    {
     "data": {
      "text/html": [
       "<b>limit_output extension: Maximum message size of 2500 exceeded with 12228 characters</b>"
      ]
     },
     "metadata": {},
     "output_type": "display_data"
    }
   ],
   "source": [
    "table = soup.find(text='Region').find_parent(name='table')\n",
    "table"
   ]
  },
  {
   "cell_type": "markdown",
   "metadata": {},
   "source": [
    "This is much cleaner, but we might still run into problems if the site changes in the future and the text 'Region' ever occurs elsewhere on the page. It might be better to look for something within the strucure of the elements themselves that identifies the table. \n",
    "\n",
    "Does the table have any attributes we can use to locate it?"
   ]
  },
  {
   "cell_type": "code",
   "execution_count": 16,
   "metadata": {
    "scrolled": false
   },
   "outputs": [
    {
     "data": {
      "text/plain": [
       "{}"
      ]
     },
     "execution_count": 16,
     "metadata": {},
     "output_type": "execute_result"
    }
   ],
   "source": [
    "table.attrs"
   ]
  },
  {
   "cell_type": "markdown",
   "metadata": {},
   "source": [
    "Nope. But what about the parent of the table?"
   ]
  },
  {
   "cell_type": "code",
   "execution_count": 17,
   "metadata": {
    "scrolled": false
   },
   "outputs": [
    {
     "data": {
      "text/plain": [
       "<div class=\"view-content\">\n",
       "<table>\n",
       "<thead>\n",
       "<tr>\n",
       "<th>Date</th>\n",
       "<th>Region</th>\n",
       "<th></th>\n",
       "<th>Trigger</th>\n",
       "<th># Killed</th>\n",
       "</tr>\n",
       "</thead>\n",
       "<tbody>\n",
       "<tr>\n",
       "<td class=\"views-field views-field-field-occurrence-date\">\n",
       "<span class=\"date-display-single\">2/6/2021</span> </td>\n",
       "<td class=\"views-field views-field-field-region-forecaster nowrap\">\n",
       "      Salt Lake    </td>\n",
       "<td class=\"views-field views-field-title\">\n",
       "<a href=\"/avalanche/58959\">Accident: Wilson Glade</a> </td>\n",
       "<td class=\"views-field views-field-field-trigger\">\n",
       "      Skier    </td>\n",
       "<td class=\"views-field views-field-field-killed views-align-right\">\n",
       "      4    </td>\n",
       "</tr>\n",
       "<tr>\n",
       "<td class=\"views-field views-field-field-occurrence-date\">\n",
       "<span class=\"date-display-single\">1/30/2021</span> </td>\n",
       "<td class=\"views-field views-field-field-region-forecaster nowrap\">\n",
       "      Salt Lake    </td>\n",
       "<td class=\"views-field views-field-title\">\n",
       "<a href=\"/avalanche/58594\">Accident: Squaretop</a> </td>\n",
       "<td class=\"views-field views-field-field-trigger\">\n",
       "      Skier    </td>\n",
       "<td class=\"views-field views-field-field-killed views-align-right\">\n",
       "      1    </td>\n",
       "</tr>\n",
       "<tr>\n",
       "<td class=\"views-field views-field-field-occurrence-date\">\n",
       "<span class=\"date-display-single\">1/8/2021</span> </td>\n",
       "<td class=\"views-field views-field-field-region-forecaster nowrap\">\n",
       "      Salt Lake    </td>\n",
       "<td class=\"views-field views-field-title\">\n",
       "<a href=\"/avalanche/57388\">Accident: Dutch Draw</a> </td>\n",
       "<td class=\"views-field views-field-field-trigger\">\n",
       "      Skier    </td>\n",
       "<td class=\"views-field views-field-field-killed views-align-right\">\n",
       "      1    </td>\n",
       "</tr>\n",
       "<tr>\n",
       "<td class=\"views-field views-field-field-occurrence-date\">\n",
       "<span class=\"date-display-single\">1/18/2020</span> </td>\n",
       "<td class=\"views-field views-field-field-region-forecaster nowrap\">\n",
       "      Ogden    </td>\n",
       "<td class=\"views-field views-field-title\">\n",
       "<a href=\"/avalanche/50645\">Accident: Farmington Lakes</a> </td>\n",
       "<td class=\"views-field views-field-field-trigger\">\n",
       "      Snowmobiler    </td>\n",
       "<td class=\"views-field views-field-field-killed views-align-right\">\n",
       "      1    </td>\n",
       "</tr>\n",
       "<tr>\n",
       "<td class=\"views-field views-field-field-occurrence-date\">\n",
       "<span class=\"date-display-single\">12/15/2019</span> </td>\n",
       "<td class=\"views-field views-field-field-region-forecaster nowrap\">\n",
       "      Salt Lake    </td>\n",
       "<td class=\"views-field views-field-title\">\n",
       "<a href=\"/avalanche/48937\">Accident: Dutch Draw</a> </td>\n",
       "<td class=\"views-field views-field-field-trigger\">\n",
       "      Snowboarder    </td>\n",
       "<td class=\"views-field views-field-field-"
      ]
     },
     "execution_count": 17,
     "metadata": {},
     "output_type": "execute_result"
    },
    {
     "data": {
      "text/html": [
       "<b>limit_output extension: Maximum message size of 2500 exceeded with 12262 characters</b>"
      ]
     },
     "metadata": {},
     "output_type": "display_data"
    }
   ],
   "source": [
    "table.parent"
   ]
  },
  {
   "cell_type": "markdown",
   "metadata": {},
   "source": [
    "Nice! We see that it's a `<div>` with `class='view-content'`. Is there more than one such `<div>`?"
   ]
  },
  {
   "cell_type": "code",
   "execution_count": 18,
   "metadata": {
    "scrolled": false
   },
   "outputs": [
    {
     "data": {
      "text/plain": [
       "1"
      ]
     },
     "execution_count": 18,
     "metadata": {},
     "output_type": "execute_result"
    }
   ],
   "source": [
    "len(soup.find_all(name='div', attrs={'class': 'view-content'}))"
   ]
  },
  {
   "cell_type": "markdown",
   "metadata": {},
   "source": [
    "Nope, it's unique! So we can find the table in this way"
   ]
  },
  {
   "cell_type": "code",
   "execution_count": 19,
   "metadata": {
    "scrolled": false
   },
   "outputs": [
    {
     "data": {
      "text/plain": [
       "<table>\n",
       "<thead>\n",
       "<tr>\n",
       "<th>Date</th>\n",
       "<th>Region</th>\n",
       "<th></th>\n",
       "<th>Trigger</th>\n",
       "<th># Killed</th>\n",
       "</tr>\n",
       "</thead>\n",
       "<tbody>\n",
       "<tr>\n",
       "<td class=\"views-field views-field-field-occurrence-date\">\n",
       "<span class=\"date-display-single\">2/6/2021</span> </td>\n",
       "<td class=\"views-field views-field-field-region-forecaster nowrap\">\n",
       "      Salt Lake    </td>\n",
       "<td class=\"views-field views-field-title\">\n",
       "<a href=\"/avalanche/58959\">Accident: Wilson Glade</a> </td>\n",
       "<td class=\"views-field views-field-field-trigger\">\n",
       "      Skier    </td>\n",
       "<td class=\"views-field views-field-field-killed views-align-right\">\n",
       "      4    </td>\n",
       "</tr>\n",
       "<tr>\n",
       "<td class=\"views-field views-field-field-occurrence-date\">\n",
       "<span class=\"date-display-single\">1/30/2021</span> </td>\n",
       "<td class=\"views-field views-field-field-region-forecaster nowrap\">\n",
       "      Salt Lake    </td>\n",
       "<td class=\"views-field views-field-title\">\n",
       "<a href=\"/avalanche/58594\">Accident: Squaretop</a> </td>\n",
       "<td class=\"views-field views-field-field-trigger\">\n",
       "      Skier    </td>\n",
       "<td class=\"views-field views-field-field-killed views-align-right\">\n",
       "      1    </td>\n",
       "</tr>\n",
       "<tr>\n",
       "<td class=\"views-field views-field-field-occurrence-date\">\n",
       "<span class=\"date-display-single\">1/8/2021</span> </td>\n",
       "<td class=\"views-field views-field-field-region-forecaster nowrap\">\n",
       "      Salt Lake    </td>\n",
       "<td class=\"views-field views-field-title\">\n",
       "<a href=\"/avalanche/57388\">Accident: Dutch Draw</a> </td>\n",
       "<td class=\"views-field views-field-field-trigger\">\n",
       "      Skier    </td>\n",
       "<td class=\"views-field views-field-field-killed views-align-right\">\n",
       "      1    </td>\n",
       "</tr>\n",
       "<tr>\n",
       "<td class=\"views-field views-field-field-occurrence-date\">\n",
       "<span class=\"date-display-single\">1/18/2020</span> </td>\n",
       "<td class=\"views-field views-field-field-region-forecaster nowrap\">\n",
       "      Ogden    </td>\n",
       "<td class=\"views-field views-field-title\">\n",
       "<a href=\"/avalanche/50645\">Accident: Farmington Lakes</a> </td>\n",
       "<td class=\"views-field views-field-field-trigger\">\n",
       "      Snowmobiler    </td>\n",
       "<td class=\"views-field views-field-field-killed views-align-right\">\n",
       "      1    </td>\n",
       "</tr>\n",
       "<tr>\n",
       "<td class=\"views-field views-field-field-occurrence-date\">\n",
       "<span class=\"date-display-single\">12/15/2019</span> </td>\n",
       "<td class=\"views-field views-field-field-region-forecaster nowrap\">\n",
       "      Salt Lake    </td>\n",
       "<td class=\"views-field views-field-title\">\n",
       "<a href=\"/avalanche/48937\">Accident: Dutch Draw</a> </td>\n",
       "<td class=\"views-field views-field-field-trigger\">\n",
       "      Snowboarder    </td>\n",
       "<td class=\"views-field views-field-field-killed views-align-right\">\n"
      ]
     },
     "execution_count": 19,
     "metadata": {},
     "output_type": "execute_result"
    },
    {
     "data": {
      "text/html": [
       "<b>limit_output extension: Maximum message size of 2500 exceeded with 12228 characters</b>"
      ]
     },
     "metadata": {},
     "output_type": "display_data"
    }
   ],
   "source": [
    "table = soup.find(name='div', attrs={'class': 'view-content'}).find(name='table')\n",
    "table"
   ]
  },
  {
   "cell_type": "markdown",
   "metadata": {},
   "source": [
    "## Extracting data from the `<table>` rows\n",
    "\n",
    "Now we've found the table, let's extract the rows and then look at how to pull the data from them."
   ]
  },
  {
   "cell_type": "code",
   "execution_count": 20,
   "metadata": {
    "scrolled": false
   },
   "outputs": [
    {
     "data": {
      "text/plain": [
       "<tr>\n",
       "<th>Date</th>\n",
       "<th>Region</th>\n",
       "<th></th>\n",
       "<th>Trigger</th>\n",
       "<th># Killed</th>\n",
       "</tr>"
      ]
     },
     "execution_count": 20,
     "metadata": {},
     "output_type": "execute_result"
    }
   ],
   "source": [
    "rows = table.find_all(name='tr')\n",
    "rows[0]"
   ]
  },
  {
   "cell_type": "markdown",
   "metadata": {},
   "source": [
    "The first row contains table header cells `<th>`. What about the second row?"
   ]
  },
  {
   "cell_type": "code",
   "execution_count": 21,
   "metadata": {
    "scrolled": false
   },
   "outputs": [
    {
     "data": {
      "text/plain": [
       "<tr>\n",
       "<td class=\"views-field views-field-field-occurrence-date\">\n",
       "<span class=\"date-display-single\">2/6/2021</span> </td>\n",
       "<td class=\"views-field views-field-field-region-forecaster nowrap\">\n",
       "      Salt Lake    </td>\n",
       "<td class=\"views-field views-field-title\">\n",
       "<a href=\"/avalanche/58959\">Accident: Wilson Glade</a> </td>\n",
       "<td class=\"views-field views-field-field-trigger\">\n",
       "      Skier    </td>\n",
       "<td class=\"views-field views-field-field-killed views-align-right\">\n",
       "      4    </td>\n",
       "</tr>"
      ]
     },
     "execution_count": 21,
     "metadata": {},
     "output_type": "execute_result"
    }
   ],
   "source": [
    "rows[1]"
   ]
  },
  {
   "cell_type": "markdown",
   "metadata": {},
   "source": [
    "Nice, this contains table data cells `<td>`. So, for every row in the table, we want to extract the `<td>` elements. Let's do this for the second row"
   ]
  },
  {
   "cell_type": "code",
   "execution_count": 22,
   "metadata": {
    "scrolled": false
   },
   "outputs": [
    {
     "data": {
      "text/plain": [
       "[<td class=\"views-field views-field-field-occurrence-date\">\n",
       " <span class=\"date-display-single\">2/6/2021</span> </td>,\n",
       " <td class=\"views-field views-field-field-region-forecaster nowrap\">\n",
       "       Salt Lake    </td>,\n",
       " <td class=\"views-field views-field-title\">\n",
       " <a href=\"/avalanche/58959\">Accident: Wilson Glade</a> </td>,\n",
       " <td class=\"views-field views-field-field-trigger\">\n",
       "       Skier    </td>,\n",
       " <td class=\"views-field views-field-field-killed views-align-right\">\n",
       "       4    </td>]"
      ]
     },
     "execution_count": 22,
     "metadata": {},
     "output_type": "execute_result"
    }
   ],
   "source": [
    "cells = rows[1].find_all(name='td')\n",
    "cells"
   ]
  },
  {
   "cell_type": "markdown",
   "metadata": {},
   "source": [
    "Now let's look at the first cell more closely. It looks like the `class` attribute will be useful in labelling what the cell contains. We often call these classes 'tags' in `HTML`"
   ]
  },
  {
   "cell_type": "code",
   "execution_count": 23,
   "metadata": {
    "scrolled": false
   },
   "outputs": [
    {
     "data": {
      "text/plain": [
       "['views-field', 'views-field-field-occurrence-date']"
      ]
     },
     "execution_count": 23,
     "metadata": {},
     "output_type": "execute_result"
    }
   ],
   "source": [
    "first_cell = cells[0]\n",
    "tags = first_cell.get('class')\n",
    "tags"
   ]
  },
  {
   "cell_type": "markdown",
   "metadata": {},
   "source": [
    "Now for the actual data. Let's try accessing `stripped_strings` property of the cell: this will return all the text held in the cell, stripped of whitespace. One problem is that this returns a `generator` object"
   ]
  },
  {
   "cell_type": "code",
   "execution_count": 24,
   "metadata": {
    "scrolled": false
   },
   "outputs": [
    {
     "data": {
      "text/plain": [
       "<generator object Tag.stripped_strings at 0x7f1e46289b30>"
      ]
     },
     "execution_count": 24,
     "metadata": {},
     "output_type": "execute_result"
    }
   ],
   "source": [
    "first_cell.stripped_strings"
   ]
  },
  {
   "cell_type": "markdown",
   "metadata": {},
   "source": [
    "But we can force it into proper string form by this trick:"
   ]
  },
  {
   "cell_type": "code",
   "execution_count": 25,
   "metadata": {
    "scrolled": false
   },
   "outputs": [
    {
     "data": {
      "text/plain": [
       "'2/6/2021'"
      ]
     },
     "execution_count": 25,
     "metadata": {},
     "output_type": "execute_result"
    }
   ],
   "source": [
    "''.join(first_cell.stripped_strings)"
   ]
  },
  {
   "cell_type": "markdown",
   "metadata": {},
   "source": [
    "<hr style=\"border:8px solid black\"> </hr>\n",
    "\n",
    "***\n",
    "\n",
    "**<u>Task - 2 mins</u>**\n",
    "\n",
    "Get the tags and stripped strings of the **second** cell. \n",
    "\n",
    "**Solution**"
   ]
  },
  {
   "cell_type": "code",
   "execution_count": 26,
   "metadata": {
    "scrolled": false
   },
   "outputs": [
    {
     "data": {
      "text/plain": [
       "['views-field', 'views-field-field-region-forecaster', 'nowrap']"
      ]
     },
     "execution_count": 26,
     "metadata": {},
     "output_type": "execute_result"
    }
   ],
   "source": [
    "second_cell = cells[1]\n",
    "tags = second_cell.get('class')\n",
    "tags"
   ]
  },
  {
   "cell_type": "code",
   "execution_count": 27,
   "metadata": {
    "scrolled": false
   },
   "outputs": [
    {
     "data": {
      "text/plain": [
       "'Salt Lake'"
      ]
     },
     "execution_count": 27,
     "metadata": {},
     "output_type": "execute_result"
    }
   ],
   "source": [
    "''.join(second_cell.stripped_strings)"
   ]
  },
  {
   "cell_type": "markdown",
   "metadata": {},
   "source": [
    "***\n",
    "\n",
    "<hr style=\"border:8px solid black\"> </hr>\n"
   ]
  },
  {
   "cell_type": "markdown",
   "metadata": {},
   "source": [
    "Alright! Now we're getting somewhere. For each cell, it looks like:\n",
    "\n",
    "* the **label** of what the cell contains can be found in the tags; specifically, the tag starting with `views-field-field-`\n",
    "* the **data** can be obtained by joining the `stripped_strings`\n",
    "\n",
    "Let's write a function that, given the cells on a row, extracts the labels and data from those cells. We'll hold the row data in a `dictionary`, given it will take the form of a set of key-value pairs"
   ]
  },
  {
   "cell_type": "code",
   "execution_count": 28,
   "metadata": {
    "scrolled": false
   },
   "outputs": [],
   "source": [
    "def get_row_data(cells):\n",
    "    row_data = {}\n",
    "    tag_start = 'views-field-field-'\n",
    "    for cell in cells:\n",
    "        tags = cell.get('class')\n",
    "        for tag in tags:\n",
    "            if tag.startswith(tag_start):\n",
    "                # label goes from just after 'views-field-field-' to end of string\n",
    "                label = tag[len(tag_start):]\n",
    "                data = ''.join(cell.stripped_strings)\n",
    "                row_data[label] = data\n",
    "    return row_data"
   ]
  },
  {
   "cell_type": "markdown",
   "metadata": {},
   "source": [
    "Let's try it out on our collection of cells from earlier"
   ]
  },
  {
   "cell_type": "code",
   "execution_count": 29,
   "metadata": {
    "scrolled": false
   },
   "outputs": [
    {
     "data": {
      "text/plain": [
       "{'occurrence-date': '2/6/2021',\n",
       " 'region-forecaster': 'Salt Lake',\n",
       " 'trigger': 'Skier',\n",
       " 'killed': '4'}"
      ]
     },
     "execution_count": 29,
     "metadata": {},
     "output_type": "execute_result"
    }
   ],
   "source": [
    "get_row_data(cells)"
   ]
  },
  {
   "cell_type": "markdown",
   "metadata": {},
   "source": [
    "Great, this dictionary contains all the data from the first row of the table!\n",
    "\n",
    "<hr style=\"border:8px solid black\"> </hr>\n",
    "\n",
    "***\n",
    "\n",
    "**<u>Task - 2 mins</u>**\n",
    "\n",
    "Try running the `get_row_data()` function on the cells extracted from the **third row** of the table. \n",
    "\n",
    "[**Hint** - here's the code we used to get all the cells from the second row of the table `cells = rows[1].find_all(name='td')`. What do you need to change to get the cells from the third row?]\n",
    "\n",
    "**Solution**"
   ]
  },
  {
   "cell_type": "code",
   "execution_count": 30,
   "metadata": {
    "scrolled": false
   },
   "outputs": [
    {
     "data": {
      "text/plain": [
       "{'occurrence-date': '1/30/2021',\n",
       " 'region-forecaster': 'Salt Lake',\n",
       " 'trigger': 'Skier',\n",
       " 'killed': '1'}"
      ]
     },
     "execution_count": 30,
     "metadata": {},
     "output_type": "execute_result"
    }
   ],
   "source": [
    "cells = rows[2].find_all(name='td')\n",
    "get_row_data(cells)"
   ]
  },
  {
   "cell_type": "markdown",
   "metadata": {},
   "source": [
    "***\n",
    "\n",
    "<hr style=\"border:8px solid black\"> </hr>\n",
    "\n",
    "What next? Well, now we need to run the function we just wrote over **all rows in the table**. Let's write another function to do this. The function will take in a set of rows, and return the data in the form of a `list` of `dictionaries`: one `dictionary` for each row."
   ]
  },
  {
   "cell_type": "code",
   "execution_count": 31,
   "metadata": {
    "scrolled": false
   },
   "outputs": [],
   "source": [
    "def get_table_data(rows):\n",
    "    table_data = []\n",
    "    for row in rows:\n",
    "        cells = row.find_all(name='td')\n",
    "        # row_data will be a dictionary\n",
    "        row_data = get_row_data(cells)\n",
    "        table_data.append(row_data)\n",
    "    return table_data"
   ]
  },
  {
   "cell_type": "markdown",
   "metadata": {},
   "source": [
    "Now the moment of truth! If we run this function on all rows, we expect to get a `list` of `dictionaries` back, one `dictionary` for each row"
   ]
  },
  {
   "cell_type": "code",
   "execution_count": 32,
   "metadata": {
    "scrolled": false
   },
   "outputs": [
    {
     "data": {
      "text/plain": [
       "[{},\n",
       " {'occurrence-date': '2/6/2021',\n",
       "  'region-forecaster': 'Salt Lake',\n",
       "  'trigger': 'Skier',\n",
       "  'killed': '4'},\n",
       " {'occurrence-date': '1/30/2021',\n",
       "  'region-forecaster': 'Salt Lake',\n",
       "  'trigger': 'Skier',\n",
       "  'killed': '1'},\n",
       " {'occurrence-date': '1/8/2021',\n",
       "  'region-forecaster': 'Salt Lake',\n",
       "  'trigger': 'Skier',\n",
       "  'killed': '1'},\n",
       " {'occurrence-date': '1/18/2020',\n",
       "  'region-forecaster': 'Ogden',\n",
       "  'trigger': 'Snowmobiler',\n",
       "  'killed': '1'},\n",
       " {'occurrence-date': '12/15/2019',\n",
       "  'region-forecaster': 'Salt Lake',\n",
       "  'trigger': 'Snowboarder',\n",
       "  'killed': '1'},\n",
       " {'occurrence-date': '2/9/2019',\n",
       "  'region-forecaster': 'Uintas',\n",
       "  'trigger': 'Snowmobiler',\n",
       "  'killed': '1'},\n",
       " {'occurrence-date': '2/7/2019',\n",
       "  'region-forecaster': 'Southwest',\n",
       "  'trigger': 'Snowmobiler',\n",
       "  'killed': '1'},\n",
       " {'occurrence-date': '1/25/2019',\n",
       "  'region-forecaster': 'Moab',\n",
       "  'trigger': 'Snowmobiler',\n",
       "  'killed': '1'},\n",
       " {'occurrence-date': '1/18/2019',\n",
       "  'region-forecaster': 'Skyline',\n",
       "  'trigger': 'Skier',\n",
       "  'killed': '1'},\n",
       " {'occurrence-date': '1/31/2016',\n",
       "  'region-forecaster': 'Salt Lake',\n",
       "  'trigger': 'Skier',\n",
       "  'killed': '1'},\n",
       " {'occurrence-date': '1/21/2016',\n",
       "  'region-forecaster': 'Salt Lake',\n",
       "  'trigger': 'Skier',\n",
       "  'killed': '1'},\n",
       " {'occurrence-date': '3/4/2015',\n",
       "  'region-forecaster': 'Ogden',\n",
       "  'trigger': 'Snowboarder',\n",
       "  'killed': '1'},\n",
       " {'occurrence-date': '3/7/2014',\n",
       "  'region-forecaster': 'Uintas',\n",
       "  'trigger': 'Snowmobiler',\n",
       "  'killed': '1'},\n",
       " {'occurrence-date': '2/9/2014',\n",
       "  'region-forecaster': 'Skyline',\n",
       "  'trigger': 'Snowmobiler',\n",
       "  'killed': '1'},\n",
       " {'occurrence-date': '2/8/2014',\n",
       "  'region-forecaster': 'Provo',\n",
       "  'trigger': 'Snowshoer',\n",
       "  'killed': '1'},\n",
       " {'occurrence-date': '4/11/2013',\n",
       "  'region-forecaster': 'Salt Lake',\n",
       "  'trigger': 'Skier',\n",
       "  'killed': '1'},\n",
       " {'occurrence-date': '3/1/2013',\n",
       "  'region-forecaster': 'Skyline',\n",
       "  'trigger': 'Snowmobiler',\n",
       "  'killed': '1'},\n",
       " {'occurrence-date': '1/18/2013',\n",
       "  'region-forecaster': 'Uintas',\n",
       "  'trigger': 'Snowmobiler',\n",
       "  'killed': '2'},\n",
       " {'occurrence-date': '3/3/2012',\n",
       "  'region-forecaster': 'Moab',\n",
       "  'trigger': 'Snowmobiler',\n",
       "  'killed': '1'},\n",
       " {'occurrence-date': '2/23/2012',\n",
       "  'region-forecaster': 'Salt Lake',\n",
       "  'trigger': 'Snowboarder',\n",
       "  'killed': '1'},\n",
       " {'occurrence-date': '2/5/2012',\n",
       "  'region-forecaster': 'Southwest',\n",
       "  'trigger': 'Snowmobiler',\n",
       "  'killed': '1'},\n",
       " {'occurrence-date': '1/28/2012',\n",
       "  'region-forecaster': 'Salt Lake',\n",
       "  'trigger': 'Snowboarder',\n",
       "  'killed': '1'},\n",
       " {'occurrence-date': '11/13/2011',"
      ]
     },
     "execution_count": 32,
     "metadata": {},
     "output_type": "execute_result"
    },
    {
     "data": {
      "text/html": [
       "<b>limit_output extension: Maximum message size of 2500 exceeded with 2804 characters</b>"
      ]
     },
     "metadata": {},
     "output_type": "display_data"
    }
   ],
   "source": [
    "get_table_data(rows)"
   ]
  },
  {
   "cell_type": "markdown",
   "metadata": {},
   "source": [
    "Nearly, but notice there is an **empty `dictionary`** at the start of the list. This comes from the header row of the table (which contains `<th>` elements, but no `<td>` elements). Let's add a check to trim it out"
   ]
  },
  {
   "cell_type": "code",
   "execution_count": 33,
   "metadata": {
    "scrolled": false
   },
   "outputs": [],
   "source": [
    "def get_table_data(rows):\n",
    "    table_data = []\n",
    "    for row in rows:\n",
    "        cells = row.find_all(name='td')\n",
    "        if cells:\n",
    "            row_data = get_row_data(cells)\n",
    "            table_data.append(row_data)\n",
    "    return table_data"
   ]
  },
  {
   "cell_type": "code",
   "execution_count": 34,
   "metadata": {
    "scrolled": false
   },
   "outputs": [
    {
     "data": {
      "text/plain": [
       "[{'occurrence-date': '2/6/2021',\n",
       "  'region-forecaster': 'Salt Lake',\n",
       "  'trigger': 'Skier',\n",
       "  'killed': '4'},\n",
       " {'occurrence-date': '1/30/2021',\n",
       "  'region-forecaster': 'Salt Lake',\n",
       "  'trigger': 'Skier',\n",
       "  'killed': '1'},\n",
       " {'occurrence-date': '1/8/2021',\n",
       "  'region-forecaster': 'Salt Lake',\n",
       "  'trigger': 'Skier',\n",
       "  'killed': '1'},\n",
       " {'occurrence-date': '1/18/2020',\n",
       "  'region-forecaster': 'Ogden',\n",
       "  'trigger': 'Snowmobiler',\n",
       "  'killed': '1'},\n",
       " {'occurrence-date': '12/15/2019',\n",
       "  'region-forecaster': 'Salt Lake',\n",
       "  'trigger': 'Snowboarder',\n",
       "  'killed': '1'},\n",
       " {'occurrence-date': '2/9/2019',\n",
       "  'region-forecaster': 'Uintas',\n",
       "  'trigger': 'Snowmobiler',\n",
       "  'killed': '1'},\n",
       " {'occurrence-date': '2/7/2019',\n",
       "  'region-forecaster': 'Southwest',\n",
       "  'trigger': 'Snowmobiler',\n",
       "  'killed': '1'},\n",
       " {'occurrence-date': '1/25/2019',\n",
       "  'region-forecaster': 'Moab',\n",
       "  'trigger': 'Snowmobiler',\n",
       "  'killed': '1'},\n",
       " {'occurrence-date': '1/18/2019',\n",
       "  'region-forecaster': 'Skyline',\n",
       "  'trigger': 'Skier',\n",
       "  'killed': '1'},\n",
       " {'occurrence-date': '1/31/2016',\n",
       "  'region-forecaster': 'Salt Lake',\n",
       "  'trigger': 'Skier',\n",
       "  'killed': '1'},\n",
       " {'occurrence-date': '1/21/2016',\n",
       "  'region-forecaster': 'Salt Lake',\n",
       "  'trigger': 'Skier',\n",
       "  'killed': '1'},\n",
       " {'occurrence-date': '3/4/2015',\n",
       "  'region-forecaster': 'Ogden',\n",
       "  'trigger': 'Snowboarder',\n",
       "  'killed': '1'},\n",
       " {'occurrence-date': '3/7/2014',\n",
       "  'region-forecaster': 'Uintas',\n",
       "  'trigger': 'Snowmobiler',\n",
       "  'killed': '1'},\n",
       " {'occurrence-date': '2/9/2014',\n",
       "  'region-forecaster': 'Skyline',\n",
       "  'trigger': 'Snowmobiler',\n",
       "  'killed': '1'},\n",
       " {'occurrence-date': '2/8/2014',\n",
       "  'region-forecaster': 'Provo',\n",
       "  'trigger': 'Snowshoer',\n",
       "  'killed': '1'},\n",
       " {'occurrence-date': '4/11/2013',\n",
       "  'region-forecaster': 'Salt Lake',\n",
       "  'trigger': 'Skier',\n",
       "  'killed': '1'},\n",
       " {'occurrence-date': '3/1/2013',\n",
       "  'region-forecaster': 'Skyline',\n",
       "  'trigger': 'Snowmobiler',\n",
       "  'killed': '1'},\n",
       " {'occurrence-date': '1/18/2013',\n",
       "  'region-forecaster': 'Uintas',\n",
       "  'trigger': 'Snowmobiler',\n",
       "  'killed': '2'},\n",
       " {'occurrence-date': '3/3/2012',\n",
       "  'region-forecaster': 'Moab',\n",
       "  'trigger': 'Snowmobiler',\n",
       "  'killed': '1'},\n",
       " {'occurrence-date': '2/23/2012',\n",
       "  'region-forecaster': 'Salt Lake',\n",
       "  'trigger': 'Snowboarder',\n",
       "  'killed': '1'},\n",
       " {'occurrence-date': '2/5/2012',\n",
       "  'region-forecaster': 'Southwest',\n",
       "  'trigger': 'Snowmobiler',\n",
       "  'killed': '1'},\n",
       " {'occurrence-date': '1/28/2012',\n",
       "  'region-forecaster': 'Salt Lake',\n",
       "  'trigger': 'Snowboarder',\n",
       "  'killed': '1'},\n",
       " {'occurrence-date': '11/13/2011',\n",
       "  'r"
      ]
     },
     "execution_count": 34,
     "metadata": {},
     "output_type": "execute_result"
    },
    {
     "data": {
      "text/html": [
       "<b>limit_output extension: Maximum message size of 2500 exceeded with 2799 characters</b>"
      ]
     },
     "metadata": {},
     "output_type": "display_data"
    }
   ],
   "source": [
    "results = get_table_data(rows)\n",
    "results"
   ]
  },
  {
   "cell_type": "markdown",
   "metadata": {},
   "source": [
    "Finally, let's convert this `list` of `dictionaries` to a `pandas` `DataFrame`. Happily, `pandas` straightforwardly accepts data in this form"
   ]
  },
  {
   "cell_type": "code",
   "execution_count": 35,
   "metadata": {},
   "outputs": [
    {
     "data": {
      "text/html": [
       "<div>\n",
       "<style scoped>\n",
       "    .dataframe tbody tr th:only-of-type {\n",
       "        vertical-align: middle;\n",
       "    }\n",
       "\n",
       "    .dataframe tbody tr th {\n",
       "        vertical-align: top;\n",
       "    }\n",
       "\n",
       "    .dataframe thead th {\n",
       "        text-align: right;\n",
       "    }\n",
       "</style>\n",
       "<table border=\"1\" class=\"dataframe\">\n",
       "  <thead>\n",
       "    <tr style=\"text-align: right;\">\n",
       "      <th></th>\n",
       "      <th>occurrence-date</th>\n",
       "      <th>region-forecaster</th>\n",
       "      <th>trigger</th>\n",
       "      <th>killed</th>\n",
       "    </tr>\n",
       "  </thead>\n",
       "  <tbody>\n",
       "    <tr>\n",
       "      <th>0</th>\n",
       "      <td>2/6/2021</td>\n",
       "      <td>Salt Lake</td>\n",
       "      <td>Skier</td>\n",
       "      <td>4</td>\n",
       "    </tr>\n",
       "    <tr>\n",
       "      <th>1</th>\n",
       "      <td>1/30/2021</td>\n",
       "      <td>Salt Lake</td>\n",
       "      <td>Skier</td>\n",
       "      <td>1</td>\n",
       "    </tr>\n",
       "    <tr>\n",
       "      <th>2</th>\n",
       "      <td>1/8/2021</td>\n",
       "      <td>Salt Lake</td>\n",
       "      <td>Skier</td>\n",
       "      <td>1</td>\n",
       "    </tr>\n",
       "    <tr>\n",
       "      <th>3</th>\n",
       "      <td>1/18/2020</td>\n",
       "      <td>Ogden</td>\n",
       "      <td>Snowmobiler</td>\n",
       "      <td>1</td>\n",
       "    </tr>\n",
       "    <tr>\n",
       "      <th>4</th>\n",
       "      <td>12/15/2019</td>\n",
       "      <td>Salt Lake</td>\n",
       "      <td>Snowboarder</td>\n",
       "      <td>1</td>\n",
       "    </tr>\n",
       "  </tbody>\n",
       "</table>\n",
       "</div>"
      ],
      "text/plain": [
       "  occurrence-date region-forecaster      trigger killed\n",
       "0        2/6/2021         Salt Lake        Skier      4\n",
       "1       1/30/2021         Salt Lake        Skier      1\n",
       "2        1/8/2021         Salt Lake        Skier      1\n",
       "3       1/18/2020             Ogden  Snowmobiler      1\n",
       "4      12/15/2019         Salt Lake  Snowboarder      1"
      ]
     },
     "execution_count": 35,
     "metadata": {},
     "output_type": "execute_result"
    }
   ],
   "source": [
    "import pandas as pd\n",
    "results = pd.DataFrame(results)\n",
    "results.head()"
   ]
  },
  {
   "cell_type": "markdown",
   "metadata": {},
   "source": [
    "If we wanted to, we can then save this to file using"
   ]
  },
  {
   "cell_type": "code",
   "execution_count": 36,
   "metadata": {
    "scrolled": false
   },
   "outputs": [],
   "source": [
    "results.to_csv(\"avalanche_fatalities.csv\")"
   ]
  },
  {
   "cell_type": "markdown",
   "metadata": {},
   "source": [
    "# Putting it all together..."
   ]
  },
  {
   "cell_type": "markdown",
   "metadata": {},
   "source": [
    "We've scraped all the data from one page of the site, but remember we saw earlier that there were more pages available, accessible via the `Next >` and `< Previous` links at the bottom of each page. How do we extend our code to scrape the data from all pages?\n",
    "\n",
    "Well, we can also scrape the link for the next page from each page! If we follow that link, we should be able to scrape the data from each page in turn. Let's write a function to find the link to the next page on the current page "
   ]
  },
  {
   "cell_type": "code",
   "execution_count": 37,
   "metadata": {
    "scrolled": false
   },
   "outputs": [],
   "source": [
    "def get_next_page_route(soup):\n",
    "    next_page_link = soup.find(text='Next >').parent\n",
    "    if next_page_link:\n",
    "        next_page_route = next_page_link.attrs['href']\n",
    "        if 'page' in next_page_route:\n",
    "            return next_page_route\n",
    "    return None"
   ]
  },
  {
   "cell_type": "code",
   "execution_count": 38,
   "metadata": {
    "scrolled": false
   },
   "outputs": [
    {
     "data": {
      "text/plain": [
       "'/avalanches/fatalities?page=1'"
      ]
     },
     "execution_count": 38,
     "metadata": {},
     "output_type": "execute_result"
    }
   ],
   "source": [
    "get_next_page_route(soup)"
   ]
  },
  {
   "cell_type": "markdown",
   "metadata": {},
   "source": [
    "Hopefully you see now why we have split the URL for the site into `base` and `route`. The base will always stay the same, whereas the `route` changes for each subsequent page of results.\n",
    "\n",
    "## Complete code for script file"
   ]
  },
  {
   "cell_type": "code",
   "execution_count": 39,
   "metadata": {
    "scrolled": false
   },
   "outputs": [
    {
     "name": "stdout",
     "output_type": "stream",
     "text": [
      "Scraping route: avalanches/fatalities\n",
      "Length of results = 25\n",
      "Scraping route: /avalanches/fatalities?page=1\n",
      "Length of results = 50\n",
      "Scraping route: /avalanches/fatalities?page=2\n",
      "Length of results = 75\n",
      "Scraping route: /avalanches/fatalities?page=3\n",
      "Length of results = 100\n",
      "Scraping route: /avalanches/fatalities?page=4\n",
      "Length of results = 108\n",
      "Done.\n"
     ]
    }
   ],
   "source": [
    "import pandas as pd\n",
    "import requests\n",
    "import time\n",
    "from bs4 import BeautifulSoup\n",
    "\n",
    "################################################################################################\n",
    "# User configurable\n",
    "\n",
    "base = 'https://utahavalanchecenter.org/'\n",
    "route = 'avalanches/fatalities'\n",
    "headers = {\"User-Agent\": \"Mozilla/5.0 (X11; Linux x86_64)\"\\\n",
    "               \"AppleWebKit/537.36 (KHTML, like Gecko)\"\\\n",
    "               \"Chrome/87.0.4280.88 Safari/537.36\"}\n",
    "crawl_delay = 10\n",
    "\n",
    "################################################################################################\n",
    "# Do not change below\n",
    "\n",
    "def get_row_data(cells):\n",
    "    row_data = {}\n",
    "    tag_start = 'views-field-field-'\n",
    "    for cell in cells:\n",
    "        tags = cell.get('class')\n",
    "        for tag in tags:\n",
    "            if tag.startswith(tag_start):\n",
    "                # label goes from just after 'views-field-field-' to end of string\n",
    "                label = tag[len(tag_start):]\n",
    "                data = ''.join(cell.stripped_strings)\n",
    "                row_data[label] = data\n",
    "    return row_data\n",
    "\n",
    "def get_table_data(rows):\n",
    "    table_data = []\n",
    "    for row in rows:\n",
    "        cells = row.find_all(name='td')\n",
    "        if cells:\n",
    "            row_data = get_row_data(cells)\n",
    "            table_data.append(row_data)\n",
    "    return table_data\n",
    "\n",
    "def get_next_page_route(soup):\n",
    "    next_page_link = soup.find(text='Next >').parent\n",
    "    if next_page_link:\n",
    "        next_page_route = next_page_link.attrs['href']\n",
    "        if 'page' in next_page_route:\n",
    "            return next_page_route\n",
    "    return None\n",
    "\n",
    "results = []\n",
    "while route:\n",
    "    print(\"Scraping route: \" + route)\n",
    "    url = base + route\n",
    "    response = requests.get(url, headers=headers)\n",
    "    soup = BeautifulSoup(response.text, features='html.parser')\n",
    "    table = soup.find(name='div', attrs={'class': 'view-content'}).find(name='table')\n",
    "    rows = table.find_all(name='tr')\n",
    "    table_data = get_table_data(rows)\n",
    "    if table_data:\n",
    "        results.extend(table_data)\n",
    "    print(\"Length of results = \" + str(len(results)))\n",
    "    route = get_next_page_route(soup)\n",
    "    time.sleep(crawl_delay)\n",
    "    \n",
    "results = pd.DataFrame(results)\n",
    "results.to_csv(\"avalanche_fatalities.csv\")\n",
    "print(\"Done.\")"
   ]
  },
  {
   "cell_type": "markdown",
   "metadata": {},
   "source": [
    "<hr style=\"border:8px solid black\"> </hr>\n",
    "\n",
    "***\n",
    "\n",
    "**<u>Task - 5 mins</u>**\n",
    "\n",
    "Examine the code above and try to follow the logic and flow of execution. In particular, try to answer the following questions:\n",
    "\n",
    "* What does the `while route:` loop do?\n",
    "* Why have we inserted a call to `time.sleep()`?\n",
    "* In what form is the data outputted by the code?\n",
    "\n",
    "**Solution**\n",
    "\n",
    "* The `while route:` loop directs scraping over multiple pages of results. While there is another `route` to scrape data from, the code will keep running. It will stop when `route` is `None`.\n",
    "* The `time.sleep()` call implements the `crawl_delay` requested in the `robots.txt` file.\n",
    "* The data is saved to a CSV file.\n",
    "\n",
    "***\n",
    "\n",
    "<hr style=\"border:8px solid black\"> </hr>"
   ]
  }
 ],
 "metadata": {
  "kernelspec": {
   "display_name": "Python 3",
   "language": "python",
   "name": "python3"
  },
  "language_info": {
   "codemirror_mode": {
    "name": "ipython",
    "version": 3
   },
   "file_extension": ".py",
   "mimetype": "text/x-python",
   "name": "python",
   "nbconvert_exporter": "python",
   "pygments_lexer": "ipython3",
   "version": "3.8.5"
  },
  "toc": {
   "base_numbering": 1,
   "nav_menu": {},
   "number_sections": true,
   "sideBar": true,
   "skip_h1_title": false,
   "title_cell": "Table of Contents",
   "title_sidebar": "Contents",
   "toc_cell": true,
   "toc_position": {},
   "toc_section_display": true,
   "toc_window_display": false
  }
 },
 "nbformat": 4,
 "nbformat_minor": 4
}
