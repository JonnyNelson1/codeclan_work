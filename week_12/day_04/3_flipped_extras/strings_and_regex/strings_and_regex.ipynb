{
 "cells": [
  {
   "cell_type": "code",
   "execution_count": 1,
   "id": "30310155",
   "metadata": {},
   "outputs": [],
   "source": [
    "import pandas as pd\n",
    "import numpy as np"
   ]
  },
  {
   "cell_type": "markdown",
   "id": "d6e7e6e9",
   "metadata": {},
   "source": [
    "# Text wrangling and regular expressions\n",
    "\n",
    "Now we'll move on to think about **text data**. Along with date-time data, text causes particular difficulties in data analysis. Let's have a look at the `feedback` `DataFrame` created during setup earlier. \n",
    "\n",
    "First, we're going to set `pandas` `max_colwidth` (maximum column width) option to 200 to let us see all of the messages left by item purchasers"
   ]
  },
  {
   "cell_type": "code",
   "execution_count": 2,
   "id": "e1e164ee",
   "metadata": {},
   "outputs": [],
   "source": [
    "pd.options.display.max_colwidth = 200\n",
    "\n",
    "feedback = pd.DataFrame({\n",
    "    'item_no': pd.Series([2, 2, 3, 4, 5, 1, 9, 5, 7, 10, 8], dtype='Int64'),\n",
    "    'date': pd.Series(['2020-04-11', '2020-04-12', '2020-05-13', np.nan, '2020-05-28', '2020-05-29',\n",
    "                       '2020-06-01', '2020-06-07', '2020-06-300', '2020-06-30', '2020-08-01']),\n",
    "    'rating': pd.Series([5, 1, 3, 5, 4, 3, 2, 5, 1, 4, 5], dtype='Int64'),\n",
    "    'message': pd.Series([\"Ideal for my lunchbox - Dave Smith\", \"Broke first time I used it, I want a refund! Get back to me at lenore29@gmail.com or 07700 900796\",\n",
    "                        \"My name is Tony 07700900829\", \"Bought another one for my sister\", \"Works pretty well, but can't handle carrots\", \n",
    "                        \"The concept is great, the execution- not so great, thin handles - Eleanor & dave\", \"Bit of a cheap version of the real thing\",\n",
    "                        \"Arrived on time, as expected\", \"Customer service terrible - hello anyone there?! DaveAllsop@yahoo.co.uk, 07700 900572 or 0131 9496 0886\", \n",
    "                        \"Workks well, seems solid, good value\", \"Great finish on it, really decent build quality\"], dtype='string')\n",
    "})"
   ]
  },
  {
   "cell_type": "code",
   "execution_count": 3,
   "id": "c7184092",
   "metadata": {},
   "outputs": [
    {
     "data": {
      "text/html": [
       "<div>\n",
       "<style scoped>\n",
       "    .dataframe tbody tr th:only-of-type {\n",
       "        vertical-align: middle;\n",
       "    }\n",
       "\n",
       "    .dataframe tbody tr th {\n",
       "        vertical-align: top;\n",
       "    }\n",
       "\n",
       "    .dataframe thead th {\n",
       "        text-align: right;\n",
       "    }\n",
       "</style>\n",
       "<table border=\"1\" class=\"dataframe\">\n",
       "  <thead>\n",
       "    <tr style=\"text-align: right;\">\n",
       "      <th></th>\n",
       "      <th>item_no</th>\n",
       "      <th>date</th>\n",
       "      <th>rating</th>\n",
       "      <th>message</th>\n",
       "    </tr>\n",
       "  </thead>\n",
       "  <tbody>\n",
       "    <tr>\n",
       "      <th>0</th>\n",
       "      <td>2</td>\n",
       "      <td>2020-04-11</td>\n",
       "      <td>5</td>\n",
       "      <td>Ideal for my lunchbox - Dave Smith</td>\n",
       "    </tr>\n",
       "    <tr>\n",
       "      <th>1</th>\n",
       "      <td>2</td>\n",
       "      <td>2020-04-12</td>\n",
       "      <td>1</td>\n",
       "      <td>Broke first time I used it, I want a refund! Get back to me at lenore29@gmail.com or 07700 900796</td>\n",
       "    </tr>\n",
       "    <tr>\n",
       "      <th>2</th>\n",
       "      <td>3</td>\n",
       "      <td>2020-05-13</td>\n",
       "      <td>3</td>\n",
       "      <td>My name is Tony 07700900829</td>\n",
       "    </tr>\n",
       "    <tr>\n",
       "      <th>3</th>\n",
       "      <td>4</td>\n",
       "      <td>NaN</td>\n",
       "      <td>5</td>\n",
       "      <td>Bought another one for my sister</td>\n",
       "    </tr>\n",
       "    <tr>\n",
       "      <th>4</th>\n",
       "      <td>5</td>\n",
       "      <td>2020-05-28</td>\n",
       "      <td>4</td>\n",
       "      <td>Works pretty well, but can't handle carrots</td>\n",
       "    </tr>\n",
       "    <tr>\n",
       "      <th>5</th>\n",
       "      <td>1</td>\n",
       "      <td>2020-05-29</td>\n",
       "      <td>3</td>\n",
       "      <td>The concept is great, the execution- not so great, thin handles - Eleanor &amp; dave</td>\n",
       "    </tr>\n",
       "    <tr>\n",
       "      <th>6</th>\n",
       "      <td>9</td>\n",
       "      <td>2020-06-01</td>\n",
       "      <td>2</td>\n",
       "      <td>Bit of a cheap version of the real thing</td>\n",
       "    </tr>\n",
       "    <tr>\n",
       "      <th>7</th>\n",
       "      <td>5</td>\n",
       "      <td>2020-06-07</td>\n",
       "      <td>5</td>\n",
       "      <td>Arrived on time, as expected</td>\n",
       "    </tr>\n",
       "    <tr>\n",
       "      <th>8</th>\n",
       "      <td>7</td>\n",
       "      <td>2020-06-300</td>\n",
       "      <td>1</td>\n",
       "      <td>Customer service terrible - hello anyone there?! DaveAllsop@yahoo.co.uk, 07700 900572 or 0131 9496 0886</td>\n",
       "    </tr>\n",
       "    <tr>\n",
       "      <th>9</th>\n",
       "      <td>10</td>\n",
       "      <td>2020-06-30</td>\n",
       "      <td>4</td>\n",
       "      <td>Workks well, seems solid, good value</td>\n",
       "    </tr>\n",
       "    <tr>\n",
       "      <th>10</th>\n",
       "      <td>8</td>\n",
       "      <td>2020-08-01</td>\n",
       "      <td>5</td>\n",
       "      <td>Great finish on it, really decent build quality</td>\n",
       "    </tr>\n",
       "  </tbody>\n",
       "</table>\n",
       "</div>"
      ],
      "text/plain": [
       "    item_no         date  rating  \\\n",
       "0         2   2020-04-11       5   \n",
       "1         2   2020-04-12       1   \n",
       "2         3   2020-05-13       3   \n",
       "3         4          NaN       5   \n",
       "4         5   2020-05-28       4   \n",
       "5         1   2020-05-29       3   \n",
       "6         9   2020-06-01       2   \n",
       "7         5   2020-06-07       5   \n",
       "8         7  2020-06-300       1   \n",
       "9        10   2020-06-30       4   \n",
       "10        8   2020-08-01       5   \n",
       "\n",
       "                                                                                                    message  \n",
       "0                                                                        Ideal for my lunchbox - Dave Smith  \n",
       "1         Broke first time I used it, I want a refund! Get back to me at lenore29@gmail.com or 07700 900796  \n",
       "2                                                                               My name is Tony 07700900829  \n",
       "3                                                                          Bought another one for my sister  \n",
       "4                                                               Works pretty well, but can't handle carrots  \n",
       "5                          The concept is great, the execution- not so great, thin handles - Eleanor & dave  \n",
       "6                                                                  Bit of a cheap version of the real thing  \n",
       "7                                                                              Arrived on time, as expected  \n",
       "8   Customer service terrible - hello anyone there?! DaveAllsop@yahoo.co.uk, 07700 900572 or 0131 9496 0886  \n",
       "9                                                                      Workks well, seems solid, good value  \n",
       "10                                                          Great finish on it, really decent build quality  "
      ]
     },
     "execution_count": 3,
     "metadata": {},
     "output_type": "execute_result"
    }
   ],
   "source": [
    "feedback"
   ]
  },
  {
   "cell_type": "markdown",
   "id": "fc6f08b0",
   "metadata": {},
   "source": [
    "Neat, let's focus on the message column. We have a few features in this text data that we need to deal with. For a start, purchasers have sometimes added their email addresses and phone numbers: we should redact this sensitive information"
   ]
  },
  {
   "cell_type": "code",
   "execution_count": 4,
   "id": "f4101599",
   "metadata": {},
   "outputs": [
    {
     "data": {
      "text/plain": [
       "0                                                                          Ideal for my lunchbox - Dave Smith\n",
       "1           Broke first time I used it, I want a refund! Get back to me at lenore29@gmail.com or 07700 900796\n",
       "2                                                                                 My name is Tony 07700900829\n",
       "3                                                                            Bought another one for my sister\n",
       "4                                                                 Works pretty well, but can't handle carrots\n",
       "5                            The concept is great, the execution- not so great, thin handles - Eleanor & dave\n",
       "6                                                                    Bit of a cheap version of the real thing\n",
       "7                                                                                Arrived on time, as expected\n",
       "8     Customer service terrible - hello anyone there?! DaveAllsop@yahoo.co.uk, 07700 900572 or 0131 9496 0886\n",
       "9                                                                        Workks well, seems solid, good value\n",
       "10                                                            Great finish on it, really decent build quality\n",
       "Name: message, dtype: string"
      ]
     },
     "execution_count": 4,
     "metadata": {},
     "output_type": "execute_result"
    }
   ],
   "source": [
    "feedback.message"
   ]
  },
  {
   "cell_type": "markdown",
   "id": "5ad6e2f8",
   "metadata": {},
   "source": [
    "## Regular Expressions ('regex')\n",
    "\n",
    "You may have used 'find' or perhaps 'find and replace' in applications like word processors or spreadsheets to perform simple text querying and manipulation. But the pattern matching capabilities of these features are often very limited. **Regular expressions** (commonly called **'regex'**) are a much more powerful way to search for patterns in text.\n",
    "\n",
    "Regex are written as a normal string; the string tells the regex engine the pattern for which it is to search text. We'll be honest up front and admit that most regex patterns look like incomprhensible gibberish when you first start working with them, but don't be dismayed! We'll start simple and gradually add complexity.\n",
    "\n",
    "First, let's start with a few simple strings to work on. We're going to start by trying to extract the **e-mail addresses** in these strings"
   ]
  },
  {
   "cell_type": "code",
   "execution_count": 5,
   "id": "76d24ba6",
   "metadata": {},
   "outputs": [
    {
     "data": {
      "text/plain": [
       "0                      Contact me at amelia_holden@fakemail.com\n",
       "1    I'm at xiao_h_97@sprint.co.uk, YapApp handle is @@xiaoh-97\n",
       "2             Bernice.Yaxley@fakemail.co.uk or YapApp @@byaxley\n",
       "dtype: object"
      ]
     },
     "execution_count": 5,
     "metadata": {},
     "output_type": "execute_result"
    }
   ],
   "source": [
    "# INSTRUCTOR - send out\n",
    "strings = pd.Series([\n",
    "    \"Contact me at amelia_holden@fakemail.com\", \n",
    "    \"I'm at xiao_h_97@sprint.co.uk, YapApp handle is @@xiaoh-97\",\n",
    "    \"Bernice.Yaxley@fakemail.co.uk or YapApp @@byaxley\"\n",
    "])\n",
    "strings"
   ]
  },
  {
   "cell_type": "markdown",
   "id": "a2729096",
   "metadata": {},
   "source": [
    "Now, `pandas` makes available a range of `StringMethods` that accept regex as input arguments. We access these methods using the **`.str` accessor** on the `Series` of interest. The ones you are most likely to use are:\n",
    "\n",
    "* `.str.extract()` - search for and extract specified patterns from each element of a text `Series`\n",
    "* `.str.contains()` - search for a specified pattern in each element of a text `Series` (returns `True` or `False`)\n",
    "* `.str.replace()` - search for and replace a specified pattern in each element of a text `Series` (requires search pattern and replacement string)\n",
    "\n",
    "### Ranges, occurrences and metacharacters\n",
    "\n",
    "Let's start by pulling out the '@' character using `.str.extract()`. We'll assume that all e-mails have to contain this character. We start by putting the '@' inside **parentheses** `()`: these define what is known as a **'capture group'** in regex. Most of the time, you'll be using just one capture group per regex."
   ]
  },
  {
   "cell_type": "code",
   "execution_count": 6,
   "id": "0ffecdc8",
   "metadata": {},
   "outputs": [
    {
     "data": {
      "text/html": [
       "<div>\n",
       "<style scoped>\n",
       "    .dataframe tbody tr th:only-of-type {\n",
       "        vertical-align: middle;\n",
       "    }\n",
       "\n",
       "    .dataframe tbody tr th {\n",
       "        vertical-align: top;\n",
       "    }\n",
       "\n",
       "    .dataframe thead th {\n",
       "        text-align: right;\n",
       "    }\n",
       "</style>\n",
       "<table border=\"1\" class=\"dataframe\">\n",
       "  <thead>\n",
       "    <tr style=\"text-align: right;\">\n",
       "      <th></th>\n",
       "      <th>0</th>\n",
       "    </tr>\n",
       "  </thead>\n",
       "  <tbody>\n",
       "    <tr>\n",
       "      <th>0</th>\n",
       "      <td>@</td>\n",
       "    </tr>\n",
       "    <tr>\n",
       "      <th>1</th>\n",
       "      <td>@</td>\n",
       "    </tr>\n",
       "    <tr>\n",
       "      <th>2</th>\n",
       "      <td>@</td>\n",
       "    </tr>\n",
       "  </tbody>\n",
       "</table>\n",
       "</div>"
      ],
      "text/plain": [
       "   0\n",
       "0  @\n",
       "1  @\n",
       "2  @"
      ]
     },
     "execution_count": 6,
     "metadata": {},
     "output_type": "execute_result"
    }
   ],
   "source": [
    "strings.str.extract('(@)')"
   ]
  },
  {
   "cell_type": "markdown",
   "id": "358dcfab",
   "metadata": {},
   "source": [
    "Neat, that worked! Now we need to find some letters and numbers in front of and after the '@' symbol. Let's start with characters before '@'. We could extract a specific set of characters like"
   ]
  },
  {
   "cell_type": "code",
   "execution_count": 7,
   "id": "b1283339",
   "metadata": {},
   "outputs": [
    {
     "data": {
      "text/html": [
       "<div>\n",
       "<style scoped>\n",
       "    .dataframe tbody tr th:only-of-type {\n",
       "        vertical-align: middle;\n",
       "    }\n",
       "\n",
       "    .dataframe tbody tr th {\n",
       "        vertical-align: top;\n",
       "    }\n",
       "\n",
       "    .dataframe thead th {\n",
       "        text-align: right;\n",
       "    }\n",
       "</style>\n",
       "<table border=\"1\" class=\"dataframe\">\n",
       "  <thead>\n",
       "    <tr style=\"text-align: right;\">\n",
       "      <th></th>\n",
       "      <th>0</th>\n",
       "    </tr>\n",
       "  </thead>\n",
       "  <tbody>\n",
       "    <tr>\n",
       "      <th>0</th>\n",
       "      <td>holden@</td>\n",
       "    </tr>\n",
       "    <tr>\n",
       "      <th>1</th>\n",
       "      <td>NaN</td>\n",
       "    </tr>\n",
       "    <tr>\n",
       "      <th>2</th>\n",
       "      <td>NaN</td>\n",
       "    </tr>\n",
       "  </tbody>\n",
       "</table>\n",
       "</div>"
      ],
      "text/plain": [
       "         0\n",
       "0  holden@\n",
       "1      NaN\n",
       "2      NaN"
      ]
     },
     "execution_count": 7,
     "metadata": {},
     "output_type": "execute_result"
    }
   ],
   "source": [
    "strings.str.extract('(holden@)')"
   ]
  },
  {
   "cell_type": "markdown",
   "id": "b3ebbc2f",
   "metadata": {},
   "source": [
    "but you can see this is pretty useless, as we are just starting to hard code a particular email address. What we need to do instead is check for a range of characters. We do this in regex using square brackets []. So, for example [a-z] tells regex to look for a single lowercase character in the range from 'a' to 'z'"
   ]
  },
  {
   "cell_type": "code",
   "execution_count": 8,
   "id": "19dbee99",
   "metadata": {},
   "outputs": [
    {
     "data": {
      "text/html": [
       "<div>\n",
       "<style scoped>\n",
       "    .dataframe tbody tr th:only-of-type {\n",
       "        vertical-align: middle;\n",
       "    }\n",
       "\n",
       "    .dataframe tbody tr th {\n",
       "        vertical-align: top;\n",
       "    }\n",
       "\n",
       "    .dataframe thead th {\n",
       "        text-align: right;\n",
       "    }\n",
       "</style>\n",
       "<table border=\"1\" class=\"dataframe\">\n",
       "  <thead>\n",
       "    <tr style=\"text-align: right;\">\n",
       "      <th></th>\n",
       "      <th>0</th>\n",
       "    </tr>\n",
       "  </thead>\n",
       "  <tbody>\n",
       "    <tr>\n",
       "      <th>0</th>\n",
       "      <td>n@</td>\n",
       "    </tr>\n",
       "    <tr>\n",
       "      <th>1</th>\n",
       "      <td>NaN</td>\n",
       "    </tr>\n",
       "    <tr>\n",
       "      <th>2</th>\n",
       "      <td>y@</td>\n",
       "    </tr>\n",
       "  </tbody>\n",
       "</table>\n",
       "</div>"
      ],
      "text/plain": [
       "     0\n",
       "0   n@\n",
       "1  NaN\n",
       "2   y@"
      ]
     },
     "execution_count": 8,
     "metadata": {},
     "output_type": "execute_result"
    }
   ],
   "source": [
    "strings.str.extract('([a-z]@)')"
   ]
  },
  {
   "cell_type": "markdown",
   "id": "4517ae35",
   "metadata": {},
   "source": [
    "This looks more promising. Now we need to tell regex to look for **multiple occurrences** of such a character. We have two options for this:\n",
    "\n",
    "* `*` means 'zero or more occurrences' (this is called the 'Kleene star') \n",
    "* `+` means 'one or more occurrences'\n",
    "\n",
    "These symbols affect the **character occuring immediately before them**. Let's try `+` first"
   ]
  },
  {
   "cell_type": "code",
   "execution_count": 9,
   "id": "21d83650",
   "metadata": {},
   "outputs": [
    {
     "data": {
      "text/html": [
       "<div>\n",
       "<style scoped>\n",
       "    .dataframe tbody tr th:only-of-type {\n",
       "        vertical-align: middle;\n",
       "    }\n",
       "\n",
       "    .dataframe tbody tr th {\n",
       "        vertical-align: top;\n",
       "    }\n",
       "\n",
       "    .dataframe thead th {\n",
       "        text-align: right;\n",
       "    }\n",
       "</style>\n",
       "<table border=\"1\" class=\"dataframe\">\n",
       "  <thead>\n",
       "    <tr style=\"text-align: right;\">\n",
       "      <th></th>\n",
       "      <th>0</th>\n",
       "    </tr>\n",
       "  </thead>\n",
       "  <tbody>\n",
       "    <tr>\n",
       "      <th>0</th>\n",
       "      <td>holden@</td>\n",
       "    </tr>\n",
       "    <tr>\n",
       "      <th>1</th>\n",
       "      <td>NaN</td>\n",
       "    </tr>\n",
       "    <tr>\n",
       "      <th>2</th>\n",
       "      <td>axley@</td>\n",
       "    </tr>\n",
       "  </tbody>\n",
       "</table>\n",
       "</div>"
      ],
      "text/plain": [
       "         0\n",
       "0  holden@\n",
       "1      NaN\n",
       "2   axley@"
      ]
     },
     "execution_count": 9,
     "metadata": {},
     "output_type": "execute_result"
    }
   ],
   "source": [
    "strings.str.extract('([a-z]+@)')"
   ]
  },
  {
   "cell_type": "markdown",
   "id": "d99ee48b",
   "metadata": {},
   "source": [
    "No match is found for the second string. Why is that? Well, `[a-z]+` together specify 'one or more lowercase letter(s)', and the e-mail in the second string has a number just before the '@', hence no match is found. \n",
    "\n",
    "<hr style=\"border:8px solid black\"> </hr>\n",
    "\n",
    "***\n",
    "\n",
    "**<u>Task - 2 mins</u>**\n",
    "\n",
    "Now try using `*` instead of `+` here. How do you interpret the difference in what it returns as compared with the `+` regex?\n",
    "\n",
    "**Solution**"
   ]
  },
  {
   "cell_type": "code",
   "execution_count": 10,
   "id": "e75f3cfe",
   "metadata": {},
   "outputs": [
    {
     "data": {
      "text/html": [
       "<div>\n",
       "<style scoped>\n",
       "    .dataframe tbody tr th:only-of-type {\n",
       "        vertical-align: middle;\n",
       "    }\n",
       "\n",
       "    .dataframe tbody tr th {\n",
       "        vertical-align: top;\n",
       "    }\n",
       "\n",
       "    .dataframe thead th {\n",
       "        text-align: right;\n",
       "    }\n",
       "</style>\n",
       "<table border=\"1\" class=\"dataframe\">\n",
       "  <thead>\n",
       "    <tr style=\"text-align: right;\">\n",
       "      <th></th>\n",
       "      <th>0</th>\n",
       "    </tr>\n",
       "  </thead>\n",
       "  <tbody>\n",
       "    <tr>\n",
       "      <th>0</th>\n",
       "      <td>holden@</td>\n",
       "    </tr>\n",
       "    <tr>\n",
       "      <th>1</th>\n",
       "      <td>@</td>\n",
       "    </tr>\n",
       "    <tr>\n",
       "      <th>2</th>\n",
       "      <td>axley@</td>\n",
       "    </tr>\n",
       "  </tbody>\n",
       "</table>\n",
       "</div>"
      ],
      "text/plain": [
       "         0\n",
       "0  holden@\n",
       "1        @\n",
       "2   axley@"
      ]
     },
     "execution_count": 10,
     "metadata": {},
     "output_type": "execute_result"
    }
   ],
   "source": [
    "strings.str.extract('([a-z]*@)')"
   ]
  },
  {
   "cell_type": "markdown",
   "id": "c8e36f98",
   "metadata": {},
   "source": [
    "So, now we return matches for all three strings in the `Series`, because `[a-z]*` together specify 'zero or more lowercase letter(s)'. In the second string, the email does indeed have 'zero' lowercase letters before the '@'\n",
    "\n",
    "***\n",
    "\n",
    "<hr style=\"border:8px solid black\"> </hr>\n",
    "\n",
    "What else do we need to add to pull out more of our e-mail address? Well, characters like '_' and '.' can also occur. Let's add them to the range of things we are looking for. \n",
    "\n",
    "But `.` has a special meaning in regex: it means 'any single character'. But here we want `.` to be interpreted just as that character, and not with this special meaning: this is called **'escaping'** the `.` character. To do this, we need to add a backslash `\\` in front of the `.` character. \n",
    "\n",
    "But `\\` has a special meaning in `Python`, argh! So, we can either **escape the escape** by inserting double backslash `\\\\`, or we can convert the whole string to 'raw' format by putting an `r` in front of it, which then means we can use a single backslash `\\` to escape. Phew!\n",
    "\n",
    "Here's a little example to show this:"
   ]
  },
  {
   "cell_type": "code",
   "execution_count": 11,
   "id": "84272206",
   "metadata": {},
   "outputs": [],
   "source": [
    "full_stop_text = pd.Series([\"text.\", 'text'])"
   ]
  },
  {
   "cell_type": "markdown",
   "id": "cf00ca3e",
   "metadata": {},
   "source": [
    "This means 'any character' so returns the first character in both cases"
   ]
  },
  {
   "cell_type": "code",
   "execution_count": 12,
   "id": "0a8adec2",
   "metadata": {},
   "outputs": [
    {
     "data": {
      "text/html": [
       "<div>\n",
       "<style scoped>\n",
       "    .dataframe tbody tr th:only-of-type {\n",
       "        vertical-align: middle;\n",
       "    }\n",
       "\n",
       "    .dataframe tbody tr th {\n",
       "        vertical-align: top;\n",
       "    }\n",
       "\n",
       "    .dataframe thead th {\n",
       "        text-align: right;\n",
       "    }\n",
       "</style>\n",
       "<table border=\"1\" class=\"dataframe\">\n",
       "  <thead>\n",
       "    <tr style=\"text-align: right;\">\n",
       "      <th></th>\n",
       "      <th>0</th>\n",
       "    </tr>\n",
       "  </thead>\n",
       "  <tbody>\n",
       "    <tr>\n",
       "      <th>0</th>\n",
       "      <td>t</td>\n",
       "    </tr>\n",
       "    <tr>\n",
       "      <th>1</th>\n",
       "      <td>t</td>\n",
       "    </tr>\n",
       "  </tbody>\n",
       "</table>\n",
       "</div>"
      ],
      "text/plain": [
       "   0\n",
       "0  t\n",
       "1  t"
      ]
     },
     "execution_count": 12,
     "metadata": {},
     "output_type": "execute_result"
    }
   ],
   "source": [
    "full_stop_text.str.extract('(.)')"
   ]
  },
  {
   "cell_type": "markdown",
   "id": "c372dce5",
   "metadata": {},
   "source": [
    "This means 'full stop' as we a use double backslash, so only returns matches a full stop:"
   ]
  },
  {
   "cell_type": "code",
   "execution_count": 13,
   "id": "e66d33f3",
   "metadata": {},
   "outputs": [
    {
     "data": {
      "text/html": [
       "<div>\n",
       "<style scoped>\n",
       "    .dataframe tbody tr th:only-of-type {\n",
       "        vertical-align: middle;\n",
       "    }\n",
       "\n",
       "    .dataframe tbody tr th {\n",
       "        vertical-align: top;\n",
       "    }\n",
       "\n",
       "    .dataframe thead th {\n",
       "        text-align: right;\n",
       "    }\n",
       "</style>\n",
       "<table border=\"1\" class=\"dataframe\">\n",
       "  <thead>\n",
       "    <tr style=\"text-align: right;\">\n",
       "      <th></th>\n",
       "      <th>0</th>\n",
       "    </tr>\n",
       "  </thead>\n",
       "  <tbody>\n",
       "    <tr>\n",
       "      <th>0</th>\n",
       "      <td>.</td>\n",
       "    </tr>\n",
       "    <tr>\n",
       "      <th>1</th>\n",
       "      <td>NaN</td>\n",
       "    </tr>\n",
       "  </tbody>\n",
       "</table>\n",
       "</div>"
      ],
      "text/plain": [
       "     0\n",
       "0    .\n",
       "1  NaN"
      ]
     },
     "execution_count": 13,
     "metadata": {},
     "output_type": "execute_result"
    }
   ],
   "source": [
    "full_stop_text.str.extract('(\\\\.)')"
   ]
  },
  {
   "cell_type": "markdown",
   "id": "61ec9bff",
   "metadata": {},
   "source": [
    "Now we've clarified that, let's head back to our strings series:"
   ]
  },
  {
   "cell_type": "code",
   "execution_count": 14,
   "id": "4475800c",
   "metadata": {},
   "outputs": [
    {
     "data": {
      "text/html": [
       "<div>\n",
       "<style scoped>\n",
       "    .dataframe tbody tr th:only-of-type {\n",
       "        vertical-align: middle;\n",
       "    }\n",
       "\n",
       "    .dataframe tbody tr th {\n",
       "        vertical-align: top;\n",
       "    }\n",
       "\n",
       "    .dataframe thead th {\n",
       "        text-align: right;\n",
       "    }\n",
       "</style>\n",
       "<table border=\"1\" class=\"dataframe\">\n",
       "  <thead>\n",
       "    <tr style=\"text-align: right;\">\n",
       "      <th></th>\n",
       "      <th>0</th>\n",
       "    </tr>\n",
       "  </thead>\n",
       "  <tbody>\n",
       "    <tr>\n",
       "      <th>0</th>\n",
       "      <td>amelia_holden@</td>\n",
       "    </tr>\n",
       "    <tr>\n",
       "      <th>1</th>\n",
       "      <td>NaN</td>\n",
       "    </tr>\n",
       "    <tr>\n",
       "      <th>2</th>\n",
       "      <td>axley@</td>\n",
       "    </tr>\n",
       "  </tbody>\n",
       "</table>\n",
       "</div>"
      ],
      "text/plain": [
       "                0\n",
       "0  amelia_holden@\n",
       "1             NaN\n",
       "2          axley@"
      ]
     },
     "execution_count": 14,
     "metadata": {},
     "output_type": "execute_result"
    }
   ],
   "source": [
    "strings.str.extract(r'([a-z_\\.]+@)')"
   ]
  },
  {
   "cell_type": "markdown",
   "id": "9dd3e044",
   "metadata": {},
   "source": [
    "What can we do about the e-mail in second string? We need to tell regex to also look for digits, as these are certainly valid in e-mail addresses. We can just add the range `0-9` to what we are looking for! "
   ]
  },
  {
   "cell_type": "code",
   "execution_count": 15,
   "id": "ab42b50a",
   "metadata": {},
   "outputs": [
    {
     "data": {
      "text/html": [
       "<div>\n",
       "<style scoped>\n",
       "    .dataframe tbody tr th:only-of-type {\n",
       "        vertical-align: middle;\n",
       "    }\n",
       "\n",
       "    .dataframe tbody tr th {\n",
       "        vertical-align: top;\n",
       "    }\n",
       "\n",
       "    .dataframe thead th {\n",
       "        text-align: right;\n",
       "    }\n",
       "</style>\n",
       "<table border=\"1\" class=\"dataframe\">\n",
       "  <thead>\n",
       "    <tr style=\"text-align: right;\">\n",
       "      <th></th>\n",
       "      <th>0</th>\n",
       "    </tr>\n",
       "  </thead>\n",
       "  <tbody>\n",
       "    <tr>\n",
       "      <th>0</th>\n",
       "      <td>amelia_holden@</td>\n",
       "    </tr>\n",
       "    <tr>\n",
       "      <th>1</th>\n",
       "      <td>xiao_h_97@</td>\n",
       "    </tr>\n",
       "    <tr>\n",
       "      <th>2</th>\n",
       "      <td>axley@</td>\n",
       "    </tr>\n",
       "  </tbody>\n",
       "</table>\n",
       "</div>"
      ],
      "text/plain": [
       "                0\n",
       "0  amelia_holden@\n",
       "1      xiao_h_97@\n",
       "2          axley@"
      ]
     },
     "execution_count": 15,
     "metadata": {},
     "output_type": "execute_result"
    }
   ],
   "source": [
    "strings.str.extract(r'([a-z0-9_\\.]+@)')"
   ]
  },
  {
   "cell_type": "markdown",
   "id": "c4cdf107",
   "metadata": {},
   "source": [
    "<hr style=\"border:8px solid black\"> </hr>\n",
    "\n",
    "***\n",
    "\n",
    "**<u>Task - 2 mins</u>**\n",
    "\n",
    "What's going wrong for the third e-mail address? Well, we're not telling regex to search for capital letters. See if you can add a **range of capital letters** to your search pattern in the correct place.\n",
    "\n",
    "**Solution**"
   ]
  },
  {
   "cell_type": "code",
   "execution_count": 16,
   "id": "67983b25",
   "metadata": {},
   "outputs": [
    {
     "data": {
      "text/html": [
       "<div>\n",
       "<style scoped>\n",
       "    .dataframe tbody tr th:only-of-type {\n",
       "        vertical-align: middle;\n",
       "    }\n",
       "\n",
       "    .dataframe tbody tr th {\n",
       "        vertical-align: top;\n",
       "    }\n",
       "\n",
       "    .dataframe thead th {\n",
       "        text-align: right;\n",
       "    }\n",
       "</style>\n",
       "<table border=\"1\" class=\"dataframe\">\n",
       "  <thead>\n",
       "    <tr style=\"text-align: right;\">\n",
       "      <th></th>\n",
       "      <th>0</th>\n",
       "    </tr>\n",
       "  </thead>\n",
       "  <tbody>\n",
       "    <tr>\n",
       "      <th>0</th>\n",
       "      <td>amelia_holden@</td>\n",
       "    </tr>\n",
       "    <tr>\n",
       "      <th>1</th>\n",
       "      <td>xiao_h_97@</td>\n",
       "    </tr>\n",
       "    <tr>\n",
       "      <th>2</th>\n",
       "      <td>Bernice.Yaxley@</td>\n",
       "    </tr>\n",
       "  </tbody>\n",
       "</table>\n",
       "</div>"
      ],
      "text/plain": [
       "                 0\n",
       "0   amelia_holden@\n",
       "1       xiao_h_97@\n",
       "2  Bernice.Yaxley@"
      ]
     },
     "execution_count": 16,
     "metadata": {},
     "output_type": "execute_result"
    }
   ],
   "source": [
    "strings.str.extract(r'([a-zA-Z0-9_\\.]+@)')"
   ]
  },
  {
   "cell_type": "markdown",
   "id": "ea8ce3d1",
   "metadata": {},
   "source": [
    "Our pattern is getting a bit complex already! Fortunately, some of the ranges we have provided are already available in the form of **metacharacters**. The common ones are as follows:\n",
    "\n",
    "* `\\w` any one alphanumeric character '_' included. Equivalent to `[a-zA-Z0-9_]`\n",
    "* `\\d` any one digit. Equivalent to `[0-9]`\n",
    "* `\\s` any one whitespace character (spaces, tabs, newlines etc)\n",
    "* Negations are available in some regex engines, usually as the 'capitalisation' of their partner, e.g. `\\W` is any one non-alphanumeric character, `\\D` any one non-digit character etc."
   ]
  },
  {
   "cell_type": "code",
   "execution_count": 17,
   "id": "2fc23c07",
   "metadata": {},
   "outputs": [
    {
     "data": {
      "text/html": [
       "<div>\n",
       "<style scoped>\n",
       "    .dataframe tbody tr th:only-of-type {\n",
       "        vertical-align: middle;\n",
       "    }\n",
       "\n",
       "    .dataframe tbody tr th {\n",
       "        vertical-align: top;\n",
       "    }\n",
       "\n",
       "    .dataframe thead th {\n",
       "        text-align: right;\n",
       "    }\n",
       "</style>\n",
       "<table border=\"1\" class=\"dataframe\">\n",
       "  <thead>\n",
       "    <tr style=\"text-align: right;\">\n",
       "      <th></th>\n",
       "      <th>0</th>\n",
       "    </tr>\n",
       "  </thead>\n",
       "  <tbody>\n",
       "    <tr>\n",
       "      <th>0</th>\n",
       "      <td>amelia_holden@</td>\n",
       "    </tr>\n",
       "    <tr>\n",
       "      <th>1</th>\n",
       "      <td>xiao_h_97@</td>\n",
       "    </tr>\n",
       "    <tr>\n",
       "      <th>2</th>\n",
       "      <td>Bernice.Yaxley@</td>\n",
       "    </tr>\n",
       "  </tbody>\n",
       "</table>\n",
       "</div>"
      ],
      "text/plain": [
       "                 0\n",
       "0   amelia_holden@\n",
       "1       xiao_h_97@\n",
       "2  Bernice.Yaxley@"
      ]
     },
     "execution_count": 17,
     "metadata": {},
     "output_type": "execute_result"
    }
   ],
   "source": [
    "strings.str.extract(r'([\\w\\.]+@)')"
   ]
  },
  {
   "cell_type": "markdown",
   "id": "db06a50f",
   "metadata": {},
   "source": [
    "That's cleaner! So now, let's look for the parts of the e-mail addresses after the '@' symbol. A reasonable first guess might be just to repeat the pattern before '@' afterwards too."
   ]
  },
  {
   "cell_type": "code",
   "execution_count": 18,
   "id": "a28c8caf",
   "metadata": {},
   "outputs": [
    {
     "data": {
      "text/html": [
       "<div>\n",
       "<style scoped>\n",
       "    .dataframe tbody tr th:only-of-type {\n",
       "        vertical-align: middle;\n",
       "    }\n",
       "\n",
       "    .dataframe tbody tr th {\n",
       "        vertical-align: top;\n",
       "    }\n",
       "\n",
       "    .dataframe thead th {\n",
       "        text-align: right;\n",
       "    }\n",
       "</style>\n",
       "<table border=\"1\" class=\"dataframe\">\n",
       "  <thead>\n",
       "    <tr style=\"text-align: right;\">\n",
       "      <th></th>\n",
       "      <th>0</th>\n",
       "    </tr>\n",
       "  </thead>\n",
       "  <tbody>\n",
       "    <tr>\n",
       "      <th>0</th>\n",
       "      <td>amelia_holden@fakemail.com</td>\n",
       "    </tr>\n",
       "    <tr>\n",
       "      <th>1</th>\n",
       "      <td>xiao_h_97@sprint.co.uk</td>\n",
       "    </tr>\n",
       "    <tr>\n",
       "      <th>2</th>\n",
       "      <td>Bernice.Yaxley@fakemail.co.uk</td>\n",
       "    </tr>\n",
       "  </tbody>\n",
       "</table>\n",
       "</div>"
      ],
      "text/plain": [
       "                               0\n",
       "0     amelia_holden@fakemail.com\n",
       "1         xiao_h_97@sprint.co.uk\n",
       "2  Bernice.Yaxley@fakemail.co.uk"
      ]
     },
     "execution_count": 18,
     "metadata": {},
     "output_type": "execute_result"
    }
   ],
   "source": [
    "strings.str.extract(r'([\\w\\.]+@[\\w\\.]+)')"
   ]
  },
  {
   "cell_type": "markdown",
   "id": "e2c49113",
   "metadata": {},
   "source": [
    "<hr style=\"border:8px solid black\"> </hr>\n",
    "\n",
    "***\n",
    "\n",
    "**<u>Task - 5 mins</u>**\n",
    "\n",
    "See if you can create a regex pattern to extract the 'YapApp' handles in the second and third strings (e.g. '@@xiaoh-97')\n",
    "\n",
    "**Solution**"
   ]
  },
  {
   "cell_type": "code",
   "execution_count": 19,
   "id": "7712ed92",
   "metadata": {},
   "outputs": [
    {
     "data": {
      "text/html": [
       "<div>\n",
       "<style scoped>\n",
       "    .dataframe tbody tr th:only-of-type {\n",
       "        vertical-align: middle;\n",
       "    }\n",
       "\n",
       "    .dataframe tbody tr th {\n",
       "        vertical-align: top;\n",
       "    }\n",
       "\n",
       "    .dataframe thead th {\n",
       "        text-align: right;\n",
       "    }\n",
       "</style>\n",
       "<table border=\"1\" class=\"dataframe\">\n",
       "  <thead>\n",
       "    <tr style=\"text-align: right;\">\n",
       "      <th></th>\n",
       "      <th>0</th>\n",
       "    </tr>\n",
       "  </thead>\n",
       "  <tbody>\n",
       "    <tr>\n",
       "      <th>0</th>\n",
       "      <td>NaN</td>\n",
       "    </tr>\n",
       "    <tr>\n",
       "      <th>1</th>\n",
       "      <td>@@xiaoh-97</td>\n",
       "    </tr>\n",
       "    <tr>\n",
       "      <th>2</th>\n",
       "      <td>@@byaxley</td>\n",
       "    </tr>\n",
       "  </tbody>\n",
       "</table>\n",
       "</div>"
      ],
      "text/plain": [
       "            0\n",
       "0         NaN\n",
       "1  @@xiaoh-97\n",
       "2   @@byaxley"
      ]
     },
     "execution_count": 19,
     "metadata": {},
     "output_type": "execute_result"
    }
   ],
   "source": [
    "# add two @@, need to also add hyphen\n",
    "strings.str.extract(r'(@@[\\w-]+)')"
   ]
  },
  {
   "cell_type": "markdown",
   "id": "361e2ca1",
   "metadata": {},
   "source": [
    "### Quantifiers\n",
    "\n",
    "Quantifier express the **number of occurrences** of an item. We've already seen two quantifiers already: `*` meaning 'zero or more occurrences' and `+` meaning 'one or more occurrences'. To these we also add\n",
    "\n",
    "* `?` meaning 'optional' i.e. may or may not occur. If it does, capture it.\n",
    "* `{n}` meaning 'exactly n occurrences', e.g. `{3}` means 'exactly three occurrences'\n",
    "* `{n,m}` meaning 'between n and m occurrences, inclusive', e.g. 'bob{3,4}' would match 'bobbb' and 'bobbbb', but not 'bob' or 'bobb'\n",
    "\n",
    "Let's move over now to the `feedback` `DataFrame`, and write a regex to extract phone numbers from the `message` column"
   ]
  },
  {
   "cell_type": "code",
   "execution_count": 20,
   "id": "3b35d3e8",
   "metadata": {},
   "outputs": [
    {
     "data": {
      "text/plain": [
       "0                                                                          Ideal for my lunchbox - Dave Smith\n",
       "1           Broke first time I used it, I want a refund! Get back to me at lenore29@gmail.com or 07700 900796\n",
       "2                                                                                 My name is Tony 07700900829\n",
       "3                                                                            Bought another one for my sister\n",
       "4                                                                 Works pretty well, but can't handle carrots\n",
       "5                            The concept is great, the execution- not so great, thin handles - Eleanor & dave\n",
       "6                                                                    Bit of a cheap version of the real thing\n",
       "7                                                                                Arrived on time, as expected\n",
       "8     Customer service terrible - hello anyone there?! DaveAllsop@yahoo.co.uk, 07700 900572 or 0131 9496 0886\n",
       "9                                                                        Workks well, seems solid, good value\n",
       "10                                                            Great finish on it, really decent build quality\n",
       "Name: message, dtype: string"
      ]
     },
     "execution_count": 20,
     "metadata": {},
     "output_type": "execute_result"
    }
   ],
   "source": [
    "feedback.message"
   ]
  },
  {
   "cell_type": "markdown",
   "id": "390bee80",
   "metadata": {},
   "source": [
    "First, let's just pull out a single number. The `.str.extract()` method will pull out the first number it finds in each value in the `message` column"
   ]
  },
  {
   "cell_type": "code",
   "execution_count": 21,
   "id": "792fe919",
   "metadata": {},
   "outputs": [
    {
     "data": {
      "text/html": [
       "<div>\n",
       "<style scoped>\n",
       "    .dataframe tbody tr th:only-of-type {\n",
       "        vertical-align: middle;\n",
       "    }\n",
       "\n",
       "    .dataframe tbody tr th {\n",
       "        vertical-align: top;\n",
       "    }\n",
       "\n",
       "    .dataframe thead th {\n",
       "        text-align: right;\n",
       "    }\n",
       "</style>\n",
       "<table border=\"1\" class=\"dataframe\">\n",
       "  <thead>\n",
       "    <tr style=\"text-align: right;\">\n",
       "      <th></th>\n",
       "      <th>0</th>\n",
       "    </tr>\n",
       "  </thead>\n",
       "  <tbody>\n",
       "    <tr>\n",
       "      <th>0</th>\n",
       "      <td>&lt;NA&gt;</td>\n",
       "    </tr>\n",
       "    <tr>\n",
       "      <th>1</th>\n",
       "      <td>2</td>\n",
       "    </tr>\n",
       "    <tr>\n",
       "      <th>2</th>\n",
       "      <td>0</td>\n",
       "    </tr>\n",
       "    <tr>\n",
       "      <th>3</th>\n",
       "      <td>&lt;NA&gt;</td>\n",
       "    </tr>\n",
       "    <tr>\n",
       "      <th>4</th>\n",
       "      <td>&lt;NA&gt;</td>\n",
       "    </tr>\n",
       "    <tr>\n",
       "      <th>5</th>\n",
       "      <td>&lt;NA&gt;</td>\n",
       "    </tr>\n",
       "    <tr>\n",
       "      <th>6</th>\n",
       "      <td>&lt;NA&gt;</td>\n",
       "    </tr>\n",
       "    <tr>\n",
       "      <th>7</th>\n",
       "      <td>&lt;NA&gt;</td>\n",
       "    </tr>\n",
       "    <tr>\n",
       "      <th>8</th>\n",
       "      <td>0</td>\n",
       "    </tr>\n",
       "    <tr>\n",
       "      <th>9</th>\n",
       "      <td>&lt;NA&gt;</td>\n",
       "    </tr>\n",
       "    <tr>\n",
       "      <th>10</th>\n",
       "      <td>&lt;NA&gt;</td>\n",
       "    </tr>\n",
       "  </tbody>\n",
       "</table>\n",
       "</div>"
      ],
      "text/plain": [
       "       0\n",
       "0   <NA>\n",
       "1      2\n",
       "2      0\n",
       "3   <NA>\n",
       "4   <NA>\n",
       "5   <NA>\n",
       "6   <NA>\n",
       "7   <NA>\n",
       "8      0\n",
       "9   <NA>\n",
       "10  <NA>"
      ]
     },
     "execution_count": 21,
     "metadata": {},
     "output_type": "execute_result"
    }
   ],
   "source": [
    "feedback.message.str.extract(r'(\\d)')"
   ]
  },
  {
   "cell_type": "markdown",
   "id": "d01da5dc",
   "metadata": {},
   "source": [
    "So good so far! We're pulling out the '2' from 'lenore29@gmail.com' and not the later phone number, but this will hopefully be fixed when we make the regex more specific. Let's do that now by searching for a specific number of digits: the first five digits of a phone number. To do this, we can use the syntax `{5}`"
   ]
  },
  {
   "cell_type": "code",
   "execution_count": 22,
   "id": "dd5d681c",
   "metadata": {},
   "outputs": [
    {
     "data": {
      "text/html": [
       "<div>\n",
       "<style scoped>\n",
       "    .dataframe tbody tr th:only-of-type {\n",
       "        vertical-align: middle;\n",
       "    }\n",
       "\n",
       "    .dataframe tbody tr th {\n",
       "        vertical-align: top;\n",
       "    }\n",
       "\n",
       "    .dataframe thead th {\n",
       "        text-align: right;\n",
       "    }\n",
       "</style>\n",
       "<table border=\"1\" class=\"dataframe\">\n",
       "  <thead>\n",
       "    <tr style=\"text-align: right;\">\n",
       "      <th></th>\n",
       "      <th>0</th>\n",
       "    </tr>\n",
       "  </thead>\n",
       "  <tbody>\n",
       "    <tr>\n",
       "      <th>0</th>\n",
       "      <td>&lt;NA&gt;</td>\n",
       "    </tr>\n",
       "    <tr>\n",
       "      <th>1</th>\n",
       "      <td>07700</td>\n",
       "    </tr>\n",
       "    <tr>\n",
       "      <th>2</th>\n",
       "      <td>07700</td>\n",
       "    </tr>\n",
       "    <tr>\n",
       "      <th>3</th>\n",
       "      <td>&lt;NA&gt;</td>\n",
       "    </tr>\n",
       "    <tr>\n",
       "      <th>4</th>\n",
       "      <td>&lt;NA&gt;</td>\n",
       "    </tr>\n",
       "    <tr>\n",
       "      <th>5</th>\n",
       "      <td>&lt;NA&gt;</td>\n",
       "    </tr>\n",
       "    <tr>\n",
       "      <th>6</th>\n",
       "      <td>&lt;NA&gt;</td>\n",
       "    </tr>\n",
       "    <tr>\n",
       "      <th>7</th>\n",
       "      <td>&lt;NA&gt;</td>\n",
       "    </tr>\n",
       "    <tr>\n",
       "      <th>8</th>\n",
       "      <td>07700</td>\n",
       "    </tr>\n",
       "    <tr>\n",
       "      <th>9</th>\n",
       "      <td>&lt;NA&gt;</td>\n",
       "    </tr>\n",
       "    <tr>\n",
       "      <th>10</th>\n",
       "      <td>&lt;NA&gt;</td>\n",
       "    </tr>\n",
       "  </tbody>\n",
       "</table>\n",
       "</div>"
      ],
      "text/plain": [
       "        0\n",
       "0    <NA>\n",
       "1   07700\n",
       "2   07700\n",
       "3    <NA>\n",
       "4    <NA>\n",
       "5    <NA>\n",
       "6    <NA>\n",
       "7    <NA>\n",
       "8   07700\n",
       "9    <NA>\n",
       "10   <NA>"
      ]
     },
     "execution_count": 22,
     "metadata": {},
     "output_type": "execute_result"
    }
   ],
   "source": [
    "feedback.message.str.extract(r'(\\d{5})')"
   ]
  },
  {
   "cell_type": "markdown",
   "id": "af2ec487",
   "metadata": {},
   "source": [
    "This looks much better! Let's round the regex out by looking for the space, and then the remaining six digits"
   ]
  },
  {
   "cell_type": "code",
   "execution_count": 23,
   "id": "a5c85e3e",
   "metadata": {},
   "outputs": [
    {
     "data": {
      "text/html": [
       "<div>\n",
       "<style scoped>\n",
       "    .dataframe tbody tr th:only-of-type {\n",
       "        vertical-align: middle;\n",
       "    }\n",
       "\n",
       "    .dataframe tbody tr th {\n",
       "        vertical-align: top;\n",
       "    }\n",
       "\n",
       "    .dataframe thead th {\n",
       "        text-align: right;\n",
       "    }\n",
       "</style>\n",
       "<table border=\"1\" class=\"dataframe\">\n",
       "  <thead>\n",
       "    <tr style=\"text-align: right;\">\n",
       "      <th></th>\n",
       "      <th>0</th>\n",
       "    </tr>\n",
       "  </thead>\n",
       "  <tbody>\n",
       "    <tr>\n",
       "      <th>0</th>\n",
       "      <td>&lt;NA&gt;</td>\n",
       "    </tr>\n",
       "    <tr>\n",
       "      <th>1</th>\n",
       "      <td>07700 900796</td>\n",
       "    </tr>\n",
       "    <tr>\n",
       "      <th>2</th>\n",
       "      <td>&lt;NA&gt;</td>\n",
       "    </tr>\n",
       "    <tr>\n",
       "      <th>3</th>\n",
       "      <td>&lt;NA&gt;</td>\n",
       "    </tr>\n",
       "    <tr>\n",
       "      <th>4</th>\n",
       "      <td>&lt;NA&gt;</td>\n",
       "    </tr>\n",
       "    <tr>\n",
       "      <th>5</th>\n",
       "      <td>&lt;NA&gt;</td>\n",
       "    </tr>\n",
       "    <tr>\n",
       "      <th>6</th>\n",
       "      <td>&lt;NA&gt;</td>\n",
       "    </tr>\n",
       "    <tr>\n",
       "      <th>7</th>\n",
       "      <td>&lt;NA&gt;</td>\n",
       "    </tr>\n",
       "    <tr>\n",
       "      <th>8</th>\n",
       "      <td>07700 900572</td>\n",
       "    </tr>\n",
       "    <tr>\n",
       "      <th>9</th>\n",
       "      <td>&lt;NA&gt;</td>\n",
       "    </tr>\n",
       "    <tr>\n",
       "      <th>10</th>\n",
       "      <td>&lt;NA&gt;</td>\n",
       "    </tr>\n",
       "  </tbody>\n",
       "</table>\n",
       "</div>"
      ],
      "text/plain": [
       "               0\n",
       "0           <NA>\n",
       "1   07700 900796\n",
       "2           <NA>\n",
       "3           <NA>\n",
       "4           <NA>\n",
       "5           <NA>\n",
       "6           <NA>\n",
       "7           <NA>\n",
       "8   07700 900572\n",
       "9           <NA>\n",
       "10          <NA>"
      ]
     },
     "execution_count": 23,
     "metadata": {},
     "output_type": "execute_result"
    }
   ],
   "source": [
    "feedback.message.str.extract(r'(\\d{5} \\d{6})')"
   ]
  },
  {
   "cell_type": "markdown",
   "id": "306403b5",
   "metadata": {},
   "source": [
    "<hr style=\"border:8px solid black\"> </hr>\n",
    "\n",
    "***\n",
    "\n",
    "**<u>Task - 2 mins</u>**\n",
    "\n",
    "One of the mobile phone number lacks a space between the first five digits and the latter six digits. Can you amend the regex to also extract this phone number? Have a look at the full list of quantifiers below for help. Remember: **quantifiers refer to the character immediately preceding them**.\n",
    "\n",
    "* `*` means 'zero or more times'\n",
    "* `+` means 'one or more times'\n",
    "* `?` means 'optional' i.e. may or may not occur. If it does, capture it.\n",
    "* `{n}` means 'exactly n occurrences', e.g. `{3}` means 'exactly three occurrences'\n",
    "* `{n,m}` means 'between n and m occurrences, inclusive', e.g. 'bob{3,4}' would match 'bobbb' and 'bobbbb', but not 'bob' or 'bobb'\n",
    "\n",
    "**Solution**"
   ]
  },
  {
   "cell_type": "code",
   "execution_count": 24,
   "id": "8c6dd6d7",
   "metadata": {},
   "outputs": [
    {
     "data": {
      "text/html": [
       "<div>\n",
       "<style scoped>\n",
       "    .dataframe tbody tr th:only-of-type {\n",
       "        vertical-align: middle;\n",
       "    }\n",
       "\n",
       "    .dataframe tbody tr th {\n",
       "        vertical-align: top;\n",
       "    }\n",
       "\n",
       "    .dataframe thead th {\n",
       "        text-align: right;\n",
       "    }\n",
       "</style>\n",
       "<table border=\"1\" class=\"dataframe\">\n",
       "  <thead>\n",
       "    <tr style=\"text-align: right;\">\n",
       "      <th></th>\n",
       "      <th>0</th>\n",
       "    </tr>\n",
       "  </thead>\n",
       "  <tbody>\n",
       "    <tr>\n",
       "      <th>0</th>\n",
       "      <td>&lt;NA&gt;</td>\n",
       "    </tr>\n",
       "    <tr>\n",
       "      <th>1</th>\n",
       "      <td>07700 900796</td>\n",
       "    </tr>\n",
       "    <tr>\n",
       "      <th>2</th>\n",
       "      <td>07700900829</td>\n",
       "    </tr>\n",
       "    <tr>\n",
       "      <th>3</th>\n",
       "      <td>&lt;NA&gt;</td>\n",
       "    </tr>\n",
       "    <tr>\n",
       "      <th>4</th>\n",
       "      <td>&lt;NA&gt;</td>\n",
       "    </tr>\n",
       "    <tr>\n",
       "      <th>5</th>\n",
       "      <td>&lt;NA&gt;</td>\n",
       "    </tr>\n",
       "    <tr>\n",
       "      <th>6</th>\n",
       "      <td>&lt;NA&gt;</td>\n",
       "    </tr>\n",
       "    <tr>\n",
       "      <th>7</th>\n",
       "      <td>&lt;NA&gt;</td>\n",
       "    </tr>\n",
       "    <tr>\n",
       "      <th>8</th>\n",
       "      <td>07700 900572</td>\n",
       "    </tr>\n",
       "    <tr>\n",
       "      <th>9</th>\n",
       "      <td>&lt;NA&gt;</td>\n",
       "    </tr>\n",
       "    <tr>\n",
       "      <th>10</th>\n",
       "      <td>&lt;NA&gt;</td>\n",
       "    </tr>\n",
       "  </tbody>\n",
       "</table>\n",
       "</div>"
      ],
      "text/plain": [
       "               0\n",
       "0           <NA>\n",
       "1   07700 900796\n",
       "2    07700900829\n",
       "3           <NA>\n",
       "4           <NA>\n",
       "5           <NA>\n",
       "6           <NA>\n",
       "7           <NA>\n",
       "8   07700 900572\n",
       "9           <NA>\n",
       "10          <NA>"
      ]
     },
     "execution_count": 24,
     "metadata": {},
     "output_type": "execute_result"
    }
   ],
   "source": [
    "feedback.message.str.extract(r'(\\d{5} ?\\d{6})')"
   ]
  },
  {
   "cell_type": "markdown",
   "id": "6b858f4f",
   "metadata": {},
   "source": [
    "***\n",
    "\n",
    "<hr style=\"border:8px solid black\"> </hr>\n",
    "\n",
    "***\n",
    "\n",
    "**<u>Task - 2 mins</u>**\n",
    "\n",
    "See if you can now write a regex to extract phone numbers in the form 'xxxx xxxx xxxx'. Make the spaces optional.\n",
    "\n",
    "**Solution**\n"
   ]
  },
  {
   "cell_type": "code",
   "execution_count": 25,
   "id": "e9c4cbd4",
   "metadata": {},
   "outputs": [
    {
     "data": {
      "text/html": [
       "<div>\n",
       "<style scoped>\n",
       "    .dataframe tbody tr th:only-of-type {\n",
       "        vertical-align: middle;\n",
       "    }\n",
       "\n",
       "    .dataframe tbody tr th {\n",
       "        vertical-align: top;\n",
       "    }\n",
       "\n",
       "    .dataframe thead th {\n",
       "        text-align: right;\n",
       "    }\n",
       "</style>\n",
       "<table border=\"1\" class=\"dataframe\">\n",
       "  <thead>\n",
       "    <tr style=\"text-align: right;\">\n",
       "      <th></th>\n",
       "      <th>0</th>\n",
       "    </tr>\n",
       "  </thead>\n",
       "  <tbody>\n",
       "    <tr>\n",
       "      <th>0</th>\n",
       "      <td>&lt;NA&gt;</td>\n",
       "    </tr>\n",
       "    <tr>\n",
       "      <th>1</th>\n",
       "      <td>&lt;NA&gt;</td>\n",
       "    </tr>\n",
       "    <tr>\n",
       "      <th>2</th>\n",
       "      <td>&lt;NA&gt;</td>\n",
       "    </tr>\n",
       "    <tr>\n",
       "      <th>3</th>\n",
       "      <td>&lt;NA&gt;</td>\n",
       "    </tr>\n",
       "    <tr>\n",
       "      <th>4</th>\n",
       "      <td>&lt;NA&gt;</td>\n",
       "    </tr>\n",
       "    <tr>\n",
       "      <th>5</th>\n",
       "      <td>&lt;NA&gt;</td>\n",
       "    </tr>\n",
       "    <tr>\n",
       "      <th>6</th>\n",
       "      <td>&lt;NA&gt;</td>\n",
       "    </tr>\n",
       "    <tr>\n",
       "      <th>7</th>\n",
       "      <td>&lt;NA&gt;</td>\n",
       "    </tr>\n",
       "    <tr>\n",
       "      <th>8</th>\n",
       "      <td>0131 9496 0886</td>\n",
       "    </tr>\n",
       "    <tr>\n",
       "      <th>9</th>\n",
       "      <td>&lt;NA&gt;</td>\n",
       "    </tr>\n",
       "    <tr>\n",
       "      <th>10</th>\n",
       "      <td>&lt;NA&gt;</td>\n",
       "    </tr>\n",
       "  </tbody>\n",
       "</table>\n",
       "</div>"
      ],
      "text/plain": [
       "                 0\n",
       "0             <NA>\n",
       "1             <NA>\n",
       "2             <NA>\n",
       "3             <NA>\n",
       "4             <NA>\n",
       "5             <NA>\n",
       "6             <NA>\n",
       "7             <NA>\n",
       "8   0131 9496 0886\n",
       "9             <NA>\n",
       "10            <NA>"
      ]
     },
     "execution_count": 25,
     "metadata": {},
     "output_type": "execute_result"
    }
   ],
   "source": [
    "feedback.message.str.extract(r'(\\d{4} ?\\d{4} ?\\d{4})')"
   ]
  },
  {
   "cell_type": "markdown",
   "id": "c0ec6242",
   "metadata": {},
   "source": [
    "***\n",
    "\n",
    "<hr style=\"border:8px solid black\"> </hr>\n",
    "\n",
    "### Optional: extracting multiple patterns using `.str.extractall()`\n",
    "\n",
    "Now, how do we combine these regex patterns to extract all phone numbers from `feedback.message`? What about messages that contain multiple phone numbers? Well, the `.str.extractall()` method can be applied in this situation, but we will need to find some way to combine regex patterns. Let's first create a `list` of phone number regex patterns to search for "
   ]
  },
  {
   "cell_type": "code",
   "execution_count": 26,
   "id": "5ddf79ba",
   "metadata": {},
   "outputs": [],
   "source": [
    "number_patterns = [r'(\\d{5} ?\\d{6})', r'(\\d{4} ?\\d{4} ?\\d{4})']"
   ]
  },
  {
   "cell_type": "markdown",
   "id": "6988e395",
   "metadata": {},
   "source": [
    "Now we need to combine these patterns. The logic here is that we ask regex to search for 'this pattern **OR** that pattern' in each string, so we can use the regex **OR** operator `|` (same as `pandas` **OR**) to combine the patterns into one search term"
   ]
  },
  {
   "cell_type": "code",
   "execution_count": 27,
   "id": "3141c67e",
   "metadata": {},
   "outputs": [
    {
     "data": {
      "text/plain": [
       "'(\\\\d{5} ?\\\\d{6})|(\\\\d{4} ?\\\\d{4} ?\\\\d{4})'"
      ]
     },
     "execution_count": 27,
     "metadata": {},
     "output_type": "execute_result"
    }
   ],
   "source": [
    "number_search = '|'.join(number_patterns)\n",
    "\n",
    "number_search"
   ]
  },
  {
   "cell_type": "markdown",
   "id": "9268ceaa",
   "metadata": {},
   "source": [
    "Now let's apply the `.str.extractall()` method to pull out all the matches in the `message` column. By default, the `.str.extract()` method will just pull out **the first** match in each string, which is not what we want here"
   ]
  },
  {
   "cell_type": "code",
   "execution_count": 28,
   "id": "510a1a84",
   "metadata": {},
   "outputs": [
    {
     "data": {
      "text/html": [
       "<div>\n",
       "<style scoped>\n",
       "    .dataframe tbody tr th:only-of-type {\n",
       "        vertical-align: middle;\n",
       "    }\n",
       "\n",
       "    .dataframe tbody tr th {\n",
       "        vertical-align: top;\n",
       "    }\n",
       "\n",
       "    .dataframe thead th {\n",
       "        text-align: right;\n",
       "    }\n",
       "</style>\n",
       "<table border=\"1\" class=\"dataframe\">\n",
       "  <thead>\n",
       "    <tr style=\"text-align: right;\">\n",
       "      <th></th>\n",
       "      <th></th>\n",
       "      <th>0</th>\n",
       "      <th>1</th>\n",
       "    </tr>\n",
       "    <tr>\n",
       "      <th></th>\n",
       "      <th>match</th>\n",
       "      <th></th>\n",
       "      <th></th>\n",
       "    </tr>\n",
       "  </thead>\n",
       "  <tbody>\n",
       "    <tr>\n",
       "      <th>1</th>\n",
       "      <th>0</th>\n",
       "      <td>07700 900796</td>\n",
       "      <td>&lt;NA&gt;</td>\n",
       "    </tr>\n",
       "    <tr>\n",
       "      <th>2</th>\n",
       "      <th>0</th>\n",
       "      <td>07700900829</td>\n",
       "      <td>&lt;NA&gt;</td>\n",
       "    </tr>\n",
       "    <tr>\n",
       "      <th rowspan=\"2\" valign=\"top\">8</th>\n",
       "      <th>0</th>\n",
       "      <td>07700 900572</td>\n",
       "      <td>&lt;NA&gt;</td>\n",
       "    </tr>\n",
       "    <tr>\n",
       "      <th>1</th>\n",
       "      <td>&lt;NA&gt;</td>\n",
       "      <td>0131 9496 0886</td>\n",
       "    </tr>\n",
       "  </tbody>\n",
       "</table>\n",
       "</div>"
      ],
      "text/plain": [
       "                    0               1\n",
       "  match                              \n",
       "1 0      07700 900796            <NA>\n",
       "2 0       07700900829            <NA>\n",
       "8 0      07700 900572            <NA>\n",
       "  1              <NA>  0131 9496 0886"
      ]
     },
     "execution_count": 28,
     "metadata": {},
     "output_type": "execute_result"
    }
   ],
   "source": [
    "feedback.message.str.extractall(number_search)"
   ]
  },
  {
   "cell_type": "markdown",
   "id": "e12ae081",
   "metadata": {},
   "source": [
    "Hmm, the behaviour of `.str.extractall()` is to separate each regex capture group (i.e. a pattern enclosed in `()`) to a separate column. We likely just wish to amend `number_search` to contain a single capture group. We'll do this by removing parentheses from the individual patterns and concatenating "
   ]
  },
  {
   "cell_type": "code",
   "execution_count": 29,
   "id": "609aab22",
   "metadata": {},
   "outputs": [
    {
     "data": {
      "text/plain": [
       "'(\\\\d{5} ?\\\\d{6}|\\\\d{4} ?\\\\d{4} ?\\\\d{4})'"
      ]
     },
     "execution_count": 29,
     "metadata": {},
     "output_type": "execute_result"
    }
   ],
   "source": [
    "number_patterns_no_capture = [r'\\d{5} ?\\d{6}', r'\\d{4} ?\\d{4} ?\\d{4}']\n",
    "\n",
    "number_search_one_capture = '(' + '|'.join(number_patterns_no_capture) + ')'\n",
    "number_search_one_capture"
   ]
  },
  {
   "cell_type": "code",
   "execution_count": 30,
   "id": "fc19fe04",
   "metadata": {},
   "outputs": [
    {
     "data": {
      "text/html": [
       "<div>\n",
       "<style scoped>\n",
       "    .dataframe tbody tr th:only-of-type {\n",
       "        vertical-align: middle;\n",
       "    }\n",
       "\n",
       "    .dataframe tbody tr th {\n",
       "        vertical-align: top;\n",
       "    }\n",
       "\n",
       "    .dataframe thead th {\n",
       "        text-align: right;\n",
       "    }\n",
       "</style>\n",
       "<table border=\"1\" class=\"dataframe\">\n",
       "  <thead>\n",
       "    <tr style=\"text-align: right;\">\n",
       "      <th></th>\n",
       "      <th></th>\n",
       "      <th>0</th>\n",
       "    </tr>\n",
       "    <tr>\n",
       "      <th></th>\n",
       "      <th>match</th>\n",
       "      <th></th>\n",
       "    </tr>\n",
       "  </thead>\n",
       "  <tbody>\n",
       "    <tr>\n",
       "      <th>1</th>\n",
       "      <th>0</th>\n",
       "      <td>07700 900796</td>\n",
       "    </tr>\n",
       "    <tr>\n",
       "      <th>2</th>\n",
       "      <th>0</th>\n",
       "      <td>07700900829</td>\n",
       "    </tr>\n",
       "    <tr>\n",
       "      <th rowspan=\"2\" valign=\"top\">8</th>\n",
       "      <th>0</th>\n",
       "      <td>07700 900572</td>\n",
       "    </tr>\n",
       "    <tr>\n",
       "      <th>1</th>\n",
       "      <td>0131 9496 0886</td>\n",
       "    </tr>\n",
       "  </tbody>\n",
       "</table>\n",
       "</div>"
      ],
      "text/plain": [
       "                      0\n",
       "  match                \n",
       "1 0        07700 900796\n",
       "2 0         07700900829\n",
       "8 0        07700 900572\n",
       "  1      0131 9496 0886"
      ]
     },
     "execution_count": 30,
     "metadata": {},
     "output_type": "execute_result"
    }
   ],
   "source": [
    "feedback.message.str.extractall(number_search_one_capture)"
   ]
  },
  {
   "cell_type": "markdown",
   "id": "0d0377ae",
   "metadata": {},
   "source": [
    "We have a `MultiIndex` on the left, i.e. a hierarchy. The message with `index` number 8 contains **two** matched phone numbers, in turn labelled by `index` numbers 0 and 1. We might access say the second match by `.loc[(8,1), :]` if we wished (remember we 'dig' into a `MultiIndex` using `tuple`s)"
   ]
  },
  {
   "cell_type": "code",
   "execution_count": 31,
   "id": "24cc5cea",
   "metadata": {},
   "outputs": [
    {
     "data": {
      "text/plain": [
       "0    0131 9496 0886\n",
       "Name: (8, 1), dtype: string"
      ]
     },
     "execution_count": 31,
     "metadata": {},
     "output_type": "execute_result"
    }
   ],
   "source": [
    "feedback.message.str.extractall(number_search_one_capture).loc[(8,1), :]"
   ]
  },
  {
   "cell_type": "markdown",
   "id": "824b4d68",
   "metadata": {},
   "source": [
    "### Optional: string replace\n",
    "\n",
    "The `.str.replace()` method lets us replace parts of strings using regex matching. Let's use this ability in this case to **redact** sensitive phone numbers from the messages, via the regex patterns we created above. The earlier logic is applicable here too: we want to replace matched numbers ('this pattern OR that pattern') with a string (say '[NUMBER REDACTED]'). We want to persist these changes, so we mutate by assigning to `.loc[]`, as discussed above"
   ]
  },
  {
   "cell_type": "code",
   "execution_count": 32,
   "id": "5bcffbd8",
   "metadata": {},
   "outputs": [
    {
     "name": "stderr",
     "output_type": "stream",
     "text": [
      "/var/folders/5j/6v_z5t2d3fg9rxy00gqldj2h0000gn/T/ipykernel_36248/1043723208.py:1: FutureWarning: The default value of regex will change from True to False in a future version.\n",
      "  feedback.loc[:, 'message'] = feedback.message.str.replace(number_search_one_capture, '[NUMBER REDACTED]')\n"
     ]
    },
    {
     "data": {
      "text/html": [
       "<div>\n",
       "<style scoped>\n",
       "    .dataframe tbody tr th:only-of-type {\n",
       "        vertical-align: middle;\n",
       "    }\n",
       "\n",
       "    .dataframe tbody tr th {\n",
       "        vertical-align: top;\n",
       "    }\n",
       "\n",
       "    .dataframe thead th {\n",
       "        text-align: right;\n",
       "    }\n",
       "</style>\n",
       "<table border=\"1\" class=\"dataframe\">\n",
       "  <thead>\n",
       "    <tr style=\"text-align: right;\">\n",
       "      <th></th>\n",
       "      <th>item_no</th>\n",
       "      <th>date</th>\n",
       "      <th>rating</th>\n",
       "      <th>message</th>\n",
       "    </tr>\n",
       "  </thead>\n",
       "  <tbody>\n",
       "    <tr>\n",
       "      <th>0</th>\n",
       "      <td>2</td>\n",
       "      <td>2020-04-11</td>\n",
       "      <td>5</td>\n",
       "      <td>Ideal for my lunchbox - Dave Smith</td>\n",
       "    </tr>\n",
       "    <tr>\n",
       "      <th>1</th>\n",
       "      <td>2</td>\n",
       "      <td>2020-04-12</td>\n",
       "      <td>1</td>\n",
       "      <td>Broke first time I used it, I want a refund! Get back to me at lenore29@gmail.com or [NUMBER REDACTED]</td>\n",
       "    </tr>\n",
       "    <tr>\n",
       "      <th>2</th>\n",
       "      <td>3</td>\n",
       "      <td>2020-05-13</td>\n",
       "      <td>3</td>\n",
       "      <td>My name is Tony [NUMBER REDACTED]</td>\n",
       "    </tr>\n",
       "    <tr>\n",
       "      <th>3</th>\n",
       "      <td>4</td>\n",
       "      <td>NaN</td>\n",
       "      <td>5</td>\n",
       "      <td>Bought another one for my sister</td>\n",
       "    </tr>\n",
       "    <tr>\n",
       "      <th>4</th>\n",
       "      <td>5</td>\n",
       "      <td>2020-05-28</td>\n",
       "      <td>4</td>\n",
       "      <td>Works pretty well, but can't handle carrots</td>\n",
       "    </tr>\n",
       "    <tr>\n",
       "      <th>5</th>\n",
       "      <td>1</td>\n",
       "      <td>2020-05-29</td>\n",
       "      <td>3</td>\n",
       "      <td>The concept is great, the execution- not so great, thin handles - Eleanor &amp; dave</td>\n",
       "    </tr>\n",
       "    <tr>\n",
       "      <th>6</th>\n",
       "      <td>9</td>\n",
       "      <td>2020-06-01</td>\n",
       "      <td>2</td>\n",
       "      <td>Bit of a cheap version of the real thing</td>\n",
       "    </tr>\n",
       "    <tr>\n",
       "      <th>7</th>\n",
       "      <td>5</td>\n",
       "      <td>2020-06-07</td>\n",
       "      <td>5</td>\n",
       "      <td>Arrived on time, as expected</td>\n",
       "    </tr>\n",
       "    <tr>\n",
       "      <th>8</th>\n",
       "      <td>7</td>\n",
       "      <td>2020-06-300</td>\n",
       "      <td>1</td>\n",
       "      <td>Customer service terrible - hello anyone there?! DaveAllsop@yahoo.co.uk, [NUMBER REDACTED] or [NUMBER REDACTED]</td>\n",
       "    </tr>\n",
       "    <tr>\n",
       "      <th>9</th>\n",
       "      <td>10</td>\n",
       "      <td>2020-06-30</td>\n",
       "      <td>4</td>\n",
       "      <td>Workks well, seems solid, good value</td>\n",
       "    </tr>\n",
       "    <tr>\n",
       "      <th>10</th>\n",
       "      <td>8</td>\n",
       "      <td>2020-08-01</td>\n",
       "      <td>5</td>\n",
       "      <td>Great finish on it, really decent build quality</td>\n",
       "    </tr>\n",
       "  </tbody>\n",
       "</table>\n",
       "</div>"
      ],
      "text/plain": [
       "    item_no         date  rating  \\\n",
       "0         2   2020-04-11       5   \n",
       "1         2   2020-04-12       1   \n",
       "2         3   2020-05-13       3   \n",
       "3         4          NaN       5   \n",
       "4         5   2020-05-28       4   \n",
       "5         1   2020-05-29       3   \n",
       "6         9   2020-06-01       2   \n",
       "7         5   2020-06-07       5   \n",
       "8         7  2020-06-300       1   \n",
       "9        10   2020-06-30       4   \n",
       "10        8   2020-08-01       5   \n",
       "\n",
       "                                                                                                            message  \n",
       "0                                                                                Ideal for my lunchbox - Dave Smith  \n",
       "1            Broke first time I used it, I want a refund! Get back to me at lenore29@gmail.com or [NUMBER REDACTED]  \n",
       "2                                                                                 My name is Tony [NUMBER REDACTED]  \n",
       "3                                                                                  Bought another one for my sister  \n",
       "4                                                                       Works pretty well, but can't handle carrots  \n",
       "5                                  The concept is great, the execution- not so great, thin handles - Eleanor & dave  \n",
       "6                                                                          Bit of a cheap version of the real thing  \n",
       "7                                                                                      Arrived on time, as expected  \n",
       "8   Customer service terrible - hello anyone there?! DaveAllsop@yahoo.co.uk, [NUMBER REDACTED] or [NUMBER REDACTED]  \n",
       "9                                                                              Workks well, seems solid, good value  \n",
       "10                                                                  Great finish on it, really decent build quality  "
      ]
     },
     "execution_count": 32,
     "metadata": {},
     "output_type": "execute_result"
    }
   ],
   "source": [
    "feedback.loc[:, 'message'] = feedback.message.str.replace(number_search_one_capture, '[NUMBER REDACTED]')\n",
    "feedback"
   ]
  },
  {
   "cell_type": "markdown",
   "id": "701f87c3",
   "metadata": {},
   "source": [
    "***\n",
    "\n",
    "**Task - 2 mins**\n",
    "\n",
    "Persist redactions for e-mail addresses in the `message` column (re-use your e-mail regex pattern from earlier). Replace all e-mail addresses with the string '[E-MAIL REDACTED]'\n",
    "\n",
    "**Solution**"
   ]
  },
  {
   "cell_type": "code",
   "execution_count": 33,
   "id": "1b94949e",
   "metadata": {},
   "outputs": [
    {
     "name": "stderr",
     "output_type": "stream",
     "text": [
      "/var/folders/5j/6v_z5t2d3fg9rxy00gqldj2h0000gn/T/ipykernel_36248/811980545.py:1: FutureWarning: The default value of regex will change from True to False in a future version.\n",
      "  feedback.loc[:, 'message'] = feedback.message.str.replace(r'([\\w\\.]+@[\\w\\.]+)', '[E-MAIL REDACTED]')\n"
     ]
    },
    {
     "data": {
      "text/html": [
       "<div>\n",
       "<style scoped>\n",
       "    .dataframe tbody tr th:only-of-type {\n",
       "        vertical-align: middle;\n",
       "    }\n",
       "\n",
       "    .dataframe tbody tr th {\n",
       "        vertical-align: top;\n",
       "    }\n",
       "\n",
       "    .dataframe thead th {\n",
       "        text-align: right;\n",
       "    }\n",
       "</style>\n",
       "<table border=\"1\" class=\"dataframe\">\n",
       "  <thead>\n",
       "    <tr style=\"text-align: right;\">\n",
       "      <th></th>\n",
       "      <th>item_no</th>\n",
       "      <th>date</th>\n",
       "      <th>rating</th>\n",
       "      <th>message</th>\n",
       "    </tr>\n",
       "  </thead>\n",
       "  <tbody>\n",
       "    <tr>\n",
       "      <th>0</th>\n",
       "      <td>2</td>\n",
       "      <td>2020-04-11</td>\n",
       "      <td>5</td>\n",
       "      <td>Ideal for my lunchbox - Dave Smith</td>\n",
       "    </tr>\n",
       "    <tr>\n",
       "      <th>1</th>\n",
       "      <td>2</td>\n",
       "      <td>2020-04-12</td>\n",
       "      <td>1</td>\n",
       "      <td>Broke first time I used it, I want a refund! Get back to me at [E-MAIL REDACTED] or [NUMBER REDACTED]</td>\n",
       "    </tr>\n",
       "    <tr>\n",
       "      <th>2</th>\n",
       "      <td>3</td>\n",
       "      <td>2020-05-13</td>\n",
       "      <td>3</td>\n",
       "      <td>My name is Tony [NUMBER REDACTED]</td>\n",
       "    </tr>\n",
       "    <tr>\n",
       "      <th>3</th>\n",
       "      <td>4</td>\n",
       "      <td>NaN</td>\n",
       "      <td>5</td>\n",
       "      <td>Bought another one for my sister</td>\n",
       "    </tr>\n",
       "    <tr>\n",
       "      <th>4</th>\n",
       "      <td>5</td>\n",
       "      <td>2020-05-28</td>\n",
       "      <td>4</td>\n",
       "      <td>Works pretty well, but can't handle carrots</td>\n",
       "    </tr>\n",
       "    <tr>\n",
       "      <th>5</th>\n",
       "      <td>1</td>\n",
       "      <td>2020-05-29</td>\n",
       "      <td>3</td>\n",
       "      <td>The concept is great, the execution- not so great, thin handles - Eleanor &amp; dave</td>\n",
       "    </tr>\n",
       "    <tr>\n",
       "      <th>6</th>\n",
       "      <td>9</td>\n",
       "      <td>2020-06-01</td>\n",
       "      <td>2</td>\n",
       "      <td>Bit of a cheap version of the real thing</td>\n",
       "    </tr>\n",
       "    <tr>\n",
       "      <th>7</th>\n",
       "      <td>5</td>\n",
       "      <td>2020-06-07</td>\n",
       "      <td>5</td>\n",
       "      <td>Arrived on time, as expected</td>\n",
       "    </tr>\n",
       "    <tr>\n",
       "      <th>8</th>\n",
       "      <td>7</td>\n",
       "      <td>2020-06-300</td>\n",
       "      <td>1</td>\n",
       "      <td>Customer service terrible - hello anyone there?! [E-MAIL REDACTED], [NUMBER REDACTED] or [NUMBER REDACTED]</td>\n",
       "    </tr>\n",
       "    <tr>\n",
       "      <th>9</th>\n",
       "      <td>10</td>\n",
       "      <td>2020-06-30</td>\n",
       "      <td>4</td>\n",
       "      <td>Workks well, seems solid, good value</td>\n",
       "    </tr>\n",
       "    <tr>\n",
       "      <th>10</th>\n",
       "      <td>8</td>\n",
       "      <td>2020-08-01</td>\n",
       "      <td>5</td>\n",
       "      <td>Great finish on it, really decent build quality</td>\n",
       "    </tr>\n",
       "  </tbody>\n",
       "</table>\n",
       "</div>"
      ],
      "text/plain": [
       "    item_no         date  rating  \\\n",
       "0         2   2020-04-11       5   \n",
       "1         2   2020-04-12       1   \n",
       "2         3   2020-05-13       3   \n",
       "3         4          NaN       5   \n",
       "4         5   2020-05-28       4   \n",
       "5         1   2020-05-29       3   \n",
       "6         9   2020-06-01       2   \n",
       "7         5   2020-06-07       5   \n",
       "8         7  2020-06-300       1   \n",
       "9        10   2020-06-30       4   \n",
       "10        8   2020-08-01       5   \n",
       "\n",
       "                                                                                                       message  \n",
       "0                                                                           Ideal for my lunchbox - Dave Smith  \n",
       "1        Broke first time I used it, I want a refund! Get back to me at [E-MAIL REDACTED] or [NUMBER REDACTED]  \n",
       "2                                                                            My name is Tony [NUMBER REDACTED]  \n",
       "3                                                                             Bought another one for my sister  \n",
       "4                                                                  Works pretty well, but can't handle carrots  \n",
       "5                             The concept is great, the execution- not so great, thin handles - Eleanor & dave  \n",
       "6                                                                     Bit of a cheap version of the real thing  \n",
       "7                                                                                 Arrived on time, as expected  \n",
       "8   Customer service terrible - hello anyone there?! [E-MAIL REDACTED], [NUMBER REDACTED] or [NUMBER REDACTED]  \n",
       "9                                                                         Workks well, seems solid, good value  \n",
       "10                                                             Great finish on it, really decent build quality  "
      ]
     },
     "execution_count": 33,
     "metadata": {},
     "output_type": "execute_result"
    }
   ],
   "source": [
    "feedback.loc[:, 'message'] = feedback.message.str.replace(r'([\\w\\.]+@[\\w\\.]+)', '[E-MAIL REDACTED]')\n",
    "feedback"
   ]
  },
  {
   "cell_type": "code",
   "execution_count": null,
   "id": "0b0a9196",
   "metadata": {},
   "outputs": [],
   "source": []
  },
  {
   "cell_type": "code",
   "execution_count": null,
   "id": "cd261a7e",
   "metadata": {},
   "outputs": [],
   "source": []
  }
 ],
 "metadata": {
  "kernelspec": {
   "display_name": "Python 3 (ipykernel)",
   "language": "python",
   "name": "python3"
  },
  "language_info": {
   "codemirror_mode": {
    "name": "ipython",
    "version": 3
   },
   "file_extension": ".py",
   "mimetype": "text/x-python",
   "name": "python",
   "nbconvert_exporter": "python",
   "pygments_lexer": "ipython3",
   "version": "3.9.5"
  }
 },
 "nbformat": 4,
 "nbformat_minor": 5
}
