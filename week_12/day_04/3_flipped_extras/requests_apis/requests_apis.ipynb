{
 "cells": [
  {
   "cell_type": "markdown",
   "metadata": {
    "toc": true
   },
   "source": [
    "<h1>Table of Contents<span class=\"tocSkip\"></span></h1>\n",
    "<div class=\"toc\"><ul class=\"toc-item\"><li><span><a href=\"#What-is-an-API?\" data-toc-modified-id=\"What-is-an-API?-1\"><span class=\"toc-item-num\">1&nbsp;&nbsp;</span>What is an API?</a></span></li><li><span><a href=\"#What-is-HTTP?\" data-toc-modified-id=\"What-is-HTTP?-2\"><span class=\"toc-item-num\">2&nbsp;&nbsp;</span>What is <code>HTTP</code>?</a></span><ul class=\"toc-item\"><li><span><a href=\"#HTTP-request-types\" data-toc-modified-id=\"HTTP-request-types-2.1\"><span class=\"toc-item-num\">2.1&nbsp;&nbsp;</span><code>HTTP</code> request types</a></span></li><li><span><a href=\"#HTTP-status-codes\" data-toc-modified-id=\"HTTP-status-codes-2.2\"><span class=\"toc-item-num\">2.2&nbsp;&nbsp;</span>HTTP status codes</a></span></li></ul></li><li><span><a href=\"#The-requests-library\" data-toc-modified-id=\"The-requests-library-3\"><span class=\"toc-item-num\">3&nbsp;&nbsp;</span>The <code>requests</code> library</a></span><ul class=\"toc-item\"><li><span><a href=\"#API-endpoints\" data-toc-modified-id=\"API-endpoints-3.1\"><span class=\"toc-item-num\">3.1&nbsp;&nbsp;</span>API endpoints</a></span></li><li><span><a href=\"#Rate-Limiting\" data-toc-modified-id=\"Rate-Limiting-3.2\"><span class=\"toc-item-num\">3.2&nbsp;&nbsp;</span>Rate Limiting</a></span></li></ul></li><li><span><a href=\"#Query-strings\" data-toc-modified-id=\"Query-strings-4\"><span class=\"toc-item-num\">4&nbsp;&nbsp;</span>Query strings</a></span></li><li><span><a href=\"#Optional:-Persisting-API-results-to-a-DataFrame\" data-toc-modified-id=\"Optional:-Persisting-API-results-to-a-DataFrame-5\"><span class=\"toc-item-num\">5&nbsp;&nbsp;</span>Optional: Persisting API results to a <code>DataFrame</code></a></span></li><li><span><a href=\"#Optional:-API-keys-and-version-control-software\" data-toc-modified-id=\"Optional:-API-keys-and-version-control-software-6\"><span class=\"toc-item-num\">6&nbsp;&nbsp;</span>Optional: API keys and version control software</a></span></li></ul></div>"
   ]
  },
  {
   "cell_type": "markdown",
   "metadata": {},
   "source": [
    "# What is an API?\n",
    "\n",
    "Basically an API (or 'application programming interface') is a way for one piece of software to talk to another piece of software. In this lesson we will write and run some `Python` code to go and fetch data from another piece of software running on another machine. This is called a **web API**.\n",
    "\n",
    "You can think of web APIs as being like websites tailored for computers. A website is designed for humans to use, APIs are designed for other pieces of software to use. Many of the things that you would do by interacting with a website, software can also do by interacting with an API.\n",
    "\n",
    "\n",
    "# What is `HTTP`?\n",
    "\n",
    "To interact with APIs we will be using `HTTP`. You will definitely be familiar with the letters 'HTTP': every web address starts with `http://` (or `https://` for secure connections). But what does 'HTTP' mean?\n",
    "\n",
    "`HTTP` stands for HyperText Transfer Protocol: this is an example of a **networking protocol**. Basically, `HTTP` is a set of conventions or rules for sending messages between computers. The rules of `HTTP` define the form that the messages can take. There are other networking protocols available, but `HTTP` is the one that powers the web, and so it is obviously very widespread. \n",
    "\n",
    "We won't go into a lot of detail about how `HTTP` works. But for now you need to understand that when you visit a website your computer sends a **request** to another computer running the website. In return, the other computer will send a **response** back to your computer. Taken together, we call this the **request-response cycle**.\n",
    "\n",
    "The computer sending the request is called the **client** and the computer that returns the response is known as the **server**.\n",
    "\n",
    "![](images/http-requests.png)\n",
    "\n",
    "If this seems simple, that's because it is! One of the important principles of HTTP is that it is **stateless**: that is, the server doesn't retain any information about the state of the client between requests. Think of the server as having 'amnesia' about the requests it has received from a client, and the responses it has sent back to a client.  \n",
    "\n",
    "## `HTTP` request types\n",
    "\n",
    "There are several different types of request that you can send. By far the most common is a `GET` request. This simply asks for a piece of data in response and doesn't change anything on the server. Other types of request include `POST`, where you send some data to the server; or `DELETE` where you request to remove data from the server. \n",
    "\n",
    "For example, if you wanted to be added to a mailing list, you enter your e-mail address on a website and click the 'Submit' button. At this point, your computer (the client) sends a `POST` request containing data (your e-mail address) to the server running the website. The server adds your e-mail to a database, then returns a response telling the client that the e-mail was successfully added. If you later wanted to be taken off the mailing list, your computer might send a `DELETE` request to the server. \n",
    "\n",
    "Taken as a whole, you might hear the various request types being called `HTTP` **verbs**, because these are the **'actions'** the client can request the server to perform.\n",
    "\n",
    "## HTTP status codes\n",
    "\n",
    "Every `HTTP` response will include a status code. If your request succeeded, the code will be **200**. Other numbers signify different outcomes:\n",
    "\n",
    "* Any code starting with `4`, means that you made an error in sending your request. The most famous of these is a `404 error`, which I'm sure you'll have seen before.\n",
    "* A code starting with `5` means there's a problem with the server, so it can't send you a response back. If you get a `5XX error`, there's probably not much you can do to fix it, aside from contact the administrator of the web service you are trying to use.\n",
    "* If the code starts with `3` that means the request has been redirected.\n",
    "\n",
    "# The `requests` library\n",
    "\n",
    "Now you now how `HTTP` requests work, let's learn how to make them in `Python`.\n",
    "\n",
    "We're going to use the `requests` package for this: you may need to install it. If so, remember that in `Python`, you install from the command line.\n",
    "\n",
    "```\n",
    "conda install requests\n",
    "```"
   ]
  },
  {
   "cell_type": "code",
   "execution_count": 1,
   "metadata": {},
   "outputs": [],
   "source": [
    "import requests"
   ]
  },
  {
   "cell_type": "markdown",
   "metadata": {},
   "source": [
    "As a simple example, we're going to make use of the Star Wars API. This provides data relating to characters, ships, planets etc in the Star Wars films. Have a look at the documentation available on the [website](http://swapi.dev/). \n",
    "\n",
    "Let's start by sending a `GET` request using the function `requests.get()`. When you run this function an `HTTP` request is sent - so you will need to be connected to the internet for this to work! \n",
    "\n",
    "We're going to make the first request that you can see on the Star Wars API website and ask for data about Luke Skywalker. "
   ]
  },
  {
   "cell_type": "code",
   "execution_count": 2,
   "metadata": {},
   "outputs": [],
   "source": [
    "response = requests.get(\"http://swapi.dev/api/people/1/\")"
   ]
  },
  {
   "cell_type": "markdown",
   "metadata": {},
   "source": [
    "We can then check the status code of the response  "
   ]
  },
  {
   "cell_type": "code",
   "execution_count": 3,
   "metadata": {},
   "outputs": [
    {
     "data": {
      "text/plain": [
       "200"
      ]
     },
     "execution_count": 3,
     "metadata": {},
     "output_type": "execute_result"
    }
   ],
   "source": [
    "response.status_code"
   ]
  },
  {
   "cell_type": "markdown",
   "metadata": {},
   "source": [
    "A status code of 200 indicates that the request was successful. Let's see what the API has sent back "
   ]
  },
  {
   "cell_type": "code",
   "execution_count": 4,
   "metadata": {},
   "outputs": [
    {
     "data": {
      "text/plain": [
       "'{\"name\":\"Luke Skywalker\",\"height\":\"172\",\"mass\":\"77\",\"hair_color\":\"blond\",\"skin_color\":\"fair\",\"eye_color\":\"blue\",\"birth_year\":\"19BBY\",\"gender\":\"male\",\"homeworld\":\"http://swapi.dev/api/planets/1/\",\"films\":[\"http://swapi.dev/api/films/1/\",\"http://swapi.dev/api/films/2/\",\"http://swapi.dev/api/films/3/\",\"http://swapi.dev/api/films/6/\"],\"species\":[],\"vehicles\":[\"http://swapi.dev/api/vehicles/14/\",\"http://swapi.dev/api/vehicles/30/\"],\"starships\":[\"http://swapi.dev/api/starships/12/\",\"http://swapi.dev/api/starships/22/\"],\"created\":\"2014-12-09T13:50:51.644000Z\",\"edited\":\"2014-12-20T21:17:56.891000Z\",\"url\":\"http://swapi.dev/api/people/1/\"}'"
      ]
     },
     "execution_count": 4,
     "metadata": {},
     "output_type": "execute_result"
    }
   ],
   "source": [
    "response.text"
   ]
  },
  {
   "cell_type": "markdown",
   "metadata": {},
   "source": [
    "Can we see this in a more structured form? Yes, the API sends back data in **JavaScript object notation (`JSON`) form**, which `requests` automatically converts into a regular `Python` `dictionary`"
   ]
  },
  {
   "cell_type": "code",
   "execution_count": 5,
   "metadata": {},
   "outputs": [
    {
     "data": {
      "text/plain": [
       "{'name': 'Luke Skywalker',\n",
       " 'height': '172',\n",
       " 'mass': '77',\n",
       " 'hair_color': 'blond',\n",
       " 'skin_color': 'fair',\n",
       " 'eye_color': 'blue',\n",
       " 'birth_year': '19BBY',\n",
       " 'gender': 'male',\n",
       " 'homeworld': 'http://swapi.dev/api/planets/1/',\n",
       " 'films': ['http://swapi.dev/api/films/1/',\n",
       "  'http://swapi.dev/api/films/2/',\n",
       "  'http://swapi.dev/api/films/3/',\n",
       "  'http://swapi.dev/api/films/6/'],\n",
       " 'species': [],\n",
       " 'vehicles': ['http://swapi.dev/api/vehicles/14/',\n",
       "  'http://swapi.dev/api/vehicles/30/'],\n",
       " 'starships': ['http://swapi.dev/api/starships/12/',\n",
       "  'http://swapi.dev/api/starships/22/'],\n",
       " 'created': '2014-12-09T13:50:51.644000Z',\n",
       " 'edited': '2014-12-20T21:17:56.891000Z',\n",
       " 'url': 'http://swapi.dev/api/people/1/'}"
      ]
     },
     "execution_count": 5,
     "metadata": {},
     "output_type": "execute_result"
    }
   ],
   "source": [
    "json = response.json()\n",
    "json"
   ]
  },
  {
   "cell_type": "markdown",
   "metadata": {},
   "source": [
    "<hr style=\"border:8px solid black\"> </hr>\n",
    "\n",
    "***\n",
    "\n",
    "**<u>Task - 5 mins</u>**\n",
    "\n",
    "* Extract the name 'Luke Skywalker' from the `JSON` response data\n",
    "* Look at what has been returned for Luke's 'homeworld'. How do you think we can get further details of this planet? Write code to try it!\n",
    "\n",
    "**Solution**"
   ]
  },
  {
   "cell_type": "code",
   "execution_count": 6,
   "metadata": {},
   "outputs": [
    {
     "data": {
      "text/plain": [
       "'Luke Skywalker'"
      ]
     },
     "execution_count": 6,
     "metadata": {},
     "output_type": "execute_result"
    }
   ],
   "source": [
    "name = json['name']\n",
    "name"
   ]
  },
  {
   "cell_type": "code",
   "execution_count": 7,
   "metadata": {},
   "outputs": [
    {
     "data": {
      "text/plain": [
       "{'name': 'Tatooine',\n",
       " 'rotation_period': '23',\n",
       " 'orbital_period': '304',\n",
       " 'diameter': '10465',\n",
       " 'climate': 'arid',\n",
       " 'gravity': '1 standard',\n",
       " 'terrain': 'desert',\n",
       " 'surface_water': '1',\n",
       " 'population': '200000',\n",
       " 'residents': ['http://swapi.dev/api/people/1/',\n",
       "  'http://swapi.dev/api/people/2/',\n",
       "  'http://swapi.dev/api/people/4/',\n",
       "  'http://swapi.dev/api/people/6/',\n",
       "  'http://swapi.dev/api/people/7/',\n",
       "  'http://swapi.dev/api/people/8/',\n",
       "  'http://swapi.dev/api/people/9/',\n",
       "  'http://swapi.dev/api/people/11/',\n",
       "  'http://swapi.dev/api/people/43/',\n",
       "  'http://swapi.dev/api/people/62/'],\n",
       " 'films': ['http://swapi.dev/api/films/1/',\n",
       "  'http://swapi.dev/api/films/3/',\n",
       "  'http://swapi.dev/api/films/4/',\n",
       "  'http://swapi.dev/api/films/5/',\n",
       "  'http://swapi.dev/api/films/6/'],\n",
       " 'created': '2014-12-09T13:50:49.641000Z',\n",
       " 'edited': '2014-12-20T20:58:18.411000Z',\n",
       " 'url': 'http://swapi.dev/api/planets/1/'}"
      ]
     },
     "execution_count": 7,
     "metadata": {},
     "output_type": "execute_result"
    }
   ],
   "source": [
    "homeworld_url = json['homeworld']\n",
    "json = requests.get(homeworld_url).json()\n",
    "json"
   ]
  },
  {
   "cell_type": "markdown",
   "metadata": {},
   "source": [
    "***\n",
    "\n",
    "<hr style=\"border:8px solid black\"> </hr>\n",
    "\n",
    "## API endpoints\n",
    "\n",
    "Notice above that we first made a `GET` request to a URL of the form `http://swapi.dev/api/people/1/`. Later, for Luke's homeworld, we made a request to a URL `http://swapi.dev/api/planets/1/`. \n",
    "\n",
    "Look at the similarities and differences between these two URLs:\n",
    "\n",
    "* The **root** (or base) of both is the same: `http://swapi.dev/api/`\n",
    "* They differ in what comes **after** the root: `people/1/` and `planets/1/`\n",
    "\n",
    "Here, `people/1/` and `planets/1/` are different examples of what are called **endpoints** of the API: when we send a `GET` request to `people/1/`, we are asking for information on the item with `id = 1` in the `people` collection. Think of this as being like a table in `SQL`: imagine a big table of people in Star Wars, all with differing `id` numbers. When we send a `GET` request to `planets/1/`, the API interprets this as a request to a general endpoint `/planets/id/` in which we are asking for the `id=1` item in the `planets` collection. It is very common for an API to offer **multiple endpoints**: each endpoint referring to a class of 'item' or 'entity' within the context of the API. \n",
    "\n",
    "You will sometimes hear endpoints referred to as **resources**. In fact, the terms resource and endpoint differ subtly in terms of meaning, but the difference need not concern us here. \n",
    "\n",
    "<hr style=\"border:8px solid black\"> </hr>\n",
    "\n",
    "***\n",
    "\n",
    "**<u>Task - 2 mins</u>**\n",
    "\n",
    "Have a look at the `Documentation` for the Star Wars API (top right of `http://swapi.dev`. What **resources** (or **endpoints**) does the API offer?\n",
    "\n",
    "**Solution**\n",
    "\n",
    "The resources offered are: `films`, `people`, `planets`, `species`, `starships` and `vehicles`. We can actually see these by sending a `GET` request to the `root` endpoint"
   ]
  },
  {
   "cell_type": "code",
   "execution_count": 8,
   "metadata": {},
   "outputs": [
    {
     "data": {
      "text/plain": [
       "{'people': 'http://swapi.dev/api/people/',\n",
       " 'planets': 'http://swapi.dev/api/planets/',\n",
       " 'films': 'http://swapi.dev/api/films/',\n",
       " 'species': 'http://swapi.dev/api/species/',\n",
       " 'vehicles': 'http://swapi.dev/api/vehicles/',\n",
       " 'starships': 'http://swapi.dev/api/starships/'}"
      ]
     },
     "execution_count": 8,
     "metadata": {},
     "output_type": "execute_result"
    }
   ],
   "source": [
    "requests.get('http://swapi.dev/api/').json()"
   ]
  },
  {
   "cell_type": "markdown",
   "metadata": {},
   "source": [
    "***\n",
    "\n",
    "<hr style=\"border:8px solid black\"> </hr>\n",
    "\n",
    "## Rate Limiting\n",
    "\n",
    "Every API you use will have a **rate limit**. This is a limit on the number of requests you can make in a given time. Every time you make a request you are using the API's server, which costs the people running the API a very small amount of money. The Star Wars API has a very generous rate limit of 10,000 requests per day. **Be careful, however - it is surprisingly easy to go over an API rate limit if you automatically generate and send requests**.\n",
    "\n",
    "# Query strings\n",
    "\n",
    "Fairly often API requests will look like this:\n",
    "\n",
    "```\n",
    "https://swapi.dev/api/people/?search=luke&format=wookiee\n",
    "```\n",
    "\n",
    "with a question mark `?`, followed by key-value pairs separated by ampersands `&`. The part after the `?` is what is known as a **query string**. \n",
    "\n",
    "While it's totally fine to write query strings yourself and use them in requests:"
   ]
  },
  {
   "cell_type": "code",
   "execution_count": 9,
   "metadata": {},
   "outputs": [
    {
     "data": {
      "text/plain": [
       "200"
      ]
     },
     "execution_count": 9,
     "metadata": {},
     "output_type": "execute_result"
    }
   ],
   "source": [
    "response = requests.get(\"https://swapi.dev/api/people/?search=luke&format=wookiee\")\n",
    "\n",
    "response.status_code"
   ]
  },
  {
   "cell_type": "markdown",
   "metadata": {},
   "source": [
    "the `requests` library can handle generating query strings for you. You do this by passing in a `dictionary` via the `params=` argument"
   ]
  },
  {
   "cell_type": "code",
   "execution_count": 10,
   "metadata": {},
   "outputs": [
    {
     "data": {
      "text/plain": [
       "200"
      ]
     },
     "execution_count": 10,
     "metadata": {},
     "output_type": "execute_result"
    }
   ],
   "source": [
    "response = requests.get(\"https://swapi.dev/api/people/\",\n",
    "  params = {\"search\":\"luke\", \"format\":\"wookiee\"}\n",
    ")\n",
    "\n",
    "response.status_code"
   ]
  },
  {
   "cell_type": "code",
   "execution_count": 11,
   "metadata": {},
   "outputs": [
    {
     "data": {
      "text/plain": [
       "'{\"oaoohuwhao\":1,\"whwokao\":whhuanan,\"akrcwohoahoohuc\":whhuanan,\"rcwochuanaoc\":[{\"whrascwo\":\"Lhuorwo Sorroohraanorworc\",\"acwoahrracao\":\"172\",\"scracc\":\"77\",\"acraahrc_oaooanoorc\":\"rhanoowhwa\",\"corahwh_oaooanoorc\":\"wwraahrc\",\"worowo_oaooanoorc\":\"rhanhuwo\",\"rhahrcaoac_roworarc\":\"19BBY\",\"rrwowhwaworc\":\"scraanwo\",\"acooscwoohoorcanwa\":\"acaoaoak://cohraakah.wawoho/raakah/akanrawhwoaoc/1/\",\"wwahanscc\":[\"acaoaoak://cohraakah.wawoho/raakah/wwahanscc/1/\",\"acaoaoak://cohraakah.wawoho/raakah/wwahanscc/2/\",\"acaoaoak://cohraakah.wawoho/raakah/wwahanscc/3/\",\"acaoaoak://cohraakah.wawoho/raakah/wwahanscc/6/\"],\"cakwooaahwoc\":[],\"howoacahoaanwoc\":[\"acaoaoak://cohraakah.wawoho/raakah/howoacahoaanwoc/14/\",\"acaoaoak://cohraakah.wawoho/raakah/howoacahoaanwoc/30/\"],\"caorarccacahakc\":[\"acaoaoak://cohraakah.wawoho/raakah/caorarccacahakc/12/\",\"acaoaoak://cohraakah.wawoho/raakah/caorarccacahakc/22/\"],\"oarcworaaowowa\":\"2014-12-09T13:50:51.644000Z\",\"wowaahaowowa\":\"2014-12-20T21:17:56.891000Z\",\"hurcan\":\"acaoaoak://cohraakah.wawoho/raakah/akwoooakanwo/1/\"}]}'"
      ]
     },
     "execution_count": 11,
     "metadata": {},
     "output_type": "execute_result"
    }
   ],
   "source": [
    "response.text"
   ]
  },
  {
   "cell_type": "markdown",
   "metadata": {},
   "source": [
    "It's generally a good idea to use `requests` query string builder for the following reasons: \n",
    "\n",
    "* It helpy you avoid mistakes\n",
    "* Query strings must be valid URLs: which can be hard to ensure manually, if you need to use special characters or spaces\n",
    "* It's easier to write functions that call APIs using the query builder\n",
    "\n",
    "<hr style=\"border:8px solid black\"> </hr>\n",
    "\n",
    "***\n",
    "\n",
    "**<u>Task - 5 mins</u>**\n",
    "\n",
    "Using **query strings**, see if you can find any information on:\n",
    "\n",
    "* 'Darth Vader' (try the `people` resource)\n",
    "* Any `starships` containing the word 'star' in 'name' or 'model' (don't worry, these are the default search fields for this resource). How many starships are returned?\n",
    "\n",
    "**Solution**"
   ]
  },
  {
   "cell_type": "code",
   "execution_count": 12,
   "metadata": {},
   "outputs": [
    {
     "data": {
      "text/plain": [
       "{'count': 1,\n",
       " 'next': None,\n",
       " 'previous': None,\n",
       " 'results': [{'name': 'Darth Vader',\n",
       "   'height': '202',\n",
       "   'mass': '136',\n",
       "   'hair_color': 'none',\n",
       "   'skin_color': 'white',\n",
       "   'eye_color': 'yellow',\n",
       "   'birth_year': '41.9BBY',\n",
       "   'gender': 'male',\n",
       "   'homeworld': 'http://swapi.dev/api/planets/1/',\n",
       "   'films': ['http://swapi.dev/api/films/1/',\n",
       "    'http://swapi.dev/api/films/2/',\n",
       "    'http://swapi.dev/api/films/3/',\n",
       "    'http://swapi.dev/api/films/6/'],\n",
       "   'species': [],\n",
       "   'vehicles': [],\n",
       "   'starships': ['http://swapi.dev/api/starships/13/'],\n",
       "   'created': '2014-12-10T15:18:20.704000Z',\n",
       "   'edited': '2014-12-20T21:17:50.313000Z',\n",
       "   'url': 'http://swapi.dev/api/people/4/'}]}"
      ]
     },
     "execution_count": 12,
     "metadata": {},
     "output_type": "execute_result"
    }
   ],
   "source": [
    "requests.get(\"https://swapi.dev/api/people/\",\n",
    "  params = {\"search\":\"Darth Vader\"}\n",
    ").json()"
   ]
  },
  {
   "cell_type": "code",
   "execution_count": 13,
   "metadata": {},
   "outputs": [
    {
     "data": {
      "text/plain": [
       "10"
      ]
     },
     "execution_count": 13,
     "metadata": {},
     "output_type": "execute_result"
    }
   ],
   "source": [
    "star_ships = requests.get(\"https://swapi.dev/api/starships/\",\n",
    "  params = {\"search\": \"star\"}\n",
    ").json()\n",
    "\n",
    "len(star_ships['results'])"
   ]
  },
  {
   "cell_type": "markdown",
   "metadata": {},
   "source": [
    "***\n",
    "\n",
    "<hr style=\"border:8px solid black\"> </hr>\n",
    "\n",
    "# Optional: Persisting API results to a `DataFrame` \n",
    "\n",
    "Let's see how to load API results into a `pandas` `DataFrame`. The easiest way is as a `list` of `dictionaries` (this is a recurring theme). But what if we want to trim the dictionaries down before we save them (i.e., we don't want to persist all of the keys and values the API has provided). Say we want to keep only the ships' `name`, `model`, `length` and `crew`. Let's see how to do that. The easiest way is by nesting a `dictionary` comprehension inside a `list` comprehension. "
   ]
  },
  {
   "cell_type": "code",
   "execution_count": 14,
   "metadata": {
    "scrolled": true
   },
   "outputs": [
    {
     "data": {
      "text/plain": [
       "[{'name': 'Star Destroyer',\n",
       "  'model': 'Imperial I-class Star Destroyer',\n",
       "  'length': '1,600',\n",
       "  'crew': '47,060'},\n",
       " {'name': 'Death Star',\n",
       "  'model': 'DS-1 Orbital Battle Station',\n",
       "  'length': '120000',\n",
       "  'crew': '342,953'},\n",
       " {'name': 'Executor',\n",
       "  'model': 'Executor-class star dreadnought',\n",
       "  'length': '19000',\n",
       "  'crew': '279,144'},\n",
       " {'name': 'Calamari Cruiser',\n",
       "  'model': 'MC80 Liberty type Star Cruiser',\n",
       "  'length': '1200',\n",
       "  'crew': '5400'},\n",
       " {'name': 'B-wing',\n",
       "  'model': 'A/SF-01 B-wing starfighter',\n",
       "  'length': '16.9',\n",
       "  'crew': '1'},\n",
       " {'name': 'Naboo fighter',\n",
       "  'model': 'N-1 starfighter',\n",
       "  'length': '11',\n",
       "  'crew': '1'},\n",
       " {'name': 'Naboo Royal Starship',\n",
       "  'model': 'J-type 327 Nubian royal starship',\n",
       "  'length': '76',\n",
       "  'crew': '8'},\n",
       " {'name': 'Scimitar', 'model': 'Star Courier', 'length': '26.5', 'crew': '1'},\n",
       " {'name': 'Jedi starfighter',\n",
       "  'model': 'Delta-7 Aethersprite-class interceptor',\n",
       "  'length': '8',\n",
       "  'crew': '1'},\n",
       " {'name': 'Republic attack cruiser',\n",
       "  'model': 'Senator-class Star Destroyer',\n",
       "  'length': '1137',\n",
       "  'crew': '7400'}]"
      ]
     },
     "execution_count": 14,
     "metadata": {},
     "output_type": "execute_result"
    }
   ],
   "source": [
    "ships = star_ships['results']\n",
    "\n",
    "keys_to_keep = ['name', 'model', 'length', 'crew']\n",
    "ships_snipped = [{key:val for key, val in ship.items() if key in keys_to_keep} for ship in ships]\n",
    "ships_snipped"
   ]
  },
  {
   "cell_type": "markdown",
   "metadata": {},
   "source": [
    "This looks very complicated, but break it down mentally into two steps:\n",
    "\n",
    "1. `[(do something with ship) for ship in ships]`\n",
    "2. `(do something with ship) = {add key:val for each key, val in ship if key in keys_to_keep}` \n",
    "\n",
    "Now `pd.DataFrame()` will accept a `list` of `dictionaries` as input"
   ]
  },
  {
   "cell_type": "code",
   "execution_count": 15,
   "metadata": {},
   "outputs": [
    {
     "data": {
      "text/html": [
       "<div>\n",
       "<style scoped>\n",
       "    .dataframe tbody tr th:only-of-type {\n",
       "        vertical-align: middle;\n",
       "    }\n",
       "\n",
       "    .dataframe tbody tr th {\n",
       "        vertical-align: top;\n",
       "    }\n",
       "\n",
       "    .dataframe thead th {\n",
       "        text-align: right;\n",
       "    }\n",
       "</style>\n",
       "<table border=\"1\" class=\"dataframe\">\n",
       "  <thead>\n",
       "    <tr style=\"text-align: right;\">\n",
       "      <th></th>\n",
       "      <th>name</th>\n",
       "      <th>model</th>\n",
       "      <th>length</th>\n",
       "      <th>crew</th>\n",
       "    </tr>\n",
       "  </thead>\n",
       "  <tbody>\n",
       "    <tr>\n",
       "      <th>0</th>\n",
       "      <td>Star Destroyer</td>\n",
       "      <td>Imperial I-class Star Destroyer</td>\n",
       "      <td>1,600</td>\n",
       "      <td>47,060</td>\n",
       "    </tr>\n",
       "    <tr>\n",
       "      <th>1</th>\n",
       "      <td>Death Star</td>\n",
       "      <td>DS-1 Orbital Battle Station</td>\n",
       "      <td>120000</td>\n",
       "      <td>342,953</td>\n",
       "    </tr>\n",
       "    <tr>\n",
       "      <th>2</th>\n",
       "      <td>Executor</td>\n",
       "      <td>Executor-class star dreadnought</td>\n",
       "      <td>19000</td>\n",
       "      <td>279,144</td>\n",
       "    </tr>\n",
       "    <tr>\n",
       "      <th>3</th>\n",
       "      <td>Calamari Cruiser</td>\n",
       "      <td>MC80 Liberty type Star Cruiser</td>\n",
       "      <td>1200</td>\n",
       "      <td>5400</td>\n",
       "    </tr>\n",
       "    <tr>\n",
       "      <th>4</th>\n",
       "      <td>B-wing</td>\n",
       "      <td>A/SF-01 B-wing starfighter</td>\n",
       "      <td>16.9</td>\n",
       "      <td>1</td>\n",
       "    </tr>\n",
       "    <tr>\n",
       "      <th>5</th>\n",
       "      <td>Naboo fighter</td>\n",
       "      <td>N-1 starfighter</td>\n",
       "      <td>11</td>\n",
       "      <td>1</td>\n",
       "    </tr>\n",
       "    <tr>\n",
       "      <th>6</th>\n",
       "      <td>Naboo Royal Starship</td>\n",
       "      <td>J-type 327 Nubian royal starship</td>\n",
       "      <td>76</td>\n",
       "      <td>8</td>\n",
       "    </tr>\n",
       "    <tr>\n",
       "      <th>7</th>\n",
       "      <td>Scimitar</td>\n",
       "      <td>Star Courier</td>\n",
       "      <td>26.5</td>\n",
       "      <td>1</td>\n",
       "    </tr>\n",
       "    <tr>\n",
       "      <th>8</th>\n",
       "      <td>Jedi starfighter</td>\n",
       "      <td>Delta-7 Aethersprite-class interceptor</td>\n",
       "      <td>8</td>\n",
       "      <td>1</td>\n",
       "    </tr>\n",
       "    <tr>\n",
       "      <th>9</th>\n",
       "      <td>Republic attack cruiser</td>\n",
       "      <td>Senator-class Star Destroyer</td>\n",
       "      <td>1137</td>\n",
       "      <td>7400</td>\n",
       "    </tr>\n",
       "  </tbody>\n",
       "</table>\n",
       "</div>"
      ],
      "text/plain": [
       "                      name                                   model  length  \\\n",
       "0           Star Destroyer         Imperial I-class Star Destroyer   1,600   \n",
       "1               Death Star             DS-1 Orbital Battle Station  120000   \n",
       "2                 Executor         Executor-class star dreadnought   19000   \n",
       "3         Calamari Cruiser          MC80 Liberty type Star Cruiser    1200   \n",
       "4                   B-wing              A/SF-01 B-wing starfighter    16.9   \n",
       "5            Naboo fighter                         N-1 starfighter      11   \n",
       "6     Naboo Royal Starship        J-type 327 Nubian royal starship      76   \n",
       "7                 Scimitar                            Star Courier    26.5   \n",
       "8         Jedi starfighter  Delta-7 Aethersprite-class interceptor       8   \n",
       "9  Republic attack cruiser            Senator-class Star Destroyer    1137   \n",
       "\n",
       "      crew  \n",
       "0   47,060  \n",
       "1  342,953  \n",
       "2  279,144  \n",
       "3     5400  \n",
       "4        1  \n",
       "5        1  \n",
       "6        8  \n",
       "7        1  \n",
       "8        1  \n",
       "9     7400  "
      ]
     },
     "execution_count": 15,
     "metadata": {},
     "output_type": "execute_result"
    }
   ],
   "source": [
    "import pandas as pd\n",
    "ships = pd.DataFrame(ships_snipped)\n",
    "ships"
   ]
  },
  {
   "cell_type": "markdown",
   "metadata": {},
   "source": [
    "And it just remains to do some final tidying up of the datatypes of the `length` and `crew` columns"
   ]
  },
  {
   "cell_type": "code",
   "execution_count": 16,
   "metadata": {},
   "outputs": [
    {
     "data": {
      "text/html": [
       "<div>\n",
       "<style scoped>\n",
       "    .dataframe tbody tr th:only-of-type {\n",
       "        vertical-align: middle;\n",
       "    }\n",
       "\n",
       "    .dataframe tbody tr th {\n",
       "        vertical-align: top;\n",
       "    }\n",
       "\n",
       "    .dataframe thead th {\n",
       "        text-align: right;\n",
       "    }\n",
       "</style>\n",
       "<table border=\"1\" class=\"dataframe\">\n",
       "  <thead>\n",
       "    <tr style=\"text-align: right;\">\n",
       "      <th></th>\n",
       "      <th>name</th>\n",
       "      <th>model</th>\n",
       "      <th>length</th>\n",
       "      <th>crew</th>\n",
       "    </tr>\n",
       "  </thead>\n",
       "  <tbody>\n",
       "    <tr>\n",
       "      <th>0</th>\n",
       "      <td>Star Destroyer</td>\n",
       "      <td>Imperial I-class Star Destroyer</td>\n",
       "      <td>1600.0</td>\n",
       "      <td>47060</td>\n",
       "    </tr>\n",
       "    <tr>\n",
       "      <th>1</th>\n",
       "      <td>Death Star</td>\n",
       "      <td>DS-1 Orbital Battle Station</td>\n",
       "      <td>120000.0</td>\n",
       "      <td>342953</td>\n",
       "    </tr>\n",
       "    <tr>\n",
       "      <th>2</th>\n",
       "      <td>Executor</td>\n",
       "      <td>Executor-class star dreadnought</td>\n",
       "      <td>19000.0</td>\n",
       "      <td>279144</td>\n",
       "    </tr>\n",
       "    <tr>\n",
       "      <th>3</th>\n",
       "      <td>Calamari Cruiser</td>\n",
       "      <td>MC80 Liberty type Star Cruiser</td>\n",
       "      <td>1200.0</td>\n",
       "      <td>5400</td>\n",
       "    </tr>\n",
       "    <tr>\n",
       "      <th>4</th>\n",
       "      <td>B-wing</td>\n",
       "      <td>A/SF-01 B-wing starfighter</td>\n",
       "      <td>16.9</td>\n",
       "      <td>1</td>\n",
       "    </tr>\n",
       "    <tr>\n",
       "      <th>5</th>\n",
       "      <td>Naboo fighter</td>\n",
       "      <td>N-1 starfighter</td>\n",
       "      <td>11.0</td>\n",
       "      <td>1</td>\n",
       "    </tr>\n",
       "    <tr>\n",
       "      <th>6</th>\n",
       "      <td>Naboo Royal Starship</td>\n",
       "      <td>J-type 327 Nubian royal starship</td>\n",
       "      <td>76.0</td>\n",
       "      <td>8</td>\n",
       "    </tr>\n",
       "    <tr>\n",
       "      <th>7</th>\n",
       "      <td>Scimitar</td>\n",
       "      <td>Star Courier</td>\n",
       "      <td>26.5</td>\n",
       "      <td>1</td>\n",
       "    </tr>\n",
       "    <tr>\n",
       "      <th>8</th>\n",
       "      <td>Jedi starfighter</td>\n",
       "      <td>Delta-7 Aethersprite-class interceptor</td>\n",
       "      <td>8.0</td>\n",
       "      <td>1</td>\n",
       "    </tr>\n",
       "    <tr>\n",
       "      <th>9</th>\n",
       "      <td>Republic attack cruiser</td>\n",
       "      <td>Senator-class Star Destroyer</td>\n",
       "      <td>1137.0</td>\n",
       "      <td>7400</td>\n",
       "    </tr>\n",
       "  </tbody>\n",
       "</table>\n",
       "</div>"
      ],
      "text/plain": [
       "                      name                                   model    length  \\\n",
       "0           Star Destroyer         Imperial I-class Star Destroyer    1600.0   \n",
       "1               Death Star             DS-1 Orbital Battle Station  120000.0   \n",
       "2                 Executor         Executor-class star dreadnought   19000.0   \n",
       "3         Calamari Cruiser          MC80 Liberty type Star Cruiser    1200.0   \n",
       "4                   B-wing              A/SF-01 B-wing starfighter      16.9   \n",
       "5            Naboo fighter                         N-1 starfighter      11.0   \n",
       "6     Naboo Royal Starship        J-type 327 Nubian royal starship      76.0   \n",
       "7                 Scimitar                            Star Courier      26.5   \n",
       "8         Jedi starfighter  Delta-7 Aethersprite-class interceptor       8.0   \n",
       "9  Republic attack cruiser            Senator-class Star Destroyer    1137.0   \n",
       "\n",
       "     crew  \n",
       "0   47060  \n",
       "1  342953  \n",
       "2  279144  \n",
       "3    5400  \n",
       "4       1  \n",
       "5       1  \n",
       "6       8  \n",
       "7       1  \n",
       "8       1  \n",
       "9    7400  "
      ]
     },
     "execution_count": 16,
     "metadata": {},
     "output_type": "execute_result"
    }
   ],
   "source": [
    "ships.loc[:, ['length', 'crew']] = ships[['length', 'crew']].replace(',', '', regex=True)\n",
    "ships = ships.astype({'length': 'float', 'crew': 'int'})\n",
    "ships"
   ]
  },
  {
   "cell_type": "markdown",
   "metadata": {},
   "source": [
    "# Optional: API keys and version control software\n",
    "\n",
    "Many APIs will require users to submit an **API key** with their requests. This is certainly true for paid APIs, but often for many free APIs too, as it helps the API administrators track usage. This key is **unique** to you as a user: you typically get an API key by filling out a form on the API website.\n",
    "\n",
    "If you are using version control software (e.g. `git` and `GitHub`), then **you must make sure you that you do not add your API keys in plain text to any repository**. If your keys are made available in an online repository, you run the risk of others using your allocated resources, or even worse, using your keys in an unauthorised or unethical way.\n",
    "\n",
    "A common way of avoiding committing API keys is to keep them in a separate file, and add that file to `.gitignore`. You might have a file called `api_keys.py`, that looks like this:"
   ]
  },
  {
   "cell_type": "code",
   "execution_count": 17,
   "metadata": {
    "eval": false
   },
   "outputs": [],
   "source": [
    "api_key_for_first_API = 'dCtXRjNnhm8qbXnY'\n",
    "api_key_for_second_API = 'Gvmeywn2F8d8GxfX'"
   ]
  },
  {
   "cell_type": "markdown",
   "metadata": {},
   "source": [
    "And in your main code you can use import to run the file at the start. We want to store `api_keys.py` somewhere that **will never be included in a project repository**, so I have created a directory `api_keys` in my home directory to store these files. I add this directory to the `path` (the list of places `Python` searches when we ask it to `import` something), and then import the file "
   ]
  },
  {
   "cell_type": "code",
   "execution_count": 18,
   "metadata": {
    "eval": false
   },
   "outputs": [],
   "source": [
    "import sys\n",
    "sys.path.insert(1, '/home/del/api_keys')\n",
    "import api_keys"
   ]
  },
  {
   "cell_type": "markdown",
   "metadata": {},
   "source": [
    "Now you can use the variables `api_key_for_first_API` and `api_key_for_second_API` in your code **without having their actual values revealed**:  all that appears in your code are the variable names, and not the actual key strings that they contain."
   ]
  },
  {
   "cell_type": "code",
   "execution_count": 19,
   "metadata": {},
   "outputs": [
    {
     "data": {
      "text/plain": [
       "'dCtXRjNnhm8qbXnY'"
      ]
     },
     "execution_count": 19,
     "metadata": {},
     "output_type": "execute_result"
    }
   ],
   "source": [
    "api_key_for_first_API"
   ]
  },
  {
   "cell_type": "markdown",
   "metadata": {},
   "source": [
    "This is a quick, low tech approach to the problem. However it is easy to get wrong - if you change the location of the your API keys, you need to remember to update the `.gitignore` file (if you are using `git`). Also, anyone with access to your laptop can access your API keys. For a better solution that is somewhat beyond our discussion here, have a look at the `keyring` package."
   ]
  }
 ],
 "metadata": {
  "jupytext": {
   "cell_metadata_filter": "tags,eval,name,-all",
   "main_language": "python",
   "notebook_metadata_filter": "-all"
  },
  "kernelspec": {
   "display_name": "Python 3",
   "language": "python",
   "name": "python3"
  },
  "language_info": {
   "codemirror_mode": {
    "name": "ipython",
    "version": 3
   },
   "file_extension": ".py",
   "mimetype": "text/x-python",
   "name": "python",
   "nbconvert_exporter": "python",
   "pygments_lexer": "ipython3",
   "version": "3.8.5"
  },
  "toc": {
   "base_numbering": 1,
   "nav_menu": {},
   "number_sections": true,
   "sideBar": true,
   "skip_h1_title": false,
   "title_cell": "Table of Contents",
   "title_sidebar": "Contents",
   "toc_cell": true,
   "toc_position": {},
   "toc_section_display": true,
   "toc_window_display": false
  }
 },
 "nbformat": 4,
 "nbformat_minor": 2
}
