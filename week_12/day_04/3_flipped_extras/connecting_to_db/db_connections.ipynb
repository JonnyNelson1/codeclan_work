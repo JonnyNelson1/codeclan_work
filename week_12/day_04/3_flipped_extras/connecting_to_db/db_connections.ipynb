{
 "cells": [
  {
   "cell_type": "markdown",
   "metadata": {
    "toc": true
   },
   "source": [
    "<h1>Table of Contents<span class=\"tocSkip\"></span></h1>\n",
    "<div class=\"toc\"><ul class=\"toc-item\"><li><span><a href=\"#Introduction\" data-toc-modified-id=\"Introduction-1\"><span class=\"toc-item-num\">1&nbsp;&nbsp;</span>Introduction</a></span></li><li><span><a href=\"#SqlAlchemy-and-ORMs\" data-toc-modified-id=\"SqlAlchemy-and-ORMs-2\"><span class=\"toc-item-num\">2&nbsp;&nbsp;</span><code>SqlAlchemy</code> and ORMs</a></span></li><li><span><a href=\"#Creating-an-engine-and-basic-queries\" data-toc-modified-id=\"Creating-an-engine-and-basic-queries-3\"><span class=\"toc-item-num\">3&nbsp;&nbsp;</span>Creating an engine and basic queries</a></span></li><li><span><a href=\"#Direct-pandas-interface\" data-toc-modified-id=\"Direct-pandas-interface-4\"><span class=\"toc-item-num\">4&nbsp;&nbsp;</span>Direct <code>pandas</code> interface</a></span></li></ul></div>"
   ]
  },
  {
   "cell_type": "markdown",
   "metadata": {},
   "source": [
    "# Introduction\n",
    "\n",
    "Often analysts will wish to bring the results of `SQL` queries over into a scripting data analysis language like `Python` or `R`. Both of these languages (and indeed all modern programming languages) offer packages, modules or libraries that let you connect to `SQL` databases.\n",
    "\n",
    "That being said, however, it is wise to devolve as much of the data analysis effort as possible to the database you are working with. Modern `SQL` engines are very efficient, and can often handle moderately 'big data' (i.e. data that doesn't fit in your computer memory) much more effectively than can either `Python` or `R`. In fact, a common 'trick' for large scale data analysis in `Python` is to devolve analysis to a local `sqlite` database (have a read of **[this walkthrough](https://www.pythonforengineers.com/open-a-5-gb-file-in-python/)**)\n",
    "\n",
    "# `SqlAlchemy` and ORMs\n",
    "\n",
    "If your work involves the full range of `CRUD` (create, read, update and delete) operations on a database, it will make sense for you to use a full **object relational mapper (ORM)** library, for example `SqlAlchemy`. An ORM lets you create `Python` classes that can be mapped directly over to tables in `SQL`. Each **instance** of a `Python` class then maps over to a **row** in a `SQL` table. The nice thing about `SqlAlchemy` and ORMs in general is that you have to learn just one workflow: that of the ORM itself. The ORM then handles the details of the connection to particular databases, slight differences in `SQL` syntax and functionality etc. \n",
    "\n",
    "For lighter **read-only** work (this is the majority of data analysis work) you may prefer to use a package dedicated to a particular database. For `PostgreSQL` a common choice in `Python` is `psycopg2`.\n",
    "\n",
    "We'll use `SqlAlchemy` below to see the workflow, but you will have to install `psycopg2` too, as `SqlAlchemy` will use that package to create a connection. At your command line run\n",
    "\n",
    "```\n",
    "pip install psycopg2-binary\n",
    "```\n",
    "\n",
    "This installs the precompiled **binary executable**, just to get us started. Note that for serious work, however, you should compile `psycopg2` for your system as it will provide better performance: see the **[installation instructions](https://www.psycopg.org/docs/install.html)**.\n",
    "\n",
    "# Creating an engine and basic queries\n",
    "\n",
    "Firstly, we need to create an `engine` in `SqlAlchemy`. This is an object we use to run queries. We need to pass in a **connection string** to do this. Connection strings have the general form\n",
    "\n",
    "**DB_TYPE**+**DB_CONNECTOR**://**USERNAME**:**PASSWORD**@**HOST**:**PORT**/**DB_NAME**\n",
    "\n",
    "Here are some options for the **DB_TYPE** and **DB_CONNECTOR** parameters, depending on which database you are working with. Note that in most cases you will also have to install the relevant connector package before use with `SqlAlchemy` (we installed `psycopg2` above).\n",
    "\n",
    "| Database | DB_TYPE | DB_CONNECTORS |\n",
    "|--|--|--|\n",
    "| MySQL | `mysql` | `pymysql`, `mysqldb` |\n",
    "| PostgreSQL | `postgresql` | `psycopg2`, `pg8000` |\n",
    "| Oracle | `oracle` | `cx_oracle` |\n",
    "| Microsoft SQL | `mssql` | `pymssql`, `pyodbc` |\n",
    "| SQLite | `sqlite` | None required (built-in) |  \n",
    "\n",
    "Parameters **USERNAME**, **PASSWORD**, **HOST**, **PORT** and **DB_NAME** should be familiar from connecting with `DBeaver` earlier in the course.\n",
    "\n",
    "Let's create an engine connecting to the `omni_pool` database. We will set argument `echo=True` so you can see what `SqlAlchemy` is doing in the background as we work with it. For real use, you will probably not wish to set this argument. We also set `pool_size=1` to limit the number of connections to the database in the *connection pool* to one."
   ]
  },
  {
   "cell_type": "code",
   "execution_count": 1,
   "metadata": {},
   "outputs": [],
   "source": [
    "from sqlalchemy import create_engine, text\n",
    "engine = create_engine(\n",
    "    \"postgresql+psycopg2://\"\\\n",
    "    \"omni_user:niytna5mcwsz124i@\"\\\n",
    "    \"db-postgresql-lon1-20135-do-user-7581050-0.b.db.ondigitalocean.com:25061/omni_pool\",\n",
    "    echo=True,\n",
    "    pool_size=1\n",
    ")"
   ]
  },
  {
   "cell_type": "markdown",
   "metadata": {},
   "source": [
    "So far, so good. Let's now use our engine to run a query. First we need to acquire a connection from the engine. Typically in `Python` we do this within a `with` block: this will make sure that, whatever happens, the connection to the database is returned to the pool at the end of execution of the block."
   ]
  },
  {
   "cell_type": "code",
   "execution_count": 2,
   "metadata": {},
   "outputs": [
    {
     "name": "stdout",
     "output_type": "stream",
     "text": [
      "2021-05-27 18:40:55,501 INFO sqlalchemy.engine.Engine select version()\n",
      "2021-05-27 18:40:55,502 INFO sqlalchemy.engine.Engine [raw sql] {}\n",
      "2021-05-27 18:40:55,551 INFO sqlalchemy.engine.Engine select current_schema()\n",
      "2021-05-27 18:40:55,552 INFO sqlalchemy.engine.Engine [raw sql] {}\n",
      "2021-05-27 18:40:55,599 INFO sqlalchemy.engine.Engine show standard_conforming_strings\n",
      "2021-05-27 18:40:55,600 INFO sqlalchemy.engine.Engine [raw sql] {}\n",
      "2021-05-27 18:40:55,656 INFO sqlalchemy.engine.Engine SELECT * FROM teams\n",
      "2021-05-27 18:40:55,657 INFO sqlalchemy.engine.Engine [generated in 0.00120s] {}\n"
     ]
    }
   ],
   "source": [
    "with engine.connect() as connection:\n",
    "    results = connection.execute(text(\"SELECT * FROM teams\"))"
   ]
  },
  {
   "cell_type": "markdown",
   "metadata": {},
   "source": [
    "Note that we see the background operations, having set `echo=True` above. What `type()` is the `results` object returned"
   ]
  },
  {
   "cell_type": "code",
   "execution_count": 3,
   "metadata": {},
   "outputs": [
    {
     "data": {
      "text/plain": [
       "sqlalchemy.engine.cursor.LegacyCursorResult"
      ]
     },
     "execution_count": 3,
     "metadata": {},
     "output_type": "execute_result"
    }
   ],
   "source": [
    "type(results)"
   ]
  },
  {
   "cell_type": "markdown",
   "metadata": {},
   "source": [
    "Depending on your version of `SqlAlchemy`, this will either be a type called a `ResultProxy` or a `LegacyCursorResult` One of the nice things about working with an ORM is that the objects it provides have a host of methods and properties, for example:"
   ]
  },
  {
   "cell_type": "code",
   "execution_count": 4,
   "metadata": {},
   "outputs": [
    {
     "data": {
      "text/plain": [
       "10"
      ]
     },
     "execution_count": 4,
     "metadata": {},
     "output_type": "execute_result"
    }
   ],
   "source": [
    "results.rowcount"
   ]
  },
  {
   "cell_type": "markdown",
   "metadata": {},
   "source": [
    "We see there are 10 rows in this set of results. How do we actually get the data? Let's try just calling the object itself"
   ]
  },
  {
   "cell_type": "code",
   "execution_count": 5,
   "metadata": {},
   "outputs": [
    {
     "data": {
      "text/plain": [
       "<sqlalchemy.engine.cursor.LegacyCursorResult at 0x7f7058152bb0>"
      ]
     },
     "execution_count": 5,
     "metadata": {},
     "output_type": "execute_result"
    }
   ],
   "source": [
    "results"
   ]
  },
  {
   "cell_type": "markdown",
   "metadata": {},
   "source": [
    "Hmm, it just prints the object. To see the results, we have to tell `SqlAlchemy` to actually go and fetch them from the database. We have a range of `.fetch___()` methods available. Here we'll use `.fetchall()` to get **all** results"
   ]
  },
  {
   "cell_type": "code",
   "execution_count": 6,
   "metadata": {},
   "outputs": [
    {
     "data": {
      "text/plain": [
       "[(1, 'Audit Team 1', '30'),\n",
       " (2, 'Audit Team 2', '30'),\n",
       " (3, 'Risk Team 1', '50'),\n",
       " (4, 'Risk Team 2', '50'),\n",
       " (5, 'Audit Escalate', '60'),\n",
       " (6, 'Risk Escalate', '100'),\n",
       " (7, 'Data Team 1', '40'),\n",
       " (8, 'Data Team 2', '40'),\n",
       " (9, 'Data Escalate', '80'),\n",
       " (10, 'Corporate', '100')]"
      ]
     },
     "execution_count": 6,
     "metadata": {},
     "output_type": "execute_result"
    }
   ],
   "source": [
    "rows = results.fetchall()\n",
    "rows"
   ]
  },
  {
   "cell_type": "markdown",
   "metadata": {},
   "source": [
    "The objects in the `list` look like `tuple`s. Let's pull out the first of them"
   ]
  },
  {
   "cell_type": "code",
   "execution_count": 7,
   "metadata": {},
   "outputs": [
    {
     "data": {
      "text/plain": [
       "(1, 'Audit Team 1', '30')"
      ]
     },
     "execution_count": 7,
     "metadata": {},
     "output_type": "execute_result"
    }
   ],
   "source": [
    "first_row = rows[0]\n",
    "first_row"
   ]
  },
  {
   "cell_type": "markdown",
   "metadata": {},
   "source": [
    "This looks like a `tuple`, but it isn't really: in fact, it's another dedicated `SqlAlchemy` type"
   ]
  },
  {
   "cell_type": "code",
   "execution_count": 8,
   "metadata": {},
   "outputs": [
    {
     "data": {
      "text/plain": [
       "sqlalchemy.engine.row.LegacyRow"
      ]
     },
     "execution_count": 8,
     "metadata": {},
     "output_type": "execute_result"
    }
   ],
   "source": [
    "type(first_row)"
   ]
  },
  {
   "cell_type": "markdown",
   "metadata": {},
   "source": [
    "In particular, we can perform operations on this type of object that look more suited for a `dictionary`"
   ]
  },
  {
   "cell_type": "code",
   "execution_count": 9,
   "metadata": {},
   "outputs": [
    {
     "data": {
      "text/plain": [
       "'Audit Team 1'"
      ]
     },
     "execution_count": 9,
     "metadata": {},
     "output_type": "execute_result"
    }
   ],
   "source": [
    "first_row['name']"
   ]
  },
  {
   "cell_type": "code",
   "execution_count": 10,
   "metadata": {},
   "outputs": [
    {
     "data": {
      "text/plain": [
       "RMKeyView(['id', 'name', 'charge_cost'])"
      ]
     },
     "execution_count": 10,
     "metadata": {},
     "output_type": "execute_result"
    }
   ],
   "source": [
    "first_row.keys()"
   ]
  },
  {
   "cell_type": "markdown",
   "metadata": {},
   "source": [
    "Let's create a list of `dictionaries` from these `RowProxy` objects. We can do this straightforwardly using a `list comprehension`"
   ]
  },
  {
   "cell_type": "code",
   "execution_count": 11,
   "metadata": {},
   "outputs": [
    {
     "data": {
      "text/plain": [
       "[{'id': 1, 'name': 'Audit Team 1', 'charge_cost': '30'},\n",
       " {'id': 2, 'name': 'Audit Team 2', 'charge_cost': '30'},\n",
       " {'id': 3, 'name': 'Risk Team 1', 'charge_cost': '50'},\n",
       " {'id': 4, 'name': 'Risk Team 2', 'charge_cost': '50'},\n",
       " {'id': 5, 'name': 'Audit Escalate', 'charge_cost': '60'},\n",
       " {'id': 6, 'name': 'Risk Escalate', 'charge_cost': '100'},\n",
       " {'id': 7, 'name': 'Data Team 1', 'charge_cost': '40'},\n",
       " {'id': 8, 'name': 'Data Team 2', 'charge_cost': '40'},\n",
       " {'id': 9, 'name': 'Data Escalate', 'charge_cost': '80'},\n",
       " {'id': 10, 'name': 'Corporate', 'charge_cost': '100'}]"
      ]
     },
     "execution_count": 11,
     "metadata": {},
     "output_type": "execute_result"
    }
   ],
   "source": [
    "rows = [dict(row) for row in rows]\n",
    "rows"
   ]
  },
  {
   "cell_type": "markdown",
   "metadata": {},
   "source": [
    "We can then create a `DataFrame` from this `list` of `dictionaries`. One of the nice things about `pandas` is that it supports many ways in which to construct `DataFrame`s!"
   ]
  },
  {
   "cell_type": "code",
   "execution_count": 12,
   "metadata": {},
   "outputs": [
    {
     "data": {
      "text/html": [
       "<div>\n",
       "<style scoped>\n",
       "    .dataframe tbody tr th:only-of-type {\n",
       "        vertical-align: middle;\n",
       "    }\n",
       "\n",
       "    .dataframe tbody tr th {\n",
       "        vertical-align: top;\n",
       "    }\n",
       "\n",
       "    .dataframe thead th {\n",
       "        text-align: right;\n",
       "    }\n",
       "</style>\n",
       "<table border=\"1\" class=\"dataframe\">\n",
       "  <thead>\n",
       "    <tr style=\"text-align: right;\">\n",
       "      <th></th>\n",
       "      <th>id</th>\n",
       "      <th>name</th>\n",
       "      <th>charge_cost</th>\n",
       "    </tr>\n",
       "  </thead>\n",
       "  <tbody>\n",
       "    <tr>\n",
       "      <th>0</th>\n",
       "      <td>1</td>\n",
       "      <td>Audit Team 1</td>\n",
       "      <td>30</td>\n",
       "    </tr>\n",
       "    <tr>\n",
       "      <th>1</th>\n",
       "      <td>2</td>\n",
       "      <td>Audit Team 2</td>\n",
       "      <td>30</td>\n",
       "    </tr>\n",
       "    <tr>\n",
       "      <th>2</th>\n",
       "      <td>3</td>\n",
       "      <td>Risk Team 1</td>\n",
       "      <td>50</td>\n",
       "    </tr>\n",
       "    <tr>\n",
       "      <th>3</th>\n",
       "      <td>4</td>\n",
       "      <td>Risk Team 2</td>\n",
       "      <td>50</td>\n",
       "    </tr>\n",
       "    <tr>\n",
       "      <th>4</th>\n",
       "      <td>5</td>\n",
       "      <td>Audit Escalate</td>\n",
       "      <td>60</td>\n",
       "    </tr>\n",
       "    <tr>\n",
       "      <th>5</th>\n",
       "      <td>6</td>\n",
       "      <td>Risk Escalate</td>\n",
       "      <td>100</td>\n",
       "    </tr>\n",
       "    <tr>\n",
       "      <th>6</th>\n",
       "      <td>7</td>\n",
       "      <td>Data Team 1</td>\n",
       "      <td>40</td>\n",
       "    </tr>\n",
       "    <tr>\n",
       "      <th>7</th>\n",
       "      <td>8</td>\n",
       "      <td>Data Team 2</td>\n",
       "      <td>40</td>\n",
       "    </tr>\n",
       "    <tr>\n",
       "      <th>8</th>\n",
       "      <td>9</td>\n",
       "      <td>Data Escalate</td>\n",
       "      <td>80</td>\n",
       "    </tr>\n",
       "    <tr>\n",
       "      <th>9</th>\n",
       "      <td>10</td>\n",
       "      <td>Corporate</td>\n",
       "      <td>100</td>\n",
       "    </tr>\n",
       "  </tbody>\n",
       "</table>\n",
       "</div>"
      ],
      "text/plain": [
       "   id            name charge_cost\n",
       "0   1    Audit Team 1          30\n",
       "1   2    Audit Team 2          30\n",
       "2   3     Risk Team 1          50\n",
       "3   4     Risk Team 2          50\n",
       "4   5  Audit Escalate          60\n",
       "5   6   Risk Escalate         100\n",
       "6   7     Data Team 1          40\n",
       "7   8     Data Team 2          40\n",
       "8   9   Data Escalate          80\n",
       "9  10       Corporate         100"
      ]
     },
     "execution_count": 12,
     "metadata": {},
     "output_type": "execute_result"
    }
   ],
   "source": [
    "import pandas as pd\n",
    "results = pd.DataFrame(rows)\n",
    "results.columns = first_row.keys()\n",
    "results"
   ]
  },
  {
   "cell_type": "markdown",
   "metadata": {},
   "source": [
    "# Direct `pandas` interface\n",
    "\n",
    "That was pretty straightforward, but `pandas` also provides the `.read_sql()` function to create a `DataFrame` directly from a query. We need to pass in two arguments: the `SQL` query to run, and the connection to run it with."
   ]
  },
  {
   "cell_type": "code",
   "execution_count": 13,
   "metadata": {},
   "outputs": [
    {
     "name": "stdout",
     "output_type": "stream",
     "text": [
      "2021-05-27 18:40:56,185 INFO sqlalchemy.engine.Engine select relname from pg_class c join pg_namespace n on n.oid=c.relnamespace where pg_catalog.pg_table_is_visible(c.oid) and relname=%(name)s\n",
      "2021-05-27 18:40:56,186 INFO sqlalchemy.engine.Engine [generated in 0.00101s] {'name': '\\n    SELECT \\n      department,\\n      ROUND(AVG(salary), 2) AS avg_salary,\\n      COUNT(id) AS num_employees\\n    FROM employees \\n    GROUP BY department'}\n",
      "2021-05-27 18:40:56,244 INFO sqlalchemy.engine.Engine \n",
      "    SELECT \n",
      "      department,\n",
      "      ROUND(AVG(salary), 2) AS avg_salary,\n",
      "      COUNT(id) AS num_employees\n",
      "    FROM employees \n",
      "    GROUP BY department\n",
      "2021-05-27 18:40:56,246 INFO sqlalchemy.engine.Engine [raw sql] {}\n"
     ]
    },
    {
     "data": {
      "text/html": [
       "<div>\n",
       "<style scoped>\n",
       "    .dataframe tbody tr th:only-of-type {\n",
       "        vertical-align: middle;\n",
       "    }\n",
       "\n",
       "    .dataframe tbody tr th {\n",
       "        vertical-align: top;\n",
       "    }\n",
       "\n",
       "    .dataframe thead th {\n",
       "        text-align: right;\n",
       "    }\n",
       "</style>\n",
       "<table border=\"1\" class=\"dataframe\">\n",
       "  <thead>\n",
       "    <tr style=\"text-align: right;\">\n",
       "      <th></th>\n",
       "      <th>department</th>\n",
       "      <th>avg_salary</th>\n",
       "      <th>num_employees</th>\n",
       "    </tr>\n",
       "  </thead>\n",
       "  <tbody>\n",
       "    <tr>\n",
       "      <th>0</th>\n",
       "      <td>Marketing</td>\n",
       "      <td>61132.48</td>\n",
       "      <td>84</td>\n",
       "    </tr>\n",
       "    <tr>\n",
       "      <th>1</th>\n",
       "      <td>Training</td>\n",
       "      <td>59852.68</td>\n",
       "      <td>81</td>\n",
       "    </tr>\n",
       "    <tr>\n",
       "      <th>2</th>\n",
       "      <td>Research and Development</td>\n",
       "      <td>58450.00</td>\n",
       "      <td>94</td>\n",
       "    </tr>\n",
       "    <tr>\n",
       "      <th>3</th>\n",
       "      <td>Business Development</td>\n",
       "      <td>61175.28</td>\n",
       "      <td>77</td>\n",
       "    </tr>\n",
       "    <tr>\n",
       "      <th>4</th>\n",
       "      <td>Sales</td>\n",
       "      <td>62600.53</td>\n",
       "      <td>80</td>\n",
       "    </tr>\n",
       "    <tr>\n",
       "      <th>5</th>\n",
       "      <td>Product Management</td>\n",
       "      <td>55723.27</td>\n",
       "      <td>79</td>\n",
       "    </tr>\n",
       "    <tr>\n",
       "      <th>6</th>\n",
       "      <td>Support</td>\n",
       "      <td>59573.90</td>\n",
       "      <td>81</td>\n",
       "    </tr>\n",
       "    <tr>\n",
       "      <th>7</th>\n",
       "      <td>Legal</td>\n",
       "      <td>56503.95</td>\n",
       "      <td>102</td>\n",
       "    </tr>\n",
       "    <tr>\n",
       "      <th>8</th>\n",
       "      <td>Accounting</td>\n",
       "      <td>60557.16</td>\n",
       "      <td>72</td>\n",
       "    </tr>\n",
       "    <tr>\n",
       "      <th>9</th>\n",
       "      <td>Human Resources</td>\n",
       "      <td>60200.30</td>\n",
       "      <td>90</td>\n",
       "    </tr>\n",
       "    <tr>\n",
       "      <th>10</th>\n",
       "      <td>Services</td>\n",
       "      <td>63063.45</td>\n",
       "      <td>73</td>\n",
       "    </tr>\n",
       "    <tr>\n",
       "      <th>11</th>\n",
       "      <td>Engineering</td>\n",
       "      <td>61575.59</td>\n",
       "      <td>87</td>\n",
       "    </tr>\n",
       "  </tbody>\n",
       "</table>\n",
       "</div>"
      ],
      "text/plain": [
       "                  department  avg_salary  num_employees\n",
       "0                  Marketing    61132.48             84\n",
       "1                   Training    59852.68             81\n",
       "2   Research and Development    58450.00             94\n",
       "3       Business Development    61175.28             77\n",
       "4                      Sales    62600.53             80\n",
       "5         Product Management    55723.27             79\n",
       "6                    Support    59573.90             81\n",
       "7                      Legal    56503.95            102\n",
       "8                 Accounting    60557.16             72\n",
       "9            Human Resources    60200.30             90\n",
       "10                  Services    63063.45             73\n",
       "11               Engineering    61575.59             87"
      ]
     },
     "execution_count": 13,
     "metadata": {},
     "output_type": "execute_result"
    }
   ],
   "source": [
    "sql_query = \"\"\"\n",
    "    SELECT \n",
    "      department,\n",
    "      ROUND(AVG(salary), 2) AS avg_salary,\n",
    "      COUNT(id) AS num_employees\n",
    "    FROM employees \n",
    "    GROUP BY department\"\"\"\n",
    "\n",
    "with engine.connect() as connection:\n",
    "    results = pd.read_sql(sql = sql_query, con = connection)\n",
    "results"
   ]
  },
  {
   "cell_type": "markdown",
   "metadata": {},
   "source": [
    "Again, however, it makes sense to try to devolve as much of your analysis as possible to the database. In particular, if you are performing **split-apply-combine** operations on big data sets, try to perform these as far as possible in `SQL`, so that you are bringing only **summarised/reduced** data back into `pandas`. \n",
    "\n",
    "Often, however, you may be limited to **read-only** access to a database, in which case you may have little choice but to perform certain operations in `pandas`, or alternatively, for large datasets, in a local `sqlite` database as mentioned above."
   ]
  },
  {
   "cell_type": "markdown",
   "metadata": {},
   "source": [
    "<hr style=\"border:8px solid black\"> </hr>\n",
    "\n",
    "***\n",
    "\n",
    "**<u>Task - 5 mins</u>**\n",
    "\n",
    "* Fetch all the rows from the `teams` table in the `omni_pool` database and save them to a new `DataFrame` called `teams`\n",
    "* [**Harder**] Get a `DataFrame` called `team_avg_salaries` showing team name (`team_name`) with the average salary (`avg_salary`) for each team. This will require joining and aggregation: perform both in the database.\n",
    "\n",
    "**Solution**"
   ]
  },
  {
   "cell_type": "code",
   "execution_count": 14,
   "metadata": {},
   "outputs": [
    {
     "name": "stdout",
     "output_type": "stream",
     "text": [
      "2021-05-27 18:40:56,312 INFO sqlalchemy.engine.Engine select relname from pg_class c join pg_namespace n on n.oid=c.relnamespace where pg_catalog.pg_table_is_visible(c.oid) and relname=%(name)s\n",
      "2021-05-27 18:40:56,313 INFO sqlalchemy.engine.Engine [cached since 0.1278s ago] {'name': 'SELECT * FROM teams'}\n",
      "2021-05-27 18:40:56,374 INFO sqlalchemy.engine.Engine SELECT * FROM teams\n",
      "2021-05-27 18:40:56,376 INFO sqlalchemy.engine.Engine [raw sql] {}\n"
     ]
    },
    {
     "data": {
      "text/html": [
       "<div>\n",
       "<style scoped>\n",
       "    .dataframe tbody tr th:only-of-type {\n",
       "        vertical-align: middle;\n",
       "    }\n",
       "\n",
       "    .dataframe tbody tr th {\n",
       "        vertical-align: top;\n",
       "    }\n",
       "\n",
       "    .dataframe thead th {\n",
       "        text-align: right;\n",
       "    }\n",
       "</style>\n",
       "<table border=\"1\" class=\"dataframe\">\n",
       "  <thead>\n",
       "    <tr style=\"text-align: right;\">\n",
       "      <th></th>\n",
       "      <th>id</th>\n",
       "      <th>name</th>\n",
       "      <th>charge_cost</th>\n",
       "    </tr>\n",
       "  </thead>\n",
       "  <tbody>\n",
       "    <tr>\n",
       "      <th>0</th>\n",
       "      <td>1</td>\n",
       "      <td>Audit Team 1</td>\n",
       "      <td>30</td>\n",
       "    </tr>\n",
       "    <tr>\n",
       "      <th>1</th>\n",
       "      <td>2</td>\n",
       "      <td>Audit Team 2</td>\n",
       "      <td>30</td>\n",
       "    </tr>\n",
       "    <tr>\n",
       "      <th>2</th>\n",
       "      <td>3</td>\n",
       "      <td>Risk Team 1</td>\n",
       "      <td>50</td>\n",
       "    </tr>\n",
       "    <tr>\n",
       "      <th>3</th>\n",
       "      <td>4</td>\n",
       "      <td>Risk Team 2</td>\n",
       "      <td>50</td>\n",
       "    </tr>\n",
       "    <tr>\n",
       "      <th>4</th>\n",
       "      <td>5</td>\n",
       "      <td>Audit Escalate</td>\n",
       "      <td>60</td>\n",
       "    </tr>\n",
       "    <tr>\n",
       "      <th>5</th>\n",
       "      <td>6</td>\n",
       "      <td>Risk Escalate</td>\n",
       "      <td>100</td>\n",
       "    </tr>\n",
       "    <tr>\n",
       "      <th>6</th>\n",
       "      <td>7</td>\n",
       "      <td>Data Team 1</td>\n",
       "      <td>40</td>\n",
       "    </tr>\n",
       "    <tr>\n",
       "      <th>7</th>\n",
       "      <td>8</td>\n",
       "      <td>Data Team 2</td>\n",
       "      <td>40</td>\n",
       "    </tr>\n",
       "    <tr>\n",
       "      <th>8</th>\n",
       "      <td>9</td>\n",
       "      <td>Data Escalate</td>\n",
       "      <td>80</td>\n",
       "    </tr>\n",
       "    <tr>\n",
       "      <th>9</th>\n",
       "      <td>10</td>\n",
       "      <td>Corporate</td>\n",
       "      <td>100</td>\n",
       "    </tr>\n",
       "  </tbody>\n",
       "</table>\n",
       "</div>"
      ],
      "text/plain": [
       "   id            name charge_cost\n",
       "0   1    Audit Team 1          30\n",
       "1   2    Audit Team 2          30\n",
       "2   3     Risk Team 1          50\n",
       "3   4     Risk Team 2          50\n",
       "4   5  Audit Escalate          60\n",
       "5   6   Risk Escalate         100\n",
       "6   7     Data Team 1          40\n",
       "7   8     Data Team 2          40\n",
       "8   9   Data Escalate          80\n",
       "9  10       Corporate         100"
      ]
     },
     "execution_count": 14,
     "metadata": {},
     "output_type": "execute_result"
    }
   ],
   "source": [
    "with engine.connect() as connection:\n",
    "    teams = pd.read_sql(sql='SELECT * FROM teams', con=connection)\n",
    "teams"
   ]
  },
  {
   "cell_type": "code",
   "execution_count": 15,
   "metadata": {},
   "outputs": [
    {
     "name": "stdout",
     "output_type": "stream",
     "text": [
      "2021-05-27 18:40:56,438 INFO sqlalchemy.engine.Engine select relname from pg_class c join pg_namespace n on n.oid=c.relnamespace where pg_catalog.pg_table_is_visible(c.oid) and relname=%(name)s\n",
      "2021-05-27 18:40:56,439 INFO sqlalchemy.engine.Engine [cached since 0.2542s ago] {'name': '\\n            SELECT \\n                t.name AS team_name,\\n                ROUND(AVG(e.salary), 2) AS avg_salary\\n            FROM employees AS e INNER JOIN teams AS t\\n            ON e.team_id = t.id\\n            GROUP BY t.name\\n        '}\n",
      "2021-05-27 18:40:56,502 INFO sqlalchemy.engine.Engine \n",
      "            SELECT \n",
      "                t.name AS team_name,\n",
      "                ROUND(AVG(e.salary), 2) AS avg_salary\n",
      "            FROM employees AS e INNER JOIN teams AS t\n",
      "            ON e.team_id = t.id\n",
      "            GROUP BY t.name\n",
      "        \n",
      "2021-05-27 18:40:56,503 INFO sqlalchemy.engine.Engine [raw sql] {}\n"
     ]
    },
    {
     "data": {
      "text/html": [
       "<div>\n",
       "<style scoped>\n",
       "    .dataframe tbody tr th:only-of-type {\n",
       "        vertical-align: middle;\n",
       "    }\n",
       "\n",
       "    .dataframe tbody tr th {\n",
       "        vertical-align: top;\n",
       "    }\n",
       "\n",
       "    .dataframe thead th {\n",
       "        text-align: right;\n",
       "    }\n",
       "</style>\n",
       "<table border=\"1\" class=\"dataframe\">\n",
       "  <thead>\n",
       "    <tr style=\"text-align: right;\">\n",
       "      <th></th>\n",
       "      <th>team_name</th>\n",
       "      <th>avg_salary</th>\n",
       "    </tr>\n",
       "  </thead>\n",
       "  <tbody>\n",
       "    <tr>\n",
       "      <th>0</th>\n",
       "      <td>Audit Team 2</td>\n",
       "      <td>63909.17</td>\n",
       "    </tr>\n",
       "    <tr>\n",
       "      <th>1</th>\n",
       "      <td>Risk Team 1</td>\n",
       "      <td>63054.65</td>\n",
       "    </tr>\n",
       "    <tr>\n",
       "      <th>2</th>\n",
       "      <td>Data Team 1</td>\n",
       "      <td>62983.22</td>\n",
       "    </tr>\n",
       "    <tr>\n",
       "      <th>3</th>\n",
       "      <td>Data Team 2</td>\n",
       "      <td>59545.49</td>\n",
       "    </tr>\n",
       "    <tr>\n",
       "      <th>4</th>\n",
       "      <td>Corporate</td>\n",
       "      <td>60988.89</td>\n",
       "    </tr>\n",
       "    <tr>\n",
       "      <th>5</th>\n",
       "      <td>Audit Escalate</td>\n",
       "      <td>59210.88</td>\n",
       "    </tr>\n",
       "    <tr>\n",
       "      <th>6</th>\n",
       "      <td>Risk Team 2</td>\n",
       "      <td>56816.13</td>\n",
       "    </tr>\n",
       "    <tr>\n",
       "      <th>7</th>\n",
       "      <td>Data Escalate</td>\n",
       "      <td>59944.80</td>\n",
       "    </tr>\n",
       "    <tr>\n",
       "      <th>8</th>\n",
       "      <td>Audit Team 1</td>\n",
       "      <td>57203.59</td>\n",
       "    </tr>\n",
       "    <tr>\n",
       "      <th>9</th>\n",
       "      <td>Risk Escalate</td>\n",
       "      <td>56514.34</td>\n",
       "    </tr>\n",
       "  </tbody>\n",
       "</table>\n",
       "</div>"
      ],
      "text/plain": [
       "        team_name  avg_salary\n",
       "0    Audit Team 2    63909.17\n",
       "1     Risk Team 1    63054.65\n",
       "2     Data Team 1    62983.22\n",
       "3     Data Team 2    59545.49\n",
       "4       Corporate    60988.89\n",
       "5  Audit Escalate    59210.88\n",
       "6     Risk Team 2    56816.13\n",
       "7   Data Escalate    59944.80\n",
       "8    Audit Team 1    57203.59\n",
       "9   Risk Escalate    56514.34"
      ]
     },
     "execution_count": 15,
     "metadata": {},
     "output_type": "execute_result"
    }
   ],
   "source": [
    "with engine.connect() as connection:\n",
    "    team_avg_salaries = pd.read_sql(sql='''\n",
    "            SELECT \n",
    "                t.name AS team_name,\n",
    "                ROUND(AVG(e.salary), 2) AS avg_salary\n",
    "            FROM employees AS e INNER JOIN teams AS t\n",
    "            ON e.team_id = t.id\n",
    "            GROUP BY t.name\n",
    "        ''',\n",
    "    con=connection\n",
    "    )\n",
    "\n",
    "team_avg_salaries"
   ]
  },
  {
   "cell_type": "markdown",
   "metadata": {},
   "source": [
    "***\n",
    "\n",
    "<hr style=\"border:8px solid black\"> </hr>"
   ]
  }
 ],
 "metadata": {
  "kernelspec": {
   "display_name": "Python 3",
   "language": "python",
   "name": "python3"
  },
  "language_info": {
   "codemirror_mode": {
    "name": "ipython",
    "version": 3
   },
   "file_extension": ".py",
   "mimetype": "text/x-python",
   "name": "python",
   "nbconvert_exporter": "python",
   "pygments_lexer": "ipython3",
   "version": "3.8.8"
  },
  "latex_envs": {
   "LaTeX_envs_menu_present": true,
   "autoclose": false,
   "autocomplete": true,
   "bibliofile": "biblio.bib",
   "cite_by": "apalike",
   "current_citInitial": 1,
   "eqLabelWithNumbers": true,
   "eqNumInitial": 1,
   "hotkeys": {
    "equation": "Ctrl-E",
    "itemize": "Ctrl-I"
   },
   "labels_anchors": false,
   "latex_user_defs": false,
   "report_style_numbering": false,
   "user_envs_cfg": false
  },
  "toc": {
   "base_numbering": 1,
   "nav_menu": {},
   "number_sections": true,
   "sideBar": true,
   "skip_h1_title": false,
   "title_cell": "Table of Contents",
   "title_sidebar": "Contents",
   "toc_cell": true,
   "toc_position": {},
   "toc_section_display": true,
   "toc_window_display": false
  }
 },
 "nbformat": 4,
 "nbformat_minor": 4
}
