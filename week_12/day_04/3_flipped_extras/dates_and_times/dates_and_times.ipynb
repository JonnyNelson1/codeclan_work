{
 "cells": [
  {
   "cell_type": "markdown",
   "id": "eb6485c6",
   "metadata": {},
   "source": [
    "***\n",
    "\n",
    "# Dates and times\n",
    "\n",
    "Date time data go together with text data as causing particular difficulties for data analysts, but hopefully you will soon agree that `pandas` offers excellent tools for handling dates and times! Base `Python` offers the `datetime` module with three date and time related classes:\n",
    "\n",
    "* `date`: consists of year, month and day\n",
    "* `time`: hours, minutes, seconds and microseconds\n",
    "* `datetime`: combination of `date` and `time`\n",
    "\n",
    "By way of contrast, `pandas` simply offers the `Timestamp` class (built upon `numpy`'s `datetime64` class)\n",
    "\n",
    "\n",
    "# Setup"
   ]
  },
  {
   "cell_type": "code",
   "execution_count": 1,
   "id": "380d6f47",
   "metadata": {},
   "outputs": [],
   "source": [
    "import pandas as pd\n",
    "import numpy as np\n",
    "\n",
    "feedback = pd.DataFrame({\n",
    "    'item_no': pd.Series([2, 2, 3, 4, 5, 1, 9, 5, 7, 10, 8], dtype='Int64'),\n",
    "    'date': pd.Series(['2020-04-11', '2020-04-12', '2020-05-13', np.nan, '2020-05-28', '2020-05-29',\n",
    "                       '2020-06-01', '2020-06-07', '2020-06-300', '2020-06-30', '2020-08-01']),\n",
    "    'rating': pd.Series([5, 1, 3, 5, 4, 3, 2, 5, 1, 4, 5], dtype='Int64'),\n",
    "    'message': pd.Series([\"Ideal for my lunchbox - Dave Smith\", \"Broke first time I used it, I want a refund! Get back to me at lenore29@gmail.com or 07700 900796\",\n",
    "                        \"My name is Tony 07700900829\", \"Bought another one for my sister\", \"Works pretty well, but can't handle carrots\", \n",
    "                        \"The concept is great, the execution- not so great, thin handles - Eleanor & dave\", \"Bit of a cheap version of the real thing\",\n",
    "                        \"Arrived on time, as expected\", \"Customer service terrible - hello anyone there?! DaveAllsop@yahoo.co.uk, 07700 900572 or 0131 9496 0886\", \n",
    "                        \"Workks well, seems solid, good value\", \"Great finish on it, really decent build quality\"], dtype='string')\n",
    "})"
   ]
  },
  {
   "cell_type": "markdown",
   "id": "3e903f90",
   "metadata": {},
   "source": [
    "\n",
    "## Converting values to `Timestamp`s"
   ]
  },
  {
   "cell_type": "code",
   "execution_count": 2,
   "id": "80bd5f23",
   "metadata": {},
   "outputs": [
    {
     "data": {
      "text/plain": [
       "0      2020-04-11\n",
       "1      2020-04-12\n",
       "2      2020-05-13\n",
       "3             NaN\n",
       "4      2020-05-28\n",
       "5      2020-05-29\n",
       "6      2020-06-01\n",
       "7      2020-06-07\n",
       "8     2020-06-300\n",
       "9      2020-06-30\n",
       "10     2020-08-01\n",
       "Name: date, dtype: object"
      ]
     },
     "execution_count": 2,
     "metadata": {},
     "output_type": "execute_result"
    }
   ],
   "source": [
    "feedback.date"
   ]
  },
  {
   "cell_type": "markdown",
   "id": "1b87703b",
   "metadata": {},
   "source": [
    "This `Series` is currently `object` type (it holds strings), but we can try to convert this `Series` to `Timestamp` type using `pandas` `to_datetime()` method. We set argument `yearfirst=True` to say that in the strings given, it looks like year comes first, i.e. dates are written '2021-01-01', and not '01-01-2021'"
   ]
  },
  {
   "cell_type": "code",
   "execution_count": 3,
   "id": "af110980",
   "metadata": {},
   "outputs": [
    {
     "ename": "ParserError",
     "evalue": "Unknown string format: 2020-06-300",
     "output_type": "error",
     "traceback": [
      "\u001b[0;31m---------------------------------------------------------------------------\u001b[0m",
      "\u001b[0;31mTypeError\u001b[0m                                 Traceback (most recent call last)",
      "\u001b[0;32m/usr/local/lib/python3.9/site-packages/pandas/core/arrays/datetimes.py\u001b[0m in \u001b[0;36mobjects_to_datetime64ns\u001b[0;34m(data, dayfirst, yearfirst, utc, errors, require_iso8601, allow_object, allow_mixed)\u001b[0m\n\u001b[1;32m   2186\u001b[0m         \u001b[0;32mtry\u001b[0m\u001b[0;34m:\u001b[0m\u001b[0;34m\u001b[0m\u001b[0;34m\u001b[0m\u001b[0m\n\u001b[0;32m-> 2187\u001b[0;31m             \u001b[0mvalues\u001b[0m\u001b[0;34m,\u001b[0m \u001b[0mtz_parsed\u001b[0m \u001b[0;34m=\u001b[0m \u001b[0mconversion\u001b[0m\u001b[0;34m.\u001b[0m\u001b[0mdatetime_to_datetime64\u001b[0m\u001b[0;34m(\u001b[0m\u001b[0mdata\u001b[0m\u001b[0;34m.\u001b[0m\u001b[0mravel\u001b[0m\u001b[0;34m(\u001b[0m\u001b[0;34m\"K\"\u001b[0m\u001b[0;34m)\u001b[0m\u001b[0;34m)\u001b[0m\u001b[0;34m\u001b[0m\u001b[0;34m\u001b[0m\u001b[0m\n\u001b[0m\u001b[1;32m   2188\u001b[0m             \u001b[0;31m# If tzaware, these values represent unix timestamps, so we\u001b[0m\u001b[0;34m\u001b[0m\u001b[0;34m\u001b[0m\u001b[0;34m\u001b[0m\u001b[0m\n",
      "\u001b[0;32m/usr/local/lib/python3.9/site-packages/pandas/_libs/tslibs/conversion.pyx\u001b[0m in \u001b[0;36mpandas._libs.tslibs.conversion.datetime_to_datetime64\u001b[0;34m()\u001b[0m\n",
      "\u001b[0;31mTypeError\u001b[0m: Unrecognized value type: <class 'str'>",
      "\nDuring handling of the above exception, another exception occurred:\n",
      "\u001b[0;31mParserError\u001b[0m                               Traceback (most recent call last)",
      "\u001b[0;32m/var/folders/5j/6v_z5t2d3fg9rxy00gqldj2h0000gn/T/ipykernel_36454/1032429040.py\u001b[0m in \u001b[0;36m<module>\u001b[0;34m\u001b[0m\n\u001b[0;32m----> 1\u001b[0;31m \u001b[0mfeedback\u001b[0m\u001b[0;34m.\u001b[0m\u001b[0mloc\u001b[0m\u001b[0;34m[\u001b[0m\u001b[0;34m:\u001b[0m\u001b[0;34m,\u001b[0m \u001b[0;34m'date'\u001b[0m\u001b[0;34m]\u001b[0m \u001b[0;34m=\u001b[0m \u001b[0mpd\u001b[0m\u001b[0;34m.\u001b[0m\u001b[0mto_datetime\u001b[0m\u001b[0;34m(\u001b[0m\u001b[0mfeedback\u001b[0m\u001b[0;34m.\u001b[0m\u001b[0mdate\u001b[0m\u001b[0;34m,\u001b[0m \u001b[0myearfirst\u001b[0m\u001b[0;34m=\u001b[0m\u001b[0;32mTrue\u001b[0m\u001b[0;34m)\u001b[0m\u001b[0;34m\u001b[0m\u001b[0;34m\u001b[0m\u001b[0m\n\u001b[0m",
      "\u001b[0;32m/usr/local/lib/python3.9/site-packages/pandas/core/tools/datetimes.py\u001b[0m in \u001b[0;36mto_datetime\u001b[0;34m(arg, errors, dayfirst, yearfirst, utc, format, exact, unit, infer_datetime_format, origin, cache)\u001b[0m\n\u001b[1;32m    885\u001b[0m             \u001b[0mresult\u001b[0m \u001b[0;34m=\u001b[0m \u001b[0marg\u001b[0m\u001b[0;34m.\u001b[0m\u001b[0mmap\u001b[0m\u001b[0;34m(\u001b[0m\u001b[0mcache_array\u001b[0m\u001b[0;34m)\u001b[0m\u001b[0;34m\u001b[0m\u001b[0;34m\u001b[0m\u001b[0m\n\u001b[1;32m    886\u001b[0m         \u001b[0;32melse\u001b[0m\u001b[0;34m:\u001b[0m\u001b[0;34m\u001b[0m\u001b[0;34m\u001b[0m\u001b[0m\n\u001b[0;32m--> 887\u001b[0;31m             \u001b[0mvalues\u001b[0m \u001b[0;34m=\u001b[0m \u001b[0mconvert_listlike\u001b[0m\u001b[0;34m(\u001b[0m\u001b[0marg\u001b[0m\u001b[0;34m.\u001b[0m\u001b[0m_values\u001b[0m\u001b[0;34m,\u001b[0m \u001b[0mformat\u001b[0m\u001b[0;34m)\u001b[0m\u001b[0;34m\u001b[0m\u001b[0;34m\u001b[0m\u001b[0m\n\u001b[0m\u001b[1;32m    888\u001b[0m             \u001b[0mresult\u001b[0m \u001b[0;34m=\u001b[0m \u001b[0marg\u001b[0m\u001b[0;34m.\u001b[0m\u001b[0m_constructor\u001b[0m\u001b[0;34m(\u001b[0m\u001b[0mvalues\u001b[0m\u001b[0;34m,\u001b[0m \u001b[0mindex\u001b[0m\u001b[0;34m=\u001b[0m\u001b[0marg\u001b[0m\u001b[0;34m.\u001b[0m\u001b[0mindex\u001b[0m\u001b[0;34m,\u001b[0m \u001b[0mname\u001b[0m\u001b[0;34m=\u001b[0m\u001b[0marg\u001b[0m\u001b[0;34m.\u001b[0m\u001b[0mname\u001b[0m\u001b[0;34m)\u001b[0m\u001b[0;34m\u001b[0m\u001b[0;34m\u001b[0m\u001b[0m\n\u001b[1;32m    889\u001b[0m     \u001b[0;32melif\u001b[0m \u001b[0misinstance\u001b[0m\u001b[0;34m(\u001b[0m\u001b[0marg\u001b[0m\u001b[0;34m,\u001b[0m \u001b[0;34m(\u001b[0m\u001b[0mABCDataFrame\u001b[0m\u001b[0;34m,\u001b[0m \u001b[0mabc\u001b[0m\u001b[0;34m.\u001b[0m\u001b[0mMutableMapping\u001b[0m\u001b[0;34m)\u001b[0m\u001b[0;34m)\u001b[0m\u001b[0;34m:\u001b[0m\u001b[0;34m\u001b[0m\u001b[0;34m\u001b[0m\u001b[0m\n",
      "\u001b[0;32m/usr/local/lib/python3.9/site-packages/pandas/core/tools/datetimes.py\u001b[0m in \u001b[0;36m_convert_listlike_datetimes\u001b[0;34m(arg, format, name, tz, unit, errors, infer_datetime_format, dayfirst, yearfirst, exact)\u001b[0m\n\u001b[1;32m    399\u001b[0m     \u001b[0;32massert\u001b[0m \u001b[0mformat\u001b[0m \u001b[0;32mis\u001b[0m \u001b[0;32mNone\u001b[0m \u001b[0;32mor\u001b[0m \u001b[0minfer_datetime_format\u001b[0m\u001b[0;34m\u001b[0m\u001b[0;34m\u001b[0m\u001b[0m\n\u001b[1;32m    400\u001b[0m     \u001b[0mutc\u001b[0m \u001b[0;34m=\u001b[0m \u001b[0mtz\u001b[0m \u001b[0;34m==\u001b[0m \u001b[0;34m\"utc\"\u001b[0m\u001b[0;34m\u001b[0m\u001b[0;34m\u001b[0m\u001b[0m\n\u001b[0;32m--> 401\u001b[0;31m     result, tz_parsed = objects_to_datetime64ns(\n\u001b[0m\u001b[1;32m    402\u001b[0m         \u001b[0marg\u001b[0m\u001b[0;34m,\u001b[0m\u001b[0;34m\u001b[0m\u001b[0;34m\u001b[0m\u001b[0m\n\u001b[1;32m    403\u001b[0m         \u001b[0mdayfirst\u001b[0m\u001b[0;34m=\u001b[0m\u001b[0mdayfirst\u001b[0m\u001b[0;34m,\u001b[0m\u001b[0;34m\u001b[0m\u001b[0;34m\u001b[0m\u001b[0m\n",
      "\u001b[0;32m/usr/local/lib/python3.9/site-packages/pandas/core/arrays/datetimes.py\u001b[0m in \u001b[0;36mobjects_to_datetime64ns\u001b[0;34m(data, dayfirst, yearfirst, utc, errors, require_iso8601, allow_object, allow_mixed)\u001b[0m\n\u001b[1;32m   2191\u001b[0m             \u001b[0;32mreturn\u001b[0m \u001b[0mvalues\u001b[0m\u001b[0;34m.\u001b[0m\u001b[0mview\u001b[0m\u001b[0;34m(\u001b[0m\u001b[0;34m\"i8\"\u001b[0m\u001b[0;34m)\u001b[0m\u001b[0;34m,\u001b[0m \u001b[0mtz_parsed\u001b[0m\u001b[0;34m\u001b[0m\u001b[0;34m\u001b[0m\u001b[0m\n\u001b[1;32m   2192\u001b[0m         \u001b[0;32mexcept\u001b[0m \u001b[0;34m(\u001b[0m\u001b[0mValueError\u001b[0m\u001b[0;34m,\u001b[0m \u001b[0mTypeError\u001b[0m\u001b[0;34m)\u001b[0m\u001b[0;34m:\u001b[0m\u001b[0;34m\u001b[0m\u001b[0;34m\u001b[0m\u001b[0m\n\u001b[0;32m-> 2193\u001b[0;31m             \u001b[0;32mraise\u001b[0m \u001b[0merr\u001b[0m\u001b[0;34m\u001b[0m\u001b[0;34m\u001b[0m\u001b[0m\n\u001b[0m\u001b[1;32m   2194\u001b[0m \u001b[0;34m\u001b[0m\u001b[0m\n\u001b[1;32m   2195\u001b[0m     \u001b[0;32mif\u001b[0m \u001b[0mtz_parsed\u001b[0m \u001b[0;32mis\u001b[0m \u001b[0;32mnot\u001b[0m \u001b[0;32mNone\u001b[0m\u001b[0;34m:\u001b[0m\u001b[0;34m\u001b[0m\u001b[0;34m\u001b[0m\u001b[0m\n",
      "\u001b[0;32m/usr/local/lib/python3.9/site-packages/pandas/core/arrays/datetimes.py\u001b[0m in \u001b[0;36mobjects_to_datetime64ns\u001b[0;34m(data, dayfirst, yearfirst, utc, errors, require_iso8601, allow_object, allow_mixed)\u001b[0m\n\u001b[1;32m   2173\u001b[0m     \u001b[0morder\u001b[0m\u001b[0;34m:\u001b[0m \u001b[0mLiteral\u001b[0m\u001b[0;34m[\u001b[0m\u001b[0;34m\"F\"\u001b[0m\u001b[0;34m,\u001b[0m \u001b[0;34m\"C\"\u001b[0m\u001b[0;34m]\u001b[0m \u001b[0;34m=\u001b[0m \u001b[0;34m\"F\"\u001b[0m \u001b[0;32mif\u001b[0m \u001b[0mflags\u001b[0m\u001b[0;34m.\u001b[0m\u001b[0mf_contiguous\u001b[0m \u001b[0;32melse\u001b[0m \u001b[0;34m\"C\"\u001b[0m\u001b[0;34m\u001b[0m\u001b[0;34m\u001b[0m\u001b[0m\n\u001b[1;32m   2174\u001b[0m     \u001b[0;32mtry\u001b[0m\u001b[0;34m:\u001b[0m\u001b[0;34m\u001b[0m\u001b[0;34m\u001b[0m\u001b[0m\n\u001b[0;32m-> 2175\u001b[0;31m         result, tz_parsed = tslib.array_to_datetime(\n\u001b[0m\u001b[1;32m   2176\u001b[0m             \u001b[0mdata\u001b[0m\u001b[0;34m.\u001b[0m\u001b[0mravel\u001b[0m\u001b[0;34m(\u001b[0m\u001b[0;34m\"K\"\u001b[0m\u001b[0;34m)\u001b[0m\u001b[0;34m,\u001b[0m\u001b[0;34m\u001b[0m\u001b[0;34m\u001b[0m\u001b[0m\n\u001b[1;32m   2177\u001b[0m             \u001b[0merrors\u001b[0m\u001b[0;34m=\u001b[0m\u001b[0merrors\u001b[0m\u001b[0;34m,\u001b[0m\u001b[0;34m\u001b[0m\u001b[0;34m\u001b[0m\u001b[0m\n",
      "\u001b[0;32m/usr/local/lib/python3.9/site-packages/pandas/_libs/tslib.pyx\u001b[0m in \u001b[0;36mpandas._libs.tslib.array_to_datetime\u001b[0;34m()\u001b[0m\n",
      "\u001b[0;32m/usr/local/lib/python3.9/site-packages/pandas/_libs/tslib.pyx\u001b[0m in \u001b[0;36mpandas._libs.tslib.array_to_datetime\u001b[0;34m()\u001b[0m\n",
      "\u001b[0;32m/usr/local/lib/python3.9/site-packages/pandas/_libs/tslib.pyx\u001b[0m in \u001b[0;36mpandas._libs.tslib._array_to_datetime_object\u001b[0;34m()\u001b[0m\n",
      "\u001b[0;32m/usr/local/lib/python3.9/site-packages/pandas/_libs/tslib.pyx\u001b[0m in \u001b[0;36mpandas._libs.tslib._array_to_datetime_object\u001b[0;34m()\u001b[0m\n",
      "\u001b[0;32m/usr/local/lib/python3.9/site-packages/pandas/_libs/tslibs/parsing.pyx\u001b[0m in \u001b[0;36mpandas._libs.tslibs.parsing.parse_datetime_string\u001b[0;34m()\u001b[0m\n",
      "\u001b[0;32m/usr/local/lib/python3.9/site-packages/dateutil/parser/_parser.py\u001b[0m in \u001b[0;36mparse\u001b[0;34m(timestr, parserinfo, **kwargs)\u001b[0m\n\u001b[1;32m   1366\u001b[0m         \u001b[0;32mreturn\u001b[0m \u001b[0mparser\u001b[0m\u001b[0;34m(\u001b[0m\u001b[0mparserinfo\u001b[0m\u001b[0;34m)\u001b[0m\u001b[0;34m.\u001b[0m\u001b[0mparse\u001b[0m\u001b[0;34m(\u001b[0m\u001b[0mtimestr\u001b[0m\u001b[0;34m,\u001b[0m \u001b[0;34m**\u001b[0m\u001b[0mkwargs\u001b[0m\u001b[0;34m)\u001b[0m\u001b[0;34m\u001b[0m\u001b[0;34m\u001b[0m\u001b[0m\n\u001b[1;32m   1367\u001b[0m     \u001b[0;32melse\u001b[0m\u001b[0;34m:\u001b[0m\u001b[0;34m\u001b[0m\u001b[0;34m\u001b[0m\u001b[0m\n\u001b[0;32m-> 1368\u001b[0;31m         \u001b[0;32mreturn\u001b[0m \u001b[0mDEFAULTPARSER\u001b[0m\u001b[0;34m.\u001b[0m\u001b[0mparse\u001b[0m\u001b[0;34m(\u001b[0m\u001b[0mtimestr\u001b[0m\u001b[0;34m,\u001b[0m \u001b[0;34m**\u001b[0m\u001b[0mkwargs\u001b[0m\u001b[0;34m)\u001b[0m\u001b[0;34m\u001b[0m\u001b[0;34m\u001b[0m\u001b[0m\n\u001b[0m\u001b[1;32m   1369\u001b[0m \u001b[0;34m\u001b[0m\u001b[0m\n\u001b[1;32m   1370\u001b[0m \u001b[0;34m\u001b[0m\u001b[0m\n",
      "\u001b[0;32m/usr/local/lib/python3.9/site-packages/dateutil/parser/_parser.py\u001b[0m in \u001b[0;36mparse\u001b[0;34m(self, timestr, default, ignoretz, tzinfos, **kwargs)\u001b[0m\n\u001b[1;32m    641\u001b[0m \u001b[0;34m\u001b[0m\u001b[0m\n\u001b[1;32m    642\u001b[0m         \u001b[0;32mif\u001b[0m \u001b[0mres\u001b[0m \u001b[0;32mis\u001b[0m \u001b[0;32mNone\u001b[0m\u001b[0;34m:\u001b[0m\u001b[0;34m\u001b[0m\u001b[0;34m\u001b[0m\u001b[0m\n\u001b[0;32m--> 643\u001b[0;31m             \u001b[0;32mraise\u001b[0m \u001b[0mParserError\u001b[0m\u001b[0;34m(\u001b[0m\u001b[0;34m\"Unknown string format: %s\"\u001b[0m\u001b[0;34m,\u001b[0m \u001b[0mtimestr\u001b[0m\u001b[0;34m)\u001b[0m\u001b[0;34m\u001b[0m\u001b[0;34m\u001b[0m\u001b[0m\n\u001b[0m\u001b[1;32m    644\u001b[0m \u001b[0;34m\u001b[0m\u001b[0m\n\u001b[1;32m    645\u001b[0m         \u001b[0;32mif\u001b[0m \u001b[0mlen\u001b[0m\u001b[0;34m(\u001b[0m\u001b[0mres\u001b[0m\u001b[0;34m)\u001b[0m \u001b[0;34m==\u001b[0m \u001b[0;36m0\u001b[0m\u001b[0;34m:\u001b[0m\u001b[0;34m\u001b[0m\u001b[0;34m\u001b[0m\u001b[0m\n",
      "\u001b[0;31mParserError\u001b[0m: Unknown string format: 2020-06-300"
     ]
    }
   ],
   "source": [
    "feedback.loc[:, 'date'] = pd.to_datetime(feedback.date, yearfirst=True)"
   ]
  },
  {
   "cell_type": "markdown",
   "id": "759f361b",
   "metadata": {},
   "source": [
    "We catch an exception: `pandas` can't deal with one of the dates: presumably due to the fact that June doesn't have 300 days. We can either correct this manually, or go ahead with conversion passing the argument `errors='coerce'`. This has the effect that any string that can't be converted to a `Timestamp` will be replaced with `pd.NaT`: 'not a Time'"
   ]
  },
  {
   "cell_type": "code",
   "execution_count": 4,
   "id": "45bb5a7f",
   "metadata": {},
   "outputs": [
    {
     "data": {
      "text/plain": [
       "0    2020-04-11\n",
       "1    2020-04-12\n",
       "2    2020-05-13\n",
       "3           NaT\n",
       "4    2020-05-28\n",
       "5    2020-05-29\n",
       "6    2020-06-01\n",
       "7    2020-06-07\n",
       "8           NaT\n",
       "9    2020-06-30\n",
       "10   2020-08-01\n",
       "Name: date, dtype: datetime64[ns]"
      ]
     },
     "execution_count": 4,
     "metadata": {},
     "output_type": "execute_result"
    }
   ],
   "source": [
    "feedback.loc[:, 'date'] = pd.to_datetime(feedback.date, errors='coerce', yearfirst=True)\n",
    "feedback.date"
   ]
  },
  {
   "cell_type": "markdown",
   "id": "1fc7de21",
   "metadata": {},
   "source": [
    "## `Timestamp` and `Timedelta`\n",
    "\n",
    "What `type` is a single element in this column after conversion with `pd.to_datetime()`?"
   ]
  },
  {
   "cell_type": "code",
   "execution_count": 5,
   "id": "1265f74d",
   "metadata": {},
   "outputs": [
    {
     "data": {
      "text/plain": [
       "Timestamp('2020-04-11 00:00:00')"
      ]
     },
     "execution_count": 5,
     "metadata": {},
     "output_type": "execute_result"
    }
   ],
   "source": [
    "feedback.loc[0, 'date']"
   ]
  },
  {
   "cell_type": "markdown",
   "id": "8998da95",
   "metadata": {},
   "source": [
    "It is a `Timestamp` object. As mentioned above, this is a `pandas` specific class for holding information about an instant in time. OK, what time range does the data span?"
   ]
  },
  {
   "cell_type": "code",
   "execution_count": 6,
   "id": "74d50abd",
   "metadata": {},
   "outputs": [
    {
     "data": {
      "text/plain": [
       "Timedelta('112 days 00:00:00')"
      ]
     },
     "execution_count": 6,
     "metadata": {},
     "output_type": "execute_result"
    }
   ],
   "source": [
    "date_range = feedback.date.max() - feedback.date.min()\n",
    "date_range"
   ]
  },
  {
   "cell_type": "markdown",
   "id": "43d1d6ed",
   "metadata": {},
   "source": [
    "We get a `Timedelta` object returned. 'Delta' is a maths terms meaning 'difference' (often written as $\\delta$ for a 'small' change or $\\Delta$ otherwise), so this is a 'time difference' of 112 days. \n",
    "\n",
    "What happens if we add a `Timedelta` object to a `Timestamp`? Well, this creates another `Timestamp` object. The logic of this is as follows\n",
    "\n",
    "**point in time(`Timestamp`)** + **time range(`Timedelta`)** = **point in time(`Timestamp`)**\n",
    "\n",
    "because, as we saw above\n",
    "\n",
    "**time range(`Timedelta`)** = **point in time(`Timestamp`)** - **point in time(`Timestamp`)**"
   ]
  },
  {
   "cell_type": "code",
   "execution_count": 7,
   "id": "cfbd0a01",
   "metadata": {},
   "outputs": [
    {
     "data": {
      "text/plain": [
       "Timestamp('2020-01-02 13:00:00')"
      ]
     },
     "execution_count": 7,
     "metadata": {},
     "output_type": "execute_result"
    }
   ],
   "source": [
    "pd.Timestamp(\"2020-01-01 12:00\") + pd.Timedelta(\"1 day 1 hour\")"
   ]
  },
  {
   "cell_type": "markdown",
   "id": "1c5d8daa",
   "metadata": {},
   "source": [
    "So the following should be `True`: "
   ]
  },
  {
   "cell_type": "code",
   "execution_count": 8,
   "id": "ca62b860",
   "metadata": {},
   "outputs": [
    {
     "data": {
      "text/plain": [
       "True"
      ]
     },
     "execution_count": 8,
     "metadata": {},
     "output_type": "execute_result"
    }
   ],
   "source": [
    "feedback.date.min() + date_range == feedback.date.max()"
   ]
  },
  {
   "cell_type": "markdown",
   "id": "bbb44c0e",
   "metadata": {},
   "source": [
    "## Using the `.dt` accessor\n",
    "\n",
    "Date time `Series` in `pandas` have a wide variety of `DatetimeProperties` available through the **`.dt` accessor**. This is similar to the `.str` accessor for `StringMethods` we saw above. Let's see an example\n",
    "\n",
    "***Get the day of the week for each date***"
   ]
  },
  {
   "cell_type": "code",
   "execution_count": 9,
   "id": "e01032b3",
   "metadata": {},
   "outputs": [
    {
     "data": {
      "text/plain": [
       "0      Saturday\n",
       "1        Sunday\n",
       "2     Wednesday\n",
       "3           NaN\n",
       "4      Thursday\n",
       "5        Friday\n",
       "6        Monday\n",
       "7        Sunday\n",
       "8           NaN\n",
       "9       Tuesday\n",
       "10     Saturday\n",
       "Name: date, dtype: object"
      ]
     },
     "execution_count": 9,
     "metadata": {},
     "output_type": "execute_result"
    }
   ],
   "source": [
    "feedback.date.dt.day_name()"
   ]
  },
  {
   "cell_type": "markdown",
   "id": "73eadf64",
   "metadata": {},
   "source": [
    "***Get the week of the year for each date***\n",
    "\n",
    "You can access `year`, `week` and `day` components of the `Timestamp`s through the `.isocalendar()` method. This method provides components corresponding to the `ISO 8601` standard: an unambiguous calendar that is understood internationally. "
   ]
  },
  {
   "cell_type": "code",
   "execution_count": 10,
   "id": "2ceed2a6",
   "metadata": {},
   "outputs": [
    {
     "data": {
      "text/html": [
       "<div>\n",
       "<style scoped>\n",
       "    .dataframe tbody tr th:only-of-type {\n",
       "        vertical-align: middle;\n",
       "    }\n",
       "\n",
       "    .dataframe tbody tr th {\n",
       "        vertical-align: top;\n",
       "    }\n",
       "\n",
       "    .dataframe thead th {\n",
       "        text-align: right;\n",
       "    }\n",
       "</style>\n",
       "<table border=\"1\" class=\"dataframe\">\n",
       "  <thead>\n",
       "    <tr style=\"text-align: right;\">\n",
       "      <th></th>\n",
       "      <th>year</th>\n",
       "      <th>week</th>\n",
       "      <th>day</th>\n",
       "    </tr>\n",
       "  </thead>\n",
       "  <tbody>\n",
       "    <tr>\n",
       "      <th>0</th>\n",
       "      <td>2020</td>\n",
       "      <td>15</td>\n",
       "      <td>6</td>\n",
       "    </tr>\n",
       "    <tr>\n",
       "      <th>1</th>\n",
       "      <td>2020</td>\n",
       "      <td>15</td>\n",
       "      <td>7</td>\n",
       "    </tr>\n",
       "    <tr>\n",
       "      <th>2</th>\n",
       "      <td>2020</td>\n",
       "      <td>20</td>\n",
       "      <td>3</td>\n",
       "    </tr>\n",
       "    <tr>\n",
       "      <th>3</th>\n",
       "      <td>&lt;NA&gt;</td>\n",
       "      <td>&lt;NA&gt;</td>\n",
       "      <td>&lt;NA&gt;</td>\n",
       "    </tr>\n",
       "    <tr>\n",
       "      <th>4</th>\n",
       "      <td>2020</td>\n",
       "      <td>22</td>\n",
       "      <td>4</td>\n",
       "    </tr>\n",
       "    <tr>\n",
       "      <th>5</th>\n",
       "      <td>2020</td>\n",
       "      <td>22</td>\n",
       "      <td>5</td>\n",
       "    </tr>\n",
       "    <tr>\n",
       "      <th>6</th>\n",
       "      <td>2020</td>\n",
       "      <td>23</td>\n",
       "      <td>1</td>\n",
       "    </tr>\n",
       "    <tr>\n",
       "      <th>7</th>\n",
       "      <td>2020</td>\n",
       "      <td>23</td>\n",
       "      <td>7</td>\n",
       "    </tr>\n",
       "    <tr>\n",
       "      <th>8</th>\n",
       "      <td>&lt;NA&gt;</td>\n",
       "      <td>&lt;NA&gt;</td>\n",
       "      <td>&lt;NA&gt;</td>\n",
       "    </tr>\n",
       "    <tr>\n",
       "      <th>9</th>\n",
       "      <td>2020</td>\n",
       "      <td>27</td>\n",
       "      <td>2</td>\n",
       "    </tr>\n",
       "    <tr>\n",
       "      <th>10</th>\n",
       "      <td>2020</td>\n",
       "      <td>31</td>\n",
       "      <td>6</td>\n",
       "    </tr>\n",
       "  </tbody>\n",
       "</table>\n",
       "</div>"
      ],
      "text/plain": [
       "    year  week   day\n",
       "0   2020    15     6\n",
       "1   2020    15     7\n",
       "2   2020    20     3\n",
       "3   <NA>  <NA>  <NA>\n",
       "4   2020    22     4\n",
       "5   2020    22     5\n",
       "6   2020    23     1\n",
       "7   2020    23     7\n",
       "8   <NA>  <NA>  <NA>\n",
       "9   2020    27     2\n",
       "10  2020    31     6"
      ]
     },
     "execution_count": 10,
     "metadata": {},
     "output_type": "execute_result"
    }
   ],
   "source": [
    "feedback.date.dt.isocalendar()"
   ]
  },
  {
   "cell_type": "code",
   "execution_count": 11,
   "id": "a98a258a",
   "metadata": {},
   "outputs": [
    {
     "data": {
      "text/plain": [
       "0       15\n",
       "1       15\n",
       "2       20\n",
       "3     <NA>\n",
       "4       22\n",
       "5       22\n",
       "6       23\n",
       "7       23\n",
       "8     <NA>\n",
       "9       27\n",
       "10      31\n",
       "Name: week, dtype: UInt32"
      ]
     },
     "execution_count": 11,
     "metadata": {},
     "output_type": "execute_result"
    }
   ],
   "source": [
    "feedback.date.dt.isocalendar().week"
   ]
  },
  {
   "cell_type": "markdown",
   "id": "49765f8d",
   "metadata": {},
   "source": [
    "***Get the month for each date***\n",
    "\n",
    "The `month` is available directly from the `.dt` accessor"
   ]
  },
  {
   "cell_type": "code",
   "execution_count": 12,
   "id": "13889f38",
   "metadata": {},
   "outputs": [
    {
     "data": {
      "text/plain": [
       "0      April\n",
       "1      April\n",
       "2        May\n",
       "3        NaN\n",
       "4        May\n",
       "5        May\n",
       "6       June\n",
       "7       June\n",
       "8        NaN\n",
       "9       June\n",
       "10    August\n",
       "Name: date, dtype: object"
      ]
     },
     "execution_count": 12,
     "metadata": {},
     "output_type": "execute_result"
    }
   ],
   "source": [
    "feedback.date.dt.month_name()"
   ]
  },
  {
   "cell_type": "markdown",
   "id": "4cc80b7e",
   "metadata": {},
   "source": [
    "<hr style=\"border:8px solid black\"> </hr>\n",
    "\n",
    "***\n",
    "\n",
    "**<u>Task - 2 mins</u>**\n",
    "\n",
    "Obtain the quarter of the year each `date` falls within. Add it as an extra column `quarter` to the `feedback` `DataFrame`.\n",
    "\n",
    "**Solution**"
   ]
  },
  {
   "cell_type": "code",
   "execution_count": 13,
   "id": "aa1595cf",
   "metadata": {},
   "outputs": [
    {
     "data": {
      "text/html": [
       "<div>\n",
       "<style scoped>\n",
       "    .dataframe tbody tr th:only-of-type {\n",
       "        vertical-align: middle;\n",
       "    }\n",
       "\n",
       "    .dataframe tbody tr th {\n",
       "        vertical-align: top;\n",
       "    }\n",
       "\n",
       "    .dataframe thead th {\n",
       "        text-align: right;\n",
       "    }\n",
       "</style>\n",
       "<table border=\"1\" class=\"dataframe\">\n",
       "  <thead>\n",
       "    <tr style=\"text-align: right;\">\n",
       "      <th></th>\n",
       "      <th>item_no</th>\n",
       "      <th>date</th>\n",
       "      <th>rating</th>\n",
       "      <th>message</th>\n",
       "      <th>quarter</th>\n",
       "    </tr>\n",
       "  </thead>\n",
       "  <tbody>\n",
       "    <tr>\n",
       "      <th>0</th>\n",
       "      <td>2</td>\n",
       "      <td>2020-04-11</td>\n",
       "      <td>5</td>\n",
       "      <td>Ideal for my lunchbox - Dave Smith</td>\n",
       "      <td>2.0</td>\n",
       "    </tr>\n",
       "    <tr>\n",
       "      <th>1</th>\n",
       "      <td>2</td>\n",
       "      <td>2020-04-12</td>\n",
       "      <td>1</td>\n",
       "      <td>Broke first time I used it, I want a refund! G...</td>\n",
       "      <td>2.0</td>\n",
       "    </tr>\n",
       "    <tr>\n",
       "      <th>2</th>\n",
       "      <td>3</td>\n",
       "      <td>2020-05-13</td>\n",
       "      <td>3</td>\n",
       "      <td>My name is Tony 07700900829</td>\n",
       "      <td>2.0</td>\n",
       "    </tr>\n",
       "    <tr>\n",
       "      <th>3</th>\n",
       "      <td>4</td>\n",
       "      <td>NaT</td>\n",
       "      <td>5</td>\n",
       "      <td>Bought another one for my sister</td>\n",
       "      <td>NaN</td>\n",
       "    </tr>\n",
       "    <tr>\n",
       "      <th>4</th>\n",
       "      <td>5</td>\n",
       "      <td>2020-05-28</td>\n",
       "      <td>4</td>\n",
       "      <td>Works pretty well, but can't handle carrots</td>\n",
       "      <td>2.0</td>\n",
       "    </tr>\n",
       "    <tr>\n",
       "      <th>5</th>\n",
       "      <td>1</td>\n",
       "      <td>2020-05-29</td>\n",
       "      <td>3</td>\n",
       "      <td>The concept is great, the execution- not so gr...</td>\n",
       "      <td>2.0</td>\n",
       "    </tr>\n",
       "    <tr>\n",
       "      <th>6</th>\n",
       "      <td>9</td>\n",
       "      <td>2020-06-01</td>\n",
       "      <td>2</td>\n",
       "      <td>Bit of a cheap version of the real thing</td>\n",
       "      <td>2.0</td>\n",
       "    </tr>\n",
       "    <tr>\n",
       "      <th>7</th>\n",
       "      <td>5</td>\n",
       "      <td>2020-06-07</td>\n",
       "      <td>5</td>\n",
       "      <td>Arrived on time, as expected</td>\n",
       "      <td>2.0</td>\n",
       "    </tr>\n",
       "    <tr>\n",
       "      <th>8</th>\n",
       "      <td>7</td>\n",
       "      <td>NaT</td>\n",
       "      <td>1</td>\n",
       "      <td>Customer service terrible - hello anyone there...</td>\n",
       "      <td>NaN</td>\n",
       "    </tr>\n",
       "    <tr>\n",
       "      <th>9</th>\n",
       "      <td>10</td>\n",
       "      <td>2020-06-30</td>\n",
       "      <td>4</td>\n",
       "      <td>Workks well, seems solid, good value</td>\n",
       "      <td>2.0</td>\n",
       "    </tr>\n",
       "    <tr>\n",
       "      <th>10</th>\n",
       "      <td>8</td>\n",
       "      <td>2020-08-01</td>\n",
       "      <td>5</td>\n",
       "      <td>Great finish on it, really decent build quality</td>\n",
       "      <td>3.0</td>\n",
       "    </tr>\n",
       "  </tbody>\n",
       "</table>\n",
       "</div>"
      ],
      "text/plain": [
       "    item_no       date  rating  \\\n",
       "0         2 2020-04-11       5   \n",
       "1         2 2020-04-12       1   \n",
       "2         3 2020-05-13       3   \n",
       "3         4        NaT       5   \n",
       "4         5 2020-05-28       4   \n",
       "5         1 2020-05-29       3   \n",
       "6         9 2020-06-01       2   \n",
       "7         5 2020-06-07       5   \n",
       "8         7        NaT       1   \n",
       "9        10 2020-06-30       4   \n",
       "10        8 2020-08-01       5   \n",
       "\n",
       "                                              message  quarter  \n",
       "0                  Ideal for my lunchbox - Dave Smith      2.0  \n",
       "1   Broke first time I used it, I want a refund! G...      2.0  \n",
       "2                         My name is Tony 07700900829      2.0  \n",
       "3                    Bought another one for my sister      NaN  \n",
       "4         Works pretty well, but can't handle carrots      2.0  \n",
       "5   The concept is great, the execution- not so gr...      2.0  \n",
       "6            Bit of a cheap version of the real thing      2.0  \n",
       "7                        Arrived on time, as expected      2.0  \n",
       "8   Customer service terrible - hello anyone there...      NaN  \n",
       "9                Workks well, seems solid, good value      2.0  \n",
       "10    Great finish on it, really decent build quality      3.0  "
      ]
     },
     "execution_count": 13,
     "metadata": {},
     "output_type": "execute_result"
    }
   ],
   "source": [
    "feedback.loc[:, 'quarter'] = feedback.date.dt.quarter\n",
    "feedback"
   ]
  },
  {
   "cell_type": "markdown",
   "id": "b2059ead",
   "metadata": {},
   "source": [
    "***\n",
    "\n",
    "<hr style=\"border:8px solid black\"> </hr>\n",
    "\n",
    "## Optional: Methods available with a `DatetimeIndex`\n",
    "\n",
    "Some date-time manipulations in `pandas` are easier with (or, indeed, are only possible if) the `DataFrame` has a `DatetimeIndex`. This is easy to arrange if we already have a column containing `Timestamp`s"
   ]
  },
  {
   "cell_type": "code",
   "execution_count": 14,
   "id": "75005168",
   "metadata": {},
   "outputs": [
    {
     "data": {
      "text/plain": [
       "DatetimeIndex(['2020-04-11', '2020-04-12', '2020-05-13',        'NaT',\n",
       "               '2020-05-28', '2020-05-29', '2020-06-01', '2020-06-07',\n",
       "                      'NaT', '2020-06-30', '2020-08-01'],\n",
       "              dtype='datetime64[ns]', name='date', freq=None)"
      ]
     },
     "execution_count": 14,
     "metadata": {},
     "output_type": "execute_result"
    }
   ],
   "source": [
    "feedback.set_index('date', inplace=True, drop=True)\n",
    "feedback.index"
   ]
  },
  {
   "cell_type": "markdown",
   "id": "edbab837",
   "metadata": {},
   "source": [
    "Now that we have a `DatetimeIndex`, a number of methods become available to us. One of the most useful is `.resample()`. Let's see an example of it in use:\n",
    "\n",
    "***Get a count of the number of ratings supplied by users each month.***"
   ]
  },
  {
   "cell_type": "code",
   "execution_count": 15,
   "id": "21cfc278",
   "metadata": {},
   "outputs": [
    {
     "data": {
      "text/plain": [
       "date\n",
       "2020-04-30    2\n",
       "2020-05-31    3\n",
       "2020-06-30    3\n",
       "2020-07-31    0\n",
       "2020-08-31    1\n",
       "Name: rating, dtype: int64"
      ]
     },
     "execution_count": 15,
     "metadata": {},
     "output_type": "execute_result"
    }
   ],
   "source": [
    "# M for monthly\n",
    "feedback.rating.resample(rule='M').count()"
   ]
  },
  {
   "cell_type": "markdown",
   "id": "85aff5cd",
   "metadata": {},
   "source": [
    "So, `pandas` has aggregated all ratings provided each **month** (`rule='M'`) together and we then apply the `.count()` aggregator. Note however that this isn't a conventional aggregation as we have seen them before using `.groupby()`: even though there were no ratings in July 2020, `.resample()` has provided this month anyway, as it understands the concept of providing date-time data at a **fixed frequency** (monthly in this case).\n",
    "\n",
    "If we would prefer to see months labelled by their start dates, we could do:"
   ]
  },
  {
   "cell_type": "code",
   "execution_count": 16,
   "id": "88b61f01",
   "metadata": {},
   "outputs": [
    {
     "data": {
      "text/plain": [
       "date\n",
       "2020-04-01    2\n",
       "2020-05-01    3\n",
       "2020-06-01    3\n",
       "2020-07-01    0\n",
       "2020-08-01    1\n",
       "Name: rating, dtype: int64"
      ]
     },
     "execution_count": 16,
     "metadata": {},
     "output_type": "execute_result"
    }
   ],
   "source": [
    "# MS for month start\n",
    "feedback.rating.resample(rule='MS').count()"
   ]
  },
  {
   "cell_type": "markdown",
   "id": "2ac2024a",
   "metadata": {},
   "source": [
    "Here are the available frequencies that can be provided for the `rule=` argument\n",
    "\n",
    "| Alias | Description |\n",
    "| :-: | :-: |\n",
    "| B | business day frequency |\n",
    "| C | custom business day frequency |\n",
    "| D | calendar day frequency |\n",
    "| W | weekly frequency |\n",
    "| M | month end frequency |\n",
    "| SM | semi-month end frequency (15th and end of month) |\n",
    "| BM | business month end frequency |\n",
    "| CBM | custom business month end frequency |\n",
    "| MS | month start frequency |\n",
    "| SMS | semi-month start frequency (1st and 15th) |\n",
    "| BMS | business month start frequency |\n",
    "| CBMS | custom business month start frequency |\n",
    "| Q | quarter end frequency |\n",
    "| BQ | business quarter end frequency |\n",
    "| QS | quarter start frequency |\n",
    "| BQS | business quarter start frequency |\n",
    "| A, Y | year end frequency |\n",
    "| BA, BY | business year end frequency |\n",
    "| AS, YS | year start frequency |\n",
    "| BAS, BYS | business year start frequency |\n",
    "| BH | business hour frequency |\n",
    "| H | hourly frequency |\n",
    "| T, min | minutely frequency |\n",
    "| S | secondly frequency |\n",
    "| L, ms | milliseconds |\n",
    "| U, us | microseconds |\n",
    "| N | nanoseconds |"
   ]
  },
  {
   "cell_type": "markdown",
   "id": "c744d8b7",
   "metadata": {},
   "source": [
    "<hr style=\"border:8px solid black\"> </hr>\n",
    "\n",
    "***\n",
    "\n",
    "**<u>Task - 5 mins</u>**\n",
    "\n",
    "***Get the count of ratings left each week.*** \n",
    "\n",
    "* Why do you see lots of zeroes?\n",
    "* **Extension** - Create this instead as a `DataFrame` called `weekly_rating_count` (**Hint**: `pd.DataFrame()`), and then add a new column `day` containing the `day_name()` of the `DatetimeIndex`. What day does `pandas` report for weekly frequency?\n",
    "\n",
    "**Solution**"
   ]
  },
  {
   "cell_type": "code",
   "execution_count": 17,
   "id": "5ec6e2fe",
   "metadata": {},
   "outputs": [
    {
     "data": {
      "text/plain": [
       "date\n",
       "2020-04-12    2\n",
       "2020-04-19    0\n",
       "2020-04-26    0\n",
       "2020-05-03    0\n",
       "2020-05-10    0\n",
       "2020-05-17    1\n",
       "2020-05-24    0\n",
       "2020-05-31    2\n",
       "2020-06-07    2\n",
       "2020-06-14    0\n",
       "2020-06-21    0\n",
       "2020-06-28    0\n",
       "2020-07-05    1\n",
       "2020-07-12    0\n",
       "2020-07-19    0\n",
       "2020-07-26    0\n",
       "2020-08-02    1\n",
       "Name: rating, dtype: int64"
      ]
     },
     "execution_count": 17,
     "metadata": {},
     "output_type": "execute_result"
    }
   ],
   "source": [
    "feedback.rating.resample(rule='W').count()"
   ]
  },
  {
   "cell_type": "markdown",
   "id": "139b9494",
   "metadata": {},
   "source": [
    "We see lots of zeroes as `.resample()` returns a `DateFrame` with a **fixed frequency** of `DatetimeIndex`. So even though many weeks had no ratings, those weeks are still reported."
   ]
  },
  {
   "cell_type": "code",
   "execution_count": 18,
   "id": "d667189f",
   "metadata": {},
   "outputs": [
    {
     "data": {
      "text/html": [
       "<div>\n",
       "<style scoped>\n",
       "    .dataframe tbody tr th:only-of-type {\n",
       "        vertical-align: middle;\n",
       "    }\n",
       "\n",
       "    .dataframe tbody tr th {\n",
       "        vertical-align: top;\n",
       "    }\n",
       "\n",
       "    .dataframe thead th {\n",
       "        text-align: right;\n",
       "    }\n",
       "</style>\n",
       "<table border=\"1\" class=\"dataframe\">\n",
       "  <thead>\n",
       "    <tr style=\"text-align: right;\">\n",
       "      <th></th>\n",
       "      <th>rating_count</th>\n",
       "      <th>day</th>\n",
       "    </tr>\n",
       "    <tr>\n",
       "      <th>date</th>\n",
       "      <th></th>\n",
       "      <th></th>\n",
       "    </tr>\n",
       "  </thead>\n",
       "  <tbody>\n",
       "    <tr>\n",
       "      <th>2020-04-12</th>\n",
       "      <td>2</td>\n",
       "      <td>Sunday</td>\n",
       "    </tr>\n",
       "    <tr>\n",
       "      <th>2020-04-19</th>\n",
       "      <td>0</td>\n",
       "      <td>Sunday</td>\n",
       "    </tr>\n",
       "    <tr>\n",
       "      <th>2020-04-26</th>\n",
       "      <td>0</td>\n",
       "      <td>Sunday</td>\n",
       "    </tr>\n",
       "    <tr>\n",
       "      <th>2020-05-03</th>\n",
       "      <td>0</td>\n",
       "      <td>Sunday</td>\n",
       "    </tr>\n",
       "    <tr>\n",
       "      <th>2020-05-10</th>\n",
       "      <td>0</td>\n",
       "      <td>Sunday</td>\n",
       "    </tr>\n",
       "    <tr>\n",
       "      <th>2020-05-17</th>\n",
       "      <td>1</td>\n",
       "      <td>Sunday</td>\n",
       "    </tr>\n",
       "    <tr>\n",
       "      <th>2020-05-24</th>\n",
       "      <td>0</td>\n",
       "      <td>Sunday</td>\n",
       "    </tr>\n",
       "    <tr>\n",
       "      <th>2020-05-31</th>\n",
       "      <td>2</td>\n",
       "      <td>Sunday</td>\n",
       "    </tr>\n",
       "    <tr>\n",
       "      <th>2020-06-07</th>\n",
       "      <td>2</td>\n",
       "      <td>Sunday</td>\n",
       "    </tr>\n",
       "    <tr>\n",
       "      <th>2020-06-14</th>\n",
       "      <td>0</td>\n",
       "      <td>Sunday</td>\n",
       "    </tr>\n",
       "    <tr>\n",
       "      <th>2020-06-21</th>\n",
       "      <td>0</td>\n",
       "      <td>Sunday</td>\n",
       "    </tr>\n",
       "    <tr>\n",
       "      <th>2020-06-28</th>\n",
       "      <td>0</td>\n",
       "      <td>Sunday</td>\n",
       "    </tr>\n",
       "    <tr>\n",
       "      <th>2020-07-05</th>\n",
       "      <td>1</td>\n",
       "      <td>Sunday</td>\n",
       "    </tr>\n",
       "    <tr>\n",
       "      <th>2020-07-12</th>\n",
       "      <td>0</td>\n",
       "      <td>Sunday</td>\n",
       "    </tr>\n",
       "    <tr>\n",
       "      <th>2020-07-19</th>\n",
       "      <td>0</td>\n",
       "      <td>Sunday</td>\n",
       "    </tr>\n",
       "    <tr>\n",
       "      <th>2020-07-26</th>\n",
       "      <td>0</td>\n",
       "      <td>Sunday</td>\n",
       "    </tr>\n",
       "    <tr>\n",
       "      <th>2020-08-02</th>\n",
       "      <td>1</td>\n",
       "      <td>Sunday</td>\n",
       "    </tr>\n",
       "  </tbody>\n",
       "</table>\n",
       "</div>"
      ],
      "text/plain": [
       "            rating_count     day\n",
       "date                            \n",
       "2020-04-12             2  Sunday\n",
       "2020-04-19             0  Sunday\n",
       "2020-04-26             0  Sunday\n",
       "2020-05-03             0  Sunday\n",
       "2020-05-10             0  Sunday\n",
       "2020-05-17             1  Sunday\n",
       "2020-05-24             0  Sunday\n",
       "2020-05-31             2  Sunday\n",
       "2020-06-07             2  Sunday\n",
       "2020-06-14             0  Sunday\n",
       "2020-06-21             0  Sunday\n",
       "2020-06-28             0  Sunday\n",
       "2020-07-05             1  Sunday\n",
       "2020-07-12             0  Sunday\n",
       "2020-07-19             0  Sunday\n",
       "2020-07-26             0  Sunday\n",
       "2020-08-02             1  Sunday"
      ]
     },
     "execution_count": 18,
     "metadata": {},
     "output_type": "execute_result"
    }
   ],
   "source": [
    "# Extension\n",
    "weekly_rating_count = pd.DataFrame({'rating_count': feedback.rating.resample(rule='W').count()})\n",
    "weekly_rating_count.loc[:, 'day'] = weekly_rating_count.index.day_name()\n",
    "weekly_rating_count"
   ]
  },
  {
   "cell_type": "markdown",
   "id": "fed28f76",
   "metadata": {},
   "source": [
    "***\n",
    "\n",
    "<hr style=\"border:8px solid black\"> </hr>\n",
    "\n",
    "The object returned by the `.resample()` method is a `DatetimeIndexResampler` (!), e.g.\n",
    "\n",
    "***Resample the feedbacks on a quarterly basis***"
   ]
  },
  {
   "cell_type": "code",
   "execution_count": 19,
   "id": "bc1f54f9",
   "metadata": {},
   "outputs": [
    {
     "data": {
      "text/plain": [
       "pandas.core.resample.DatetimeIndexResampler"
      ]
     },
     "execution_count": 19,
     "metadata": {},
     "output_type": "execute_result"
    }
   ],
   "source": [
    "type(feedback.resample(rule='Q'))"
   ]
  },
  {
   "cell_type": "markdown",
   "id": "6e38c5f8",
   "metadata": {},
   "source": [
    "on which we can call `.agg()` just as for a `DataFrameGroupBy` object! Let's see an example applying different aggregators to different columns"
   ]
  },
  {
   "cell_type": "code",
   "execution_count": 20,
   "id": "2af1ef31",
   "metadata": {},
   "outputs": [
    {
     "data": {
      "text/html": [
       "<div>\n",
       "<style scoped>\n",
       "    .dataframe tbody tr th:only-of-type {\n",
       "        vertical-align: middle;\n",
       "    }\n",
       "\n",
       "    .dataframe tbody tr th {\n",
       "        vertical-align: top;\n",
       "    }\n",
       "\n",
       "    .dataframe thead tr th {\n",
       "        text-align: left;\n",
       "    }\n",
       "\n",
       "    .dataframe thead tr:last-of-type th {\n",
       "        text-align: right;\n",
       "    }\n",
       "</style>\n",
       "<table border=\"1\" class=\"dataframe\">\n",
       "  <thead>\n",
       "    <tr>\n",
       "      <th></th>\n",
       "      <th>item_no</th>\n",
       "      <th colspan=\"3\" halign=\"left\">rating</th>\n",
       "    </tr>\n",
       "    <tr>\n",
       "      <th></th>\n",
       "      <th>count</th>\n",
       "      <th>count</th>\n",
       "      <th>min</th>\n",
       "      <th>max</th>\n",
       "    </tr>\n",
       "    <tr>\n",
       "      <th>date</th>\n",
       "      <th></th>\n",
       "      <th></th>\n",
       "      <th></th>\n",
       "      <th></th>\n",
       "    </tr>\n",
       "  </thead>\n",
       "  <tbody>\n",
       "    <tr>\n",
       "      <th>2020-06-30</th>\n",
       "      <td>8</td>\n",
       "      <td>8</td>\n",
       "      <td>1</td>\n",
       "      <td>5</td>\n",
       "    </tr>\n",
       "    <tr>\n",
       "      <th>2020-09-30</th>\n",
       "      <td>1</td>\n",
       "      <td>1</td>\n",
       "      <td>5</td>\n",
       "      <td>5</td>\n",
       "    </tr>\n",
       "  </tbody>\n",
       "</table>\n",
       "</div>"
      ],
      "text/plain": [
       "           item_no rating        \n",
       "             count  count min max\n",
       "date                             \n",
       "2020-06-30       8      8   1   5\n",
       "2020-09-30       1      1   5   5"
      ]
     },
     "execution_count": 20,
     "metadata": {},
     "output_type": "execute_result"
    }
   ],
   "source": [
    "feedback.resample(rule='Q').agg({\n",
    "    'item_no': 'count', \n",
    "    'rating': ['count', 'min', 'max']\n",
    "})"
   ]
  },
  {
   "cell_type": "markdown",
   "id": "7b18baf7",
   "metadata": {},
   "source": [
    "What if you want to group by a date-time column **along with another column**? Well, in that case, you will first want the date-time column to be just another column in your `DataFrame` (and not the `index`) "
   ]
  },
  {
   "cell_type": "code",
   "execution_count": 21,
   "id": "845efcd4",
   "metadata": {},
   "outputs": [
    {
     "data": {
      "text/html": [
       "<div>\n",
       "<style scoped>\n",
       "    .dataframe tbody tr th:only-of-type {\n",
       "        vertical-align: middle;\n",
       "    }\n",
       "\n",
       "    .dataframe tbody tr th {\n",
       "        vertical-align: top;\n",
       "    }\n",
       "\n",
       "    .dataframe thead th {\n",
       "        text-align: right;\n",
       "    }\n",
       "</style>\n",
       "<table border=\"1\" class=\"dataframe\">\n",
       "  <thead>\n",
       "    <tr style=\"text-align: right;\">\n",
       "      <th></th>\n",
       "      <th>date</th>\n",
       "      <th>item_no</th>\n",
       "      <th>rating</th>\n",
       "      <th>message</th>\n",
       "      <th>quarter</th>\n",
       "    </tr>\n",
       "  </thead>\n",
       "  <tbody>\n",
       "    <tr>\n",
       "      <th>0</th>\n",
       "      <td>2020-04-11</td>\n",
       "      <td>2</td>\n",
       "      <td>5</td>\n",
       "      <td>Ideal for my lunchbox - Dave Smith</td>\n",
       "      <td>2.0</td>\n",
       "    </tr>\n",
       "    <tr>\n",
       "      <th>1</th>\n",
       "      <td>2020-04-12</td>\n",
       "      <td>2</td>\n",
       "      <td>1</td>\n",
       "      <td>Broke first time I used it, I want a refund! G...</td>\n",
       "      <td>2.0</td>\n",
       "    </tr>\n",
       "    <tr>\n",
       "      <th>2</th>\n",
       "      <td>2020-05-13</td>\n",
       "      <td>3</td>\n",
       "      <td>3</td>\n",
       "      <td>My name is Tony 07700900829</td>\n",
       "      <td>2.0</td>\n",
       "    </tr>\n",
       "    <tr>\n",
       "      <th>3</th>\n",
       "      <td>NaT</td>\n",
       "      <td>4</td>\n",
       "      <td>5</td>\n",
       "      <td>Bought another one for my sister</td>\n",
       "      <td>NaN</td>\n",
       "    </tr>\n",
       "    <tr>\n",
       "      <th>4</th>\n",
       "      <td>2020-05-28</td>\n",
       "      <td>5</td>\n",
       "      <td>4</td>\n",
       "      <td>Works pretty well, but can't handle carrots</td>\n",
       "      <td>2.0</td>\n",
       "    </tr>\n",
       "    <tr>\n",
       "      <th>5</th>\n",
       "      <td>2020-05-29</td>\n",
       "      <td>1</td>\n",
       "      <td>3</td>\n",
       "      <td>The concept is great, the execution- not so gr...</td>\n",
       "      <td>2.0</td>\n",
       "    </tr>\n",
       "    <tr>\n",
       "      <th>6</th>\n",
       "      <td>2020-06-01</td>\n",
       "      <td>9</td>\n",
       "      <td>2</td>\n",
       "      <td>Bit of a cheap version of the real thing</td>\n",
       "      <td>2.0</td>\n",
       "    </tr>\n",
       "    <tr>\n",
       "      <th>7</th>\n",
       "      <td>2020-06-07</td>\n",
       "      <td>5</td>\n",
       "      <td>5</td>\n",
       "      <td>Arrived on time, as expected</td>\n",
       "      <td>2.0</td>\n",
       "    </tr>\n",
       "    <tr>\n",
       "      <th>8</th>\n",
       "      <td>NaT</td>\n",
       "      <td>7</td>\n",
       "      <td>1</td>\n",
       "      <td>Customer service terrible - hello anyone there...</td>\n",
       "      <td>NaN</td>\n",
       "    </tr>\n",
       "    <tr>\n",
       "      <th>9</th>\n",
       "      <td>2020-06-30</td>\n",
       "      <td>10</td>\n",
       "      <td>4</td>\n",
       "      <td>Workks well, seems solid, good value</td>\n",
       "      <td>2.0</td>\n",
       "    </tr>\n",
       "    <tr>\n",
       "      <th>10</th>\n",
       "      <td>2020-08-01</td>\n",
       "      <td>8</td>\n",
       "      <td>5</td>\n",
       "      <td>Great finish on it, really decent build quality</td>\n",
       "      <td>3.0</td>\n",
       "    </tr>\n",
       "  </tbody>\n",
       "</table>\n",
       "</div>"
      ],
      "text/plain": [
       "         date  item_no  rating  \\\n",
       "0  2020-04-11        2       5   \n",
       "1  2020-04-12        2       1   \n",
       "2  2020-05-13        3       3   \n",
       "3         NaT        4       5   \n",
       "4  2020-05-28        5       4   \n",
       "5  2020-05-29        1       3   \n",
       "6  2020-06-01        9       2   \n",
       "7  2020-06-07        5       5   \n",
       "8         NaT        7       1   \n",
       "9  2020-06-30       10       4   \n",
       "10 2020-08-01        8       5   \n",
       "\n",
       "                                              message  quarter  \n",
       "0                  Ideal for my lunchbox - Dave Smith      2.0  \n",
       "1   Broke first time I used it, I want a refund! G...      2.0  \n",
       "2                         My name is Tony 07700900829      2.0  \n",
       "3                    Bought another one for my sister      NaN  \n",
       "4         Works pretty well, but can't handle carrots      2.0  \n",
       "5   The concept is great, the execution- not so gr...      2.0  \n",
       "6            Bit of a cheap version of the real thing      2.0  \n",
       "7                        Arrived on time, as expected      2.0  \n",
       "8   Customer service terrible - hello anyone there...      NaN  \n",
       "9                Workks well, seems solid, good value      2.0  \n",
       "10    Great finish on it, really decent build quality      3.0  "
      ]
     },
     "execution_count": 21,
     "metadata": {},
     "output_type": "execute_result"
    }
   ],
   "source": [
    "feedback.reset_index(inplace=True)\n",
    "feedback"
   ]
  },
  {
   "cell_type": "markdown",
   "id": "691bd396",
   "metadata": {},
   "source": [
    "Now we can group by `date` using a `pd.Grouper` object (this can handle the concept of **frequency** for a date-time aggregation). Let's do another way what we did above"
   ]
  },
  {
   "cell_type": "code",
   "execution_count": 23,
   "id": "10adc1bc",
   "metadata": {},
   "outputs": [
    {
     "data": {
      "text/plain": [
       "date\n",
       "2020-04-12    2\n",
       "2020-04-19    0\n",
       "2020-04-26    0\n",
       "2020-05-03    0\n",
       "2020-05-10    0\n",
       "2020-05-17    1\n",
       "2020-05-24    0\n",
       "2020-05-31    2\n",
       "2020-06-07    2\n",
       "2020-06-14    0\n",
       "2020-06-21    0\n",
       "2020-06-28    0\n",
       "2020-07-05    1\n",
       "2020-07-12    0\n",
       "2020-07-19    0\n",
       "2020-07-26    0\n",
       "2020-08-02    1\n",
       "Name: rating, dtype: int64"
      ]
     },
     "execution_count": 23,
     "metadata": {},
     "output_type": "execute_result"
    }
   ],
   "source": [
    "feedback.groupby(pd.Grouper(key='date', freq='W')).rating.count()"
   ]
  },
  {
   "cell_type": "markdown",
   "id": "49e67914",
   "metadata": {},
   "source": [
    "Now, though, we are free to also group by additional columns, if we wish"
   ]
  },
  {
   "cell_type": "code",
   "execution_count": 24,
   "id": "d789d5f3",
   "metadata": {},
   "outputs": [
    {
     "data": {
      "text/plain": [
       "date        item_no\n",
       "2020-04-12  2          2\n",
       "2020-05-17  3          1\n",
       "2020-05-31  1          1\n",
       "            5          1\n",
       "2020-06-07  5          1\n",
       "            9          1\n",
       "2020-07-05  10         1\n",
       "2020-08-02  8          1\n",
       "Name: rating, dtype: int64"
      ]
     },
     "execution_count": 24,
     "metadata": {},
     "output_type": "execute_result"
    }
   ],
   "source": [
    "date_item_weekly_count = feedback\\\n",
    "    .groupby([pd.Grouper(key='date', freq='W', ), 'item_no'])\\\n",
    "    .rating.count()\n",
    "date_item_weekly_count"
   ]
  },
  {
   "cell_type": "markdown",
   "id": "278b43dd",
   "metadata": {},
   "source": [
    "This returns a `MultiIndex`, similar to the behaviour of `.groupby()` when you group by two or more variables in a `DataFrame`"
   ]
  },
  {
   "cell_type": "code",
   "execution_count": 25,
   "id": "e76bf131",
   "metadata": {},
   "outputs": [
    {
     "data": {
      "text/plain": [
       "MultiIndex([('2020-04-12',  2),\n",
       "            ('2020-05-17',  3),\n",
       "            ('2020-05-31',  1),\n",
       "            ('2020-05-31',  5),\n",
       "            ('2020-06-07',  5),\n",
       "            ('2020-06-07',  9),\n",
       "            ('2020-07-05', 10),\n",
       "            ('2020-08-02',  8)],\n",
       "           names=['date', 'item_no'])"
      ]
     },
     "execution_count": 25,
     "metadata": {},
     "output_type": "execute_result"
    }
   ],
   "source": [
    "date_item_weekly_count.index"
   ]
  }
 ],
 "metadata": {
  "kernelspec": {
   "display_name": "Python 3 (ipykernel)",
   "language": "python",
   "name": "python3"
  },
  "language_info": {
   "codemirror_mode": {
    "name": "ipython",
    "version": 3
   },
   "file_extension": ".py",
   "mimetype": "text/x-python",
   "name": "python",
   "nbconvert_exporter": "python",
   "pygments_lexer": "ipython3",
   "version": "3.9.5"
  }
 },
 "nbformat": 4,
 "nbformat_minor": 5
}
