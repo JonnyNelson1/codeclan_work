{
 "cells": [
  {
   "cell_type": "markdown",
   "id": "65f9c03e",
   "metadata": {},
   "source": [
    "# Machine Learning Workshop"
   ]
  },
  {
   "cell_type": "markdown",
   "id": "59003716",
   "metadata": {},
   "source": [
    "# Linear Regression"
   ]
  },
  {
   "cell_type": "markdown",
   "id": "b18fd15a",
   "metadata": {},
   "source": [
    "## 1. Exploratory Data Analysis"
   ]
  },
  {
   "cell_type": "code",
   "execution_count": 5,
   "id": "c3384e15",
   "metadata": {},
   "outputs": [
    {
     "data": {
      "text/html": [
       "<div>\n",
       "<style scoped>\n",
       "    .dataframe tbody tr th:only-of-type {\n",
       "        vertical-align: middle;\n",
       "    }\n",
       "\n",
       "    .dataframe tbody tr th {\n",
       "        vertical-align: top;\n",
       "    }\n",
       "\n",
       "    .dataframe thead th {\n",
       "        text-align: right;\n",
       "    }\n",
       "</style>\n",
       "<table border=\"1\" class=\"dataframe\">\n",
       "  <thead>\n",
       "    <tr style=\"text-align: right;\">\n",
       "      <th></th>\n",
       "      <th>Unnamed: 0</th>\n",
       "      <th>acousticness</th>\n",
       "      <th>danceability</th>\n",
       "      <th>duration_ms</th>\n",
       "      <th>energy</th>\n",
       "      <th>instrumentalness</th>\n",
       "      <th>key</th>\n",
       "      <th>liveness</th>\n",
       "      <th>loudness</th>\n",
       "      <th>mode</th>\n",
       "      <th>speechiness</th>\n",
       "      <th>tempo</th>\n",
       "      <th>time_signature</th>\n",
       "      <th>valence</th>\n",
       "      <th>target</th>\n",
       "      <th>song_title</th>\n",
       "      <th>artist</th>\n",
       "    </tr>\n",
       "  </thead>\n",
       "  <tbody>\n",
       "    <tr>\n",
       "      <th>0</th>\n",
       "      <td>0</td>\n",
       "      <td>0.0102</td>\n",
       "      <td>0.833</td>\n",
       "      <td>204600</td>\n",
       "      <td>0.434</td>\n",
       "      <td>0.021900</td>\n",
       "      <td>2</td>\n",
       "      <td>0.1650</td>\n",
       "      <td>-8.795</td>\n",
       "      <td>1</td>\n",
       "      <td>0.4310</td>\n",
       "      <td>150.062</td>\n",
       "      <td>4.0</td>\n",
       "      <td>0.286</td>\n",
       "      <td>1</td>\n",
       "      <td>Mask Off</td>\n",
       "      <td>Future</td>\n",
       "    </tr>\n",
       "    <tr>\n",
       "      <th>1</th>\n",
       "      <td>1</td>\n",
       "      <td>0.1990</td>\n",
       "      <td>0.743</td>\n",
       "      <td>326933</td>\n",
       "      <td>0.359</td>\n",
       "      <td>0.006110</td>\n",
       "      <td>1</td>\n",
       "      <td>0.1370</td>\n",
       "      <td>-10.401</td>\n",
       "      <td>1</td>\n",
       "      <td>0.0794</td>\n",
       "      <td>160.083</td>\n",
       "      <td>4.0</td>\n",
       "      <td>0.588</td>\n",
       "      <td>1</td>\n",
       "      <td>Redbone</td>\n",
       "      <td>Childish Gambino</td>\n",
       "    </tr>\n",
       "    <tr>\n",
       "      <th>2</th>\n",
       "      <td>2</td>\n",
       "      <td>0.0344</td>\n",
       "      <td>0.838</td>\n",
       "      <td>185707</td>\n",
       "      <td>0.412</td>\n",
       "      <td>0.000234</td>\n",
       "      <td>2</td>\n",
       "      <td>0.1590</td>\n",
       "      <td>-7.148</td>\n",
       "      <td>1</td>\n",
       "      <td>0.2890</td>\n",
       "      <td>75.044</td>\n",
       "      <td>4.0</td>\n",
       "      <td>0.173</td>\n",
       "      <td>1</td>\n",
       "      <td>Xanny Family</td>\n",
       "      <td>Future</td>\n",
       "    </tr>\n",
       "    <tr>\n",
       "      <th>3</th>\n",
       "      <td>3</td>\n",
       "      <td>0.6040</td>\n",
       "      <td>0.494</td>\n",
       "      <td>199413</td>\n",
       "      <td>0.338</td>\n",
       "      <td>0.510000</td>\n",
       "      <td>5</td>\n",
       "      <td>0.0922</td>\n",
       "      <td>-15.236</td>\n",
       "      <td>1</td>\n",
       "      <td>0.0261</td>\n",
       "      <td>86.468</td>\n",
       "      <td>4.0</td>\n",
       "      <td>0.230</td>\n",
       "      <td>1</td>\n",
       "      <td>Master Of None</td>\n",
       "      <td>Beach House</td>\n",
       "    </tr>\n",
       "    <tr>\n",
       "      <th>4</th>\n",
       "      <td>4</td>\n",
       "      <td>0.1800</td>\n",
       "      <td>0.678</td>\n",
       "      <td>392893</td>\n",
       "      <td>0.561</td>\n",
       "      <td>0.512000</td>\n",
       "      <td>5</td>\n",
       "      <td>0.4390</td>\n",
       "      <td>-11.648</td>\n",
       "      <td>0</td>\n",
       "      <td>0.0694</td>\n",
       "      <td>174.004</td>\n",
       "      <td>4.0</td>\n",
       "      <td>0.904</td>\n",
       "      <td>1</td>\n",
       "      <td>Parallel Lines</td>\n",
       "      <td>Junior Boys</td>\n",
       "    </tr>\n",
       "  </tbody>\n",
       "</table>\n",
       "</div>"
      ],
      "text/plain": [
       "   Unnamed: 0  acousticness  danceability  duration_ms  energy  \\\n",
       "0           0        0.0102         0.833       204600   0.434   \n",
       "1           1        0.1990         0.743       326933   0.359   \n",
       "2           2        0.0344         0.838       185707   0.412   \n",
       "3           3        0.6040         0.494       199413   0.338   \n",
       "4           4        0.1800         0.678       392893   0.561   \n",
       "\n",
       "   instrumentalness  key  liveness  loudness  mode  speechiness    tempo  \\\n",
       "0          0.021900    2    0.1650    -8.795     1       0.4310  150.062   \n",
       "1          0.006110    1    0.1370   -10.401     1       0.0794  160.083   \n",
       "2          0.000234    2    0.1590    -7.148     1       0.2890   75.044   \n",
       "3          0.510000    5    0.0922   -15.236     1       0.0261   86.468   \n",
       "4          0.512000    5    0.4390   -11.648     0       0.0694  174.004   \n",
       "\n",
       "   time_signature  valence  target      song_title            artist  \n",
       "0             4.0    0.286       1        Mask Off            Future  \n",
       "1             4.0    0.588       1         Redbone  Childish Gambino  \n",
       "2             4.0    0.173       1    Xanny Family            Future  \n",
       "3             4.0    0.230       1  Master Of None       Beach House  \n",
       "4             4.0    0.904       1  Parallel Lines       Junior Boys  "
      ]
     },
     "execution_count": 5,
     "metadata": {},
     "output_type": "execute_result"
    }
   ],
   "source": [
    "import pandas as pd\n",
    "\n",
    "songs = pd.read_csv(\"data/songs.csv\")\n",
    "songs.head()"
   ]
  },
  {
   "cell_type": "code",
   "execution_count": 3,
   "id": "0b7236a4",
   "metadata": {},
   "outputs": [
    {
     "data": {
      "text/plain": [
       "target              1.000000\n",
       "danceability        0.176706\n",
       "speechiness         0.154006\n",
       "instrumentalness    0.152594\n",
       "duration_ms         0.146749\n",
       "valence             0.107930\n",
       "time_signature      0.040182\n",
       "energy              0.039688\n",
       "tempo               0.034732\n",
       "key                 0.033594\n",
       "liveness            0.026364\n",
       "loudness           -0.072000\n",
       "mode               -0.072336\n",
       "acousticness       -0.129627\n",
       "Unnamed: 0         -0.865969\n",
       "Name: target, dtype: float64"
      ]
     },
     "execution_count": 3,
     "metadata": {},
     "output_type": "execute_result"
    }
   ],
   "source": [
    "(\n",
    "    songs\n",
    "    .corr()\n",
    "    .target\n",
    "    .sort_values(ascending=False)\n",
    ")\n",
    "\n",
    "# No variables show much correlation to the response, target."
   ]
  },
  {
   "cell_type": "code",
   "execution_count": 7,
   "id": "d0d2a612",
   "metadata": {},
   "outputs": [
    {
     "data": {
      "text/plain": [
       "Text(0.5, 0.98, 'Histograms')"
      ]
     },
     "execution_count": 7,
     "metadata": {},
     "output_type": "execute_result"
    },
    {
     "data": {
      "image/png": "[encoded data removed]",
      "text/plain": [
       "<Figure size 1440x720 with 16 Axes>"
      ]
     },
     "metadata": {
      "needs_background": "light"
     },
     "output_type": "display_data"
    }
   ],
   "source": [
    "import numpy as np\n",
    "songs_clean = songs.select_dtypes(include=np.number)\n",
    "\n",
    "%matplotlib inline\n",
    "import matplotlib.pyplot as plt\n",
    "songs_num.drop(columns='Unnamed: 0').hist(bins = 50, figsize = (20, 10))\n",
    "plt.suptitle(\"Histograms\", fontsize = 25)"
   ]
  },
  {
   "cell_type": "code",
   "execution_count": 4,
   "id": "eac34a58",
   "metadata": {
    "scrolled": true
   },
   "outputs": [
    {
     "ename": "TypeError",
     "evalue": "concat() got an unexpected keyword argument 'join_axes'",
     "output_type": "error",
     "traceback": [
      "\u001b[1;31m---------------------------------------------------------------------------\u001b[0m",
      "\u001b[1;31mTypeError\u001b[0m                                 Traceback (most recent call last)",
      "\u001b[1;32m<ipython-input-4-d4113ec3aa51>\u001b[0m in \u001b[0;36m<module>\u001b[1;34m\u001b[0m\n\u001b[0;32m      1\u001b[0m \u001b[1;32mimport\u001b[0m \u001b[0mpandas_profiling\u001b[0m\u001b[1;33m\u001b[0m\u001b[1;33m\u001b[0m\u001b[0m\n\u001b[0;32m      2\u001b[0m \u001b[1;33m\u001b[0m\u001b[0m\n\u001b[1;32m----> 3\u001b[1;33m \u001b[0mpandas_profiling\u001b[0m\u001b[1;33m.\u001b[0m\u001b[0mProfileReport\u001b[0m\u001b[1;33m(\u001b[0m\u001b[0msongs\u001b[0m\u001b[1;33m)\u001b[0m\u001b[1;33m\u001b[0m\u001b[1;33m\u001b[0m\u001b[0m\n\u001b[0m\u001b[0;32m      4\u001b[0m \u001b[1;33m\u001b[0m\u001b[0m\n\u001b[0;32m      5\u001b[0m \u001b[1;31m# No missing cells!\u001b[0m\u001b[1;33m\u001b[0m\u001b[1;33m\u001b[0m\u001b[1;33m\u001b[0m\u001b[0m\n",
      "\u001b[1;32mC:\\tools\\Anaconda3\\lib\\site-packages\\pandas_profiling\\__init__.py\u001b[0m in \u001b[0;36m__init__\u001b[1;34m(self, df, **kwargs)\u001b[0m\n\u001b[0;32m     64\u001b[0m         \u001b[0msample\u001b[0m \u001b[1;33m=\u001b[0m \u001b[0mkwargs\u001b[0m\u001b[1;33m.\u001b[0m\u001b[0mget\u001b[0m\u001b[1;33m(\u001b[0m\u001b[1;34m'sample'\u001b[0m\u001b[1;33m,\u001b[0m \u001b[0mdf\u001b[0m\u001b[1;33m.\u001b[0m\u001b[0mhead\u001b[0m\u001b[1;33m(\u001b[0m\u001b[1;33m)\u001b[0m\u001b[1;33m)\u001b[0m\u001b[1;33m\u001b[0m\u001b[1;33m\u001b[0m\u001b[0m\n\u001b[0;32m     65\u001b[0m \u001b[1;33m\u001b[0m\u001b[0m\n\u001b[1;32m---> 66\u001b[1;33m         \u001b[0mdescription_set\u001b[0m \u001b[1;33m=\u001b[0m \u001b[0mdescribe\u001b[0m\u001b[1;33m(\u001b[0m\u001b[0mdf\u001b[0m\u001b[1;33m,\u001b[0m \u001b[1;33m**\u001b[0m\u001b[0mkwargs\u001b[0m\u001b[1;33m)\u001b[0m\u001b[1;33m\u001b[0m\u001b[1;33m\u001b[0m\u001b[0m\n\u001b[0m\u001b[0;32m     67\u001b[0m \u001b[1;33m\u001b[0m\u001b[0m\n\u001b[0;32m     68\u001b[0m         self.html = to_html(sample,\n",
      "\u001b[1;32mC:\\tools\\Anaconda3\\lib\\site-packages\\pandas_profiling\\describe.py\u001b[0m in \u001b[0;36mdescribe\u001b[1;34m(df, bins, check_correlation, correlation_threshold, correlation_overrides, check_recoded, pool_size, **kwargs)\u001b[0m\n\u001b[0;32m    390\u001b[0m             \u001b[1;32mif\u001b[0m \u001b[0mname\u001b[0m \u001b[1;32mnot\u001b[0m \u001b[1;32min\u001b[0m \u001b[0mnames\u001b[0m\u001b[1;33m:\u001b[0m\u001b[1;33m\u001b[0m\u001b[1;33m\u001b[0m\u001b[0m\n\u001b[0;32m    391\u001b[0m                 \u001b[0mnames\u001b[0m\u001b[1;33m.\u001b[0m\u001b[0mappend\u001b[0m\u001b[1;33m(\u001b[0m\u001b[0mname\u001b[0m\u001b[1;33m)\u001b[0m\u001b[1;33m\u001b[0m\u001b[1;33m\u001b[0m\u001b[0m\n\u001b[1;32m--> 392\u001b[1;33m     \u001b[0mvariable_stats\u001b[0m \u001b[1;33m=\u001b[0m \u001b[0mpd\u001b[0m\u001b[1;33m.\u001b[0m\u001b[0mconcat\u001b[0m\u001b[1;33m(\u001b[0m\u001b[0mldesc\u001b[0m\u001b[1;33m,\u001b[0m \u001b[0mjoin_axes\u001b[0m\u001b[1;33m=\u001b[0m\u001b[0mpd\u001b[0m\u001b[1;33m.\u001b[0m\u001b[0mIndex\u001b[0m\u001b[1;33m(\u001b[0m\u001b[1;33m[\u001b[0m\u001b[0mnames\u001b[0m\u001b[1;33m]\u001b[0m\u001b[1;33m)\u001b[0m\u001b[1;33m,\u001b[0m \u001b[0maxis\u001b[0m\u001b[1;33m=\u001b[0m\u001b[1;36m1\u001b[0m\u001b[1;33m)\u001b[0m\u001b[1;33m\u001b[0m\u001b[1;33m\u001b[0m\u001b[0m\n\u001b[0m\u001b[0;32m    393\u001b[0m     \u001b[0mvariable_stats\u001b[0m\u001b[1;33m.\u001b[0m\u001b[0mcolumns\u001b[0m\u001b[1;33m.\u001b[0m\u001b[0mnames\u001b[0m \u001b[1;33m=\u001b[0m \u001b[0mdf\u001b[0m\u001b[1;33m.\u001b[0m\u001b[0mcolumns\u001b[0m\u001b[1;33m.\u001b[0m\u001b[0mnames\u001b[0m\u001b[1;33m\u001b[0m\u001b[1;33m\u001b[0m\u001b[0m\n\u001b[0;32m    394\u001b[0m \u001b[1;33m\u001b[0m\u001b[0m\n",
      "\u001b[1;31mTypeError\u001b[0m: concat() got an unexpected keyword argument 'join_axes'"
     ]
    }
   ],
   "source": [
    "import pandas_profiling\n",
    "\n",
    "pandas_profiling.ProfileReport(songs)\n",
    "\n",
    "# No missing cells!\n",
    "# No variables that overly stand out in terms of correlation to the target"
   ]
  },
  {
   "cell_type": "markdown",
   "id": "3e706843",
   "metadata": {},
   "source": [
    "## 2. Feature Engineering & Selection\n",
    "\n",
    "* which variables to use?\n",
    "* Do you want to do any feature engineering?"
   ]
  },
  {
   "cell_type": "code",
   "execution_count": 10,
   "id": "ed76e8db",
   "metadata": {},
   "outputs": [],
   "source": [
    "# song_title and artist can be removed as these are very unique and would form an excess of dummy variables\n",
    "# Unnamed:0 is just another index so we will remove this variable too."
   ]
  },
  {
   "cell_type": "code",
   "execution_count": 14,
   "id": "d5f471a8",
   "metadata": {},
   "outputs": [
    {
     "data": {
      "text/plain": [
       "['Unnamed: 0',\n",
       " 'acousticness',\n",
       " 'danceability',\n",
       " 'duration_ms',\n",
       " 'energy',\n",
       " 'instrumentalness',\n",
       " 'key',\n",
       " 'liveness',\n",
       " 'loudness',\n",
       " 'mode',\n",
       " 'speechiness',\n",
       " 'tempo',\n",
       " 'time_signature',\n",
       " 'valence',\n",
       " 'target',\n",
       " 'song_title',\n",
       " 'artist']"
      ]
     },
     "execution_count": 14,
     "metadata": {},
     "output_type": "execute_result"
    }
   ],
   "source": [
    "# Find the names of the variables to drop\n",
    "list(songs.columns)"
   ]
  },
  {
   "cell_type": "code",
   "execution_count": 70,
   "id": "573fe4b7",
   "metadata": {},
   "outputs": [],
   "source": [
    "# Drop the columns which are identified above\n",
    "songs_clean = songs.drop(columns = [\"Unnamed: 0\", \"song_title\", \"artist\"])"
   ]
  },
  {
   "cell_type": "code",
   "execution_count": 71,
   "id": "52294e14",
   "metadata": {},
   "outputs": [
    {
     "data": {
      "text/html": [
       "<div>\n",
       "<style scoped>\n",
       "    .dataframe tbody tr th:only-of-type {\n",
       "        vertical-align: middle;\n",
       "    }\n",
       "\n",
       "    .dataframe tbody tr th {\n",
       "        vertical-align: top;\n",
       "    }\n",
       "\n",
       "    .dataframe thead th {\n",
       "        text-align: right;\n",
       "    }\n",
       "</style>\n",
       "<table border=\"1\" class=\"dataframe\">\n",
       "  <thead>\n",
       "    <tr style=\"text-align: right;\">\n",
       "      <th></th>\n",
       "      <th>acousticness</th>\n",
       "      <th>danceability</th>\n",
       "      <th>duration_ms</th>\n",
       "      <th>energy</th>\n",
       "      <th>instrumentalness</th>\n",
       "      <th>key</th>\n",
       "      <th>liveness</th>\n",
       "      <th>loudness</th>\n",
       "      <th>mode</th>\n",
       "      <th>speechiness</th>\n",
       "      <th>tempo</th>\n",
       "      <th>time_signature</th>\n",
       "      <th>valence</th>\n",
       "      <th>target</th>\n",
       "    </tr>\n",
       "  </thead>\n",
       "  <tbody>\n",
       "    <tr>\n",
       "      <th>0</th>\n",
       "      <td>0.0102</td>\n",
       "      <td>0.833</td>\n",
       "      <td>204600</td>\n",
       "      <td>0.434</td>\n",
       "      <td>0.021900</td>\n",
       "      <td>2</td>\n",
       "      <td>0.1650</td>\n",
       "      <td>-8.795</td>\n",
       "      <td>1</td>\n",
       "      <td>0.4310</td>\n",
       "      <td>150.062</td>\n",
       "      <td>4.0</td>\n",
       "      <td>0.286</td>\n",
       "      <td>1</td>\n",
       "    </tr>\n",
       "    <tr>\n",
       "      <th>1</th>\n",
       "      <td>0.1990</td>\n",
       "      <td>0.743</td>\n",
       "      <td>326933</td>\n",
       "      <td>0.359</td>\n",
       "      <td>0.006110</td>\n",
       "      <td>1</td>\n",
       "      <td>0.1370</td>\n",
       "      <td>-10.401</td>\n",
       "      <td>1</td>\n",
       "      <td>0.0794</td>\n",
       "      <td>160.083</td>\n",
       "      <td>4.0</td>\n",
       "      <td>0.588</td>\n",
       "      <td>1</td>\n",
       "    </tr>\n",
       "    <tr>\n",
       "      <th>2</th>\n",
       "      <td>0.0344</td>\n",
       "      <td>0.838</td>\n",
       "      <td>185707</td>\n",
       "      <td>0.412</td>\n",
       "      <td>0.000234</td>\n",
       "      <td>2</td>\n",
       "      <td>0.1590</td>\n",
       "      <td>-7.148</td>\n",
       "      <td>1</td>\n",
       "      <td>0.2890</td>\n",
       "      <td>75.044</td>\n",
       "      <td>4.0</td>\n",
       "      <td>0.173</td>\n",
       "      <td>1</td>\n",
       "    </tr>\n",
       "    <tr>\n",
       "      <th>3</th>\n",
       "      <td>0.6040</td>\n",
       "      <td>0.494</td>\n",
       "      <td>199413</td>\n",
       "      <td>0.338</td>\n",
       "      <td>0.510000</td>\n",
       "      <td>5</td>\n",
       "      <td>0.0922</td>\n",
       "      <td>-15.236</td>\n",
       "      <td>1</td>\n",
       "      <td>0.0261</td>\n",
       "      <td>86.468</td>\n",
       "      <td>4.0</td>\n",
       "      <td>0.230</td>\n",
       "      <td>1</td>\n",
       "    </tr>\n",
       "    <tr>\n",
       "      <th>4</th>\n",
       "      <td>0.1800</td>\n",
       "      <td>0.678</td>\n",
       "      <td>392893</td>\n",
       "      <td>0.561</td>\n",
       "      <td>0.512000</td>\n",
       "      <td>5</td>\n",
       "      <td>0.4390</td>\n",
       "      <td>-11.648</td>\n",
       "      <td>0</td>\n",
       "      <td>0.0694</td>\n",
       "      <td>174.004</td>\n",
       "      <td>4.0</td>\n",
       "      <td>0.904</td>\n",
       "      <td>1</td>\n",
       "    </tr>\n",
       "  </tbody>\n",
       "</table>\n",
       "</div>"
      ],
      "text/plain": [
       "   acousticness  danceability  duration_ms  energy  instrumentalness  key  \\\n",
       "0        0.0102         0.833       204600   0.434          0.021900    2   \n",
       "1        0.1990         0.743       326933   0.359          0.006110    1   \n",
       "2        0.0344         0.838       185707   0.412          0.000234    2   \n",
       "3        0.6040         0.494       199413   0.338          0.510000    5   \n",
       "4        0.1800         0.678       392893   0.561          0.512000    5   \n",
       "\n",
       "   liveness  loudness  mode  speechiness    tempo  time_signature  valence  \\\n",
       "0    0.1650    -8.795     1       0.4310  150.062             4.0    0.286   \n",
       "1    0.1370   -10.401     1       0.0794  160.083             4.0    0.588   \n",
       "2    0.1590    -7.148     1       0.2890   75.044             4.0    0.173   \n",
       "3    0.0922   -15.236     1       0.0261   86.468             4.0    0.230   \n",
       "4    0.4390   -11.648     0       0.0694  174.004             4.0    0.904   \n",
       "\n",
       "   target  \n",
       "0       1  \n",
       "1       1  \n",
       "2       1  \n",
       "3       1  \n",
       "4       1  "
      ]
     },
     "execution_count": 71,
     "metadata": {},
     "output_type": "execute_result"
    }
   ],
   "source": [
    "songs_clean.head()"
   ]
  },
  {
   "cell_type": "code",
   "execution_count": 25,
   "id": "4c1f83cd",
   "metadata": {
    "scrolled": true
   },
   "outputs": [
    {
     "data": {
      "text/plain": [
       "acousticness        0\n",
       "danceability        0\n",
       "duration_ms         0\n",
       "energy              0\n",
       "instrumentalness    0\n",
       "key                 0\n",
       "liveness            0\n",
       "loudness            0\n",
       "mode                0\n",
       "speechiness         0\n",
       "tempo               0\n",
       "time_signature      0\n",
       "valence             0\n",
       "target              0\n",
       "dtype: int64"
      ]
     },
     "execution_count": 25,
     "metadata": {},
     "output_type": "execute_result"
    }
   ],
   "source": [
    "# Check for missing values\n",
    "songs_clean.isna().sum()\n",
    "\n",
    "# We have no missing values here!!!"
   ]
  },
  {
   "cell_type": "markdown",
   "id": "c451b7fa",
   "metadata": {},
   "source": [
    "## 3. Model Building\n",
    "\n",
    "### Splitting into Test and Train"
   ]
  },
  {
   "cell_type": "code",
   "execution_count": 72,
   "id": "039d5493",
   "metadata": {},
   "outputs": [],
   "source": [
    "# Separating the predictors and response variables\n",
    "songs_predictors = songs_clean.drop(columns = \"target\")\n",
    "songs_response = songs_clean[\"target\"]"
   ]
  },
  {
   "cell_type": "code",
   "execution_count": 73,
   "id": "120ce06a",
   "metadata": {},
   "outputs": [],
   "source": [
    "# Test and Train Split\n",
    "\n",
    "from sklearn.model_selection import train_test_split\n",
    "\n",
    "songs_pred_train, songs_pred_test, songs_resp_train, songs_resp_test = (\n",
    "    train_test_split(\n",
    "        songs_predictors, \n",
    "        songs_response, \n",
    "        test_size = 0.1, \n",
    "        random_state = 42\n",
    "    )\n",
    ")"
   ]
  },
  {
   "cell_type": "code",
   "execution_count": 29,
   "id": "7dccace0",
   "metadata": {},
   "outputs": [
    {
     "data": {
      "text/plain": [
       "array([1, 0], dtype=int64)"
      ]
     },
     "execution_count": 29,
     "metadata": {},
     "output_type": "execute_result"
    }
   ],
   "source": [
    "# Response\n",
    "songs_response\n",
    "\n",
    "# We can see the response variable is binary as expected\n",
    "# songs_response.unique()"
   ]
  },
  {
   "cell_type": "markdown",
   "id": "9bcd662a",
   "metadata": {},
   "source": [
    "### Scaling Features\n"
   ]
  },
  {
   "cell_type": "code",
   "execution_count": 8,
   "id": "8ebef186",
   "metadata": {},
   "outputs": [
    {
     "ename": "NameError",
     "evalue": "name 'songs_pred_train' is not defined",
     "output_type": "error",
     "traceback": [
      "\u001b[1;31m---------------------------------------------------------------------------\u001b[0m",
      "\u001b[1;31mNameError\u001b[0m                                 Traceback (most recent call last)",
      "\u001b[1;32m<ipython-input-8-16a8c18decc7>\u001b[0m in \u001b[0;36m<module>\u001b[1;34m\u001b[0m\n\u001b[0;32m      2\u001b[0m \u001b[1;33m\u001b[0m\u001b[0m\n\u001b[0;32m      3\u001b[0m \u001b[0mss\u001b[0m \u001b[1;33m=\u001b[0m \u001b[0mStandardScaler\u001b[0m\u001b[1;33m(\u001b[0m\u001b[1;33m)\u001b[0m\u001b[1;33m\u001b[0m\u001b[1;33m\u001b[0m\u001b[0m\n\u001b[1;32m----> 4\u001b[1;33m \u001b[0msongs_pred_train\u001b[0m \u001b[1;33m=\u001b[0m \u001b[0mss\u001b[0m\u001b[1;33m.\u001b[0m\u001b[0mfit_transform\u001b[0m\u001b[1;33m(\u001b[0m\u001b[0msongs_pred_train\u001b[0m\u001b[1;33m)\u001b[0m\u001b[1;33m\u001b[0m\u001b[1;33m\u001b[0m\u001b[0m\n\u001b[0m\u001b[0;32m      5\u001b[0m \u001b[0msongs_pred_test\u001b[0m \u001b[1;33m=\u001b[0m \u001b[0mss\u001b[0m\u001b[1;33m.\u001b[0m\u001b[0mtransform\u001b[0m\u001b[1;33m(\u001b[0m\u001b[0msongs_pred_test\u001b[0m\u001b[1;33m)\u001b[0m\u001b[1;33m\u001b[0m\u001b[1;33m\u001b[0m\u001b[0m\n\u001b[0;32m      6\u001b[0m \u001b[0msongs_pred_train\u001b[0m\u001b[1;33m\u001b[0m\u001b[1;33m\u001b[0m\u001b[0m\n",
      "\u001b[1;31mNameError\u001b[0m: name 'songs_pred_train' is not defined"
     ]
    }
   ],
   "source": [
    "from sklearn.preprocessing import StandardScaler\n",
    "\n",
    "ss = StandardScaler()\n",
    "songs_pred_train = ss.fit_transform(songs_pred_train)\n",
    "songs_pred_test = ss.transform(songs_pred_test)\n",
    "songs_pred_train"
   ]
  },
  {
   "cell_type": "markdown",
   "id": "3655881d",
   "metadata": {},
   "source": [
    "### Model Building"
   ]
  },
  {
   "cell_type": "code",
   "execution_count": 9,
   "id": "2ce5064f",
   "metadata": {},
   "outputs": [
    {
     "ename": "NameError",
     "evalue": "name 'songs_pred_train' is not defined",
     "output_type": "error",
     "traceback": [
      "\u001b[1;31m---------------------------------------------------------------------------\u001b[0m",
      "\u001b[1;31mNameError\u001b[0m                                 Traceback (most recent call last)",
      "\u001b[1;32m<ipython-input-9-0aa3019a69dc>\u001b[0m in \u001b[0;36m<module>\u001b[1;34m\u001b[0m\n\u001b[0;32m      3\u001b[0m \u001b[1;33m\u001b[0m\u001b[0m\n\u001b[0;32m      4\u001b[0m \u001b[0mmodel\u001b[0m \u001b[1;33m=\u001b[0m \u001b[0mLogisticRegression\u001b[0m\u001b[1;33m(\u001b[0m\u001b[1;33m)\u001b[0m\u001b[1;33m\u001b[0m\u001b[1;33m\u001b[0m\u001b[0m\n\u001b[1;32m----> 5\u001b[1;33m \u001b[0mmodel\u001b[0m\u001b[1;33m.\u001b[0m\u001b[0mfit\u001b[0m\u001b[1;33m(\u001b[0m\u001b[0msongs_pred_train\u001b[0m\u001b[1;33m,\u001b[0m \u001b[0msongs_resp_train\u001b[0m\u001b[1;33m)\u001b[0m\u001b[1;33m\u001b[0m\u001b[1;33m\u001b[0m\u001b[0m\n\u001b[0m\u001b[0;32m      6\u001b[0m scores = cross_val_score(\n\u001b[0;32m      7\u001b[0m     \u001b[0mmodel\u001b[0m\u001b[1;33m,\u001b[0m \u001b[0msongs_pred_train\u001b[0m\u001b[1;33m,\u001b[0m \u001b[0msongs_resp_train\u001b[0m\u001b[1;33m,\u001b[0m \u001b[0mscoring\u001b[0m\u001b[1;33m=\u001b[0m\u001b[1;34m'accuracy'\u001b[0m\u001b[1;33m,\u001b[0m \u001b[0mcv\u001b[0m\u001b[1;33m=\u001b[0m\u001b[1;36m10\u001b[0m\u001b[1;33m\u001b[0m\u001b[1;33m\u001b[0m\u001b[0m\n",
      "\u001b[1;31mNameError\u001b[0m: name 'songs_pred_train' is not defined"
     ]
    }
   ],
   "source": [
    "from sklearn.linear_model import LogisticRegression\n",
    "from sklearn.model_selection import cross_val_score\n",
    "\n",
    "model = LogisticRegression()\n",
    "model.fit(songs_pred_train, songs_resp_train)\n",
    "scores = cross_val_score(\n",
    "    model, songs_pred_train, songs_resp_train, scoring='accuracy', cv=10\n",
    ")\n",
    "scores\n",
    "\n",
    "# Accuracy scores show that the model is not much better than flipping a coin"
   ]
  },
  {
   "cell_type": "code",
   "execution_count": 10,
   "id": "bf2163e7",
   "metadata": {
    "scrolled": true
   },
   "outputs": [
    {
     "ename": "NameError",
     "evalue": "name 'songs_pred_train' is not defined",
     "output_type": "error",
     "traceback": [
      "\u001b[1;31m---------------------------------------------------------------------------\u001b[0m",
      "\u001b[1;31mNameError\u001b[0m                                 Traceback (most recent call last)",
      "\u001b[1;32m<ipython-input-10-4db0c3f16a8c>\u001b[0m in \u001b[0;36m<module>\u001b[1;34m\u001b[0m\n\u001b[0;32m      1\u001b[0m \u001b[1;31m# Train Accuracy\u001b[0m\u001b[1;33m\u001b[0m\u001b[1;33m\u001b[0m\u001b[1;33m\u001b[0m\u001b[0m\n\u001b[1;32m----> 2\u001b[1;33m \u001b[0mprint\u001b[0m\u001b[1;33m(\u001b[0m\u001b[0mmodel\u001b[0m\u001b[1;33m.\u001b[0m\u001b[0mscore\u001b[0m\u001b[1;33m(\u001b[0m\u001b[0msongs_pred_train\u001b[0m\u001b[1;33m,\u001b[0m \u001b[0msongs_resp_train\u001b[0m\u001b[1;33m)\u001b[0m\u001b[1;33m)\u001b[0m\u001b[1;33m\u001b[0m\u001b[1;33m\u001b[0m\u001b[0m\n\u001b[0m\u001b[0;32m      3\u001b[0m \u001b[0mprint\u001b[0m\u001b[1;33m(\u001b[0m\u001b[0mnp\u001b[0m\u001b[1;33m.\u001b[0m\u001b[0mmean\u001b[0m\u001b[1;33m(\u001b[0m\u001b[0mscores\u001b[0m\u001b[1;33m)\u001b[0m\u001b[1;33m)\u001b[0m\u001b[1;33m\u001b[0m\u001b[1;33m\u001b[0m\u001b[0m\n",
      "\u001b[1;31mNameError\u001b[0m: name 'songs_pred_train' is not defined"
     ]
    }
   ],
   "source": [
    "# Train Accuracy\n",
    "print(model.score(songs_pred_train, songs_resp_train))\n",
    "print(np.mean(scores))"
   ]
  },
  {
   "cell_type": "code",
   "execution_count": 11,
   "id": "5dfb6594",
   "metadata": {},
   "outputs": [
    {
     "ename": "NameError",
     "evalue": "name 'songs_pred_test' is not defined",
     "output_type": "error",
     "traceback": [
      "\u001b[1;31m---------------------------------------------------------------------------\u001b[0m",
      "\u001b[1;31mNameError\u001b[0m                                 Traceback (most recent call last)",
      "\u001b[1;32m<ipython-input-11-c011f5bd8cf3>\u001b[0m in \u001b[0;36m<module>\u001b[1;34m\u001b[0m\n\u001b[0;32m      1\u001b[0m \u001b[1;31m# Test R Squared\u001b[0m\u001b[1;33m\u001b[0m\u001b[1;33m\u001b[0m\u001b[1;33m\u001b[0m\u001b[0m\n\u001b[1;32m----> 2\u001b[1;33m \u001b[0mmodel\u001b[0m\u001b[1;33m.\u001b[0m\u001b[0mscore\u001b[0m\u001b[1;33m(\u001b[0m\u001b[0msongs_pred_test\u001b[0m\u001b[1;33m,\u001b[0m \u001b[0msongs_resp_test\u001b[0m\u001b[1;33m)\u001b[0m\u001b[1;33m\u001b[0m\u001b[1;33m\u001b[0m\u001b[0m\n\u001b[0m\u001b[0;32m      3\u001b[0m \u001b[1;33m\u001b[0m\u001b[0m\n\u001b[0;32m      4\u001b[0m \u001b[1;31m# score - R squared\u001b[0m\u001b[1;33m\u001b[0m\u001b[1;33m\u001b[0m\u001b[1;33m\u001b[0m\u001b[0m\n",
      "\u001b[1;31mNameError\u001b[0m: name 'songs_pred_test' is not defined"
     ]
    }
   ],
   "source": [
    "# Test R Squared\n",
    "model.score(songs_pred_test, songs_resp_test)\n",
    "\n",
    "# score - R squared"
   ]
  },
  {
   "cell_type": "markdown",
   "id": "5bd0c10a",
   "metadata": {},
   "source": [
    "### Obtaining ROC and AUC"
   ]
  },
  {
   "cell_type": "code",
   "execution_count": 60,
   "id": "cd822370",
   "metadata": {
    "scrolled": true
   },
   "outputs": [
    {
     "data": {
      "text/plain": [
       "array([[0.29806421, 0.70193579],\n",
       "       [0.29658964, 0.70341036],\n",
       "       [0.46786015, 0.53213985],\n",
       "       [0.79793759, 0.20206241],\n",
       "       [0.45579222, 0.54420778],\n",
       "       [0.62794466, 0.37205534],\n",
       "       [0.38591585, 0.61408415],\n",
       "       [0.29388682, 0.70611318],\n",
       "       [0.52494127, 0.47505873],\n",
       "       [0.61589564, 0.38410436],\n",
       "       [0.41736069, 0.58263931],\n",
       "       [0.64637721, 0.35362279],\n",
       "       [0.49712089, 0.50287911],\n",
       "       [0.4001475 , 0.5998525 ],\n",
       "       [0.58077068, 0.41922932],\n",
       "       [0.30146222, 0.69853778],\n",
       "       [0.56036711, 0.43963289],\n",
       "       [0.64305836, 0.35694164],\n",
       "       [0.44251856, 0.55748144],\n",
       "       [0.4397899 , 0.5602101 ],\n",
       "       [0.85822571, 0.14177429],\n",
       "       [0.36633781, 0.63366219],\n",
       "       [0.28406396, 0.71593604],\n",
       "       [0.64621653, 0.35378347],\n",
       "       [0.30036088, 0.69963912],\n",
       "       [0.61364589, 0.38635411],\n",
       "       [0.46629793, 0.53370207],\n",
       "       [0.63230206, 0.36769794],\n",
       "       [0.44005405, 0.55994595],\n",
       "       [0.77895576, 0.22104424],\n",
       "       [0.81664641, 0.18335359],\n",
       "       [0.6318057 , 0.3681943 ],\n",
       "       [0.44316442, 0.55683558],\n",
       "       [0.42543208, 0.57456792],\n",
       "       [0.29765344, 0.70234656],\n",
       "       [0.57485804, 0.42514196],\n",
       "       [0.37004876, 0.62995124],\n",
       "       [0.33470152, 0.66529848],\n",
       "       [0.1554117 , 0.8445883 ],\n",
       "       [0.33771381, 0.66228619],\n",
       "       [0.24945679, 0.75054321],\n",
       "       [0.5024062 , 0.4975938 ],\n",
       "       [0.41611329, 0.58388671],\n",
       "       [0.31481421, 0.68518579],\n",
       "       [0.11484158, 0.88515842],\n",
       "       [0.54576245, 0.45423755],\n",
       "       [0.44848109, 0.55151891],\n",
       "       [0.52452015, 0.47547985],\n",
       "       [0.70788132, 0.29211868],\n",
       "       [0.50771717, 0.49228283],\n",
       "       [0.5752039 , 0.4247961 ],\n",
       "       [0.60304514, 0.39695486],\n",
       "       [0.36466765, 0.63533235],\n",
       "       [0.56315221, 0.43684779],\n",
       "       [0.60568437, 0.39431563],\n",
       "       [0.5598529 , 0.4401471 ],\n",
       "       [0.18458407, 0.81541593],\n",
       "       [0.68485735, 0.31514265],\n",
       "       [0.68625887, 0.31374113],\n",
       "       [0.68668575, 0.31331425],\n",
       "       [0.35084679, 0.64915321],\n",
       "       [0.51691029, 0.48308971],\n",
       "       [0.64919594, 0.35080406],\n",
       "       [0.44476292, 0.55523708],\n",
       "       [0.8474437 , 0.1525563 ],\n",
       "       [0.45827906, 0.54172094],\n",
       "       [0.35927648, 0.64072352],\n",
       "       [0.59143246, 0.40856754],\n",
       "       [0.53116012, 0.46883988],\n",
       "       [0.25510274, 0.74489726],\n",
       "       [0.46070681, 0.53929319],\n",
       "       [0.3548511 , 0.6451489 ],\n",
       "       [0.52010482, 0.47989518],\n",
       "       [0.42101747, 0.57898253],\n",
       "       [0.69821615, 0.30178385],\n",
       "       [0.84840475, 0.15159525],\n",
       "       [0.12780354, 0.87219646],\n",
       "       [0.62452422, 0.37547578],\n",
       "       [0.50796661, 0.49203339],\n",
       "       [0.37095731, 0.62904269],\n",
       "       [0.20060531, 0.79939469],\n",
       "       [0.27220564, 0.72779436],\n",
       "       [0.26786968, 0.73213032],\n",
       "       [0.22137555, 0.77862445],\n",
       "       [0.4340713 , 0.5659287 ],\n",
       "       [0.51820358, 0.48179642],\n",
       "       [0.38616437, 0.61383563],\n",
       "       [0.54508119, 0.45491881],\n",
       "       [0.48882486, 0.51117514],\n",
       "       [0.48211885, 0.51788115],\n",
       "       [0.47488595, 0.52511405],\n",
       "       [0.76595977, 0.23404023],\n",
       "       [0.64535939, 0.35464061],\n",
       "       [0.47903943, 0.52096057],\n",
       "       [0.27577711, 0.72422289],\n",
       "       [0.62881739, 0.37118261],\n",
       "       [0.55942924, 0.44057076],\n",
       "       [0.62101602, 0.37898398],\n",
       "       [0.60309555, 0.39690445],\n",
       "       [0.46552693, 0.53447307],\n",
       "       [0.57424376, 0.42575624],\n",
       "       [0.31092663, 0.68907337],\n",
       "       [0.09281546, 0.90718454],\n",
       "       [0.54046775, 0.45953225],\n",
       "       [0.66860779, 0.33139221],\n",
       "       [0.23388166, 0.76611834],\n",
       "       [0.56315252, 0.43684748],\n",
       "       [0.16487341, 0.83512659],\n",
       "       [0.50854657, 0.49145343],\n",
       "       [0.59203792, 0.40796208],\n",
       "       [0.6038334 , 0.3961666 ],\n",
       "       [0.68346569, 0.31653431],\n",
       "       [0.1208935 , 0.8791065 ],\n",
       "       [0.50737443, 0.49262557],\n",
       "       [0.5072233 , 0.4927767 ],\n",
       "       [0.55016117, 0.44983883],\n",
       "       [0.32189948, 0.67810052],\n",
       "       [0.45133523, 0.54866477],\n",
       "       [0.73661224, 0.26338776],\n",
       "       [0.48695505, 0.51304495],\n",
       "       [0.31817724, 0.68182276],\n",
       "       [0.27768098, 0.72231902],\n",
       "       [0.59741488, 0.40258512],\n",
       "       [0.54827518, 0.45172482],\n",
       "       [0.4964443 , 0.5035557 ],\n",
       "       [0.61547498, 0.38452502],\n",
       "       [0.1570866 , 0.8429134 ],\n",
       "       [0.323499  , 0.676501  ],\n",
       "       [0.42730473, 0.57269527],\n",
       "       [0.28933835, 0.71066165],\n",
       "       [0.56967591, 0.43032409],\n",
       "       [0.47106368, 0.52893632],\n",
       "       [0.26743738, 0.73256262],\n",
       "       [0.71941015, 0.28058985],\n",
       "       [0.69426128, 0.30573872],\n",
       "       [0.18555602, 0.81444398],\n",
       "       [0.38316693, 0.61683307],\n",
       "       [0.64429003, 0.35570997],\n",
       "       [0.3159414 , 0.6840586 ],\n",
       "       [0.45688489, 0.54311511],\n",
       "       [0.28762729, 0.71237271],\n",
       "       [0.36961036, 0.63038964],\n",
       "       [0.15288729, 0.84711271],\n",
       "       [0.60031402, 0.39968598],\n",
       "       [0.51378627, 0.48621373],\n",
       "       [0.50973172, 0.49026828],\n",
       "       [0.79350434, 0.20649566],\n",
       "       [0.62336005, 0.37663995],\n",
       "       [0.73975755, 0.26024245],\n",
       "       [0.52676153, 0.47323847],\n",
       "       [0.64663743, 0.35336257],\n",
       "       [0.75257571, 0.24742429],\n",
       "       [0.57660815, 0.42339185],\n",
       "       [0.42994498, 0.57005502],\n",
       "       [0.39533063, 0.60466937],\n",
       "       [0.35350131, 0.64649869],\n",
       "       [0.50850625, 0.49149375],\n",
       "       [0.82558902, 0.17441098],\n",
       "       [0.32631229, 0.67368771],\n",
       "       [0.1242332 , 0.8757668 ],\n",
       "       [0.78043528, 0.21956472],\n",
       "       [0.33812125, 0.66187875],\n",
       "       [0.43492275, 0.56507725],\n",
       "       [0.64426623, 0.35573377],\n",
       "       [0.49574765, 0.50425235],\n",
       "       [0.22638231, 0.77361769],\n",
       "       [0.57606453, 0.42393547],\n",
       "       [0.25838738, 0.74161262],\n",
       "       [0.31696167, 0.68303833],\n",
       "       [0.83501275, 0.16498725],\n",
       "       [0.58972685, 0.41027315],\n",
       "       [0.46101513, 0.53898487],\n",
       "       [0.73985989, 0.26014011],\n",
       "       [0.6586724 , 0.3413276 ],\n",
       "       [0.4333628 , 0.5666372 ],\n",
       "       [0.58235847, 0.41764153],\n",
       "       [0.57906545, 0.42093455],\n",
       "       [0.5976813 , 0.4023187 ],\n",
       "       [0.68311272, 0.31688728],\n",
       "       [0.64980248, 0.35019752],\n",
       "       [0.65138794, 0.34861206],\n",
       "       [0.25990925, 0.74009075],\n",
       "       [0.49687463, 0.50312537],\n",
       "       [0.54175564, 0.45824436],\n",
       "       [0.21924406, 0.78075594],\n",
       "       [0.68715768, 0.31284232],\n",
       "       [0.5171278 , 0.4828722 ],\n",
       "       [0.39603425, 0.60396575],\n",
       "       [0.6650576 , 0.3349424 ],\n",
       "       [0.57954955, 0.42045045],\n",
       "       [0.61930782, 0.38069218],\n",
       "       [0.7036202 , 0.2963798 ],\n",
       "       [0.4253723 , 0.5746277 ],\n",
       "       [0.43251342, 0.56748658],\n",
       "       [0.2474003 , 0.7525997 ],\n",
       "       [0.26822698, 0.73177302],\n",
       "       [0.4377713 , 0.5622287 ],\n",
       "       [0.47370338, 0.52629662],\n",
       "       [0.42940788, 0.57059212],\n",
       "       [0.72384383, 0.27615617],\n",
       "       [0.70219009, 0.29780991],\n",
       "       [0.49348851, 0.50651149]])"
      ]
     },
     "execution_count": 60,
     "metadata": {},
     "output_type": "execute_result"
    }
   ],
   "source": [
    "pred_test = model.predict_proba(songs_pred_test)\n",
    "pred_test"
   ]
  },
  {
   "cell_type": "code",
   "execution_count": 61,
   "id": "7cb63031",
   "metadata": {},
   "outputs": [
    {
     "data": {
      "text/plain": [
       "array([0.70193579, 0.70341036, 0.53213985, 0.20206241, 0.54420778,\n",
       "       0.37205534, 0.61408415, 0.70611318, 0.47505873, 0.38410436,\n",
       "       0.58263931, 0.35362279, 0.50287911, 0.5998525 , 0.41922932,\n",
       "       0.69853778, 0.43963289, 0.35694164, 0.55748144, 0.5602101 ,\n",
       "       0.14177429, 0.63366219, 0.71593604, 0.35378347, 0.69963912,\n",
       "       0.38635411, 0.53370207, 0.36769794, 0.55994595, 0.22104424,\n",
       "       0.18335359, 0.3681943 , 0.55683558, 0.57456792, 0.70234656,\n",
       "       0.42514196, 0.62995124, 0.66529848, 0.8445883 , 0.66228619,\n",
       "       0.75054321, 0.4975938 , 0.58388671, 0.68518579, 0.88515842,\n",
       "       0.45423755, 0.55151891, 0.47547985, 0.29211868, 0.49228283,\n",
       "       0.4247961 , 0.39695486, 0.63533235, 0.43684779, 0.39431563,\n",
       "       0.4401471 , 0.81541593, 0.31514265, 0.31374113, 0.31331425,\n",
       "       0.64915321, 0.48308971, 0.35080406, 0.55523708, 0.1525563 ,\n",
       "       0.54172094, 0.64072352, 0.40856754, 0.46883988, 0.74489726,\n",
       "       0.53929319, 0.6451489 , 0.47989518, 0.57898253, 0.30178385,\n",
       "       0.15159525, 0.87219646, 0.37547578, 0.49203339, 0.62904269,\n",
       "       0.79939469, 0.72779436, 0.73213032, 0.77862445, 0.5659287 ,\n",
       "       0.48179642, 0.61383563, 0.45491881, 0.51117514, 0.51788115,\n",
       "       0.52511405, 0.23404023, 0.35464061, 0.52096057, 0.72422289,\n",
       "       0.37118261, 0.44057076, 0.37898398, 0.39690445, 0.53447307,\n",
       "       0.42575624, 0.68907337, 0.90718454, 0.45953225, 0.33139221,\n",
       "       0.76611834, 0.43684748, 0.83512659, 0.49145343, 0.40796208,\n",
       "       0.3961666 , 0.31653431, 0.8791065 , 0.49262557, 0.4927767 ,\n",
       "       0.44983883, 0.67810052, 0.54866477, 0.26338776, 0.51304495,\n",
       "       0.68182276, 0.72231902, 0.40258512, 0.45172482, 0.5035557 ,\n",
       "       0.38452502, 0.8429134 , 0.676501  , 0.57269527, 0.71066165,\n",
       "       0.43032409, 0.52893632, 0.73256262, 0.28058985, 0.30573872,\n",
       "       0.81444398, 0.61683307, 0.35570997, 0.6840586 , 0.54311511,\n",
       "       0.71237271, 0.63038964, 0.84711271, 0.39968598, 0.48621373,\n",
       "       0.49026828, 0.20649566, 0.37663995, 0.26024245, 0.47323847,\n",
       "       0.35336257, 0.24742429, 0.42339185, 0.57005502, 0.60466937,\n",
       "       0.64649869, 0.49149375, 0.17441098, 0.67368771, 0.8757668 ,\n",
       "       0.21956472, 0.66187875, 0.56507725, 0.35573377, 0.50425235,\n",
       "       0.77361769, 0.42393547, 0.74161262, 0.68303833, 0.16498725,\n",
       "       0.41027315, 0.53898487, 0.26014011, 0.3413276 , 0.5666372 ,\n",
       "       0.41764153, 0.42093455, 0.4023187 , 0.31688728, 0.35019752,\n",
       "       0.34861206, 0.74009075, 0.50312537, 0.45824436, 0.78075594,\n",
       "       0.31284232, 0.4828722 , 0.60396575, 0.3349424 , 0.42045045,\n",
       "       0.38069218, 0.2963798 , 0.5746277 , 0.56748658, 0.7525997 ,\n",
       "       0.73177302, 0.5622287 , 0.52629662, 0.57059212, 0.27615617,\n",
       "       0.29780991, 0.50651149])"
      ]
     },
     "execution_count": 61,
     "metadata": {},
     "output_type": "execute_result"
    }
   ],
   "source": [
    "pred_test = pred_test[:, 1]\n",
    "pred_test"
   ]
  },
  {
   "cell_type": "code",
   "execution_count": 63,
   "id": "cb2f75c0",
   "metadata": {},
   "outputs": [
    {
     "data": {
      "text/plain": [
       "0.6786031370227879"
      ]
     },
     "execution_count": 63,
     "metadata": {},
     "output_type": "execute_result"
    }
   ],
   "source": [
    "from sklearn.metrics import roc_auc_score\n",
    "\n",
    "roc_auc_score(y_true = songs_resp_test, y_score = pred_test)\n",
    "\n",
    "# Slightly better than flipping a coin"
   ]
  },
  {
   "cell_type": "markdown",
   "id": "a1524724",
   "metadata": {},
   "source": [
    "# Random Forests"
   ]
  },
  {
   "cell_type": "markdown",
   "id": "60780956",
   "metadata": {},
   "source": [
    "### 1. Making a Random Forest Model"
   ]
  },
  {
   "cell_type": "code",
   "execution_count": 74,
   "id": "fc9b6111",
   "metadata": {},
   "outputs": [
    {
     "data": {
      "text/plain": [
       "RandomForestClassifier()"
      ]
     },
     "execution_count": 74,
     "metadata": {},
     "output_type": "execute_result"
    }
   ],
   "source": [
    "from sklearn.ensemble import RandomForestClassifier\n",
    "\n",
    "# run the model with 100 trees\n",
    "model_rf = RandomForestClassifier(n_estimators = 100)\n",
    "\n",
    "# train the model on the training data\n",
    "model_rf.fit(songs_pred_train, songs_resp_train)"
   ]
  },
  {
   "cell_type": "markdown",
   "id": "a72be32f",
   "metadata": {},
   "source": [
    "### 2. Exploring the Accuracy"
   ]
  },
  {
   "cell_type": "code",
   "execution_count": 75,
   "id": "be02f28b",
   "metadata": {},
   "outputs": [
    {
     "data": {
      "text/plain": [
       "0.5107431242790359"
      ]
     },
     "execution_count": 75,
     "metadata": {},
     "output_type": "execute_result"
    }
   ],
   "source": [
    "scores = cross_val_score(\n",
    "    model, songs_pred_train, songs_resp_train, scoring='accuracy', cv=10\n",
    ")\n",
    "np.mean(scores)\n",
    "\n",
    "# Its not actually better than the logistic regression"
   ]
  },
  {
   "cell_type": "markdown",
   "id": "689cdf64",
   "metadata": {},
   "source": [
    "### 3. Visualisation"
   ]
  },
  {
   "cell_type": "code",
   "execution_count": 77,
   "id": "5164d679",
   "metadata": {},
   "outputs": [],
   "source": [
    "import matplotlib.pyplot as plt\n",
    "from sklearn.tree import plot_tree\n",
    "\n",
    "# create a list with names of predictors, and an array with target categories for plotting\n",
    "songs_pred_names = list(songs_pred_test)\n",
    "songs_resp_names = ['0', '1']\n",
    "\n",
    "# set the figure size\n",
    "fig = plt.figure(figsize=(15, 10))\n",
    "\n",
    "# plot the decision tree\n",
    "plot_tree(model_rf.estimators_[0], # Pull out one tree from the forest\n",
    "          max_depth = 2, # will freeze if we try plot all of it!\n",
    "          feature_names = songs_pred_names,\n",
    "          class_names = songs_resp_names, \n",
    "          filled=True);"
   ]
  }
 ],
 "metadata": {
  "kernelspec": {
   "display_name": "Python 3",
   "language": "python",
   "name": "python3"
  },
  "language_info": {
   "codemirror_mode": {
    "name": "ipython",
    "version": 3
   },
   "file_extension": ".py",
   "mimetype": "text/x-python",
   "name": "python",
   "nbconvert_exporter": "python",
   "pygments_lexer": "ipython3",
   "version": "3.8.8"
  },
  "varInspector": {
   "cols": {
    "lenName": 16,
    "lenType": 16,
    "lenVar": 40
   },
   "kernels_config": {
    "python": {
     "delete_cmd_postfix": "",
     "delete_cmd_prefix": "del ",
     "library": "var_list.py",
     "varRefreshCmd": "print(var_dic_list())"
    },
    "r": {
     "delete_cmd_postfix": ") ",
     "delete_cmd_prefix": "rm(",
     "library": "var_list.r",
     "varRefreshCmd": "cat(var_dic_list()) "
    }
   },
   "types_to_exclude": [
    "module",
    "function",
    "builtin_function_or_method",
    "instance",
    "_Feature"
   ],
   "window_display": false
  }
 },
 "nbformat": 4,
 "nbformat_minor": 5
}
